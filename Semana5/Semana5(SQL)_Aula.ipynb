{
  "nbformat": 4,
  "nbformat_minor": 0,
  "metadata": {
    "kernelspec": {
      "display_name": "Python 3",
      "language": "python",
      "name": "python3"
    },
    "language_info": {
      "codemirror_mode": {
        "name": "ipython",
        "version": 3
      },
      "file_extension": ".py",
      "mimetype": "text/x-python",
      "name": "python",
      "nbconvert_exporter": "python",
      "pygments_lexer": "ipython3",
      "version": "3.8.5"
    },
    "colab": {
      "name": "Semana5(SQL)-Aula.ipynb",
      "provenance": [],
      "collapsed_sections": [],
      "include_colab_link": true
    }
  },
  "cells": [
    {
      "cell_type": "markdown",
      "metadata": {
        "id": "view-in-github",
        "colab_type": "text"
      },
      "source": [
        "<a href=\"https://colab.research.google.com/github/CharlesPrado23/Bootcamp2oSemestre2021/blob/main/Semana5/Semana5(SQL)_Aula.ipynb\" target=\"_parent\"><img src=\"https://colab.research.google.com/assets/colab-badge.svg\" alt=\"Open In Colab\"/></a>"
      ]
    },
    {
      "cell_type": "code",
      "metadata": {
        "id": "l55MLDXXIhGk"
      },
      "source": [
        "import sqlite3\n",
        "engine = sqlite3.connect('sql.db')"
      ],
      "execution_count": null,
      "outputs": []
    },
    {
      "cell_type": "code",
      "metadata": {
        "id": "50oV2Ru7IhGo",
        "colab": {
          "base_uri": "https://localhost:8080/"
        },
        "outputId": "547eb787-8b81-4672-b00a-65c58e42db8b"
      },
      "source": [
        "cursor = engine.cursor()\n",
        "\n",
        "cursor.execute(\"PRAGMA foreign_keys = ON\").fetchall()\n",
        "\n",
        "### cursor.execute(\"PRAGMA foreign_keys\").fetchall()"
      ],
      "execution_count": null,
      "outputs": [
        {
          "output_type": "execute_result",
          "data": {
            "text/plain": [
              "[]"
            ]
          },
          "metadata": {
            "tags": []
          },
          "execution_count": 3
        }
      ]
    },
    {
      "cell_type": "markdown",
      "metadata": {
        "id": "64fOnJK2IhGp"
      },
      "source": [
        "### Syntax:\n",
        "### \"CREATE [TEMP | TEMPORARY] TABLE table-name (\n",
        "### column-def[, column-def]\n",
        "### [,constraint]);\n",
        "\n",
        "### column-def:\n",
        "### name [type] [[CONSTRAINT name] column-constraint]\""
      ]
    },
    {
      "cell_type": "code",
      "metadata": {
        "id": "bv7n4Y61IhGq"
      },
      "source": [
        "sql_create_projects_table = 'CREATE TABLE IF NOT EXISTS projects (\\\n",
        "                                        id integer PRIMARY KEY,\\\n",
        "                                        name text NOT NULL,\\\n",
        "                                        begin_date text,\\\n",
        "                                        end_date text\\\n",
        "                                    )'"
      ],
      "execution_count": null,
      "outputs": []
    },
    {
      "cell_type": "code",
      "metadata": {
        "id": "viTkVI2yIhGr"
      },
      "source": [
        "sql_create_tasks_table = \"\"\"CREATE TABLE IF NOT EXISTS tasks (\n",
        "                                    id integer PRIMARY KEY,\n",
        "                                    name text NOT NULL,\n",
        "                                    priority integer,\n",
        "                                    status_id integer NOT NULL,\n",
        "                                    project_id integer NOT NULL REFERENCES projects (id),\n",
        "                                    begin_date text NOT NULL,\n",
        "                                    end_date text NOT NULL\n",
        "                                );\"\"\"\n",
        "# StudentId INT REFERENCES Student (StudentId)\n",
        "#FOREIGN KEY (project_id) REFERENCES projects (id)"
      ],
      "execution_count": null,
      "outputs": []
    },
    {
      "cell_type": "code",
      "metadata": {
        "colab": {
          "base_uri": "https://localhost:8080/"
        },
        "id": "NLtiyVQxIhGs",
        "outputId": "232f1136-ebe0-4af3-cb86-445d3fa31fe9"
      },
      "source": [
        "### Command execute #####\n",
        "cursor.execute(sql_create_projects_table)"
      ],
      "execution_count": null,
      "outputs": [
        {
          "output_type": "execute_result",
          "data": {
            "text/plain": [
              "<sqlite3.Cursor at 0x7f2ecfc95f80>"
            ]
          },
          "metadata": {
            "tags": []
          },
          "execution_count": 6
        }
      ]
    },
    {
      "cell_type": "code",
      "metadata": {
        "id": "nBq8e7_XJYCw"
      },
      "source": [
        "#### Commit #####\n",
        "engine.commit()"
      ],
      "execution_count": null,
      "outputs": []
    },
    {
      "cell_type": "code",
      "metadata": {
        "colab": {
          "base_uri": "https://localhost:8080/"
        },
        "id": "eZKN7-u5tUsj",
        "outputId": "5f3943c7-e4e6-4711-ce38-123fd8222250"
      },
      "source": [
        "cursor.execute('PRAGMA table_info(projects)').fetchall()"
      ],
      "execution_count": null,
      "outputs": [
        {
          "output_type": "execute_result",
          "data": {
            "text/plain": [
              "[(0, 'id', 'integer', 0, None, 1),\n",
              " (1, 'name', 'text', 1, None, 0),\n",
              " (2, 'begin_date', 'text', 0, None, 0),\n",
              " (3, 'end_date', 'text', 0, None, 0)]"
            ]
          },
          "metadata": {
            "tags": []
          },
          "execution_count": 8
        }
      ]
    },
    {
      "cell_type": "code",
      "metadata": {
        "colab": {
          "base_uri": "https://localhost:8080/"
        },
        "id": "hK60qsB5tR2h",
        "outputId": "9862a164-47c5-411e-a6bc-50ebf41808b9"
      },
      "source": [
        "data = cursor.execute('PRAGMA table_info(projects)').fetchall()\n",
        "type(data[0])\n",
        "for d in data:\n",
        "  print(d[0],d[1],d[2])"
      ],
      "execution_count": null,
      "outputs": [
        {
          "output_type": "stream",
          "text": [
            "0 id integer\n",
            "1 name text\n",
            "2 begin_date text\n",
            "3 end_date text\n"
          ],
          "name": "stdout"
        }
      ]
    },
    {
      "cell_type": "code",
      "metadata": {
        "id": "CajbEsT-wevq"
      },
      "source": [
        ""
      ],
      "execution_count": null,
      "outputs": []
    },
    {
      "cell_type": "code",
      "metadata": {
        "id": "WtOiM0aJwmyr"
      },
      "source": [
        ""
      ],
      "execution_count": null,
      "outputs": []
    },
    {
      "cell_type": "code",
      "metadata": {
        "colab": {
          "base_uri": "https://localhost:8080/"
        },
        "id": "6uI_u1u9IhGs",
        "outputId": "5b5c21d0-812e-43f8-abee-b205b4a50c73"
      },
      "source": [
        "cursor.execute(sql_create_tasks_table)"
      ],
      "execution_count": null,
      "outputs": [
        {
          "output_type": "execute_result",
          "data": {
            "text/plain": [
              "<sqlite3.Cursor at 0x7f2ecfc95f80>"
            ]
          },
          "metadata": {
            "tags": []
          },
          "execution_count": 12
        }
      ]
    },
    {
      "cell_type": "code",
      "metadata": {
        "id": "Jz170pfkIhGt",
        "colab": {
          "base_uri": "https://localhost:8080/"
        },
        "outputId": "067d8957-66e3-4435-d238-e9ea1549786b"
      },
      "source": [
        "#### Types de cada atributo da Tabela ####### \n",
        "#### Comando PRAGMA table_info(\"Nome da tabela\") \n",
        "sql_info = 'PRAGMA table_info(tasks)'\n",
        "data = cursor.execute(sql_info).fetchall()\n",
        "for d in data:\n",
        "  print(d[0],d[1],d[2])\n"
      ],
      "execution_count": null,
      "outputs": [
        {
          "output_type": "stream",
          "text": [
            "0 id integer\n",
            "1 name text\n",
            "2 priority integer\n",
            "3 status_id integer\n",
            "4 project_id integer\n",
            "5 begin_date text\n",
            "6 end_date text\n"
          ],
          "name": "stdout"
        }
      ]
    },
    {
      "cell_type": "code",
      "metadata": {
        "id": "gD_3nExVIhGu"
      },
      "source": [
        ""
      ],
      "execution_count": null,
      "outputs": []
    },
    {
      "cell_type": "markdown",
      "metadata": {
        "id": "FYbhVfN9IhGv"
      },
      "source": [
        "## SYNTAX (INSERT): \n",
        "\n",
        "### \"INSERT [OR conflict-algorithm]\n",
        "### INTO [database-name .] table-name [(column-list)]\n",
        "### VALUES (value-list)\""
      ]
    },
    {
      "cell_type": "code",
      "metadata": {
        "id": "lhtrlZPKM5uJ"
      },
      "source": [
        ""
      ],
      "execution_count": null,
      "outputs": []
    },
    {
      "cell_type": "code",
      "metadata": {
        "id": "1azRxaM0IhGw"
      },
      "source": [
        "### Comando Insert ##### \n",
        "### INSERT INTO table VALUES () \n",
        "### INSERT INTO table (columns) VALUES () \n"
      ],
      "execution_count": null,
      "outputs": []
    },
    {
      "cell_type": "code",
      "metadata": {
        "colab": {
          "base_uri": "https://localhost:8080/"
        },
        "id": "PGDFsYz8yqsS",
        "outputId": "eebe17ea-ba18-410d-c764-8d808ac261ef"
      },
      "source": [
        "sql_insert = 'INSERT INTO projects VALUES(20,\"PROJETO_01\",\"2021-07-18\",\" \")'\n",
        "cursor.execute(sql_insert)"
      ],
      "execution_count": null,
      "outputs": [
        {
          "output_type": "execute_result",
          "data": {
            "text/plain": [
              "<sqlite3.Cursor at 0x7f2ecfc95f80>"
            ]
          },
          "metadata": {
            "tags": []
          },
          "execution_count": 15
        }
      ]
    },
    {
      "cell_type": "code",
      "metadata": {
        "id": "rd1pkzihIhGw"
      },
      "source": [
        "engine.commit()"
      ],
      "execution_count": null,
      "outputs": []
    },
    {
      "cell_type": "code",
      "metadata": {
        "id": "JTuA3KPGNoFA"
      },
      "source": [
        "sql_insert2 = 'INSERT INTO projects (name,begin_date,end_date) VALUES(\"PROJETO_02\",\" \", \" \")'\n",
        "cursor.execute(sql_insert2)\n",
        "engine.commit()"
      ],
      "execution_count": null,
      "outputs": []
    },
    {
      "cell_type": "code",
      "metadata": {
        "id": "Y_7nYeFE1PJk"
      },
      "source": [
        "sql_insert3 = 'INSERT INTO projects (name) VALUES(\"PROJETO_03\")'\n",
        "cursor.execute(sql_insert3)\n",
        "engine.commit()"
      ],
      "execution_count": null,
      "outputs": []
    },
    {
      "cell_type": "code",
      "metadata": {
        "colab": {
          "base_uri": "https://localhost:8080/"
        },
        "id": "oS8PioJ7NJvu",
        "outputId": "76c51332-888d-4ecc-e37f-0c4a376c55dd"
      },
      "source": [
        " #### Comando SELECT #####\n",
        " ###. SELECT * FROM table #####\n",
        "data = cursor.execute('SELECT * FROM projects ').fetchall()\n",
        "for row in data: \n",
        "  print(row)"
      ],
      "execution_count": null,
      "outputs": [
        {
          "output_type": "stream",
          "text": [
            "(20, 'PROJETO_01', '2021-07-18', ' ')\n",
            "(21, 'PROJETO_02', ' ', ' ')\n",
            "(22, 'PROJETO_03', None, None)\n"
          ],
          "name": "stdout"
        }
      ]
    },
    {
      "cell_type": "code",
      "metadata": {
        "id": "jtNTUnSoIhGx"
      },
      "source": [
        "### INSERT values into Task ###### \n",
        "sql_insert3 = 'INSERT INTO tasks VALUES(200,\"tarefa_01\",0,20,22,\"\",\"\")'\n",
        "cursor.execute(sql_insert3)\n",
        "engine.commit()\n",
        "\n"
      ],
      "execution_count": null,
      "outputs": []
    },
    {
      "cell_type": "code",
      "metadata": {
        "id": "JqtklZ__IhGy",
        "colab": {
          "base_uri": "https://localhost:8080/"
        },
        "outputId": "51578b1c-2b90-41b8-e586-7133d2a8475f"
      },
      "source": [
        "### LER os valores inseridos #######\n",
        "cursor.execute('SELECT * FROM tasks').fetchall()"
      ],
      "execution_count": null,
      "outputs": [
        {
          "output_type": "execute_result",
          "data": {
            "text/plain": [
              "[(100, 'tarefa_01', 0, 20, 22, '', ''), (200, 'tarefa_01', 0, 20, 22, '', '')]"
            ]
          },
          "metadata": {
            "tags": []
          },
          "execution_count": 28
        }
      ]
    },
    {
      "cell_type": "markdown",
      "metadata": {
        "id": "4TJoy_GPIhGw"
      },
      "source": [
        "## SYNTAX (SELECT): \n",
        "\n",
        "### SELECT [ALL | DISTINCT] result [FROM table-list]\n",
        "### [WHERE expr]\n",
        "### [GROUP BY expr-list]\n",
        "### [HAVING expr]\n",
        "### [compound-op select]*\n",
        "### [ORDER BY sort-expr-list]\n",
        "### [LIMIT integer [(OFFSET|,) integer]]"
      ]
    },
    {
      "cell_type": "code",
      "metadata": {
        "colab": {
          "base_uri": "https://localhost:8080/"
        },
        "id": "K9-AeGTxIhGz",
        "outputId": "d4af62f3-07b3-4fb5-a058-9690f7b3fa3e"
      },
      "source": [
        "### CREATE TABLE EMP and DEPTO #######\n",
        "cursor.execute('''CREATE TABLE IF NOT EXISTS EMP (EMPNO int, ENAME text, JOB text, MGR int, HIREDATE date, SAL real,COMM int, DEPTNO int)''')"
      ],
      "execution_count": null,
      "outputs": [
        {
          "output_type": "execute_result",
          "data": {
            "text/plain": [
              "<sqlite3.Cursor at 0x7f2ecfc95f80>"
            ]
          },
          "metadata": {
            "tags": []
          },
          "execution_count": 29
        }
      ]
    },
    {
      "cell_type": "code",
      "metadata": {
        "colab": {
          "base_uri": "https://localhost:8080/"
        },
        "id": "m8UTWA7iIhGz",
        "outputId": "03a4321c-2f87-4a6b-ed95-9c62cd3f9908"
      },
      "source": [
        "data = cursor.execute(\"PRAGMA table_info(EMP)\").fetchall()\n",
        "for d in data:\n",
        "    print (d[0], d[1], d[2])"
      ],
      "execution_count": null,
      "outputs": [
        {
          "output_type": "stream",
          "text": [
            "0 EMPNO int\n",
            "1 ENAME text\n",
            "2 JOB text\n",
            "3 MGR int\n",
            "4 HIREDATE date\n",
            "5 SAL real\n",
            "6 COMM int\n",
            "7 DEPTNO int\n"
          ],
          "name": "stdout"
        }
      ]
    },
    {
      "cell_type": "code",
      "metadata": {
        "id": "Vp9QmCggIhG0"
      },
      "source": [
        " employes = [(7369, 'SMITH',  'CLERK', 7902, '2005-12-11', 800, 150 , 20),\n",
        " (7499, 'ALLEN',  'SALESMAN', 7698, '2006-02-23',1600, 300, 30),\n",
        " (7521, 'WARD', 'SALESMAN', 7698,'2006-02-26', 1250, 500, 30),\n",
        " (7566, 'JONES','MANAGER', 7839,'2006-04-02', 2975, 520, 20),            \n",
        " (7654, 'MARTIN','SALESMAN', 7698,'2006-09-28', 1400, 420, 30),\n",
        " (7698, 'BLAKE','MANAGER', 7839,'2006-05-1', 2850, 600, 30),\n",
        " (7782, 'CLARK', 'MANAGER', 7839, '2006-06-09',2450, 580,10),\n",
        " (7788, 'SCOTT', 'ANALYST', 7566,'2007-12-09',3000,640,20),\n",
        " (7839, 'KING','PRESIDENT','', '2006-11-17',5000,0,10),\n",
        " (7844, 'TURNER', 'SALESMAN',7698,'2006-09-13',1500,0,30),\n",
        " (7876, 'ADAMS', 'CLERK',7788, '2008-01-12',1100,50,20),\n",
        " (7900, 'JAMES', 'CLERK',7698, '2006-12-03',950,40,30),\n",
        " (7902, 'FORD', 'ANALYST',7566,'2006-12-03',3000,10,20),\n",
        " (7934, 'MILLER','CLERK',7782,'2007-01-23',1300,\"\",10)]"
      ],
      "execution_count": null,
      "outputs": []
    },
    {
      "cell_type": "code",
      "metadata": {
        "colab": {
          "base_uri": "https://localhost:8080/"
        },
        "id": "wjT5Q9ZYRz5a",
        "outputId": "2bae47d8-c896-4faa-cc92-4ab442f5df8f"
      },
      "source": [
        "type(employes[0])"
      ],
      "execution_count": null,
      "outputs": [
        {
          "output_type": "execute_result",
          "data": {
            "text/plain": [
              "tuple"
            ]
          },
          "metadata": {
            "tags": []
          },
          "execution_count": 32
        }
      ]
    },
    {
      "cell_type": "code",
      "metadata": {
        "id": "qm0TR7boIhG0"
      },
      "source": [
        "cursor.executemany('INSERT INTO EMP VALUES (?,?,?,?,?,?,?,?)', employes)\n",
        "engine.commit()"
      ],
      "execution_count": null,
      "outputs": []
    },
    {
      "cell_type": "code",
      "metadata": {
        "id": "bdqhHgt7IhG0",
        "colab": {
          "base_uri": "https://localhost:8080/"
        },
        "outputId": "915f4311-0e27-442e-ec81-b83730138d57"
      },
      "source": [
        "#### READ THE CONTENTS OF EMP TABLE \n",
        "cursor.execute('SELECT * FROM EMP').fetchall()"
      ],
      "execution_count": null,
      "outputs": [
        {
          "output_type": "execute_result",
          "data": {
            "text/plain": [
              "[(7369, 'SMITH', 'CLERK', 7902, '2005-12-11', 800.0, 150, 20),\n",
              " (7499, 'ALLEN', 'SALESMAN', 7698, '2006-02-23', 1600.0, 300, 30),\n",
              " (7521, 'WARD', 'SALESMAN', 7698, '2006-02-26', 1250.0, 500, 30),\n",
              " (7566, 'JONES', 'MANAGER', 7839, '2006-04-02', 2975.0, 520, 20),\n",
              " (7654, 'MARTIN', 'SALESMAN', 7698, '2006-09-28', 1400.0, 420, 30),\n",
              " (7698, 'BLAKE', 'MANAGER', 7839, '2006-05-1', 2850.0, 600, 30),\n",
              " (7782, 'CLARK', 'MANAGER', 7839, '2006-06-09', 2450.0, 580, 10),\n",
              " (7788, 'SCOTT', 'ANALYST', 7566, '2007-12-09', 3000.0, 640, 20),\n",
              " (7839, 'KING', 'PRESIDENT', '', '2006-11-17', 5000.0, 0, 10),\n",
              " (7844, 'TURNER', 'SALESMAN', 7698, '2006-09-13', 1500.0, 0, 30),\n",
              " (7876, 'ADAMS', 'CLERK', 7788, '2008-01-12', 1100.0, 50, 20),\n",
              " (7900, 'JAMES', 'CLERK', 7698, '2006-12-03', 950.0, 40, 30),\n",
              " (7902, 'FORD', 'ANALYST', 7566, '2006-12-03', 3000.0, 10, 20),\n",
              " (7934, 'MILLER', 'CLERK', 7782, '2007-01-23', 1300.0, '', 10)]"
            ]
          },
          "metadata": {
            "tags": []
          },
          "execution_count": 34
        }
      ]
    },
    {
      "cell_type": "code",
      "metadata": {
        "colab": {
          "base_uri": "https://localhost:8080/"
        },
        "id": "6Tk2kjqoIhG1",
        "outputId": "104058e0-37c8-4153-9297-8cb6755fcf22"
      },
      "source": [
        "cursor.execute('''CREATE TABLE IF NOT EXISTS DEPT\n",
        "             (DEPTNO int not null, DNAME  text, LOC text)''')"
      ],
      "execution_count": null,
      "outputs": [
        {
          "output_type": "execute_result",
          "data": {
            "text/plain": [
              "<sqlite3.Cursor at 0x7f2ecfc95f80>"
            ]
          },
          "metadata": {
            "tags": []
          },
          "execution_count": 35
        }
      ]
    },
    {
      "cell_type": "code",
      "metadata": {
        "id": "7xDaoNc2IhG1"
      },
      "source": [
        "depts = [(10,'ACCOUNTING','NEW YORK'),\n",
        "         (20,'RESEARCH','DALLAS'),\n",
        "         (30,'SALES','CHICAGO'),\n",
        "         (40,'OPERATIONS','BOSTON')] \n"
      ],
      "execution_count": null,
      "outputs": []
    },
    {
      "cell_type": "code",
      "metadata": {
        "colab": {
          "base_uri": "https://localhost:8080/"
        },
        "id": "eEKpnssnIhG1",
        "outputId": "56475c37-95c6-4f97-a68b-cb7c17cb34af"
      },
      "source": [
        "type(depts)"
      ],
      "execution_count": null,
      "outputs": [
        {
          "output_type": "execute_result",
          "data": {
            "text/plain": [
              "list"
            ]
          },
          "metadata": {
            "tags": []
          },
          "execution_count": 37
        }
      ]
    },
    {
      "cell_type": "code",
      "metadata": {
        "colab": {
          "base_uri": "https://localhost:8080/"
        },
        "id": "GmeeHP-yIhG1",
        "outputId": "83ad365f-a0de-4f00-a5ec-cd2b70360921"
      },
      "source": [
        "cursor.executemany('INSERT INTO DEPT VALUES (?,?,?)', depts)"
      ],
      "execution_count": null,
      "outputs": [
        {
          "output_type": "execute_result",
          "data": {
            "text/plain": [
              "<sqlite3.Cursor at 0x7f2ecfc95f80>"
            ]
          },
          "metadata": {
            "tags": []
          },
          "execution_count": 38
        }
      ]
    },
    {
      "cell_type": "code",
      "metadata": {
        "colab": {
          "base_uri": "https://localhost:8080/"
        },
        "id": "VxqhJknPIhG2",
        "outputId": "946f11a8-2d38-466b-fc36-bb40d4d57a76"
      },
      "source": [
        "cursor.execute('SELECT * FROM DEPT').fetchall()"
      ],
      "execution_count": null,
      "outputs": [
        {
          "output_type": "execute_result",
          "data": {
            "text/plain": [
              "[(10, 'ACCOUNTING', 'NEW YORK'),\n",
              " (20, 'RESEARCH', 'DALLAS'),\n",
              " (30, 'SALES', 'CHICAGO'),\n",
              " (40, 'OPERATIONS', 'BOSTON')]"
            ]
          },
          "metadata": {
            "tags": []
          },
          "execution_count": 39
        }
      ]
    },
    {
      "cell_type": "code",
      "metadata": {
        "colab": {
          "base_uri": "https://localhost:8080/"
        },
        "id": "JSKl9QAxIhG2",
        "outputId": "67e0590e-7774-46b3-b0a5-43296256b7da"
      },
      "source": [
        "### SELECT - Filtrando por atributos (Colunas) ##### \n",
        "\n",
        "data = cursor.execute('select ename as NAME, job from emp').fetchall()\n",
        "print(cursor.description[0][0],\"     \",cursor.description[1][0])\n",
        "#for x in cursor.description: \n",
        "#    print(x[0])\n",
        "for row in data: \n",
        "  print(row)\n"
      ],
      "execution_count": null,
      "outputs": [
        {
          "output_type": "stream",
          "text": [
            "NAME       JOB\n",
            "('SMITH', 'CLERK')\n",
            "('ALLEN', 'SALESMAN')\n",
            "('WARD', 'SALESMAN')\n",
            "('JONES', 'MANAGER')\n",
            "('MARTIN', 'SALESMAN')\n",
            "('BLAKE', 'MANAGER')\n",
            "('CLARK', 'MANAGER')\n",
            "('SCOTT', 'ANALYST')\n",
            "('KING', 'PRESIDENT')\n",
            "('TURNER', 'SALESMAN')\n",
            "('ADAMS', 'CLERK')\n",
            "('JAMES', 'CLERK')\n",
            "('FORD', 'ANALYST')\n",
            "('MILLER', 'CLERK')\n",
            "('SMITH', 'CLERK')\n",
            "('ALLEN', 'SALESMAN')\n",
            "('WARD', 'SALESMAN')\n",
            "('JONES', 'MANAGER')\n",
            "('MARTIN', 'SALESMAN')\n",
            "('BLAKE', 'MANAGER')\n",
            "('CLARK', 'MANAGER')\n",
            "('SCOTT', 'ANALYST')\n",
            "('KING', 'PRESIDENT')\n",
            "('TURNER', 'SALESMAN')\n",
            "('ADAMS', 'CLERK')\n",
            "('JAMES', 'CLERK')\n",
            "('FORD', 'ANALYST')\n",
            "('MILLER', 'CLERK')\n"
          ],
          "name": "stdout"
        }
      ]
    },
    {
      "cell_type": "code",
      "metadata": {
        "id": "6tsfGH5XIhG2"
      },
      "source": [
        "### Retrieving a Subset of Rows from a Table #### \n",
        "#### SELECT xxxx FROM TABLE Where clause ####\n"
      ],
      "execution_count": null,
      "outputs": []
    },
    {
      "cell_type": "code",
      "metadata": {
        "id": "gjqmnUo2REJQ"
      },
      "source": [
        "### Ex 2 - Count ###3"
      ],
      "execution_count": null,
      "outputs": []
    },
    {
      "cell_type": "code",
      "metadata": {
        "id": "gO1_Y4eRhB5q"
      },
      "source": [
        "### Ex 3 - DISTINCT ###"
      ],
      "execution_count": null,
      "outputs": []
    },
    {
      "cell_type": "code",
      "metadata": {
        "id": "X_AxEtyEhFOp"
      },
      "source": [
        ""
      ],
      "execution_count": null,
      "outputs": []
    },
    {
      "cell_type": "code",
      "metadata": {
        "id": "pzW04PMPhKZY"
      },
      "source": [
        ""
      ],
      "execution_count": null,
      "outputs": []
    },
    {
      "cell_type": "markdown",
      "metadata": {
        "id": "RgfVm8S5hJdC"
      },
      "source": [
        "### SYNTAX (UPDATE): \n",
        "\n",
        "### UPDATE table_name SET column_name=new_value [, ...] WHERE expression"
      ]
    },
    {
      "cell_type": "code",
      "metadata": {
        "id": "UM1CSM7hhPE3"
      },
      "source": [
        "### Modificar salário ->. sal = 1.10*sal ##### "
      ],
      "execution_count": null,
      "outputs": []
    },
    {
      "cell_type": "code",
      "metadata": {
        "id": "KD_yT5gQh-TQ"
      },
      "source": [
        ""
      ],
      "execution_count": null,
      "outputs": []
    },
    {
      "cell_type": "code",
      "metadata": {
        "id": "IBaICXiAh-P5"
      },
      "source": [
        "### Using Conditional Logic in a SELECT Statement #### "
      ],
      "execution_count": null,
      "outputs": []
    },
    {
      "cell_type": "code",
      "metadata": {
        "id": "0ReDj7Z-h_U-"
      },
      "source": [
        ""
      ],
      "execution_count": null,
      "outputs": []
    },
    {
      "cell_type": "code",
      "metadata": {
        "id": "_Qt7JZIYh_Rh"
      },
      "source": [
        ""
      ],
      "execution_count": null,
      "outputs": []
    },
    {
      "cell_type": "code",
      "metadata": {
        "id": "f-E89lcTh_N7"
      },
      "source": [
        "### Miscelanous #### \n",
        "### Limiting the Number of Rows Returned #### \n"
      ],
      "execution_count": null,
      "outputs": []
    },
    {
      "cell_type": "code",
      "metadata": {
        "id": "ETnEYEnRiLGT"
      },
      "source": [
        "### Returning Valores aleatórios #####\n",
        "\n"
      ],
      "execution_count": null,
      "outputs": []
    },
    {
      "cell_type": "code",
      "metadata": {
        "id": "gSO3ecMWiQjX"
      },
      "source": [
        "## Searching for Patterns ####\n",
        "## Ex1 - range"
      ],
      "execution_count": null,
      "outputs": []
    },
    {
      "cell_type": "code",
      "metadata": {
        "id": "D9ZVHUiuiQgc"
      },
      "source": [
        ""
      ],
      "execution_count": null,
      "outputs": []
    },
    {
      "cell_type": "code",
      "metadata": {
        "id": "NQgKYjnXid9E"
      },
      "source": [
        ""
      ],
      "execution_count": null,
      "outputs": []
    },
    {
      "cell_type": "code",
      "metadata": {
        "id": "2M9zgO0zid6M"
      },
      "source": [
        "## Searching for Patterns ####\n",
        "## Ex2 - substring ##### "
      ],
      "execution_count": null,
      "outputs": []
    },
    {
      "cell_type": "code",
      "metadata": {
        "id": "ZDdqrIOYiw34"
      },
      "source": [
        ""
      ],
      "execution_count": null,
      "outputs": []
    },
    {
      "cell_type": "code",
      "metadata": {
        "id": "urqvYyEyiw1A"
      },
      "source": [
        ""
      ],
      "execution_count": null,
      "outputs": []
    },
    {
      "cell_type": "code",
      "metadata": {
        "id": "j88r9RpYiLDa"
      },
      "source": [
        ""
      ],
      "execution_count": null,
      "outputs": []
    },
    {
      "cell_type": "code",
      "metadata": {
        "id": "dZ7RBAy8imxS"
      },
      "source": [
        "#### Order by ### \n",
        "### Ascendent ###"
      ],
      "execution_count": null,
      "outputs": []
    },
    {
      "cell_type": "code",
      "metadata": {
        "id": "5LyJxT3IimmT"
      },
      "source": [
        ""
      ],
      "execution_count": null,
      "outputs": []
    },
    {
      "cell_type": "code",
      "metadata": {
        "id": "Iv5RaYdliyMf"
      },
      "source": [
        ""
      ],
      "execution_count": null,
      "outputs": []
    },
    {
      "cell_type": "code",
      "metadata": {
        "id": "1-7whiyhiyJn"
      },
      "source": [
        ""
      ],
      "execution_count": null,
      "outputs": []
    },
    {
      "cell_type": "code",
      "metadata": {
        "id": "w_VE4ganimji"
      },
      "source": [
        "#### Order by ### \n",
        "### Descendent ###"
      ],
      "execution_count": null,
      "outputs": []
    },
    {
      "cell_type": "code",
      "metadata": {
        "id": "pU7BYo-kiy4J"
      },
      "source": [
        ""
      ],
      "execution_count": null,
      "outputs": []
    },
    {
      "cell_type": "code",
      "metadata": {
        "id": "fLYqOxl7iy15"
      },
      "source": [
        ""
      ],
      "execution_count": null,
      "outputs": []
    },
    {
      "cell_type": "code",
      "metadata": {
        "id": "bfirIbWfiyxz"
      },
      "source": [
        "#### Realizar alguns SELECTS ##### \n",
        "###  Por exemplo Location = New York \n",
        "#### ----- #####\n"
      ],
      "execution_count": null,
      "outputs": []
    },
    {
      "cell_type": "code",
      "metadata": {
        "id": "IgsbPqiXjAAz"
      },
      "source": [
        ""
      ],
      "execution_count": null,
      "outputs": []
    },
    {
      "cell_type": "code",
      "metadata": {
        "id": "ZaEwPKMRi_-j"
      },
      "source": [
        ""
      ],
      "execution_count": null,
      "outputs": []
    },
    {
      "cell_type": "code",
      "metadata": {
        "id": "iTiltvWei_82"
      },
      "source": [
        "### Achar datas a partir de 2000 ###"
      ],
      "execution_count": null,
      "outputs": []
    },
    {
      "cell_type": "code",
      "metadata": {
        "id": "7RPhmyUqi_4l"
      },
      "source": [
        ""
      ],
      "execution_count": null,
      "outputs": []
    },
    {
      "cell_type": "code",
      "metadata": {
        "id": "5N6Jhv95i_2H"
      },
      "source": [
        ""
      ],
      "execution_count": null,
      "outputs": []
    },
    {
      "cell_type": "code",
      "metadata": {
        "id": "GMBEpxAliyu3"
      },
      "source": [
        "#### ORDER BY SUBSTRING ##### \n",
        "### substr( string, start, length ) ##### \n",
        "\n",
        "### length(str) - retorna o tamanho da string = número de caracteres\n",
        "### length(Nicolly) = 7 ; lly - substring(Nicolly,5) = lly"
      ],
      "execution_count": null,
      "outputs": []
    },
    {
      "cell_type": "code",
      "metadata": {
        "id": "z9RuwN02jqbA"
      },
      "source": [
        ""
      ],
      "execution_count": null,
      "outputs": []
    },
    {
      "cell_type": "code",
      "metadata": {
        "id": "mtNRMSRyjxYh"
      },
      "source": [
        ""
      ],
      "execution_count": null,
      "outputs": []
    },
    {
      "cell_type": "code",
      "metadata": {
        "id": "4p-yh4pBjxVk"
      },
      "source": [
        "### selecionar nomes terminando com RK ou TH"
      ],
      "execution_count": null,
      "outputs": []
    },
    {
      "cell_type": "code",
      "metadata": {
        "id": "ET7gVSaBjxTW"
      },
      "source": [
        ""
      ],
      "execution_count": null,
      "outputs": []
    },
    {
      "cell_type": "code",
      "metadata": {
        "id": "bKgStkzej8b2"
      },
      "source": [
        ""
      ],
      "execution_count": null,
      "outputs": []
    },
    {
      "cell_type": "code",
      "metadata": {
        "id": "6ZEZmP9jj8Y7"
      },
      "source": [
        ""
      ],
      "execution_count": null,
      "outputs": []
    },
    {
      "cell_type": "code",
      "metadata": {
        "id": "5ReuSa4sj8Kp"
      },
      "source": [
        "#### SELECT \n",
        "###. group by using native functions - COUNT and AVG\n",
        "###  O que quero selecionar (atributos) \n",
        "### Por quem quero agrupar "
      ],
      "execution_count": null,
      "outputs": []
    },
    {
      "cell_type": "code",
      "metadata": {
        "id": "Cke0YXXjj9bz"
      },
      "source": [
        ""
      ],
      "execution_count": null,
      "outputs": []
    },
    {
      "cell_type": "code",
      "metadata": {
        "id": "zP0H8x7_j9-m"
      },
      "source": [
        ""
      ],
      "execution_count": null,
      "outputs": []
    },
    {
      "cell_type": "code",
      "metadata": {
        "id": "11TlcEFAj-BS"
      },
      "source": [
        ""
      ],
      "execution_count": null,
      "outputs": []
    },
    {
      "cell_type": "code",
      "metadata": {
        "id": "4LIDFnTzj-Gp"
      },
      "source": [
        ""
      ],
      "execution_count": null,
      "outputs": []
    },
    {
      "cell_type": "code",
      "metadata": {
        "id": "CHhIXVgEkLhc"
      },
      "source": [
        ""
      ],
      "execution_count": null,
      "outputs": []
    },
    {
      "cell_type": "code",
      "metadata": {
        "id": "_hWnQv9nkLcW"
      },
      "source": [
        ""
      ],
      "execution_count": null,
      "outputs": []
    },
    {
      "cell_type": "code",
      "metadata": {
        "id": "sv1ZISGgkLZX"
      },
      "source": [
        ""
      ],
      "execution_count": null,
      "outputs": []
    },
    {
      "cell_type": "markdown",
      "metadata": {
        "id": "2fCsBSlBkMC5"
      },
      "source": [
        "### Quero obter o resultado abaixo, no entanto os atributos são de colunas diferentes\n",
        "\n",
        " \n",
        "ENAME       LOC\\\n",
        "----------  ----------\\\n",
        "CLARK        NEW YORK\\\n",
        "KING         NEW YORK\\\n",
        "MILLER       NEW YORK"
      ]
    },
    {
      "cell_type": "code",
      "metadata": {
        "id": "gL-GVBlYkLWl"
      },
      "source": [
        "### Selecionar todos os infos dos empregados e departamentos - mesmo departamentos_ID"
      ],
      "execution_count": null,
      "outputs": []
    },
    {
      "cell_type": "code",
      "metadata": {
        "id": "nIspW6fbkYhc"
      },
      "source": [
        ""
      ],
      "execution_count": null,
      "outputs": []
    },
    {
      "cell_type": "code",
      "metadata": {
        "id": "5lGcPIfGkYeX"
      },
      "source": [
        ""
      ],
      "execution_count": null,
      "outputs": []
    },
    {
      "cell_type": "code",
      "metadata": {
        "id": "_38C6ku0kYVl"
      },
      "source": [
        "### Selecionar somente os Nomes dos empregados e os nomes dos departamentos "
      ],
      "execution_count": null,
      "outputs": []
    }
  ]
}