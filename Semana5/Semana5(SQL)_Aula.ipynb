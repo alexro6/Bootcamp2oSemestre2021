{
  "nbformat": 4,
  "nbformat_minor": 0,
  "metadata": {
    "kernelspec": {
      "display_name": "Python 3",
      "language": "python",
      "name": "python3"
    },
    "language_info": {
      "codemirror_mode": {
        "name": "ipython",
        "version": 3
      },
      "file_extension": ".py",
      "mimetype": "text/x-python",
      "name": "python",
      "nbconvert_exporter": "python",
      "pygments_lexer": "ipython3",
      "version": "3.8.5"
    },
    "colab": {
      "name": "Semana5(SQL)-Aula.ipynb",
      "provenance": [],
      "collapsed_sections": [],
      "include_colab_link": true
    }
  },
  "cells": [
    {
      "cell_type": "markdown",
      "metadata": {
        "id": "view-in-github",
        "colab_type": "text"
      },
      "source": [
        "<a href=\"https://colab.research.google.com/github/CharlesPrado23/Bootcamp2oSemestre2021/blob/main/Semana5/Semana5(SQL)_Aula.ipynb\" target=\"_parent\"><img src=\"https://colab.research.google.com/assets/colab-badge.svg\" alt=\"Open In Colab\"/></a>"
      ]
    },
    {
      "cell_type": "code",
      "metadata": {
        "id": "l55MLDXXIhGk"
      },
      "source": [
        "import sqlite3\n",
        "engine = sqlite3.connect('sql.db')"
      ],
      "execution_count": 1,
      "outputs": []
    },
    {
      "cell_type": "code",
      "metadata": {
        "id": "50oV2Ru7IhGo",
        "colab": {
          "base_uri": "https://localhost:8080/"
        },
        "outputId": "6f05fe9a-a802-42c8-859a-7251f0dbc5bf"
      },
      "source": [
        "cursor = engine.cursor()\n",
        "\n",
        "cursor.execute(\"PRAGMA foreign_keys = ON\").fetchall()\n",
        "\n",
        "### cursor.execute(\"PRAGMA foreign_keys\").fetchall()"
      ],
      "execution_count": 2,
      "outputs": [
        {
          "output_type": "execute_result",
          "data": {
            "text/plain": [
              "[]"
            ]
          },
          "metadata": {},
          "execution_count": 2
        }
      ]
    },
    {
      "cell_type": "markdown",
      "metadata": {
        "id": "64fOnJK2IhGp"
      },
      "source": [
        "### Syntax:\n",
        "### \"CREATE [TEMP | TEMPORARY] TABLE table-name (\n",
        "### column-def[, column-def]\n",
        "### [,constraint]);\n",
        "\n",
        "### column-def:\n",
        "### name [type] [[CONSTRAINT name] column-constraint]\""
      ]
    },
    {
      "cell_type": "code",
      "metadata": {
        "id": "bv7n4Y61IhGq"
      },
      "source": [
        "sql_create_projects_table = 'CREATE TABLE IF NOT EXISTS projects (\\\n",
        "                                        id integer PRIMARY KEY,\\\n",
        "                                        name text NOT NULL,\\\n",
        "                                        begin_date text,\\\n",
        "                                        end_date text\\\n",
        "                                    )'"
      ],
      "execution_count": null,
      "outputs": []
    },
    {
      "cell_type": "code",
      "metadata": {
        "id": "viTkVI2yIhGr"
      },
      "source": [
        "sql_create_tasks_table = \"\"\"CREATE TABLE IF NOT EXISTS tasks (\n",
        "                                    id integer PRIMARY KEY,\n",
        "                                    name text NOT NULL,\n",
        "                                    priority integer,\n",
        "                                    status_id integer NOT NULL,\n",
        "                                    project_id integer NOT NULL REFERENCES projects (id),\n",
        "                                    begin_date text NOT NULL,\n",
        "                                    end_date text NOT NULL\n",
        "                                );\"\"\"\n",
        "# StudentId INT REFERENCES Student (StudentId)\n",
        "#FOREIGN KEY (project_id) REFERENCES projects (id)"
      ],
      "execution_count": null,
      "outputs": []
    },
    {
      "cell_type": "code",
      "metadata": {
        "colab": {
          "base_uri": "https://localhost:8080/"
        },
        "id": "NLtiyVQxIhGs",
        "outputId": "232f1136-ebe0-4af3-cb86-445d3fa31fe9"
      },
      "source": [
        "### Command execute #####\n",
        "cursor.execute(sql_create_projects_table)"
      ],
      "execution_count": null,
      "outputs": [
        {
          "output_type": "execute_result",
          "data": {
            "text/plain": [
              "<sqlite3.Cursor at 0x7f2ecfc95f80>"
            ]
          },
          "metadata": {
            "tags": []
          },
          "execution_count": 6
        }
      ]
    },
    {
      "cell_type": "code",
      "metadata": {
        "id": "nBq8e7_XJYCw"
      },
      "source": [
        "#### Commit #####\n",
        "engine.commit()"
      ],
      "execution_count": null,
      "outputs": []
    },
    {
      "cell_type": "code",
      "metadata": {
        "colab": {
          "base_uri": "https://localhost:8080/"
        },
        "id": "eZKN7-u5tUsj",
        "outputId": "5f3943c7-e4e6-4711-ce38-123fd8222250"
      },
      "source": [
        "cursor.execute('PRAGMA table_info(projects)').fetchall()"
      ],
      "execution_count": null,
      "outputs": [
        {
          "output_type": "execute_result",
          "data": {
            "text/plain": [
              "[(0, 'id', 'integer', 0, None, 1),\n",
              " (1, 'name', 'text', 1, None, 0),\n",
              " (2, 'begin_date', 'text', 0, None, 0),\n",
              " (3, 'end_date', 'text', 0, None, 0)]"
            ]
          },
          "metadata": {
            "tags": []
          },
          "execution_count": 8
        }
      ]
    },
    {
      "cell_type": "code",
      "metadata": {
        "colab": {
          "base_uri": "https://localhost:8080/"
        },
        "id": "hK60qsB5tR2h",
        "outputId": "9862a164-47c5-411e-a6bc-50ebf41808b9"
      },
      "source": [
        "data = cursor.execute('PRAGMA table_info(projects)').fetchall()\n",
        "type(data[0])\n",
        "for d in data:\n",
        "  print(d[0],d[1],d[2])"
      ],
      "execution_count": null,
      "outputs": [
        {
          "output_type": "stream",
          "text": [
            "0 id integer\n",
            "1 name text\n",
            "2 begin_date text\n",
            "3 end_date text\n"
          ],
          "name": "stdout"
        }
      ]
    },
    {
      "cell_type": "code",
      "metadata": {
        "id": "CajbEsT-wevq"
      },
      "source": [
        ""
      ],
      "execution_count": null,
      "outputs": []
    },
    {
      "cell_type": "code",
      "metadata": {
        "id": "WtOiM0aJwmyr"
      },
      "source": [
        ""
      ],
      "execution_count": null,
      "outputs": []
    },
    {
      "cell_type": "code",
      "metadata": {
        "colab": {
          "base_uri": "https://localhost:8080/"
        },
        "id": "6uI_u1u9IhGs",
        "outputId": "5b5c21d0-812e-43f8-abee-b205b4a50c73"
      },
      "source": [
        "cursor.execute(sql_create_tasks_table)"
      ],
      "execution_count": null,
      "outputs": [
        {
          "output_type": "execute_result",
          "data": {
            "text/plain": [
              "<sqlite3.Cursor at 0x7f2ecfc95f80>"
            ]
          },
          "metadata": {
            "tags": []
          },
          "execution_count": 12
        }
      ]
    },
    {
      "cell_type": "code",
      "metadata": {
        "id": "Jz170pfkIhGt",
        "colab": {
          "base_uri": "https://localhost:8080/"
        },
        "outputId": "067d8957-66e3-4435-d238-e9ea1549786b"
      },
      "source": [
        "#### Types de cada atributo da Tabela ####### \n",
        "#### Comando PRAGMA table_info(\"Nome da tabela\") \n",
        "sql_info = 'PRAGMA table_info(tasks)'\n",
        "data = cursor.execute(sql_info).fetchall()\n",
        "for d in data:\n",
        "  print(d[0],d[1],d[2])\n"
      ],
      "execution_count": null,
      "outputs": [
        {
          "output_type": "stream",
          "text": [
            "0 id integer\n",
            "1 name text\n",
            "2 priority integer\n",
            "3 status_id integer\n",
            "4 project_id integer\n",
            "5 begin_date text\n",
            "6 end_date text\n"
          ],
          "name": "stdout"
        }
      ]
    },
    {
      "cell_type": "code",
      "metadata": {
        "id": "gD_3nExVIhGu"
      },
      "source": [
        ""
      ],
      "execution_count": null,
      "outputs": []
    },
    {
      "cell_type": "markdown",
      "metadata": {
        "id": "FYbhVfN9IhGv"
      },
      "source": [
        "## SYNTAX (INSERT): \n",
        "\n",
        "### \"INSERT [OR conflict-algorithm]\n",
        "### INTO [database-name .] table-name [(column-list)]\n",
        "### VALUES (value-list)\""
      ]
    },
    {
      "cell_type": "code",
      "metadata": {
        "id": "lhtrlZPKM5uJ"
      },
      "source": [
        ""
      ],
      "execution_count": null,
      "outputs": []
    },
    {
      "cell_type": "code",
      "metadata": {
        "id": "1azRxaM0IhGw"
      },
      "source": [
        "### Comando Insert ##### \n",
        "### INSERT INTO table VALUES () \n",
        "### INSERT INTO table (columns) VALUES () \n"
      ],
      "execution_count": null,
      "outputs": []
    },
    {
      "cell_type": "code",
      "metadata": {
        "colab": {
          "base_uri": "https://localhost:8080/"
        },
        "id": "PGDFsYz8yqsS",
        "outputId": "eebe17ea-ba18-410d-c764-8d808ac261ef"
      },
      "source": [
        "sql_insert = 'INSERT INTO projects VALUES(20,\"PROJETO_01\",\"2021-07-18\",\" \")'\n",
        "cursor.execute(sql_insert)"
      ],
      "execution_count": null,
      "outputs": [
        {
          "output_type": "execute_result",
          "data": {
            "text/plain": [
              "<sqlite3.Cursor at 0x7f2ecfc95f80>"
            ]
          },
          "metadata": {
            "tags": []
          },
          "execution_count": 15
        }
      ]
    },
    {
      "cell_type": "code",
      "metadata": {
        "id": "rd1pkzihIhGw"
      },
      "source": [
        "engine.commit()"
      ],
      "execution_count": null,
      "outputs": []
    },
    {
      "cell_type": "code",
      "metadata": {
        "id": "JTuA3KPGNoFA"
      },
      "source": [
        "sql_insert2 = 'INSERT INTO projects (name,begin_date,end_date) VALUES(\"PROJETO_02\",\" \", \" \")'\n",
        "cursor.execute(sql_insert2)\n",
        "engine.commit()"
      ],
      "execution_count": null,
      "outputs": []
    },
    {
      "cell_type": "code",
      "metadata": {
        "id": "Y_7nYeFE1PJk"
      },
      "source": [
        "sql_insert3 = 'INSERT INTO projects (name) VALUES(\"PROJETO_03\")'\n",
        "cursor.execute(sql_insert3)\n",
        "engine.commit()"
      ],
      "execution_count": null,
      "outputs": []
    },
    {
      "cell_type": "code",
      "metadata": {
        "colab": {
          "base_uri": "https://localhost:8080/"
        },
        "id": "oS8PioJ7NJvu",
        "outputId": "76c51332-888d-4ecc-e37f-0c4a376c55dd"
      },
      "source": [
        " #### Comando SELECT #####\n",
        " ###. SELECT * FROM table #####\n",
        "data = cursor.execute('SELECT * FROM projects ').fetchall()\n",
        "for row in data: \n",
        "  print(row)"
      ],
      "execution_count": null,
      "outputs": [
        {
          "output_type": "stream",
          "text": [
            "(20, 'PROJETO_01', '2021-07-18', ' ')\n",
            "(21, 'PROJETO_02', ' ', ' ')\n",
            "(22, 'PROJETO_03', None, None)\n"
          ],
          "name": "stdout"
        }
      ]
    },
    {
      "cell_type": "code",
      "metadata": {
        "id": "jtNTUnSoIhGx"
      },
      "source": [
        "### INSERT values into Task ###### \n",
        "sql_insert3 = 'INSERT INTO tasks VALUES(200,\"tarefa_01\",0,20,22,\"\",\"\")'\n",
        "cursor.execute(sql_insert3)\n",
        "engine.commit()\n",
        "\n"
      ],
      "execution_count": null,
      "outputs": []
    },
    {
      "cell_type": "code",
      "metadata": {
        "id": "JqtklZ__IhGy",
        "colab": {
          "base_uri": "https://localhost:8080/"
        },
        "outputId": "51578b1c-2b90-41b8-e586-7133d2a8475f"
      },
      "source": [
        "### LER os valores inseridos #######\n",
        "cursor.execute('SELECT * FROM tasks').fetchall()"
      ],
      "execution_count": null,
      "outputs": [
        {
          "output_type": "execute_result",
          "data": {
            "text/plain": [
              "[(100, 'tarefa_01', 0, 20, 22, '', ''), (200, 'tarefa_01', 0, 20, 22, '', '')]"
            ]
          },
          "metadata": {
            "tags": []
          },
          "execution_count": 28
        }
      ]
    },
    {
      "cell_type": "markdown",
      "metadata": {
        "id": "4TJoy_GPIhGw"
      },
      "source": [
        "## SYNTAX (SELECT): \n",
        "\n",
        "### SELECT [ALL | DISTINCT] result [FROM table-list]\n",
        "### [WHERE expr]\n",
        "### [GROUP BY expr-list]\n",
        "### [HAVING expr]\n",
        "### [compound-op select]*\n",
        "### [ORDER BY sort-expr-list]\n",
        "### [LIMIT integer [(OFFSET|,) integer]]"
      ]
    },
    {
      "cell_type": "code",
      "metadata": {
        "colab": {
          "base_uri": "https://localhost:8080/"
        },
        "id": "K9-AeGTxIhGz",
        "outputId": "11f0c577-369f-4764-c3d0-a9854bc35f4f"
      },
      "source": [
        "### CREATE TABLE EMP and DEPTO #######\n",
        "cursor.execute('''CREATE TABLE IF NOT EXISTS EMP (EMPNO int, ENAME text, JOB text, MGR int, HIREDATE date, SAL real,COMM int, DEPTNO int)''')"
      ],
      "execution_count": 3,
      "outputs": [
        {
          "output_type": "execute_result",
          "data": {
            "text/plain": [
              "<sqlite3.Cursor at 0x7fa228a705e0>"
            ]
          },
          "metadata": {},
          "execution_count": 3
        }
      ]
    },
    {
      "cell_type": "code",
      "metadata": {
        "colab": {
          "base_uri": "https://localhost:8080/"
        },
        "id": "m8UTWA7iIhGz",
        "outputId": "1c4c9648-291d-4821-aa72-13f70b5a91c9"
      },
      "source": [
        "data = cursor.execute(\"PRAGMA table_info(EMP)\").fetchall()\n",
        "for d in data:\n",
        "    print (d[0], d[1], d[2])"
      ],
      "execution_count": null,
      "outputs": [
        {
          "output_type": "stream",
          "text": [
            "0 EMPNO int\n",
            "1 ENAME text\n",
            "2 JOB text\n",
            "3 MGR int\n",
            "4 HIREDATE date\n",
            "5 SAL real\n",
            "6 COMM int\n",
            "7 DEPTNO int\n"
          ],
          "name": "stdout"
        }
      ]
    },
    {
      "cell_type": "code",
      "metadata": {
        "id": "Vp9QmCggIhG0"
      },
      "source": [
        " employes = [(7369, 'SMITH',  'CLERK', 7902, '2005-12-11', 800, 150 , 20),\n",
        " (7499, 'ALLEN',  'SALESMAN', 7698, '2006-02-23',1600, 300, 30),\n",
        " (7521, 'WARD', 'SALESMAN', 7698,'2006-02-26', 1250, 500, 30),\n",
        " (7566, 'JONES','MANAGER', 7839,'2006-04-02', 2975, 520, 20),            \n",
        " (7654, 'MARTIN','SALESMAN', 7698,'2006-09-28', 1400, 420, 30),\n",
        " (7698, 'BLAKE','MANAGER', 7839,'2006-05-1', 2850, 600, 30),\n",
        " (7782, 'CLARK', 'MANAGER', 7839, '2006-06-09',2450, 580,10),\n",
        " (7788, 'SCOTT', 'ANALYST', 7566,'2007-12-09',3000,640,20),\n",
        " (7839, 'KING','PRESIDENT','', '2006-11-17',5000,0,10),\n",
        " (7844, 'TURNER', 'SALESMAN',7698,'2006-09-13',1500,0,30),\n",
        " (7876, 'ADAMS', 'CLERK',7788, '2008-01-12',1100,50,20),\n",
        " (7900, 'JAMES', 'CLERK',7698, '2006-12-03',950,40,30),\n",
        " (7902, 'FORD', 'ANALYST',7566,'2006-12-03',3000,10,20),\n",
        " (7934, 'MILLER','CLERK',7782,'2007-01-23',1300,\"\",10)]"
      ],
      "execution_count": 4,
      "outputs": []
    },
    {
      "cell_type": "code",
      "metadata": {
        "colab": {
          "base_uri": "https://localhost:8080/"
        },
        "id": "wjT5Q9ZYRz5a",
        "outputId": "92b101e5-688f-46be-8022-4433ee1bbabd"
      },
      "source": [
        "type(employes[0])"
      ],
      "execution_count": null,
      "outputs": [
        {
          "output_type": "execute_result",
          "data": {
            "text/plain": [
              "tuple"
            ]
          },
          "metadata": {
            "tags": []
          },
          "execution_count": 7
        }
      ]
    },
    {
      "cell_type": "code",
      "metadata": {
        "id": "qm0TR7boIhG0"
      },
      "source": [
        "cursor.executemany('INSERT INTO EMP VALUES (?,?,?,?,?,?,?,?)', employes)\n",
        "engine.commit()"
      ],
      "execution_count": 5,
      "outputs": []
    },
    {
      "cell_type": "code",
      "metadata": {
        "id": "bdqhHgt7IhG0",
        "colab": {
          "base_uri": "https://localhost:8080/"
        },
        "outputId": "d3a686bb-4941-4a78-b3c0-75429b35e976"
      },
      "source": [
        "#### READ THE CONTENTS OF EMP TABLE \n",
        "cursor.execute('SELECT * FROM EMP').fetchall()"
      ],
      "execution_count": 6,
      "outputs": [
        {
          "output_type": "execute_result",
          "data": {
            "text/plain": [
              "[(7369, 'SMITH', 'CLERK', 7902, '2005-12-11', 800.0, 150, 20),\n",
              " (7499, 'ALLEN', 'SALESMAN', 7698, '2006-02-23', 1600.0, 300, 30),\n",
              " (7521, 'WARD', 'SALESMAN', 7698, '2006-02-26', 1250.0, 500, 30),\n",
              " (7566, 'JONES', 'MANAGER', 7839, '2006-04-02', 2975.0, 520, 20),\n",
              " (7654, 'MARTIN', 'SALESMAN', 7698, '2006-09-28', 1400.0, 420, 30),\n",
              " (7698, 'BLAKE', 'MANAGER', 7839, '2006-05-1', 2850.0, 600, 30),\n",
              " (7782, 'CLARK', 'MANAGER', 7839, '2006-06-09', 2450.0, 580, 10),\n",
              " (7788, 'SCOTT', 'ANALYST', 7566, '2007-12-09', 3000.0, 640, 20),\n",
              " (7839, 'KING', 'PRESIDENT', '', '2006-11-17', 5000.0, 0, 10),\n",
              " (7844, 'TURNER', 'SALESMAN', 7698, '2006-09-13', 1500.0, 0, 30),\n",
              " (7876, 'ADAMS', 'CLERK', 7788, '2008-01-12', 1100.0, 50, 20),\n",
              " (7900, 'JAMES', 'CLERK', 7698, '2006-12-03', 950.0, 40, 30),\n",
              " (7902, 'FORD', 'ANALYST', 7566, '2006-12-03', 3000.0, 10, 20),\n",
              " (7934, 'MILLER', 'CLERK', 7782, '2007-01-23', 1300.0, '', 10)]"
            ]
          },
          "metadata": {},
          "execution_count": 6
        }
      ]
    },
    {
      "cell_type": "code",
      "metadata": {
        "colab": {
          "base_uri": "https://localhost:8080/"
        },
        "id": "6Tk2kjqoIhG1",
        "outputId": "be205172-acc0-4153-a970-88bfc4cf9e2a"
      },
      "source": [
        "cursor.execute('''CREATE TABLE IF NOT EXISTS DEPT\n",
        "             (DEPTNO int not null, DNAME  text, LOC text)''')"
      ],
      "execution_count": 7,
      "outputs": [
        {
          "output_type": "execute_result",
          "data": {
            "text/plain": [
              "<sqlite3.Cursor at 0x7fa228a705e0>"
            ]
          },
          "metadata": {},
          "execution_count": 7
        }
      ]
    },
    {
      "cell_type": "code",
      "metadata": {
        "id": "7xDaoNc2IhG1"
      },
      "source": [
        "depts = [(10,'ACCOUNTING','NEW YORK'),\n",
        "         (20,'RESEARCH','DALLAS'),\n",
        "         (30,'SALES','CHICAGO'),\n",
        "         (40,'OPERATIONS','BOSTON')] \n"
      ],
      "execution_count": 8,
      "outputs": []
    },
    {
      "cell_type": "code",
      "metadata": {
        "colab": {
          "base_uri": "https://localhost:8080/"
        },
        "id": "eEKpnssnIhG1",
        "outputId": "af2c3e50-b495-4082-82b8-244ee727dabb"
      },
      "source": [
        "type(depts)"
      ],
      "execution_count": null,
      "outputs": [
        {
          "output_type": "execute_result",
          "data": {
            "text/plain": [
              "list"
            ]
          },
          "metadata": {
            "tags": []
          },
          "execution_count": 12
        }
      ]
    },
    {
      "cell_type": "code",
      "metadata": {
        "colab": {
          "base_uri": "https://localhost:8080/"
        },
        "id": "GmeeHP-yIhG1",
        "outputId": "b861f9d1-495a-4dc2-ae54-c784dc42bfce"
      },
      "source": [
        "cursor.executemany('INSERT INTO DEPT VALUES (?,?,?)', depts)"
      ],
      "execution_count": 9,
      "outputs": [
        {
          "output_type": "execute_result",
          "data": {
            "text/plain": [
              "<sqlite3.Cursor at 0x7fa228a705e0>"
            ]
          },
          "metadata": {},
          "execution_count": 9
        }
      ]
    },
    {
      "cell_type": "code",
      "metadata": {
        "colab": {
          "base_uri": "https://localhost:8080/"
        },
        "id": "VxqhJknPIhG2",
        "outputId": "6434556f-f06d-41bc-fc2c-fe6157dffd72"
      },
      "source": [
        "cursor.execute('SELECT * FROM DEPT').fetchall()"
      ],
      "execution_count": null,
      "outputs": [
        {
          "output_type": "execute_result",
          "data": {
            "text/plain": [
              "[(10, 'ACCOUNTING', 'NEW YORK'),\n",
              " (20, 'RESEARCH', 'DALLAS'),\n",
              " (30, 'SALES', 'CHICAGO'),\n",
              " (40, 'OPERATIONS', 'BOSTON')]"
            ]
          },
          "metadata": {
            "tags": []
          },
          "execution_count": 14
        }
      ]
    },
    {
      "cell_type": "code",
      "metadata": {
        "colab": {
          "base_uri": "https://localhost:8080/"
        },
        "id": "JSKl9QAxIhG2",
        "outputId": "bf1faf6c-8135-4631-be0d-5cca22ccb094"
      },
      "source": [
        "### SELECT - Filtrando por atributos (Colunas) ##### \n",
        "\n",
        "data = cursor.execute('select ename as NAME, job as JOB_A from emp').fetchall()\n",
        "print(cursor.description[0][0],\"     \",cursor.description[1][0])\n",
        "#for x in cursor.description: \n",
        "#    print(x[0])\n",
        "for row in data: \n",
        "  print(row)\n"
      ],
      "execution_count": null,
      "outputs": [
        {
          "output_type": "stream",
          "text": [
            "NAME       JOB_A\n",
            "('SMITH', 'CLERK')\n",
            "('ALLEN', 'SALESMAN')\n",
            "('WARD', 'SALESMAN')\n",
            "('JONES', 'MANAGER')\n",
            "('MARTIN', 'SALESMAN')\n",
            "('BLAKE', 'MANAGER')\n",
            "('CLARK', 'MANAGER')\n",
            "('SCOTT', 'ANALYST')\n",
            "('KING', 'PRESIDENT')\n",
            "('TURNER', 'SALESMAN')\n",
            "('ADAMS', 'CLERK')\n",
            "('JAMES', 'CLERK')\n",
            "('FORD', 'ANALYST')\n",
            "('MILLER', 'CLERK')\n"
          ],
          "name": "stdout"
        }
      ]
    },
    {
      "cell_type": "code",
      "metadata": {
        "colab": {
          "base_uri": "https://localhost:8080/"
        },
        "id": "lZ6kS6PJ1M2O",
        "outputId": "2a72de20-4f25-4275-de37-db4585ba5610"
      },
      "source": [
        "cursor.description"
      ],
      "execution_count": null,
      "outputs": [
        {
          "output_type": "execute_result",
          "data": {
            "text/plain": [
              "(('NAME', None, None, None, None, None, None),\n",
              " ('JOB_A', None, None, None, None, None, None))"
            ]
          },
          "metadata": {
            "tags": []
          },
          "execution_count": 17
        }
      ]
    },
    {
      "cell_type": "code",
      "metadata": {
        "colab": {
          "base_uri": "https://localhost:8080/"
        },
        "id": "0fFhWRmg2QI-",
        "outputId": "2da1f06e-6333-4421-ca2d-6de75a1c5469"
      },
      "source": [
        "cursor.execute('PRAGMA table_info(emp)').fetchall()"
      ],
      "execution_count": null,
      "outputs": [
        {
          "output_type": "execute_result",
          "data": {
            "text/plain": [
              "[(0, 'EMPNO', 'int', 0, None, 0),\n",
              " (1, 'ENAME', 'text', 0, None, 0),\n",
              " (2, 'JOB', 'text', 0, None, 0),\n",
              " (3, 'MGR', 'int', 0, None, 0),\n",
              " (4, 'HIREDATE', 'date', 0, None, 0),\n",
              " (5, 'SAL', 'real', 0, None, 0),\n",
              " (6, 'COMM', 'int', 0, None, 0),\n",
              " (7, 'DEPTNO', 'int', 0, None, 0)]"
            ]
          },
          "metadata": {
            "tags": []
          },
          "execution_count": 19
        }
      ]
    },
    {
      "cell_type": "code",
      "metadata": {
        "id": "6tsfGH5XIhG2",
        "colab": {
          "base_uri": "https://localhost:8080/"
        },
        "outputId": "50285eed-0a38-4cf2-bd22-e1314356db9f"
      },
      "source": [
        "### Retrieving a Subset of Rows from a Table #### \n",
        "#### SELECT xxxx FROM TABLE Where clause ####\n",
        "sql_select = 'SELECT ename FROM emp WHERE deptno < 30'\n",
        "cursor.execute(sql_select).fetchall()"
      ],
      "execution_count": null,
      "outputs": [
        {
          "output_type": "execute_result",
          "data": {
            "text/plain": [
              "[('SMITH',),\n",
              " ('JONES',),\n",
              " ('CLARK',),\n",
              " ('SCOTT',),\n",
              " ('KING',),\n",
              " ('ADAMS',),\n",
              " ('FORD',),\n",
              " ('MILLER',)]"
            ]
          },
          "metadata": {
            "tags": []
          },
          "execution_count": 20
        }
      ]
    },
    {
      "cell_type": "code",
      "metadata": {
        "id": "gjqmnUo2REJQ",
        "colab": {
          "base_uri": "https://localhost:8080/"
        },
        "outputId": "63e384b9-29d0-42d3-e123-b5dd1cd0218d"
      },
      "source": [
        "### Ex 2 - Count ###3\n",
        "sql_selectCount = 'SELECT count(deptno) FROM emp WHERE deptno=20'\n",
        "cursor.execute(sql_selectCount).fetchall()"
      ],
      "execution_count": null,
      "outputs": [
        {
          "output_type": "execute_result",
          "data": {
            "text/plain": [
              "[(5,)]"
            ]
          },
          "metadata": {
            "tags": []
          },
          "execution_count": 22
        }
      ]
    },
    {
      "cell_type": "code",
      "metadata": {
        "colab": {
          "base_uri": "https://localhost:8080/"
        },
        "id": "kt1tJOF64aZM",
        "outputId": "5e901b7a-d8ad-4a77-f3a0-9e97e745db58"
      },
      "source": [
        "sql_selectAVG = 'SELECT avg(sal) FROM emp'\n",
        "cursor.execute(sql_selectAVG).fetchall()"
      ],
      "execution_count": null,
      "outputs": [
        {
          "output_type": "execute_result",
          "data": {
            "text/plain": [
              "[(2083.9285714285716,)]"
            ]
          },
          "metadata": {
            "tags": []
          },
          "execution_count": 23
        }
      ]
    },
    {
      "cell_type": "code",
      "metadata": {
        "colab": {
          "base_uri": "https://localhost:8080/"
        },
        "id": "zwFZfwmA5HsF",
        "outputId": "1153452a-1a12-43db-8f90-1fd6e491bb48"
      },
      "source": [
        "sql_selectAVG = 'SELECT avg(sal) FROM emp WHERE job =\"SALESMAN\"'\n",
        "cursor.execute(sql_selectAVG).fetchall()"
      ],
      "execution_count": null,
      "outputs": [
        {
          "output_type": "execute_result",
          "data": {
            "text/plain": [
              "[(1437.5,)]"
            ]
          },
          "metadata": {
            "tags": []
          },
          "execution_count": 24
        }
      ]
    },
    {
      "cell_type": "code",
      "metadata": {
        "id": "zDEGIHdi5ero"
      },
      "source": [
        "### emp.groupby('sal').mean() ####"
      ],
      "execution_count": null,
      "outputs": []
    },
    {
      "cell_type": "code",
      "metadata": {
        "id": "gO1_Y4eRhB5q",
        "colab": {
          "base_uri": "https://localhost:8080/"
        },
        "outputId": "b6cdd428-2c21-40fa-f79b-6ce8e9d4a587"
      },
      "source": [
        "### Ex 3 - DISTINCT ###\n",
        "sql_distinct = 'SELECT DISTINCT job FROM emp'\n",
        "cursor.execute(sql_distinct).fetchall()"
      ],
      "execution_count": null,
      "outputs": [
        {
          "output_type": "execute_result",
          "data": {
            "text/plain": [
              "[('CLERK',), ('SALESMAN',), ('MANAGER',), ('ANALYST',), ('PRESIDENT',)]"
            ]
          },
          "metadata": {
            "tags": []
          },
          "execution_count": 25
        }
      ]
    },
    {
      "cell_type": "code",
      "metadata": {
        "id": "X_AxEtyEhFOp"
      },
      "source": [
        ""
      ],
      "execution_count": null,
      "outputs": []
    },
    {
      "cell_type": "code",
      "metadata": {
        "id": "pzW04PMPhKZY"
      },
      "source": [
        ""
      ],
      "execution_count": null,
      "outputs": []
    },
    {
      "cell_type": "markdown",
      "metadata": {
        "id": "RgfVm8S5hJdC"
      },
      "source": [
        "### SYNTAX (UPDATE): \n",
        "\n",
        "### UPDATE table_name SET column_name=new_value [, ...] WHERE expression"
      ]
    },
    {
      "cell_type": "code",
      "metadata": {
        "id": "UM1CSM7hhPE3",
        "colab": {
          "base_uri": "https://localhost:8080/"
        },
        "outputId": "c1fd29e6-7e85-43a4-9b3e-7a3f2abb05c3"
      },
      "source": [
        "### Modificar salário ->. sal = 1.10*sal  para o departamento 20 ##### \n",
        "sql_update = 'UPDATE emp SET sal = 1.10*sal WHERE deptno=20'\n",
        "cursor.execute(sql_update).fetchall()"
      ],
      "execution_count": null,
      "outputs": [
        {
          "output_type": "execute_result",
          "data": {
            "text/plain": [
              "[]"
            ]
          },
          "metadata": {
            "tags": []
          },
          "execution_count": 26
        }
      ]
    },
    {
      "cell_type": "code",
      "metadata": {
        "colab": {
          "base_uri": "https://localhost:8080/"
        },
        "id": "LmjIytH_8nIt",
        "outputId": "a7fd4e60-a7d9-4b43-d2a6-7e148268f5d2"
      },
      "source": [
        "cursor.execute('SELECT sal FROM emp WHERE deptno=20').fetchall()\n"
      ],
      "execution_count": null,
      "outputs": [
        {
          "output_type": "execute_result",
          "data": {
            "text/plain": [
              "[(880.0000000000001,),\n",
              " (3272.5000000000005,),\n",
              " (3300.0000000000005,),\n",
              " (1210.0,),\n",
              " (3300.0000000000005,)]"
            ]
          },
          "metadata": {
            "tags": []
          },
          "execution_count": 27
        }
      ]
    },
    {
      "cell_type": "code",
      "metadata": {
        "id": "KD_yT5gQh-TQ"
      },
      "source": [
        ""
      ],
      "execution_count": null,
      "outputs": []
    },
    {
      "cell_type": "code",
      "metadata": {
        "id": "IBaICXiAh-P5"
      },
      "source": [
        "### Using Conditional Logic in a SELECT Statement #### \n",
        "#### CASE WHEN condição (sal <=2000) THEN faz alguma ação (\"UNDERPAID\")\n",
        "###  WHEN outra condição  xxx THEN uma outra ação (\"OVERPAID\")\n",
        "### else executa última ação (\"OK\")\n",
        "### end fecha a clausla do case"
      ],
      "execution_count": null,
      "outputs": []
    },
    {
      "cell_type": "code",
      "metadata": {
        "id": "0ReDj7Z-h_U-",
        "colab": {
          "base_uri": "https://localhost:8080/"
        },
        "outputId": "4dff6fee-bd45-4b99-8be3-76f17a93e7aa"
      },
      "source": [
        "### Using Conditional Logic in a SELECT Statement #### \n",
        "cursor.execute('SELECT ename,sal, CASE WHEN sal <= 2000 THEN \"UNDERPAID\"\\\n",
        "                WHEN sal >= 4000 THEN \"OVERPAID\"\\\n",
        "                ELSE \"OK\" END as status from emp').fetchall()\n"
      ],
      "execution_count": null,
      "outputs": [
        {
          "output_type": "execute_result",
          "data": {
            "text/plain": [
              "[('SMITH', 880.0000000000001, 'UNDERPAID'),\n",
              " ('ALLEN', 1600.0, 'UNDERPAID'),\n",
              " ('WARD', 1250.0, 'UNDERPAID'),\n",
              " ('JONES', 3272.5000000000005, 'OK'),\n",
              " ('MARTIN', 1400.0, 'UNDERPAID'),\n",
              " ('BLAKE', 2850.0, 'OK'),\n",
              " ('CLARK', 2450.0, 'OK'),\n",
              " ('SCOTT', 3300.0000000000005, 'OK'),\n",
              " ('KING', 5000.0, 'OVERPAID'),\n",
              " ('TURNER', 1500.0, 'UNDERPAID'),\n",
              " ('ADAMS', 1210.0, 'UNDERPAID'),\n",
              " ('JAMES', 950.0, 'UNDERPAID'),\n",
              " ('FORD', 3300.0000000000005, 'OK'),\n",
              " ('MILLER', 1300.0, 'UNDERPAID')]"
            ]
          },
          "metadata": {
            "tags": []
          },
          "execution_count": 35
        }
      ]
    },
    {
      "cell_type": "code",
      "metadata": {
        "id": "aoLAbKt1BzFw"
      },
      "source": [
        ""
      ],
      "execution_count": null,
      "outputs": []
    },
    {
      "cell_type": "code",
      "metadata": {
        "id": "FgXC5VrkByr1"
      },
      "source": [
        ""
      ],
      "execution_count": null,
      "outputs": []
    },
    {
      "cell_type": "code",
      "metadata": {
        "id": "qppPEAbJsiSj"
      },
      "source": [
        ""
      ],
      "execution_count": null,
      "outputs": []
    },
    {
      "cell_type": "code",
      "metadata": {
        "id": "osuQswXWsiL9",
        "colab": {
          "base_uri": "https://localhost:8080/"
        },
        "outputId": "2d25ee26-3ea4-45fc-ed9a-8dbfd94fb297"
      },
      "source": [
        "### Limiting the Number of Rows Returned -> equivalente ao head() #### \n",
        "sql_selectLIMIT = 'SELECT * FROM emp LIMIT 15'\n",
        "cursor.execute(sql_selectLIMIT).fetchall()"
      ],
      "execution_count": null,
      "outputs": [
        {
          "output_type": "execute_result",
          "data": {
            "text/plain": [
              "[(7369, 'SMITH', 'CLERK', 7902, '2005-12-11', 880.0000000000001, 150, 20),\n",
              " (7499, 'ALLEN', 'SALESMAN', 7698, '2006-02-23', 1600.0, 300, 30),\n",
              " (7521, 'WARD', 'SALESMAN', 7698, '2006-02-26', 1250.0, 500, 30),\n",
              " (7566, 'JONES', 'MANAGER', 7839, '2006-04-02', 3272.5000000000005, 520, 20),\n",
              " (7654, 'MARTIN', 'SALESMAN', 7698, '2006-09-28', 1400.0, 420, 30),\n",
              " (7698, 'BLAKE', 'MANAGER', 7839, '2006-05-1', 2850.0, 600, 30),\n",
              " (7782, 'CLARK', 'MANAGER', 7839, '2006-06-09', 2450.0, 580, 10),\n",
              " (7788, 'SCOTT', 'ANALYST', 7566, '2007-12-09', 3300.0000000000005, 640, 20),\n",
              " (7839, 'KING', 'PRESIDENT', '', '2006-11-17', 5000.0, 0, 10),\n",
              " (7844, 'TURNER', 'SALESMAN', 7698, '2006-09-13', 1500.0, 0, 30),\n",
              " (7876, 'ADAMS', 'CLERK', 7788, '2008-01-12', 1210.0, 50, 20),\n",
              " (7900, 'JAMES', 'CLERK', 7698, '2006-12-03', 950.0, 40, 30),\n",
              " (7902, 'FORD', 'ANALYST', 7566, '2006-12-03', 3300.0000000000005, 10, 20),\n",
              " (7934, 'MILLER', 'CLERK', 7782, '2007-01-23', 1300.0, '', 10)]"
            ]
          },
          "metadata": {
            "tags": []
          },
          "execution_count": 31
        }
      ]
    },
    {
      "cell_type": "code",
      "metadata": {
        "id": "dJ_bUB9C9cig"
      },
      "source": [
        ""
      ],
      "execution_count": null,
      "outputs": []
    },
    {
      "cell_type": "code",
      "metadata": {
        "id": "gG_msmiY9cMk"
      },
      "source": [
        ""
      ],
      "execution_count": null,
      "outputs": []
    },
    {
      "cell_type": "code",
      "metadata": {
        "id": "dtPnjdzCsiG9"
      },
      "source": [
        ""
      ],
      "execution_count": null,
      "outputs": []
    },
    {
      "cell_type": "code",
      "metadata": {
        "id": "zuGg8O7NsiEB"
      },
      "source": [
        "### Returning Valores aleatórios #####"
      ],
      "execution_count": null,
      "outputs": []
    },
    {
      "cell_type": "code",
      "metadata": {
        "id": "Hwh2aJn_snYR",
        "colab": {
          "base_uri": "https://localhost:8080/"
        },
        "outputId": "c4fce85d-243d-488d-c95e-58dae9924c6e"
      },
      "source": [
        "sql_selectRandom = 'SELECT ename,job FROM emp ORDER BY random() LIMIT 5'\n",
        "cursor.execute(sql_selectRandom).fetchall()"
      ],
      "execution_count": 10,
      "outputs": [
        {
          "output_type": "execute_result",
          "data": {
            "text/plain": [
              "[('ADAMS', 'CLERK'),\n",
              " ('ALLEN', 'SALESMAN'),\n",
              " ('FORD', 'ANALYST'),\n",
              " ('CLARK', 'MANAGER'),\n",
              " ('JAMES', 'CLERK')]"
            ]
          },
          "metadata": {},
          "execution_count": 10
        }
      ]
    },
    {
      "cell_type": "code",
      "metadata": {
        "id": "iTw0L9eOsnUd"
      },
      "source": [
        ""
      ],
      "execution_count": null,
      "outputs": []
    },
    {
      "cell_type": "code",
      "metadata": {
        "id": "_Qt7JZIYh_Rh"
      },
      "source": [
        ""
      ],
      "execution_count": null,
      "outputs": []
    },
    {
      "cell_type": "code",
      "metadata": {
        "id": "gSO3ecMWiQjX",
        "colab": {
          "base_uri": "https://localhost:8080/"
        },
        "outputId": "fc26da3d-76cf-4364-c0aa-fa26534d9c9a"
      },
      "source": [
        "## Searching for Patterns ####\n",
        "## Ex1 - buscar valores dentro de um intervalo\n",
        "sql_selectIn = 'SELECT ename,job FROM emp WHERE deptno IN (10,20)'\n",
        "cursor.execute(sql_selectIn).fetchall()\n",
        "\n"
      ],
      "execution_count": 13,
      "outputs": [
        {
          "output_type": "execute_result",
          "data": {
            "text/plain": [
              "[('SMITH', 'CLERK'),\n",
              " ('JONES', 'MANAGER'),\n",
              " ('CLARK', 'MANAGER'),\n",
              " ('SCOTT', 'ANALYST'),\n",
              " ('KING', 'PRESIDENT'),\n",
              " ('ADAMS', 'CLERK'),\n",
              " ('FORD', 'ANALYST'),\n",
              " ('MILLER', 'CLERK')]"
            ]
          },
          "metadata": {},
          "execution_count": 13
        }
      ]
    },
    {
      "cell_type": "code",
      "metadata": {
        "id": "2M9zgO0zid6M",
        "colab": {
          "base_uri": "https://localhost:8080/"
        },
        "outputId": "2453c0f4-02fc-4c4a-f090-0b1ae783c6eb"
      },
      "source": [
        "## Searching for Patterns ####\n",
        "## Ex2 - substring ##### \n",
        "sql_selectLIKE = 'SELECT ename,job FROM emp WHERE deptno IN (10,20) AND (job LIKE \"AN%\")'\n",
        "cursor.execute(sql_selectLIKE).fetchall()"
      ],
      "execution_count": 27,
      "outputs": [
        {
          "output_type": "execute_result",
          "data": {
            "text/plain": [
              "[('SCOTT', 'ANALYST'), ('FORD', 'ANALYST')]"
            ]
          },
          "metadata": {},
          "execution_count": 27
        }
      ]
    },
    {
      "cell_type": "code",
      "metadata": {
        "id": "dZ7RBAy8imxS",
        "colab": {
          "base_uri": "https://localhost:8080/"
        },
        "outputId": "c934b6ec-27c3-4efe-f82e-4a113d49702d"
      },
      "source": [
        "#### Order by ### \n",
        "### Ascendent ###\n",
        "#sql_selectORDERBY = 'SELECT ename,job,sal FROM emp WHERE deptno IN (10,20) ORDER BY sal ASC'\n",
        "sql_selectORDERBY = 'SELECT ename,job,sal FROM emp WHERE deptno IN (10,20) ORDER BY sal DESC'\n",
        "cursor.execute(sql_selectORDERBY).fetchall()\n"
      ],
      "execution_count": 29,
      "outputs": [
        {
          "output_type": "execute_result",
          "data": {
            "text/plain": [
              "[('KING', 'PRESIDENT', 5000.0),\n",
              " ('SCOTT', 'ANALYST', 3000.0),\n",
              " ('FORD', 'ANALYST', 3000.0),\n",
              " ('JONES', 'MANAGER', 2975.0),\n",
              " ('CLARK', 'MANAGER', 2450.0),\n",
              " ('MILLER', 'CLERK', 1300.0),\n",
              " ('ADAMS', 'CLERK', 1100.0),\n",
              " ('SMITH', 'CLERK', 800.0)]"
            ]
          },
          "metadata": {},
          "execution_count": 29
        }
      ]
    },
    {
      "cell_type": "code",
      "metadata": {
        "id": "iTiltvWei_82"
      },
      "source": [
        "### Achar datas a partir de 2000 ###"
      ],
      "execution_count": null,
      "outputs": []
    },
    {
      "cell_type": "code",
      "metadata": {
        "id": "7RPhmyUqi_4l",
        "colab": {
          "base_uri": "https://localhost:8080/"
        },
        "outputId": "cf1f3bbd-af5e-4ee8-fd19-5eab9384d0d8"
      },
      "source": [
        "sql_selectHIREDATE = 'SELECT hiredate FROM emp WHERE hiredate LIKE \"20%\"'\n",
        "cursor.execute(sql_selectHIREDATE).fetchall()"
      ],
      "execution_count": 30,
      "outputs": [
        {
          "output_type": "execute_result",
          "data": {
            "text/plain": [
              "[('2005-12-11',),\n",
              " ('2006-02-23',),\n",
              " ('2006-02-26',),\n",
              " ('2006-04-02',),\n",
              " ('2006-09-28',),\n",
              " ('2006-05-1',),\n",
              " ('2006-06-09',),\n",
              " ('2007-12-09',),\n",
              " ('2006-11-17',),\n",
              " ('2006-09-13',),\n",
              " ('2008-01-12',),\n",
              " ('2006-12-03',),\n",
              " ('2006-12-03',),\n",
              " ('2007-01-23',)]"
            ]
          },
          "metadata": {},
          "execution_count": 30
        }
      ]
    },
    {
      "cell_type": "code",
      "metadata": {
        "id": "5N6Jhv95i_2H"
      },
      "source": [
        ""
      ],
      "execution_count": null,
      "outputs": []
    },
    {
      "cell_type": "code",
      "metadata": {
        "id": "GMBEpxAliyu3"
      },
      "source": [
        "#### ORDER BY SUBSTRING ##### \n",
        "### substr( string, start, length ) ##### \n",
        "\n",
        "### length(str) - retorna o tamanho da string = número de caracteres\n",
        "### length(Nicolly) = 7 ; lly - substring(Nicolly,3,2) = co"
      ],
      "execution_count": null,
      "outputs": []
    },
    {
      "cell_type": "code",
      "metadata": {
        "id": "z9RuwN02jqbA",
        "colab": {
          "base_uri": "https://localhost:8080/"
        },
        "outputId": "02130d25-fbc8-4ea0-b99c-900cd64b9c16"
      },
      "source": [
        "select_order_by_substring = 'SELECT ename FROM emp ORDER BY substr(ename,2,3)'\n",
        "#select_order_by_substring = 'SELECT ename FROM emp ORDER BY ename ASC'\n",
        "cursor.execute(select_order_by_substring).fetchall()\n"
      ],
      "execution_count": 32,
      "outputs": [
        {
          "output_type": "execute_result",
          "data": {
            "text/plain": [
              "[('JAMES',),\n",
              " ('WARD',),\n",
              " ('MARTIN',),\n",
              " ('SCOTT',),\n",
              " ('ADAMS',),\n",
              " ('MILLER',),\n",
              " ('KING',),\n",
              " ('BLAKE',),\n",
              " ('CLARK',),\n",
              " ('ALLEN',),\n",
              " ('SMITH',),\n",
              " ('JONES',),\n",
              " ('FORD',),\n",
              " ('TURNER',)]"
            ]
          },
          "metadata": {},
          "execution_count": 32
        }
      ]
    },
    {
      "cell_type": "code",
      "metadata": {
        "id": "mtNRMSRyjxYh"
      },
      "source": [
        ""
      ],
      "execution_count": null,
      "outputs": []
    },
    {
      "cell_type": "code",
      "metadata": {
        "id": "4p-yh4pBjxVk",
        "colab": {
          "base_uri": "https://localhost:8080/"
        },
        "outputId": "daee5afc-7eea-44e2-86e3-325441df7235"
      },
      "source": [
        "### selecionar nomes terminando com RK ou TH\n",
        "sql_substring = 'SELECT ename FROM emp WHERE substr(ename,length(ename)-1) IN(\"TH\",\"RK\")'\n",
        "cursor.execute(sql_substring).fetchall()"
      ],
      "execution_count": 37,
      "outputs": [
        {
          "output_type": "execute_result",
          "data": {
            "text/plain": [
              "[('SMITH',), ('CLARK',)]"
            ]
          },
          "metadata": {},
          "execution_count": 37
        }
      ]
    },
    {
      "cell_type": "code",
      "metadata": {
        "id": "ET7gVSaBjxTW"
      },
      "source": [
        ""
      ],
      "execution_count": null,
      "outputs": []
    },
    {
      "cell_type": "code",
      "metadata": {
        "id": "bKgStkzej8b2"
      },
      "source": [
        ""
      ],
      "execution_count": null,
      "outputs": []
    },
    {
      "cell_type": "code",
      "metadata": {
        "id": "6ZEZmP9jj8Y7"
      },
      "source": [
        ""
      ],
      "execution_count": null,
      "outputs": []
    },
    {
      "cell_type": "code",
      "metadata": {
        "id": "5ReuSa4sj8Kp"
      },
      "source": [
        "#### SELECT \n",
        "###. group by using native functions - COUNT and AVG\n",
        "###  O que quero selecionar (atributos) \n",
        "### Por quem quero agrupar "
      ],
      "execution_count": null,
      "outputs": []
    },
    {
      "cell_type": "code",
      "metadata": {
        "id": "Cke0YXXjj9bz",
        "colab": {
          "base_uri": "https://localhost:8080/"
        },
        "outputId": "a9f8ff74-d43f-418e-9806-99926990d212"
      },
      "source": [
        "sql_groupby = 'SELECT job, count(job) FROM emp GROUP BY job'\n",
        "cursor.execute(sql_groupby).fetchall()"
      ],
      "execution_count": 38,
      "outputs": [
        {
          "output_type": "execute_result",
          "data": {
            "text/plain": [
              "[('ANALYST', 2),\n",
              " ('CLERK', 4),\n",
              " ('MANAGER', 3),\n",
              " ('PRESIDENT', 1),\n",
              " ('SALESMAN', 4)]"
            ]
          },
          "metadata": {},
          "execution_count": 38
        }
      ]
    },
    {
      "cell_type": "markdown",
      "metadata": {
        "id": "2fCsBSlBkMC5"
      },
      "source": [
        "### Quero obter o resultado abaixo, no entanto os atributos são de colunas diferentes\n",
        "\n",
        " \n",
        "ENAME       LOC\\\n",
        "----------  ----------\\\n",
        "CLARK        NEW YORK\\\n",
        "KING         NEW YORK\\\n",
        "MILLER       NEW YORK"
      ]
    },
    {
      "cell_type": "code",
      "metadata": {
        "colab": {
          "base_uri": "https://localhost:8080/"
        },
        "id": "KNUE2pP3NKfY",
        "outputId": "e7c6b6ce-94b5-4248-e22c-decad8c4a3d9"
      },
      "source": [
        "cursor.execute('PRAGMA table_info(dept)').fetchall()"
      ],
      "execution_count": 39,
      "outputs": [
        {
          "output_type": "execute_result",
          "data": {
            "text/plain": [
              "[(0, 'DEPTNO', 'int', 1, None, 0),\n",
              " (1, 'DNAME', 'text', 0, None, 0),\n",
              " (2, 'LOC', 'text', 0, None, 0)]"
            ]
          },
          "metadata": {},
          "execution_count": 39
        }
      ]
    },
    {
      "cell_type": "code",
      "metadata": {
        "id": "gL-GVBlYkLWl",
        "colab": {
          "base_uri": "https://localhost:8080/"
        },
        "outputId": "83e3ffd9-d95b-4abf-9a0d-5126a412ae64"
      },
      "source": [
        "### Selecionar todos os infos dos empregados e departamentos - mesmo departamentos_ID\n",
        "sql_ImplictJoin = 'SELECT ename,loc FROM emp,dept WHERE emp.deptno = dept.deptno'\n",
        "cursor.execute(sql_ImplictJoin).fetchall()\n"
      ],
      "execution_count": 40,
      "outputs": [
        {
          "output_type": "execute_result",
          "data": {
            "text/plain": [
              "[('SMITH', 'DALLAS'),\n",
              " ('ALLEN', 'CHICAGO'),\n",
              " ('WARD', 'CHICAGO'),\n",
              " ('JONES', 'DALLAS'),\n",
              " ('MARTIN', 'CHICAGO'),\n",
              " ('BLAKE', 'CHICAGO'),\n",
              " ('CLARK', 'NEW YORK'),\n",
              " ('SCOTT', 'DALLAS'),\n",
              " ('KING', 'NEW YORK'),\n",
              " ('TURNER', 'CHICAGO'),\n",
              " ('ADAMS', 'DALLAS'),\n",
              " ('JAMES', 'CHICAGO'),\n",
              " ('FORD', 'DALLAS'),\n",
              " ('MILLER', 'NEW YORK')]"
            ]
          },
          "metadata": {},
          "execution_count": 40
        }
      ]
    },
    {
      "cell_type": "code",
      "metadata": {
        "id": "nIspW6fbkYhc"
      },
      "source": [
        ""
      ],
      "execution_count": null,
      "outputs": []
    },
    {
      "cell_type": "code",
      "metadata": {
        "id": "5lGcPIfGkYeX"
      },
      "source": [
        ""
      ],
      "execution_count": null,
      "outputs": []
    },
    {
      "cell_type": "code",
      "metadata": {
        "id": "_38C6ku0kYVl"
      },
      "source": [
        "### Selecionar somente os Nomes dos empregados e os nomes dos departamentos "
      ],
      "execution_count": null,
      "outputs": []
    },
    {
      "cell_type": "code",
      "metadata": {
        "id": "Npxa_2I9kd6e"
      },
      "source": [
        ""
      ],
      "execution_count": null,
      "outputs": []
    },
    {
      "cell_type": "code",
      "metadata": {
        "id": "4U96YTLikdzT"
      },
      "source": [
        ""
      ],
      "execution_count": null,
      "outputs": []
    },
    {
      "cell_type": "code",
      "metadata": {
        "id": "hyYkoW8wkdvo"
      },
      "source": [
        ""
      ],
      "execution_count": null,
      "outputs": []
    },
    {
      "cell_type": "code",
      "metadata": {
        "id": "qc29x_M8kdsx"
      },
      "source": [
        "#### INNER JOIN ##### \n",
        "###  In SQLite, the INNER JOIN selects all rows from both participating tables \n",
        "##   to appear in the result if and only if both tables meet the conditions specified \n",
        "##  in the ON clause\n",
        "## SELECT [result] from Tables [clausla de condicao ou comparacao]\n",
        "## SELECT [results] from [ 1a Tabela] INNER JOIN [2a Tabela] ON [condicao de JOIN]"
      ],
      "execution_count": null,
      "outputs": []
    },
    {
      "cell_type": "code",
      "metadata": {
        "id": "u-1QrhARkdpY"
      },
      "source": [
        ""
      ],
      "execution_count": null,
      "outputs": []
    },
    {
      "cell_type": "code",
      "metadata": {
        "id": "-KnRRnl_kfHj"
      },
      "source": [
        ""
      ],
      "execution_count": null,
      "outputs": []
    },
    {
      "cell_type": "code",
      "metadata": {
        "id": "nUcuNH9CkfD7"
      },
      "source": [
        ""
      ],
      "execution_count": null,
      "outputs": []
    },
    {
      "cell_type": "code",
      "metadata": {
        "id": "dPJFG1AwkfAO"
      },
      "source": [
        "### INSERT  PARA TESTAR LEFT OUTER#### "
      ],
      "execution_count": null,
      "outputs": []
    },
    {
      "cell_type": "code",
      "metadata": {
        "id": "9JkckAr2ke9L"
      },
      "source": [
        ""
      ],
      "execution_count": null,
      "outputs": []
    },
    {
      "cell_type": "code",
      "metadata": {
        "id": "w0CB8A-vki4Q"
      },
      "source": [
        ""
      ],
      "execution_count": null,
      "outputs": []
    },
    {
      "cell_type": "code",
      "metadata": {
        "id": "9B9r30NUki0v"
      },
      "source": [
        ""
      ],
      "execution_count": null,
      "outputs": []
    },
    {
      "cell_type": "code",
      "metadata": {
        "id": "5pMWa9Cnkix6"
      },
      "source": [
        "#### LEFT OUTER JOIN #### \n",
        "###  The Left Join or Left Outer Join operation takes two relations, A and B, and returns\n",
        "###  the inner join of A and B along with the unmatched rows of A"
      ],
      "execution_count": null,
      "outputs": []
    },
    {
      "cell_type": "code",
      "metadata": {
        "id": "rO4xNek6kmvV"
      },
      "source": [
        ""
      ],
      "execution_count": null,
      "outputs": []
    },
    {
      "cell_type": "code",
      "metadata": {
        "id": "DxyjA1sFkmsB"
      },
      "source": [
        ""
      ],
      "execution_count": null,
      "outputs": []
    },
    {
      "cell_type": "code",
      "metadata": {
        "id": "yvUsdP21kmpM"
      },
      "source": [
        ""
      ],
      "execution_count": null,
      "outputs": []
    },
    {
      "cell_type": "code",
      "metadata": {
        "id": "9ydhRZ1Akml2"
      },
      "source": [
        ""
      ],
      "execution_count": null,
      "outputs": []
    },
    {
      "cell_type": "code",
      "metadata": {
        "id": "8rWu7q4dkmiy"
      },
      "source": [
        "#### CROSS JOIN or CARTESIAN JOIN ####     \n",
        "###  The Cartesian join is one of the fundamental relational operations. \n",
        "###  It is a kind of join that results in the combination of all rows from the \n",
        "##   first table with all rows in the second."
      ],
      "execution_count": null,
      "outputs": []
    },
    {
      "cell_type": "code",
      "metadata": {
        "id": "DzKVTah7kmfn"
      },
      "source": [
        ""
      ],
      "execution_count": null,
      "outputs": []
    }
  ]
}