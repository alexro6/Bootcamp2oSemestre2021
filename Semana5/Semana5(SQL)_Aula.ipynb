{
  "nbformat": 4,
  "nbformat_minor": 0,
  "metadata": {
    "kernelspec": {
      "display_name": "Python 3",
      "language": "python",
      "name": "python3"
    },
    "language_info": {
      "codemirror_mode": {
        "name": "ipython",
        "version": 3
      },
      "file_extension": ".py",
      "mimetype": "text/x-python",
      "name": "python",
      "nbconvert_exporter": "python",
      "pygments_lexer": "ipython3",
      "version": "3.8.5"
    },
    "colab": {
      "name": "Semana5(SQL)-Aula.ipynb",
      "provenance": [],
      "collapsed_sections": [],
      "include_colab_link": true
    }
  },
  "cells": [
    {
      "cell_type": "markdown",
      "metadata": {
        "id": "view-in-github",
        "colab_type": "text"
      },
      "source": [
        "<a href=\"https://colab.research.google.com/github/CharlesPrado23/Bootcamp2oSemestre2021/blob/main/Semana5/Semana5(SQL)_Aula.ipynb\" target=\"_parent\"><img src=\"https://colab.research.google.com/assets/colab-badge.svg\" alt=\"Open In Colab\"/></a>"
      ]
    },
    {
      "cell_type": "code",
      "metadata": {
        "id": "l55MLDXXIhGk"
      },
      "source": [
        "import sqlite3\n",
        "engine = sqlite3.connect('sql4.db')"
      ],
      "execution_count": 1,
      "outputs": []
    },
    {
      "cell_type": "code",
      "metadata": {
        "id": "50oV2Ru7IhGo"
      },
      "source": [
        "cursor = engine.cursor()\n",
        "\n",
        "###cursor.execute(\"PRAGMA foreign_keys = ON\").fetchall()\n",
        "\n",
        "### cursor.execute(\"PRAGMA foreign_keys\").fetchall()"
      ],
      "execution_count": 2,
      "outputs": []
    },
    {
      "cell_type": "markdown",
      "metadata": {
        "id": "64fOnJK2IhGp"
      },
      "source": [
        "### Syntax:\n",
        "### \"CREATE [TEMP | TEMPORARY] TABLE table-name (\n",
        "### column-def[, column-def]\n",
        "### [,constraint]);\n",
        "\n",
        "### column-def:\n",
        "### name [type] [[CONSTRAINT name] column-constraint]\""
      ]
    },
    {
      "cell_type": "code",
      "metadata": {
        "id": "bv7n4Y61IhGq"
      },
      "source": [
        "sql_create_projects_table = 'CREATE TABLE IF NOT EXISTS projects (\\\n",
        "                                        id integer PRIMARY KEY,\\\n",
        "                                        name text NOT NULL,\\\n",
        "                                        begin_date text,\\\n",
        "                                        end_date text\\\n",
        "                                    )'"
      ],
      "execution_count": 3,
      "outputs": []
    },
    {
      "cell_type": "code",
      "metadata": {
        "id": "viTkVI2yIhGr"
      },
      "source": [
        "sql_create_tasks_table = \"\"\"CREATE TABLE IF NOT EXISTS tasks (\n",
        "                                    id integer PRIMARY KEY,\n",
        "                                    name text NOT NULL,\n",
        "                                    priority integer,\n",
        "                                    status_id integer NOT NULL,\n",
        "                                    project_id integer NOT NULL REFERENCES projects (id),\n",
        "                                    begin_date text NOT NULL,\n",
        "                                    end_date text NOT NULL\n",
        "                                );\"\"\"\n",
        "# StudentId INT REFERENCES Student (StudentId)\n",
        "#FOREIGN KEY (project_id) REFERENCES projects (id)"
      ],
      "execution_count": 4,
      "outputs": []
    },
    {
      "cell_type": "code",
      "metadata": {
        "colab": {
          "base_uri": "https://localhost:8080/"
        },
        "id": "NLtiyVQxIhGs",
        "outputId": "0f87a616-46e0-472e-926e-21c4f74c7851"
      },
      "source": [
        "### Command execute #####\n",
        "cursor.execute(sql_create_projects_table)"
      ],
      "execution_count": 8,
      "outputs": [
        {
          "output_type": "execute_result",
          "data": {
            "text/plain": [
              "<sqlite3.Cursor at 0x7fcf32562f80>"
            ]
          },
          "metadata": {
            "tags": []
          },
          "execution_count": 8
        }
      ]
    },
    {
      "cell_type": "code",
      "metadata": {
        "id": "nBq8e7_XJYCw"
      },
      "source": [
        "#### Commit #####\n",
        "engine.commit()"
      ],
      "execution_count": null,
      "outputs": []
    },
    {
      "cell_type": "code",
      "metadata": {
        "colab": {
          "base_uri": "https://localhost:8080/"
        },
        "id": "6uI_u1u9IhGs",
        "outputId": "725ee0b5-401a-4ba0-a3aa-2aa7561a18b7"
      },
      "source": [
        "cursor.execute(sql_create_tasks_table)"
      ],
      "execution_count": 6,
      "outputs": [
        {
          "output_type": "execute_result",
          "data": {
            "text/plain": [
              "<sqlite3.Cursor at 0x7fcf32562f80>"
            ]
          },
          "metadata": {
            "tags": []
          },
          "execution_count": 6
        }
      ]
    },
    {
      "cell_type": "code",
      "metadata": {
        "id": "Jz170pfkIhGt"
      },
      "source": [
        "#### Types de cada atributo da Tabela ####### \n",
        "#### Comando PRAGMA table_info(\"Nome da tabela\") \n"
      ],
      "execution_count": null,
      "outputs": []
    },
    {
      "cell_type": "code",
      "metadata": {
        "id": "gD_3nExVIhGu"
      },
      "source": [
        ""
      ],
      "execution_count": null,
      "outputs": []
    },
    {
      "cell_type": "markdown",
      "metadata": {
        "id": "FYbhVfN9IhGv"
      },
      "source": [
        "## SYNTAX (INSERT): \n",
        "\n",
        "### \"INSERT [OR conflict-algorithm]\n",
        "### INTO [database-name .] table-name [(column-list)]\n",
        "### VALUES (value-list)\""
      ]
    },
    {
      "cell_type": "code",
      "metadata": {
        "id": "lhtrlZPKM5uJ"
      },
      "source": [
        ""
      ],
      "execution_count": null,
      "outputs": []
    },
    {
      "cell_type": "code",
      "metadata": {
        "id": "1azRxaM0IhGw"
      },
      "source": [
        "### Comando Insert ##### \n",
        "### INSERT INTO table VALUES () \n",
        "### INSERT INTO table (columns) VALUES () \n"
      ],
      "execution_count": 40,
      "outputs": []
    },
    {
      "cell_type": "code",
      "metadata": {
        "id": "rd1pkzihIhGw"
      },
      "source": [
        "engine.commit()"
      ],
      "execution_count": 18,
      "outputs": []
    },
    {
      "cell_type": "code",
      "metadata": {
        "id": "JTuA3KPGNoFA"
      },
      "source": [
        ""
      ],
      "execution_count": null,
      "outputs": []
    },
    {
      "cell_type": "code",
      "metadata": {
        "colab": {
          "base_uri": "https://localhost:8080/"
        },
        "id": "oS8PioJ7NJvu",
        "outputId": "e08f90ca-4ad7-4ed5-e72f-6a0a38d81f76"
      },
      "source": [
        " #### Comando SELECT #####\n",
        " ###. SELECT * FROM table #####\n",
        "data = cursor.execute('SELECT * FROM projects ').fetchall()\n",
        "for row in data: \n",
        "  print(row)"
      ],
      "execution_count": 22,
      "outputs": [
        {
          "output_type": "stream",
          "text": [
            "(1, 'Project03', '2021-02-23', '2021-03-23')\n",
            "(10, 'Project03', '2021-02-23', '2021-03-23')\n"
          ],
          "name": "stdout"
        }
      ]
    },
    {
      "cell_type": "code",
      "metadata": {
        "id": "jtNTUnSoIhGx"
      },
      "source": [
        "### INSERT values into Task ###### \n",
        "\n"
      ],
      "execution_count": null,
      "outputs": []
    },
    {
      "cell_type": "code",
      "metadata": {
        "id": "JqtklZ__IhGy"
      },
      "source": [
        "### LER os valores inseridos #######\n"
      ],
      "execution_count": null,
      "outputs": []
    },
    {
      "cell_type": "markdown",
      "metadata": {
        "id": "4TJoy_GPIhGw"
      },
      "source": [
        "## SYNTAX (SELECT): \n",
        "\n",
        "### SELECT [ALL | DISTINCT] result [FROM table-list]\n",
        "### [WHERE expr]\n",
        "### [GROUP BY expr-list]\n",
        "### [HAVING expr]\n",
        "### [compound-op select]*\n",
        "### [ORDER BY sort-expr-list]\n",
        "### [LIMIT integer [(OFFSET|,) integer]]"
      ]
    },
    {
      "cell_type": "code",
      "metadata": {
        "colab": {
          "base_uri": "https://localhost:8080/"
        },
        "id": "K9-AeGTxIhGz",
        "outputId": "d9ad977c-75b7-4beb-a40c-6749f5ddcbe5"
      },
      "source": [
        "### CREATE TABLE EMP and DEPTO #######\n",
        "cursor.execute('''CREATE TABLE EMP (EMPNO int, ENAME text, JOB text, MGR int, HIREDATE date, SAL real,COMM int, DEPTNO int)''')"
      ],
      "execution_count": 23,
      "outputs": [
        {
          "output_type": "execute_result",
          "data": {
            "text/plain": [
              "<sqlite3.Cursor at 0x7fcf32562f80>"
            ]
          },
          "metadata": {
            "tags": []
          },
          "execution_count": 23
        }
      ]
    },
    {
      "cell_type": "code",
      "metadata": {
        "colab": {
          "base_uri": "https://localhost:8080/"
        },
        "id": "m8UTWA7iIhGz",
        "outputId": "8a9de750-c0db-4d27-ed57-991d62179934"
      },
      "source": [
        "data = cursor.execute(\"PRAGMA table_info(EMP)\").fetchall()\n",
        "for d in data:\n",
        "    print (d[0], d[1], d[2])"
      ],
      "execution_count": 24,
      "outputs": [
        {
          "output_type": "stream",
          "text": [
            "0 EMPNO int\n",
            "1 ENAME text\n",
            "2 JOB text\n",
            "3 MGR int\n",
            "4 HIREDATE date\n",
            "5 SAL real\n",
            "6 COMM int\n",
            "7 DEPTNO int\n"
          ],
          "name": "stdout"
        }
      ]
    },
    {
      "cell_type": "code",
      "metadata": {
        "id": "Vp9QmCggIhG0"
      },
      "source": [
        " employes = [(7369, 'SMITH',  'CLERK', 7902, '2005-12-11', 800, 150 , 20),\n",
        " (7499, 'ALLEN',  'SALESMAN', 7698, '2006-02-23',1600, 300, 30),\n",
        " (7521, 'WARD', 'SALESMAN', 7698,'2006-02-26', 1250, 500, 30),\n",
        " (7566, 'JONES','MANAGER', 7839,'2006-04-02', 2975, 520, 20),            \n",
        " (7654, 'MARTIN','SALESMAN', 7698,'2006-09-28', 1400, 420, 30),\n",
        " (7698, 'BLAKE','MANAGER', 7839,'2006-05-1', 2850, 600, 30),\n",
        " (7782, 'CLARK', 'MANAGER', 7839, '2006-06-09',2450, 580,10),\n",
        " (7788, 'SCOTT', 'ANALYST', 7566,'2007-12-09',3000,640,20),\n",
        " (7839, 'KING','PRESIDENT','', '2006-11-17',5000,0,10),\n",
        " (7844, 'TURNER', 'SALESMAN',7698,'2006-09-13',1500,0,30),\n",
        " (7876, 'ADAMS', 'CLERK',7788, '2008-01-12',1100,50,20),\n",
        " (7900, 'JAMES', 'CLERK',7698, '2006-12-03',950,40,30),\n",
        " (7902, 'FORD', 'ANALYST',7566,'2006-12-03',3000,10,20),\n",
        " (7934, 'MILLER','CLERK',7782,'2007-01-23',1300,\"\",10)]"
      ],
      "execution_count": 37,
      "outputs": []
    },
    {
      "cell_type": "code",
      "metadata": {
        "colab": {
          "base_uri": "https://localhost:8080/"
        },
        "id": "wjT5Q9ZYRz5a",
        "outputId": "4745e1c1-86e3-432a-fd87-13cdc122bcf3"
      },
      "source": [
        "type(employes[0])"
      ],
      "execution_count": 39,
      "outputs": [
        {
          "output_type": "execute_result",
          "data": {
            "text/plain": [
              "tuple"
            ]
          },
          "metadata": {
            "tags": []
          },
          "execution_count": 39
        }
      ]
    },
    {
      "cell_type": "code",
      "metadata": {
        "id": "qm0TR7boIhG0"
      },
      "source": [
        "cursor.executemany('INSERT INTO EMP VALUES (?,?,?,?,?,?,?,?)', employes)\n",
        "engine.commit()"
      ],
      "execution_count": 28,
      "outputs": []
    },
    {
      "cell_type": "code",
      "metadata": {
        "id": "bdqhHgt7IhG0"
      },
      "source": [
        "#### READ THE CONTENTS OF EMP TABLE \n"
      ],
      "execution_count": null,
      "outputs": []
    },
    {
      "cell_type": "code",
      "metadata": {
        "colab": {
          "base_uri": "https://localhost:8080/"
        },
        "id": "6Tk2kjqoIhG1",
        "outputId": "04fcff21-d549-465f-f5e3-66c8c13d70e9"
      },
      "source": [
        "cursor.execute('''CREATE TABLE DEPT\n",
        "             (DEPTNO int not null, DNAME  text, LOC text)''')"
      ],
      "execution_count": null,
      "outputs": [
        {
          "output_type": "execute_result",
          "data": {
            "text/plain": [
              "<sqlite3.Cursor at 0x7f6f739f65e0>"
            ]
          },
          "metadata": {
            "tags": []
          },
          "execution_count": 20
        }
      ]
    },
    {
      "cell_type": "code",
      "metadata": {
        "id": "7xDaoNc2IhG1"
      },
      "source": [
        "depts = [(10,'ACCOUNTING','NEW YORK'),\n",
        "         (20,'RESEARCH','DALLAS'),\n",
        "         (30,'SALES','CHICAGO'),\n",
        "         (40,'OPERATIONS','BOSTON')] \n"
      ],
      "execution_count": null,
      "outputs": []
    },
    {
      "cell_type": "code",
      "metadata": {
        "colab": {
          "base_uri": "https://localhost:8080/"
        },
        "id": "eEKpnssnIhG1",
        "outputId": "5aefd3e6-3fd9-4f62-ed28-28d07e3f2db0"
      },
      "source": [
        "type(depts)"
      ],
      "execution_count": null,
      "outputs": [
        {
          "output_type": "execute_result",
          "data": {
            "text/plain": [
              "list"
            ]
          },
          "metadata": {
            "tags": []
          },
          "execution_count": 22
        }
      ]
    },
    {
      "cell_type": "code",
      "metadata": {
        "colab": {
          "base_uri": "https://localhost:8080/"
        },
        "id": "GmeeHP-yIhG1",
        "outputId": "460bed92-4347-40ef-d54e-fe8244b3f5dd"
      },
      "source": [
        "cursor.executemany('INSERT INTO DEPT VALUES (?,?,?)', depts)"
      ],
      "execution_count": null,
      "outputs": [
        {
          "output_type": "execute_result",
          "data": {
            "text/plain": [
              "<sqlite3.Cursor at 0x7f6f739f65e0>"
            ]
          },
          "metadata": {
            "tags": []
          },
          "execution_count": 23
        }
      ]
    },
    {
      "cell_type": "code",
      "metadata": {
        "colab": {
          "base_uri": "https://localhost:8080/"
        },
        "id": "VxqhJknPIhG2",
        "outputId": "94a73193-f531-47da-a5c4-b612e7f56dcf"
      },
      "source": [
        "cursor.execute('SELECT * FROM DEPT').fetchall()"
      ],
      "execution_count": null,
      "outputs": [
        {
          "output_type": "execute_result",
          "data": {
            "text/plain": [
              "[(10, 'ACCOUNTING', 'NEW YORK'),\n",
              " (20, 'RESEARCH', 'DALLAS'),\n",
              " (30, 'SALES', 'CHICAGO'),\n",
              " (40, 'OPERATIONS', 'BOSTON')]"
            ]
          },
          "metadata": {
            "tags": []
          },
          "execution_count": 24
        }
      ]
    },
    {
      "cell_type": "code",
      "metadata": {
        "colab": {
          "base_uri": "https://localhost:8080/"
        },
        "id": "JSKl9QAxIhG2",
        "outputId": "67e0590e-7774-46b3-b0a5-43296256b7da"
      },
      "source": [
        "### SELECT - Filtrando por atributos (Colunas) ##### \n",
        "\n",
        "data = cursor.execute('select ename as NAME, job from emp').fetchall()\n",
        "print(cursor.description[0][0],\"     \",cursor.description[1][0])\n",
        "#for x in cursor.description: \n",
        "#    print(x[0])\n",
        "for row in data: \n",
        "  print(row)\n"
      ],
      "execution_count": 36,
      "outputs": [
        {
          "output_type": "stream",
          "text": [
            "NAME       JOB\n",
            "('SMITH', 'CLERK')\n",
            "('ALLEN', 'SALESMAN')\n",
            "('WARD', 'SALESMAN')\n",
            "('JONES', 'MANAGER')\n",
            "('MARTIN', 'SALESMAN')\n",
            "('BLAKE', 'MANAGER')\n",
            "('CLARK', 'MANAGER')\n",
            "('SCOTT', 'ANALYST')\n",
            "('KING', 'PRESIDENT')\n",
            "('TURNER', 'SALESMAN')\n",
            "('ADAMS', 'CLERK')\n",
            "('JAMES', 'CLERK')\n",
            "('FORD', 'ANALYST')\n",
            "('MILLER', 'CLERK')\n",
            "('SMITH', 'CLERK')\n",
            "('ALLEN', 'SALESMAN')\n",
            "('WARD', 'SALESMAN')\n",
            "('JONES', 'MANAGER')\n",
            "('MARTIN', 'SALESMAN')\n",
            "('BLAKE', 'MANAGER')\n",
            "('CLARK', 'MANAGER')\n",
            "('SCOTT', 'ANALYST')\n",
            "('KING', 'PRESIDENT')\n",
            "('TURNER', 'SALESMAN')\n",
            "('ADAMS', 'CLERK')\n",
            "('JAMES', 'CLERK')\n",
            "('FORD', 'ANALYST')\n",
            "('MILLER', 'CLERK')\n"
          ],
          "name": "stdout"
        }
      ]
    },
    {
      "cell_type": "code",
      "metadata": {
        "id": "6tsfGH5XIhG2"
      },
      "source": [
        "### Retrieving a Subset of Rows from a Table #### \n",
        "#### SELECT xxxx FROM TABLE Where clause ####\n"
      ],
      "execution_count": null,
      "outputs": []
    },
    {
      "cell_type": "code",
      "metadata": {
        "id": "gjqmnUo2REJQ"
      },
      "source": [
        ""
      ],
      "execution_count": null,
      "outputs": []
    }
  ]
}