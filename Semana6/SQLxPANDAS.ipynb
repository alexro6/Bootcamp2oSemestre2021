{
  "nbformat": 4,
  "nbformat_minor": 0,
  "metadata": {
    "kernelspec": {
      "display_name": "Python 3",
      "language": "python",
      "name": "python3"
    },
    "language_info": {
      "codemirror_mode": {
        "name": "ipython",
        "version": 3
      },
      "file_extension": ".py",
      "mimetype": "text/x-python",
      "name": "python",
      "nbconvert_exporter": "python",
      "pygments_lexer": "ipython3",
      "version": "3.8.5"
    },
    "colab": {
      "name": "SQLxPANDAS.ipynb",
      "provenance": [],
      "collapsed_sections": [],
      "include_colab_link": true
    }
  },
  "cells": [
    {
      "cell_type": "markdown",
      "metadata": {
        "id": "view-in-github",
        "colab_type": "text"
      },
      "source": [
        "<a href=\"https://colab.research.google.com/github/CharlesPrado23/Bootcamp2oSemestre2021/blob/main/Semana6/SQLxPANDAS.ipynb\" target=\"_parent\"><img src=\"https://colab.research.google.com/assets/colab-badge.svg\" alt=\"Open In Colab\"/></a>"
      ]
    },
    {
      "cell_type": "code",
      "metadata": {
        "id": "QrEP1rIy-ehv"
      },
      "source": [
        "import pandas as pd\n",
        "import sqlite3 as sql"
      ],
      "execution_count": 3,
      "outputs": []
    },
    {
      "cell_type": "code",
      "metadata": {
        "id": "qV0ePwo8-ehw"
      },
      "source": [
        "engine = sql.connect('temp1000.db')\n",
        "cursor= engine.cursor()"
      ],
      "execution_count": 4,
      "outputs": []
    },
    {
      "cell_type": "code",
      "metadata": {
        "id": "dUHmKhz1-ehw"
      },
      "source": [
        "url = \"https://raw.github.com/pandas-dev/pandas/master/pandas/tests/io/data/csv/tips.csv\"\n",
        "tips = pd.read_csv(url)"
      ],
      "execution_count": 5,
      "outputs": []
    },
    {
      "cell_type": "code",
      "metadata": {
        "id": "Wvn5QNaQ-ehx"
      },
      "source": [
        "tips.to_sql('tipsDB', con=engine)"
      ],
      "execution_count": 6,
      "outputs": []
    },
    {
      "cell_type": "markdown",
      "metadata": {
        "id": "VBZytKX6BB0r"
      },
      "source": [
        "- Visualizar as 5 primeiras Linhas "
      ]
    },
    {
      "cell_type": "code",
      "metadata": {
        "id": "-qmdY4u7-ehx"
      },
      "source": [
        "### SQL #### "
      ],
      "execution_count": null,
      "outputs": []
    },
    {
      "cell_type": "code",
      "metadata": {
        "id": "-kD-upEa-ehx"
      },
      "source": [
        "### PANDAS ### "
      ],
      "execution_count": 1,
      "outputs": []
    },
    {
      "cell_type": "markdown",
      "metadata": {
        "id": "qV3meXLfBY2A"
      },
      "source": [
        "- Selecionar algumas Colunas \n",
        "\n",
        "- Total_bill, tip, smoker, time "
      ]
    },
    {
      "cell_type": "code",
      "metadata": {
        "id": "UAFgfUa5-ehy"
      },
      "source": [
        "### SQL ### "
      ],
      "execution_count": null,
      "outputs": []
    },
    {
      "cell_type": "code",
      "metadata": {
        "id": "gM8wjpDI-ehy"
      },
      "source": [
        "### PANDAS #### "
      ],
      "execution_count": null,
      "outputs": []
    },
    {
      "cell_type": "markdown",
      "metadata": {
        "id": "07Ctl5G5BuUQ"
      },
      "source": [
        " - Assign Nova Coluna \n",
        "\n",
        " - tip_rate = tip/total_bill "
      ]
    },
    {
      "cell_type": "code",
      "metadata": {
        "id": "8yYA8mn6-ehy"
      },
      "source": [
        "### SQL ####"
      ],
      "execution_count": null,
      "outputs": []
    },
    {
      "cell_type": "code",
      "metadata": {
        "colab": {
          "base_uri": "https://localhost:8080/",
          "height": 204
        },
        "id": "U3sNR4xs-ehy",
        "outputId": "5df1ec4c-8406-4183-adab-e704cd8e92cf"
      },
      "source": [
        "### PANDAS ### "
      ],
      "execution_count": null,
      "outputs": [
        {
          "output_type": "execute_result",
          "data": {
            "text/html": [
              "<div>\n",
              "<style scoped>\n",
              "    .dataframe tbody tr th:only-of-type {\n",
              "        vertical-align: middle;\n",
              "    }\n",
              "\n",
              "    .dataframe tbody tr th {\n",
              "        vertical-align: top;\n",
              "    }\n",
              "\n",
              "    .dataframe thead th {\n",
              "        text-align: right;\n",
              "    }\n",
              "</style>\n",
              "<table border=\"1\" class=\"dataframe\">\n",
              "  <thead>\n",
              "    <tr style=\"text-align: right;\">\n",
              "      <th></th>\n",
              "      <th>total_bill</th>\n",
              "      <th>tip</th>\n",
              "      <th>sex</th>\n",
              "      <th>smoker</th>\n",
              "      <th>day</th>\n",
              "      <th>time</th>\n",
              "      <th>size</th>\n",
              "      <th>tip_rate</th>\n",
              "    </tr>\n",
              "  </thead>\n",
              "  <tbody>\n",
              "    <tr>\n",
              "      <th>0</th>\n",
              "      <td>16.99</td>\n",
              "      <td>1.01</td>\n",
              "      <td>Female</td>\n",
              "      <td>No</td>\n",
              "      <td>Sun</td>\n",
              "      <td>Dinner</td>\n",
              "      <td>2</td>\n",
              "      <td>0.059447</td>\n",
              "    </tr>\n",
              "    <tr>\n",
              "      <th>1</th>\n",
              "      <td>10.34</td>\n",
              "      <td>1.66</td>\n",
              "      <td>Male</td>\n",
              "      <td>No</td>\n",
              "      <td>Sun</td>\n",
              "      <td>Dinner</td>\n",
              "      <td>3</td>\n",
              "      <td>0.160542</td>\n",
              "    </tr>\n",
              "    <tr>\n",
              "      <th>2</th>\n",
              "      <td>21.01</td>\n",
              "      <td>3.50</td>\n",
              "      <td>Male</td>\n",
              "      <td>No</td>\n",
              "      <td>Sun</td>\n",
              "      <td>Dinner</td>\n",
              "      <td>3</td>\n",
              "      <td>0.166587</td>\n",
              "    </tr>\n",
              "    <tr>\n",
              "      <th>3</th>\n",
              "      <td>23.68</td>\n",
              "      <td>3.31</td>\n",
              "      <td>Male</td>\n",
              "      <td>No</td>\n",
              "      <td>Sun</td>\n",
              "      <td>Dinner</td>\n",
              "      <td>2</td>\n",
              "      <td>0.139780</td>\n",
              "    </tr>\n",
              "    <tr>\n",
              "      <th>4</th>\n",
              "      <td>24.59</td>\n",
              "      <td>3.61</td>\n",
              "      <td>Female</td>\n",
              "      <td>No</td>\n",
              "      <td>Sun</td>\n",
              "      <td>Dinner</td>\n",
              "      <td>4</td>\n",
              "      <td>0.146808</td>\n",
              "    </tr>\n",
              "  </tbody>\n",
              "</table>\n",
              "</div>"
            ],
            "text/plain": [
              "   total_bill   tip     sex smoker  day    time  size  tip_rate\n",
              "0       16.99  1.01  Female     No  Sun  Dinner     2  0.059447\n",
              "1       10.34  1.66    Male     No  Sun  Dinner     3  0.160542\n",
              "2       21.01  3.50    Male     No  Sun  Dinner     3  0.166587\n",
              "3       23.68  3.31    Male     No  Sun  Dinner     2  0.139780\n",
              "4       24.59  3.61  Female     No  Sun  Dinner     4  0.146808"
            ]
          },
          "metadata": {},
          "execution_count": 14
        }
      ]
    },
    {
      "cell_type": "code",
      "metadata": {
        "id": "IPD8OWGL-ehz"
      },
      "source": [
        "### WHERE - SQL ####\n"
      ],
      "execution_count": null,
      "outputs": []
    },
    {
      "cell_type": "code",
      "metadata": {
        "id": "gq3D8CKE-ehz"
      },
      "source": [
        "### WHERE - PANDAS ####\n"
      ],
      "execution_count": null,
      "outputs": []
    },
    {
      "cell_type": "code",
      "metadata": {
        "id": "3huwiaJo-ehz"
      },
      "source": [
        "### WHERE - SQL ###\n",
        "### time = Dinner AND tip > 5.00 ###\n",
        "\n"
      ],
      "execution_count": null,
      "outputs": []
    },
    {
      "cell_type": "code",
      "metadata": {
        "id": "b3MD59gU-ehz"
      },
      "source": [
        "### WHERE - PANDAS ###\n",
        "### time = Dinner AND tip > 5.00 ###\n"
      ],
      "execution_count": null,
      "outputs": []
    },
    {
      "cell_type": "code",
      "metadata": {
        "id": "BuV_TVMO-ehz"
      },
      "source": [
        "### IS NULL - SQL #### \n"
      ],
      "execution_count": null,
      "outputs": []
    },
    {
      "cell_type": "code",
      "metadata": {
        "id": "YjFoukFj-eh0"
      },
      "source": [
        "### IS NULL - PANDAS #### \n",
        "\n"
      ],
      "execution_count": null,
      "outputs": []
    },
    {
      "cell_type": "code",
      "metadata": {
        "id": "kpov16Uv-eh0"
      },
      "source": [
        ""
      ],
      "execution_count": null,
      "outputs": []
    },
    {
      "cell_type": "code",
      "metadata": {
        "colab": {
          "base_uri": "https://localhost:8080/"
        },
        "id": "HN36AVFY-eh1",
        "outputId": "8a8a94fe-f3ff-40d1-ca94-a6bbb0e0a787"
      },
      "source": [
        "### GROUP BY - SQL ###\n",
        "sql_groupby = 'SELECT sex, count(*) FROM tipsDB GROUP BY sex'\n",
        "cursor.execute(sql_groupby).fetchall()\n"
      ],
      "execution_count": null,
      "outputs": [
        {
          "output_type": "execute_result",
          "data": {
            "text/plain": [
              "[('Female', 87), ('Male', 157)]"
            ]
          },
          "metadata": {},
          "execution_count": 26
        }
      ]
    },
    {
      "cell_type": "code",
      "metadata": {
        "id": "2GGpNAkf-eh1"
      },
      "source": [
        "### GROUP BY - PANDAS ###\n",
        "tips.groupby('sex').size()"
      ],
      "execution_count": null,
      "outputs": []
    },
    {
      "cell_type": "code",
      "metadata": {
        "id": "ehuTFE2X-eh1"
      },
      "source": [
        "### GROUP BY - SQL USANDO FUNCOES NATIVAS DO SQL  ###\n"
      ],
      "execution_count": null,
      "outputs": []
    },
    {
      "cell_type": "code",
      "metadata": {
        "id": "RYXGjj_x-eh1"
      },
      "source": [
        "### GROUP BY - SQL USANDO FUNCOES NATIVAS DO PANDAS  ###\n"
      ],
      "execution_count": null,
      "outputs": []
    },
    {
      "cell_type": "code",
      "metadata": {
        "id": "JbhA5Tnq-eh2"
      },
      "source": [
        "import numpy as np\n",
        "values = np.random.randn(4)\n",
        "values = np.append(values,np.nan)\n",
        "\n",
        "df1 = pd.DataFrame({\"key\": [\"A\", \"B\", \"C\", \"D\",\"E\"], \"value\": values})\n",
        "df2 = pd.DataFrame({\"key\": [\"B\", \"D\", \"D\", \"E\"], \"value\": np.random.randn(4)})\n",
        "\n",
        "\n",
        "df1.to_sql('df1DB', con=engine)\n",
        "df2.to_sql('df2DB', con=engine)"
      ],
      "execution_count": null,
      "outputs": []
    },
    {
      "cell_type": "code",
      "metadata": {
        "id": "CYKqgQJk-eh2"
      },
      "source": [
        "### INNER_JOIN - SQL ####\n",
        "\n",
        "sql_join = 'SELECT * FROM df1DB INNER JOIN df2DB ON df1DB.key = df2DB.key'\n",
        "cursor.execute(sql_join).fetchall()"
      ],
      "execution_count": null,
      "outputs": []
    },
    {
      "cell_type": "code",
      "metadata": {
        "id": "jbHKl2Ee-eh2"
      },
      "source": [
        "### INNER_JOIN - PANDAS #### \n"
      ],
      "execution_count": null,
      "outputs": []
    },
    {
      "cell_type": "code",
      "metadata": {
        "id": "UajJWTPM-eh2"
      },
      "source": [
        "### LEFT JOIN - SQL ####\n"
      ],
      "execution_count": null,
      "outputs": []
    },
    {
      "cell_type": "code",
      "metadata": {
        "id": "z4QRxr8DE_6y"
      },
      "source": [
        "### LEFT JOIN - PANDAS ####"
      ],
      "execution_count": null,
      "outputs": []
    }
  ]
}