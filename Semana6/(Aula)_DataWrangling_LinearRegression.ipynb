{
  "nbformat": 4,
  "nbformat_minor": 0,
  "metadata": {
    "kernelspec": {
      "display_name": "Python 3",
      "language": "python",
      "name": "python3"
    },
    "language_info": {
      "codemirror_mode": {
        "name": "ipython",
        "version": 3
      },
      "file_extension": ".py",
      "mimetype": "text/x-python",
      "name": "python",
      "nbconvert_exporter": "python",
      "pygments_lexer": "ipython3",
      "version": "3.8.5"
    },
    "colab": {
      "name": "(Aula) DataWrangling_LinearRegression.ipynb",
      "provenance": [],
      "collapsed_sections": [],
      "include_colab_link": true
    }
  },
  "cells": [
    {
      "cell_type": "markdown",
      "metadata": {
        "id": "view-in-github",
        "colab_type": "text"
      },
      "source": [
        "<a href=\"https://colab.research.google.com/github/CharlesPrado23/Bootcamp2oSemestre2021/blob/main/Semana6/(Aula)_DataWrangling_LinearRegression.ipynb\" target=\"_parent\"><img src=\"https://colab.research.google.com/assets/colab-badge.svg\" alt=\"Open In Colab\"/></a>"
      ]
    },
    {
      "cell_type": "code",
      "metadata": {
        "id": "3hTU7U6S-eh7"
      },
      "source": [
        "import pandas as pd\n",
        "#dfClean = pd.read_csv('dirtydata_Semana5.csv')\n",
        "dfClean = pd.read_csv('https://raw.githubusercontent.com/CharlesPrado23/Bootcamp2oSemestre2021/main/Semana6/data.csv')\n",
        "dfClean"
      ],
      "execution_count": null,
      "outputs": []
    }
  ]
}