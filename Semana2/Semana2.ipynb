{
  "nbformat": 4,
  "nbformat_minor": 0,
  "metadata": {
    "colab": {
      "name": "Semana2.ipynb",
      "provenance": [],
      "collapsed_sections": [],
      "include_colab_link": true
    },
    "kernelspec": {
      "name": "python3",
      "display_name": "Python 3"
    }
  },
  "cells": [
    {
      "cell_type": "markdown",
      "metadata": {
        "id": "view-in-github",
        "colab_type": "text"
      },
      "source": [
        "<a href=\"https://colab.research.google.com/github/CharlesPrado23/Notebooks/blob/main/Semana2.ipynb\" target=\"_parent\"><img src=\"https://colab.research.google.com/assets/colab-badge.svg\" alt=\"Open In Colab\"/></a>"
      ]
    },
    {
      "cell_type": "markdown",
      "metadata": {
        "id": "Mi7UuGP89C4e"
      },
      "source": [
        "### A linguagem de programação Python foi criada em 1991 por Guido Van Rossumem, com a finalidade de ser uma linguagem simples e de fácil compreensão. Apesar de simples, Python é uma linguagem muito poderosa, que pode ser usada para desenvolver e administrar grandes sistemas."
      ]
    },
    {
      "cell_type": "markdown",
      "metadata": {
        "id": "BvoVhtx64imJ"
      },
      "source": [
        "**Import all libraries**"
      ]
    },
    {
      "cell_type": "code",
      "metadata": {
        "id": "G4zI1dUOiUG4"
      },
      "source": [
        "#import numpy as np\n",
        "#import pandas as pd\n",
        "\n"
      ],
      "execution_count": null,
      "outputs": []
    },
    {
      "cell_type": "markdown",
      "metadata": {
        "id": "DTUWNO3YWGdl"
      },
      "source": [
        "Data Types - String,  Int, Float, List, Tuple, Range, Dict, Set,Bool etc\n",
        "\n"
      ]
    },
    {
      "cell_type": "code",
      "metadata": {
        "id": "HaDr-PZMiYxN"
      },
      "source": [
        "My_integer = 1\n",
        "My_str = \"Hello, World!\"\n",
        "My_float = 2.5\n",
        "My_list = [1,2,3,4,5]\n",
        "My_tuple = (1,2,3,4,5) \n",
        "My_range = range(1,5)\n",
        "My_dict ={\"A\":['Ana','Antonio'],\"B\":['Berenice','Bernardo']}\n",
        "My_set = {1,2,3}\n",
        "My_boolean = True\n",
        "\n",
        "\n",
        "\n",
        "\n",
        "\n",
        "\n"
      ],
      "execution_count": null,
      "outputs": []
    },
    {
      "cell_type": "code",
      "metadata": {
        "colab": {
          "base_uri": "https://localhost:8080/"
        },
        "id": "fQ2TcpE8hlAk",
        "outputId": "d49c7d3e-6499-4041-a6c3-8391675de492"
      },
      "source": [
        "print(My_integer)\n",
        "type(My_integer)"
      ],
      "execution_count": null,
      "outputs": [
        {
          "output_type": "stream",
          "text": [
            "1\n"
          ],
          "name": "stdout"
        },
        {
          "output_type": "execute_result",
          "data": {
            "text/plain": [
              "int"
            ]
          },
          "metadata": {
            "tags": []
          },
          "execution_count": 3
        }
      ]
    },
    {
      "cell_type": "code",
      "metadata": {
        "colab": {
          "base_uri": "https://localhost:8080/"
        },
        "id": "Kc5xYpEyltg0",
        "outputId": "3307fc89-ca5e-4208-efc7-6d04608a11ef"
      },
      "source": [
        "print(My_str)\n",
        "type(My_str)"
      ],
      "execution_count": null,
      "outputs": [
        {
          "output_type": "stream",
          "text": [
            "Hello, World!\n"
          ],
          "name": "stdout"
        },
        {
          "output_type": "execute_result",
          "data": {
            "text/plain": [
              "str"
            ]
          },
          "metadata": {
            "tags": []
          },
          "execution_count": 4
        }
      ]
    },
    {
      "cell_type": "code",
      "metadata": {
        "colab": {
          "base_uri": "https://localhost:8080/"
        },
        "id": "CI-HHbDcl3Uj",
        "outputId": "29c099f5-fd1f-4583-ae8d-b52c4fa6482d"
      },
      "source": [
        "print(My_float)\n",
        "type(My_float)"
      ],
      "execution_count": null,
      "outputs": [
        {
          "output_type": "stream",
          "text": [
            "2.5\n"
          ],
          "name": "stdout"
        },
        {
          "output_type": "execute_result",
          "data": {
            "text/plain": [
              "float"
            ]
          },
          "metadata": {
            "tags": []
          },
          "execution_count": 5
        }
      ]
    },
    {
      "cell_type": "code",
      "metadata": {
        "colab": {
          "base_uri": "https://localhost:8080/"
        },
        "id": "FTJDcLNJl3en",
        "outputId": "66fa4295-e51b-4a62-ddfc-bbde568d2c0f"
      },
      "source": [
        "print(My_list)\n",
        "type(My_list)"
      ],
      "execution_count": null,
      "outputs": [
        {
          "output_type": "stream",
          "text": [
            "[1, 2, 3, 4, 5]\n"
          ],
          "name": "stdout"
        },
        {
          "output_type": "execute_result",
          "data": {
            "text/plain": [
              "list"
            ]
          },
          "metadata": {
            "tags": []
          },
          "execution_count": 6
        }
      ]
    },
    {
      "cell_type": "code",
      "metadata": {
        "colab": {
          "base_uri": "https://localhost:8080/"
        },
        "id": "9WaK0wXRPhiq",
        "outputId": "d577fbd8-52aa-4923-817e-6963d708acaa"
      },
      "source": [
        "print(\"Hello,World\")"
      ],
      "execution_count": null,
      "outputs": [
        {
          "output_type": "stream",
          "text": [
            "Hello,World\n"
          ],
          "name": "stdout"
        }
      ]
    },
    {
      "cell_type": "code",
      "metadata": {
        "colab": {
          "base_uri": "https://localhost:8080/"
        },
        "id": "Iv6Q087OmIpm",
        "outputId": "055fd65c-5a28-44f0-f3c7-477e71769319"
      },
      "source": [
        "print(\" My_int ={}\\n My_text ={}\\n My_float ={}\\n My_list = {}\\n\".format(My_integer,My_str,My_float,My_list))\n",
        "print(\" My_tuple={}\\n My_range={}\\n My_dict={}\\n My_set={}\\n My_boolean={}\\n\".format(My_tuple,My_range,My_dict,My_set,My_boolean))"
      ],
      "execution_count": null,
      "outputs": [
        {
          "output_type": "stream",
          "text": [
            " My_int =1\n",
            " My_text =Hello, World!\n",
            " My_float =2.5\n",
            " My_list = [1, 2, 3, 4, 5]\n",
            "\n",
            " My_tuple=(1, 2, 3, 4, 5)\n",
            " My_range=range(1, 5)\n",
            " My_dict={'A': ['Ana', 'Antonio'], 'B': ['Berenice', 'Bernardo']}\n",
            " My_set={1, 2, 3}\n",
            " My_boolean=True\n",
            "\n"
          ],
          "name": "stdout"
        }
      ]
    },
    {
      "cell_type": "code",
      "metadata": {
        "colab": {
          "base_uri": "https://localhost:8080/"
        },
        "id": "AIhaunY89Tz5",
        "outputId": "10d65a37-8c4c-42a4-9eef-622c212ddb32"
      },
      "source": [
        "x = input(\"Entre com o seu nome:\")"
      ],
      "execution_count": null,
      "outputs": [
        {
          "output_type": "stream",
          "text": [
            "Entre com o seu nome:Charles\n"
          ],
          "name": "stdout"
        }
      ]
    },
    {
      "cell_type": "code",
      "metadata": {
        "colab": {
          "base_uri": "https://localhost:8080/"
        },
        "id": "fexOP2wO9jUD",
        "outputId": "04bef49b-c864-4fd3-a6e0-55a91cb7bfdd"
      },
      "source": [
        "print(x)"
      ],
      "execution_count": null,
      "outputs": [
        {
          "output_type": "stream",
          "text": [
            "Charles\n"
          ],
          "name": "stdout"
        }
      ]
    },
    {
      "cell_type": "markdown",
      "metadata": {
        "id": "TCS8a4vuAw2R"
      },
      "source": [
        "**Escreva um programa que receba o salário de um funcionário (float), e retorne o resultado do novo salário com reajuste de 35%.**"
      ]
    },
    {
      "cell_type": "code",
      "metadata": {
        "colab": {
          "base_uri": "https://localhost:8080/"
        },
        "id": "FN35EO47A3IT",
        "outputId": "68460aba-b592-4809-9a27-83b58efc04e5"
      },
      "source": [
        "## ToDo ##\n",
        "salario = input(\"Digite o salário atual: \")\n",
        "print(salario)\n",
        "try:\n",
        "  salario = float(salario)\n",
        "  salario = float(salario)\n",
        "  novo_salario = salario + 0.35*salario ### salario(1+0.35) = salario*1.35\n",
        "\n",
        "except ValueError:\n",
        "  print(\"Error - valor de salário inválido\")\n",
        "\n"
      ],
      "execution_count": null,
      "outputs": [
        {
          "output_type": "stream",
          "text": [
            "Digite o salário atual: 10\n",
            "10\n"
          ],
          "name": "stdout"
        }
      ]
    },
    {
      "cell_type": "code",
      "metadata": {
        "colab": {
          "base_uri": "https://localhost:8080/"
        },
        "id": "LfEXZ6iHA2p7",
        "outputId": "1b03088d-abb6-41c6-c2c5-24bd73cbb7d8"
      },
      "source": [
        "print(\"Seu novo salario é {}\".format(novo_salario))\n",
        "type(salario)"
      ],
      "execution_count": null,
      "outputs": [
        {
          "output_type": "stream",
          "text": [
            "Seu novo salario é 13.5\n"
          ],
          "name": "stdout"
        },
        {
          "output_type": "execute_result",
          "data": {
            "text/plain": [
              "float"
            ]
          },
          "metadata": {
            "tags": []
          },
          "execution_count": 12
        }
      ]
    },
    {
      "cell_type": "markdown",
      "metadata": {
        "id": "UT4_-h-941Ud"
      },
      "source": [
        "**Type casting**"
      ]
    },
    {
      "cell_type": "code",
      "metadata": {
        "id": "oz-434RR443a",
        "colab": {
          "base_uri": "https://localhost:8080/"
        },
        "outputId": "00de60af-54bb-4911-a2e1-49ccaeadcce5"
      },
      "source": [
        "x = int(3.5)\n",
        "z = float(\"1\")\n",
        "j=tuple([1,2,3,4])\n",
        "print(x)\n",
        "print(z)\n",
        "print(j)\n",
        "\n"
      ],
      "execution_count": null,
      "outputs": [
        {
          "output_type": "stream",
          "text": [
            "3\n",
            "1.0\n",
            "(1, 2, 3, 4)\n"
          ],
          "name": "stdout"
        }
      ]
    },
    {
      "cell_type": "markdown",
      "metadata": {
        "id": "BIH2m9Gs449P"
      },
      "source": [
        "**Operadores - ( + ;- ; x ; xx, /)**"
      ]
    },
    {
      "cell_type": "code",
      "metadata": {
        "colab": {
          "base_uri": "https://localhost:8080/"
        },
        "id": "bBAEGJbjmIaX",
        "outputId": "9667cf90-a85a-43a4-80d9-f6367265d1a4"
      },
      "source": [
        "soma = My_integer + 1\n",
        "soma"
      ],
      "execution_count": null,
      "outputs": [
        {
          "output_type": "execute_result",
          "data": {
            "text/plain": [
              "2"
            ]
          },
          "metadata": {
            "tags": []
          },
          "execution_count": 14
        }
      ]
    },
    {
      "cell_type": "code",
      "metadata": {
        "colab": {
          "base_uri": "https://localhost:8080/"
        },
        "id": "IW8GKsTgmIOt",
        "outputId": "f7360123-bb26-405e-aafa-ca369a9695a6"
      },
      "source": [
        "subtracao = My_integer -2 \n",
        "subtracao "
      ],
      "execution_count": null,
      "outputs": [
        {
          "output_type": "execute_result",
          "data": {
            "text/plain": [
              "-1"
            ]
          },
          "metadata": {
            "tags": []
          },
          "execution_count": 15
        }
      ]
    },
    {
      "cell_type": "code",
      "metadata": {
        "colab": {
          "base_uri": "https://localhost:8080/"
        },
        "id": "F_hAxYxsWIO9",
        "outputId": "eb714274-72a7-4da5-fd2f-8f03670537e0"
      },
      "source": [
        "multiplicacao = My_integer*3\n",
        "multiplicacao"
      ],
      "execution_count": null,
      "outputs": [
        {
          "output_type": "execute_result",
          "data": {
            "text/plain": [
              "3"
            ]
          },
          "metadata": {
            "tags": []
          },
          "execution_count": 18
        }
      ]
    },
    {
      "cell_type": "code",
      "metadata": {
        "colab": {
          "base_uri": "https://localhost:8080/"
        },
        "id": "JYUR17N-mH-d",
        "outputId": "80734ff2-322f-4783-c3bb-57dd0937d188"
      },
      "source": [
        "potencia = 2 ** 3 # 2 ^ 3\n",
        "\n",
        "potencia"
      ],
      "execution_count": null,
      "outputs": [
        {
          "output_type": "execute_result",
          "data": {
            "text/plain": [
              "8"
            ]
          },
          "metadata": {
            "tags": []
          },
          "execution_count": 19
        }
      ]
    },
    {
      "cell_type": "code",
      "metadata": {
        "colab": {
          "base_uri": "https://localhost:8080/"
        },
        "id": "-GYszRxLmHig",
        "outputId": "9d317709-b404-4690-befc-2f687461fa98"
      },
      "source": [
        "divisao = My_integer/0.1   ## resultado é um float\n",
        "divisao"
      ],
      "execution_count": null,
      "outputs": [
        {
          "output_type": "execute_result",
          "data": {
            "text/plain": [
              "10.0"
            ]
          },
          "metadata": {
            "tags": []
          },
          "execution_count": 22
        }
      ]
    },
    {
      "cell_type": "code",
      "metadata": {
        "colab": {
          "base_uri": "https://localhost:8080/"
        },
        "id": "nkZ2nWQXoQoP",
        "outputId": "3703d470-9c3b-4f18-a863-0c2e5dce1252"
      },
      "source": [
        "My_list"
      ],
      "execution_count": null,
      "outputs": [
        {
          "output_type": "execute_result",
          "data": {
            "text/plain": [
              "[20, 20, 1, 2, 3, 4, 5]"
            ]
          },
          "metadata": {
            "tags": []
          },
          "execution_count": 27
        }
      ]
    },
    {
      "cell_type": "code",
      "metadata": {
        "colab": {
          "base_uri": "https://localhost:8080/"
        },
        "id": "YbFRn73boQ2c",
        "outputId": "cf96e66e-a8cc-4cd0-84da-1ed62e90ea20"
      },
      "source": [
        "## Multiply List by a number - see the result ###\n",
        "My_list = My_list*2\n",
        "My_list"
      ],
      "execution_count": null,
      "outputs": [
        {
          "output_type": "execute_result",
          "data": {
            "text/plain": [
              "[1, 2, 3, 4, 5, 1, 2, 3, 4, 5]"
            ]
          },
          "metadata": {
            "tags": []
          },
          "execution_count": 95
        }
      ]
    },
    {
      "cell_type": "code",
      "metadata": {
        "colab": {
          "base_uri": "https://localhost:8080/"
        },
        "id": "3NIWHV3soQ_K",
        "outputId": "61a52194-d9d6-4ea8-ae65-5c2674900714"
      },
      "source": [
        "My_list[1]\n"
      ],
      "execution_count": null,
      "outputs": [
        {
          "output_type": "execute_result",
          "data": {
            "text/plain": [
              "2"
            ]
          },
          "metadata": {
            "tags": []
          },
          "execution_count": 96
        }
      ]
    },
    {
      "cell_type": "code",
      "metadata": {
        "id": "Mw5C6uHboRBx"
      },
      "source": [
        "My_list[1] = 100\n"
      ],
      "execution_count": null,
      "outputs": []
    },
    {
      "cell_type": "code",
      "metadata": {
        "colab": {
          "base_uri": "https://localhost:8080/"
        },
        "id": "7aCoCLapoREt",
        "outputId": "16b95f22-c291-491a-9e78-18e5ba71645b"
      },
      "source": [
        "My_list"
      ],
      "execution_count": null,
      "outputs": [
        {
          "output_type": "execute_result",
          "data": {
            "text/plain": [
              "[1, 100, 3, 4, 5, 1, 2, 3, 4, 5]"
            ]
          },
          "metadata": {
            "tags": []
          },
          "execution_count": 98
        }
      ]
    },
    {
      "cell_type": "markdown",
      "metadata": {
        "id": "eL6Mn1GBvo9T"
      },
      "source": [
        "\n",
        "\n",
        "![image.png](data:image/png;base64,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)"
      ]
    },
    {
      "cell_type": "code",
      "metadata": {
        "colab": {
          "base_uri": "https://localhost:8080/"
        },
        "id": "fTE_sGKlwxpx",
        "outputId": "877b1cda-48f4-429c-bfc5-963fcf251993"
      },
      "source": [
        "My_list[0:4]"
      ],
      "execution_count": null,
      "outputs": [
        {
          "output_type": "execute_result",
          "data": {
            "text/plain": [
              "[20, 20, 1, 2]"
            ]
          },
          "metadata": {
            "tags": []
          },
          "execution_count": 29
        }
      ]
    },
    {
      "cell_type": "code",
      "metadata": {
        "colab": {
          "base_uri": "https://localhost:8080/"
        },
        "id": "TEY6uoJvvU53",
        "outputId": "d836bfa6-72b4-4c80-e05e-7e727f3a184b"
      },
      "source": [
        "My_list[1::2]\n",
        "\n"
      ],
      "execution_count": null,
      "outputs": [
        {
          "output_type": "execute_result",
          "data": {
            "text/plain": [
              "[20, 2, 4]"
            ]
          },
          "metadata": {
            "tags": []
          },
          "execution_count": 33
        }
      ]
    },
    {
      "cell_type": "markdown",
      "metadata": {
        "id": "8glXBeXvmsHE"
      },
      "source": [
        "**Exercise**\n",
        "\n",
        "**Add an element into the List**"
      ]
    },
    {
      "cell_type": "code",
      "metadata": {
        "id": "NqkJpYStltHl"
      },
      "source": [
        "### ToDo ###\n",
        "A = [1,2,4,5,6]\n",
        "A.insert(0,20)\n",
        "\n"
      ],
      "execution_count": null,
      "outputs": []
    },
    {
      "cell_type": "code",
      "metadata": {
        "colab": {
          "base_uri": "https://localhost:8080/"
        },
        "id": "n6-QnBUbVIJ0",
        "outputId": "b3b956e6-f94c-4722-9637-42c70504b704"
      },
      "source": [
        "A.index(20)"
      ],
      "execution_count": null,
      "outputs": [
        {
          "output_type": "execute_result",
          "data": {
            "text/plain": [
              "0"
            ]
          },
          "metadata": {
            "tags": []
          },
          "execution_count": 11
        }
      ]
    },
    {
      "cell_type": "markdown",
      "metadata": {
        "id": "G7UJfcWfnO0Q"
      },
      "source": [
        "**Exercise**\n",
        "\n",
        "**Remove the element with index is = 2**"
      ]
    },
    {
      "cell_type": "code",
      "metadata": {
        "id": "gUU1yuuamAOk",
        "colab": {
          "base_uri": "https://localhost:8080/"
        },
        "outputId": "5f3dfd8b-cf90-4178-c5c8-ce099c338e30"
      },
      "source": [
        "## ToDO ###\n",
        "A.remove(20)\n",
        "A"
      ],
      "execution_count": null,
      "outputs": [
        {
          "output_type": "execute_result",
          "data": {
            "text/plain": [
              "[1, 2, 4, 5, 6]"
            ]
          },
          "metadata": {
            "tags": []
          },
          "execution_count": 34
        }
      ]
    },
    {
      "cell_type": "code",
      "metadata": {
        "id": "y6s4941-tv6F",
        "colab": {
          "base_uri": "https://localhost:8080/",
          "height": 184
        },
        "outputId": "1a9a215a-c3cd-4954-8981-13e29aaf45eb"
      },
      "source": [
        "A.pop(3)\n",
        "A"
      ],
      "execution_count": null,
      "outputs": [
        {
          "output_type": "error",
          "ename": "NameError",
          "evalue": "ignored",
          "traceback": [
            "\u001b[0;31m---------------------------------------------------------------------------\u001b[0m",
            "\u001b[0;31mNameError\u001b[0m                                 Traceback (most recent call last)",
            "\u001b[0;32m<ipython-input-7-0ed3baf9ff15>\u001b[0m in \u001b[0;36m<module>\u001b[0;34m()\u001b[0m\n\u001b[0;32m----> 1\u001b[0;31m \u001b[0mA\u001b[0m\u001b[0;34m.\u001b[0m\u001b[0mpop\u001b[0m\u001b[0;34m(\u001b[0m\u001b[0;36m3\u001b[0m\u001b[0;34m)\u001b[0m\u001b[0;34m\u001b[0m\u001b[0;34m\u001b[0m\u001b[0m\n\u001b[0m\u001b[1;32m      2\u001b[0m \u001b[0mA\u001b[0m\u001b[0;34m\u001b[0m\u001b[0;34m\u001b[0m\u001b[0m\n",
            "\u001b[0;31mNameError\u001b[0m: name 'A' is not defined"
          ]
        }
      ]
    },
    {
      "cell_type": "code",
      "metadata": {
        "colab": {
          "base_uri": "https://localhost:8080/"
        },
        "id": "hsG-r1mXoRHi",
        "outputId": "2ca229e1-514a-415f-87f6-835334067644"
      },
      "source": [
        "another_tuple = My_tuple*2\n",
        "another_tuple"
      ],
      "execution_count": null,
      "outputs": [
        {
          "output_type": "execute_result",
          "data": {
            "text/plain": [
              "(1, 2, 3, 4, 5, 1, 2, 3, 4, 5)"
            ]
          },
          "metadata": {
            "tags": []
          },
          "execution_count": 103
        }
      ]
    },
    {
      "cell_type": "code",
      "metadata": {
        "id": "PlQuH7qAoRK4"
      },
      "source": [
        "My_boolean = 2==2.  ### >= <= != &(and) |(or)\n",
        "### alguns exemplos usando operadores lógicos "
      ],
      "execution_count": null,
      "outputs": []
    },
    {
      "cell_type": "code",
      "metadata": {
        "colab": {
          "base_uri": "https://localhost:8080/"
        },
        "id": "_s6NaU01ptrH",
        "outputId": "e598ddac-3dad-4927-e2ea-a4de5b3638c0"
      },
      "source": [
        "My_boolean"
      ],
      "execution_count": null,
      "outputs": [
        {
          "output_type": "execute_result",
          "data": {
            "text/plain": [
              "True"
            ]
          },
          "metadata": {
            "tags": []
          },
          "execution_count": 37
        }
      ]
    },
    {
      "cell_type": "code",
      "metadata": {
        "id": "aqEDQc_0puxN"
      },
      "source": [
        "A_set = {1,2,3}\n",
        "B_set = {3,4,5}\n"
      ],
      "execution_count": null,
      "outputs": []
    },
    {
      "cell_type": "code",
      "metadata": {
        "id": "k0R0OxZjsSP6"
      },
      "source": [
        "C_set = A_set.intersection(B_set)\n",
        "D_set = A_set.union(B_set)"
      ],
      "execution_count": null,
      "outputs": []
    },
    {
      "cell_type": "code",
      "metadata": {
        "colab": {
          "base_uri": "https://localhost:8080/"
        },
        "id": "Bif11arhsXzA",
        "outputId": "326df224-97f1-4796-c67d-30be6fed6849"
      },
      "source": [
        "print(C_set)\n",
        "print(D_set)"
      ],
      "execution_count": null,
      "outputs": [
        {
          "output_type": "stream",
          "text": [
            "{3}\n",
            "{1, 2, 3, 4, 5}\n"
          ],
          "name": "stdout"
        }
      ]
    },
    {
      "cell_type": "markdown",
      "metadata": {
        "id": "bpyCGbRf6fIz"
      },
      "source": [
        "**Dictionary**"
      ]
    },
    {
      "cell_type": "markdown",
      "metadata": {
        "id": "zM7ScsQC-d4_"
      },
      "source": [
        ""
      ]
    },
    {
      "cell_type": "code",
      "metadata": {
        "id": "0Khs0BVl6k-f"
      },
      "source": [
        "Dict = {\"Local\":['Brasil', 'Argentina','Inglaterra'], \"PIB\":[4,2,9]}"
      ],
      "execution_count": null,
      "outputs": []
    },
    {
      "cell_type": "code",
      "metadata": {
        "colab": {
          "base_uri": "https://localhost:8080/"
        },
        "id": "CGAbYmll6kri",
        "outputId": "1eaceb6b-d56a-401c-8ba4-427d9ff1bd00"
      },
      "source": [
        "Dict"
      ],
      "execution_count": null,
      "outputs": [
        {
          "output_type": "execute_result",
          "data": {
            "text/plain": [
              "{'Local': ['Brasil', 'Argentina', 'Inglaterra'], 'PIB': [4, 2, 9]}"
            ]
          },
          "metadata": {
            "tags": []
          },
          "execution_count": 110
        }
      ]
    },
    {
      "cell_type": "code",
      "metadata": {
        "id": "ZtNaIAtn9OyZ",
        "colab": {
          "base_uri": "https://localhost:8080/"
        },
        "outputId": "b9d84813-f5b9-4f7a-a4ef-16d35f0a8b15"
      },
      "source": [
        "Dict.get(\"Local\")"
      ],
      "execution_count": null,
      "outputs": [
        {
          "output_type": "execute_result",
          "data": {
            "text/plain": [
              "['Brasil', 'Argentina', 'Inglaterra']"
            ]
          },
          "metadata": {
            "tags": []
          },
          "execution_count": 111
        }
      ]
    },
    {
      "cell_type": "code",
      "metadata": {
        "id": "zWWGc-6F9f2P"
      },
      "source": [
        "Dict['Populacao']=[\"210M\",\"40M\",\"45M\"]"
      ],
      "execution_count": null,
      "outputs": []
    },
    {
      "cell_type": "code",
      "metadata": {
        "colab": {
          "base_uri": "https://localhost:8080/"
        },
        "id": "IzIwNsXB9zZv",
        "outputId": "ed77bbe2-868b-478b-e280-450681d4df7a"
      },
      "source": [
        "Dict"
      ],
      "execution_count": null,
      "outputs": [
        {
          "output_type": "execute_result",
          "data": {
            "text/plain": [
              "{'Local': ['Brasil', 'Argentina', 'Inglaterra'],\n",
              " 'PIB': [4, 2, 9],\n",
              " 'Populacao': ['210M', '40M', '45M']}"
            ]
          },
          "metadata": {
            "tags": []
          },
          "execution_count": 113
        }
      ]
    },
    {
      "cell_type": "code",
      "metadata": {
        "colab": {
          "base_uri": "https://localhost:8080/",
          "height": 38
        },
        "id": "hzoU5x8x6kYY",
        "outputId": "af5d33aa-c31c-4bf3-bde9-671309e627a5"
      },
      "source": [
        "Dict['Local'][0]"
      ],
      "execution_count": null,
      "outputs": [
        {
          "output_type": "execute_result",
          "data": {
            "application/vnd.google.colaboratory.intrinsic+json": {
              "type": "string"
            },
            "text/plain": [
              "'Brasil'"
            ]
          },
          "metadata": {
            "tags": []
          },
          "execution_count": 114
        }
      ]
    },
    {
      "cell_type": "code",
      "metadata": {
        "colab": {
          "base_uri": "https://localhost:8080/"
        },
        "id": "GnSrbfRt6jS2",
        "outputId": "60d5b07c-ddbf-4eef-99b0-8ba9550ee326"
      },
      "source": [
        "Dict.values()"
      ],
      "execution_count": null,
      "outputs": [
        {
          "output_type": "execute_result",
          "data": {
            "text/plain": [
              "dict_values([['Brasil', 'Argentina', 'Inglaterra'], [4, 2, 9], ['210M', '40M', '45M']])"
            ]
          },
          "metadata": {
            "tags": []
          },
          "execution_count": 115
        }
      ]
    },
    {
      "cell_type": "code",
      "metadata": {
        "colab": {
          "base_uri": "https://localhost:8080/"
        },
        "id": "fCH3qQuB6kC2",
        "outputId": "f69de981-834c-4e5c-a792-efed207c7481"
      },
      "source": [
        "Dict['PIB'][1]"
      ],
      "execution_count": null,
      "outputs": [
        {
          "output_type": "execute_result",
          "data": {
            "text/plain": [
              "2"
            ]
          },
          "metadata": {
            "tags": []
          },
          "execution_count": 116
        }
      ]
    },
    {
      "cell_type": "code",
      "metadata": {
        "colab": {
          "base_uri": "https://localhost:8080/"
        },
        "id": "hgQv9OXc6juJ",
        "outputId": "77bf80ff-a968-44a7-834d-abeccf45a086"
      },
      "source": [
        "Dict['Local'][0] == 'Brasil'"
      ],
      "execution_count": null,
      "outputs": [
        {
          "output_type": "execute_result",
          "data": {
            "text/plain": [
              "True"
            ]
          },
          "metadata": {
            "tags": []
          },
          "execution_count": 117
        }
      ]
    },
    {
      "cell_type": "markdown",
      "metadata": {
        "id": "NKWupAZ4n5V6"
      },
      "source": [
        "**Exercise**\n",
        "\n",
        "**Create a dictionary with 4 keys**"
      ]
    },
    {
      "cell_type": "markdown",
      "metadata": {
        "id": "3FejvnpxMkhs"
      },
      "source": [
        ""
      ]
    },
    {
      "cell_type": "code",
      "metadata": {
        "id": "ETHmrYLroJqf"
      },
      "source": [
        "## ToDo ####"
      ],
      "execution_count": null,
      "outputs": []
    },
    {
      "cell_type": "markdown",
      "metadata": {
        "id": "gYmbs4Jz0JzA"
      },
      "source": [
        "Python Conditions\n",
        "\n",
        "Equals: a == b \n",
        "\n",
        "Not Equals: a != b\n",
        "\n",
        "Less than: a < b\n",
        "\n",
        "Less than or equal to: a <= b\n",
        "\n",
        "Greater than: a > b\n",
        "\n",
        "Greater than or equal to: a >= b"
      ]
    },
    {
      "cell_type": "markdown",
      "metadata": {
        "id": "E3QXcsKRruZq"
      },
      "source": [
        "if statement_1: \n",
        "\n",
        "     expression_1\n",
        "\n",
        "elif statement_2:\n",
        "\n",
        "     expression_2\n",
        "\n",
        "else:\n",
        "  \n",
        "     expression_3\n"
      ]
    },
    {
      "cell_type": "markdown",
      "metadata": {
        "id": "GbdatlbUsLE0"
      },
      "source": [
        "## Exercise ##\n",
        "\n"
      ]
    },
    {
      "cell_type": "code",
      "metadata": {
        "id": "6fGQAn64rUWx",
        "colab": {
          "base_uri": "https://localhost:8080/"
        },
        "outputId": "7a911297-6be4-474b-fb56-a04824c10c03"
      },
      "source": [
        "## Complete the sentences below ##\n",
        "\n",
        "a = 20\n",
        "b = 30\n",
        "if a < b:\n",
        "  print(\"\\\"b is greater than a\\\"\")\n",
        "elif a == b:\n",
        "  print(\"a and b are equal\")\n",
        "else:\n",
        "  print(\"a is greater than b\") \n"
      ],
      "execution_count": null,
      "outputs": [
        {
          "output_type": "stream",
          "text": [
            "\"b is greater than a\"\n"
          ],
          "name": "stdout"
        }
      ]
    },
    {
      "cell_type": "code",
      "metadata": {
        "colab": {
          "base_uri": "https://localhost:8080/"
        },
        "id": "NEYqL3LMsZ8s",
        "outputId": "230d09f0-1b8a-478b-ecc6-ee01f098817f"
      },
      "source": [
        " if 3 < 4:\n",
        "   str = \"True\"\n",
        " else:\n",
        "   str = \"False\"\n",
        "print(str)   \n",
        "\n",
        "\n"
      ],
      "execution_count": null,
      "outputs": [
        {
          "output_type": "stream",
          "text": [
            "True\n"
          ],
          "name": "stdout"
        }
      ]
    },
    {
      "cell_type": "code",
      "metadata": {
        "colab": {
          "base_uri": "https://localhost:8080/"
        },
        "id": "EIz1AIfP0v0K",
        "outputId": "9129d352-d957-4a0b-ac34-f1eaa8e0d467"
      },
      "source": [
        "str = \"This is \"\n",
        "if My_integer > 10: \n",
        "  str = str + \"True\"\n",
        "else:\n",
        "  str = str + \"False\"\n",
        "print(str)  \n",
        "\n"
      ],
      "execution_count": null,
      "outputs": [
        {
          "output_type": "stream",
          "text": [
            "This is False\n"
          ],
          "name": "stdout"
        }
      ]
    },
    {
      "cell_type": "code",
      "metadata": {
        "colab": {
          "base_uri": "https://localhost:8080/"
        },
        "id": "5YLlkI981S0F",
        "outputId": "fb038bd3-8e50-4763-cb4b-0a28feb7bb4e"
      },
      "source": [
        "a = 200\n",
        "b = 33\n",
        "if b > a:\n",
        "  print(\"b is greater than a\")\n",
        "else:\n",
        "  print(\"b is not greater than a\")"
      ],
      "execution_count": null,
      "outputs": [
        {
          "output_type": "stream",
          "text": [
            "b is not greater than a\n"
          ],
          "name": "stdout"
        }
      ]
    },
    {
      "cell_type": "markdown",
      "metadata": {
        "id": "w7yGrtqs1kJl"
      },
      "source": [
        "**Exercise**\n",
        "\n",
        "**Create other logical comparisons (and, or, not equal etc)** "
      ]
    },
    {
      "cell_type": "code",
      "metadata": {
        "id": "j1XTVyp8olxM"
      },
      "source": [
        "## ToDo ##"
      ],
      "execution_count": null,
      "outputs": []
    },
    {
      "cell_type": "code",
      "metadata": {
        "colab": {
          "base_uri": "https://localhost:8080/"
        },
        "id": "1CnLNxRi1iAa",
        "outputId": "5eac19c0-ac76-43a7-c60c-535d18f790fc"
      },
      "source": [
        "a = 200\n",
        "b = 33\n",
        "if b > a or 3*b > a :\n",
        "  print(\"If is true\")\n",
        "else:\n",
        "  print(\"Else is false\")"
      ],
      "execution_count": null,
      "outputs": [
        {
          "output_type": "stream",
          "text": [
            "Else is false\n"
          ],
          "name": "stdout"
        }
      ]
    },
    {
      "cell_type": "markdown",
      "metadata": {
        "id": "FgoZNP8Z2OME"
      },
      "source": [
        "**While loops; For Loops**"
      ]
    },
    {
      "cell_type": "code",
      "metadata": {
        "colab": {
          "base_uri": "https://localhost:8080/"
        },
        "id": "1WCE99FC1ugj",
        "outputId": "476284f7-f388-4b80-bf15-4e857e46ca8a"
      },
      "source": [
        "a = 10\n",
        "while a > 1: \n",
        "  print(a)\n",
        "  a = a - 1\n",
        "  \n"
      ],
      "execution_count": null,
      "outputs": [
        {
          "output_type": "stream",
          "text": [
            "1\n",
            "2\n",
            "3\n",
            "4\n",
            "5\n",
            "6\n",
            "7\n",
            "8\n",
            "9\n"
          ],
          "name": "stdout"
        }
      ]
    },
    {
      "cell_type": "code",
      "metadata": {
        "colab": {
          "base_uri": "https://localhost:8080/"
        },
        "id": "8KZf07y32hdI",
        "outputId": "3aaed6a8-80c0-49d2-ff22-38096f6da4a9"
      },
      "source": [
        "a = 1\n",
        "while a < 5:\n",
        "  print (a)\n",
        "  a = a + 1 # a+=1\n",
        "  # task 1\n",
        "  # task 2\n",
        "  if a == 4:   ## if task 1 == condition: \n",
        "     break\n",
        "\n"
      ],
      "execution_count": null,
      "outputs": [
        {
          "output_type": "stream",
          "text": [
            "1\n",
            "2\n",
            "3\n"
          ],
          "name": "stdout"
        }
      ]
    },
    {
      "cell_type": "code",
      "metadata": {
        "colab": {
          "base_uri": "https://localhost:8080/"
        },
        "id": "64Aqi8kF23U2",
        "outputId": "affc750e-09d3-48e2-9507-a9d2897a4965"
      },
      "source": [
        "for x in range(6):\n",
        "  print(x)"
      ],
      "execution_count": null,
      "outputs": [
        {
          "output_type": "stream",
          "text": [
            "0\n",
            "1\n",
            "2\n",
            "3\n",
            "4\n",
            "5\n"
          ],
          "name": "stdout"
        }
      ]
    },
    {
      "cell_type": "code",
      "metadata": {
        "colab": {
          "base_uri": "https://localhost:8080/"
        },
        "id": "dvM_8P7S3QXv",
        "outputId": "971ef3c1-8113-4b35-f8c3-0af6d40455e4"
      },
      "source": [
        "A = [1,3,5,7,9,11]\n",
        "for x in A:\n",
        "  print(x)\n",
        "  "
      ],
      "execution_count": null,
      "outputs": [
        {
          "output_type": "stream",
          "text": [
            "1\n",
            "3\n",
            "5\n",
            "7\n",
            "9\n",
            "11\n"
          ],
          "name": "stdout"
        }
      ]
    },
    {
      "cell_type": "code",
      "metadata": {
        "colab": {
          "base_uri": "https://localhost:8080/"
        },
        "id": "MOygCFzN3aPM",
        "outputId": "fd87513f-ca15-40e2-9003-02a5f6cd891e"
      },
      "source": [
        "B = A[1::2]\n",
        "for x in range(2,6,2):\n",
        "  print(x)\n",
        "\n",
        "## for x in List:\n",
        "  ## A = x \n",
        "  ##   \n",
        "  "
      ],
      "execution_count": null,
      "outputs": [
        {
          "output_type": "stream",
          "text": [
            "2\n",
            "4\n"
          ],
          "name": "stdout"
        }
      ]
    },
    {
      "cell_type": "code",
      "metadata": {
        "id": "AmGkaq8Yqhlq"
      },
      "source": [
        "D = range(2,5)"
      ],
      "execution_count": null,
      "outputs": []
    },
    {
      "cell_type": "code",
      "metadata": {
        "id": "9LPOJcSvqg5i"
      },
      "source": [
        ""
      ],
      "execution_count": null,
      "outputs": []
    },
    {
      "cell_type": "code",
      "metadata": {
        "colab": {
          "base_uri": "https://localhost:8080/"
        },
        "id": "Ser0wwFE3is9",
        "outputId": "1b4b6880-f2c5-4985-c21c-d7939c9dc0ef"
      },
      "source": [
        "for x in \"bootcamp\":\n",
        "  print(x)"
      ],
      "execution_count": null,
      "outputs": [
        {
          "output_type": "stream",
          "text": [
            "b\n",
            "o\n",
            "o\n",
            "t\n",
            "c\n",
            "a\n",
            "m\n",
            "p\n"
          ],
          "name": "stdout"
        }
      ]
    },
    {
      "cell_type": "code",
      "metadata": {
        "colab": {
          "base_uri": "https://localhost:8080/"
        },
        "id": "gkarZGEp33kc",
        "outputId": "1e6147ae-0d61-4772-a9eb-7ae35408522f"
      },
      "source": [
        "adj = [\"red\", \"big\", \"tasty\"]\n",
        "fruits = [\"apple\", \"banana\", \"cherry\"]\n",
        "\n",
        "for x in adj:\n",
        "  for y in fruits:\n",
        "    print(x, y)"
      ],
      "execution_count": null,
      "outputs": [
        {
          "output_type": "stream",
          "text": [
            "red apple\n",
            "red banana\n",
            "red cherry\n",
            "big apple\n",
            "big banana\n",
            "big cherry\n",
            "tasty apple\n",
            "tasty banana\n",
            "tasty cherry\n"
          ],
          "name": "stdout"
        }
      ]
    },
    {
      "cell_type": "markdown",
      "metadata": {
        "id": "UMY5rje9IGXi"
      },
      "source": [
        "![image.png](data:image/png;base64,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)"
      ]
    },
    {
      "cell_type": "code",
      "metadata": {
        "colab": {
          "base_uri": "https://localhost:8080/"
        },
        "id": "E_IIjVL3Hzbr",
        "outputId": "032e96b9-23c8-4b5e-b7fe-ab43716a77d2"
      },
      "source": [
        "row_num = int(input(\"Input number of rows: \"))\n",
        "col_num = int(input(\"Input number of columns: \"))\n",
        "multi_list = [[-1 for col in range(col_num)] for row in range(row_num)]\n",
        "print(f\"Inicializando a Lista: {multi_list}\")\n",
        "for row in range(row_num):\n",
        "    for col in range(col_num):\n",
        "        multi_list[row][col]= row*col\n",
        "\n",
        "print(f\"Resultado final: {multi_list}\")"
      ],
      "execution_count": null,
      "outputs": [
        {
          "output_type": "stream",
          "text": [
            "Input number of rows: 2\n",
            "Input number of columns: 2\n",
            "Inicializando a Lista: [[-1, -1], [-1, -1]]\n",
            "Resultado final: [[0, 0], [0, 1]]\n"
          ],
          "name": "stdout"
        }
      ]
    },
    {
      "cell_type": "markdown",
      "metadata": {
        "id": "r56MJWM65gJH"
      },
      "source": [
        "**FILE HANDLING **"
      ]
    },
    {
      "cell_type": "code",
      "metadata": {
        "colab": {
          "base_uri": "https://localhost:8080/"
        },
        "id": "wloXnpG2tbgG",
        "outputId": "cf97567e-ac27-495a-bb42-5e8c985fb4f4"
      },
      "source": [
        "file1 = open(\"/content/Bootcamp_semana2/Demo.txt\", \"r\")\n",
        "print(file1.readline())\n",
        "file1.close()"
      ],
      "execution_count": null,
      "outputs": [
        {
          "output_type": "stream",
          "text": [
            "This is a demo file \n",
            "\n"
          ],
          "name": "stdout"
        }
      ]
    },
    {
      "cell_type": "code",
      "metadata": {
        "id": "6dSk7UDi4AYI",
        "colab": {
          "base_uri": "https://localhost:8080/"
        },
        "outputId": "143a68a1-3288-4a78-f32d-eb665d7489a0"
      },
      "source": [
        "Filename =\"/content/Bootcamp_semana2/Demo.txt\"\n",
        "\n",
        "file1 = open(Filename, \"r\")\n",
        "count = 0\n",
        "# Using for loop\n",
        "print(\"Using for loop\")\n",
        "for line in file1:\n",
        "    count += 1\n",
        "    print(\"Line{}: {}\".format(count, line.strip()))\n",
        " \n",
        "# Closing files\n",
        "file1.close()"
      ],
      "execution_count": null,
      "outputs": [
        {
          "output_type": "stream",
          "text": [
            "Using for loop\n",
            "Line1: This is a demo file\n",
            "Line2: 1\n",
            "Line3: 2\n",
            "Line4: 3\n",
            "Line5: 4\n",
            "Line6: 5\n",
            "Line7: 6\n"
          ],
          "name": "stdout"
        }
      ]
    },
    {
      "cell_type": "markdown",
      "metadata": {
        "id": "pt2cn7sAuiH-"
      },
      "source": [
        "**Reading file into a List**"
      ]
    },
    {
      "cell_type": "code",
      "metadata": {
        "id": "1VjkKzD9qKX_"
      },
      "source": [
        "with open(Filename, \"r\") as f:\n",
        "    content = f.readlines()\n",
        "# you may also want to remove whitespace characters like `\\n` at the end of each line\n",
        "content = [x.strip() for x in content] "
      ],
      "execution_count": null,
      "outputs": []
    },
    {
      "cell_type": "code",
      "metadata": {
        "colab": {
          "base_uri": "https://localhost:8080/"
        },
        "id": "nF-wnzdVudod",
        "outputId": "7e8b5e93-0941-41c4-93a6-0848b5362871"
      },
      "source": [
        "content"
      ],
      "execution_count": null,
      "outputs": [
        {
          "output_type": "execute_result",
          "data": {
            "text/plain": [
              "['This is a demo file', '1', '2', '3', '4', '5', '6']"
            ]
          },
          "metadata": {
            "tags": []
          },
          "execution_count": 16
        }
      ]
    },
    {
      "cell_type": "code",
      "metadata": {
        "colab": {
          "base_uri": "https://localhost:8080/"
        },
        "id": "ktPveDZfx4Bx",
        "outputId": "1de5d3c8-1d15-4270-fc48-56a4030c5f01"
      },
      "source": [
        "f = open(Filename, \"a\")\n",
        "f.write(\"\\n Now the file has more content!\")\n",
        "f.close()\n",
        "with open(Filename, \"r\") as f:\n",
        "    content = f.readlines()\n",
        "# you may also want to remove whitespace characters like `\\n` at the end of each line\n",
        "content = [x.strip() for x in content]\n",
        "content"
      ],
      "execution_count": null,
      "outputs": [
        {
          "output_type": "execute_result",
          "data": {
            "text/plain": [
              "['This is a demo file',\n",
              " '1',\n",
              " '2',\n",
              " '3',\n",
              " '4',\n",
              " '5',\n",
              " '6',\n",
              " 'Now the file has more content!']"
            ]
          },
          "metadata": {
            "tags": []
          },
          "execution_count": 23
        }
      ]
    },
    {
      "cell_type": "code",
      "metadata": {
        "colab": {
          "base_uri": "https://localhost:8080/"
        },
        "id": "hswSh5G2usSi",
        "outputId": "c51be832-414d-4fe3-b51f-288d37ad39a8"
      },
      "source": [
        "with open(Filename, \"w\") as f:\n",
        "    f.writelines(\"Woops! I have deleted the content!\")\n",
        "    \n",
        "### Open and Read File     \n",
        "file2 = open(Filename, \"r\")\n",
        "print(file2.readline())\n",
        "file2.close()\n"
      ],
      "execution_count": null,
      "outputs": [
        {
          "output_type": "stream",
          "text": [
            "Woops! I have deleted the content!\n"
          ],
          "name": "stdout"
        }
      ]
    },
    {
      "cell_type": "code",
      "metadata": {
        "colab": {
          "base_uri": "https://localhost:8080/"
        },
        "id": "3uMSke5ZwbUI",
        "outputId": "72014f53-bb1f-4102-ea1b-9c43bed1bac3"
      },
      "source": [
        "with open(Filename,\"a\") as f:\n",
        "    f.writelines(\"\\n Acrescentando uma linha\") \n",
        "\n",
        "### Open and Read File     \n",
        "file2 = open(Filename, \"r\")\n",
        "print(file2.readline())\n",
        "print(file2.readline())\n",
        "file2.close()    \n"
      ],
      "execution_count": null,
      "outputs": [
        {
          "output_type": "stream",
          "text": [
            "Woops! I have deleted the content!\n",
            "\n",
            " Acrescentando uma linha\n",
            "\n"
          ],
          "name": "stdout"
        }
      ]
    },
    {
      "cell_type": "markdown",
      "metadata": {
        "id": "wlaakRcn5wIO"
      },
      "source": [
        ""
      ]
    },
    {
      "cell_type": "markdown",
      "metadata": {
        "id": "Ep2D_5PMjzH8"
      },
      "source": [
        "### Atividade de Laboratório ###\n",
        "\n",
        "### É necessário usar a biblioteca requests ### \n",
        "\n",
        "### import request ###\n",
        "\n",
        "1) Nesta atividade, você irá consultar um banco de dados com informações sobre campeonatos de futebol (Brasil) - Partidas,Times, Fases, Artilharia etc\n",
        "\n",
        "2) Será usado uma API (RESTful) para realizar as consultas\n",
        "\n",
        "3) Primeiro passo: acesse o site https://www.api-futebol.com.br/, realize seu cadastramento e tome nota da API Key para **teste**. Esse é o seu acess_token.\n",
        "\n",
        "4) Defina uma variável access_token no qual será atribuído o seu token. \n",
        "\n",
        "5) Passe esse valor para 'Bearer' valor da chave 'Authorization' (dica: método usado para formatar strings). Modifique a Solução de exemplo ao final. \n",
        "\n",
        "6) a variável \"results\" irá receber os resultados da consulta no formato Json. Qual o tipo dessa variável ?\n",
        "\n",
        "7) Uma vez conhecido o tipo da variável, visualize alguns conteúdos. \n",
        "\n",
        "8) Salvar o resultado em um arquivo. \n",
        "\n",
        "\n",
        "### Solução de exemplo - Modificar para realizar o exercício ###\n",
        "url = 'https://api.api-futebol.com.br/v1/campeonatos/2'\n",
        "\n",
        "results = requests.get(url,headers={'Content-Type':'application/json', 'Authorization': 'Bearer #yourAccessTokenHere#'}).json()\n",
        "\n",
        "\n"
      ]
    },
    {
      "cell_type": "code",
      "metadata": {
        "colab": {
          "base_uri": "https://localhost:8080/"
        },
        "id": "owy0w8KIz7F7",
        "outputId": "7e861114-09c3-4807-c568-ba019fa907dd"
      },
      "source": [
        "import requests\n",
        "url = 'https://api.api-futebol.com.br/v1/campeonatos/2/artilharia'\n",
        "access_token ='test_541cfa69a17368ccaa8154060c4237'\n",
        "results = requests.get(url,headers={'Content-Type':'application/json', 'Authorization': 'Bearer {}'.format(access_token)}).json()\n",
        "type(results)\n",
        "print(results[0])\n"
      ],
      "execution_count": null,
      "outputs": [
        {
          "output_type": "stream",
          "text": [
            "{'atleta': {'atleta_id': 5007, 'nome_popular': 'Caio Dantas', 'posicao': []}, 'time': {'time_id': 120, 'nome_popular': 'Sampaio Corrêa', 'escudo': 'https://apifutebol.s3.sa-east-1.amazonaws.com/escudos/5f999dd07831b.svg'}, 'gols': 17}\n"
          ],
          "name": "stdout"
        }
      ]
    },
    {
      "cell_type": "markdown",
      "metadata": {
        "id": "KEKCoCI2Gwvg"
      },
      "source": [
        "## Functions ##"
      ]
    },
    {
      "cell_type": "code",
      "metadata": {
        "id": "ms4OVadvG49e"
      },
      "source": [
        "def add_(a,b):\n",
        "  soma = a + b\n",
        "  return soma\n"
      ],
      "execution_count": null,
      "outputs": []
    },
    {
      "cell_type": "code",
      "metadata": {
        "colab": {
          "base_uri": "https://localhost:8080/"
        },
        "id": "avczXHvOG4pR",
        "outputId": "80e05349-0bd7-4b81-a4ba-ccec1cfe9a3e"
      },
      "source": [
        "C = add_(1,3)\n",
        "print(C)"
      ],
      "execution_count": null,
      "outputs": [
        {
          "output_type": "stream",
          "text": [
            "4\n"
          ],
          "name": "stdout"
        }
      ]
    },
    {
      "cell_type": "code",
      "metadata": {
        "colab": {
          "base_uri": "https://localhost:8080/"
        },
        "id": "PB8nc6wbD1u_",
        "outputId": "c51d02a5-c571-45be-882b-320731de2d0a"
      },
      "source": [
        "def myFun(*argv):  \n",
        "    for arg in argv:  \n",
        "        arg = \"1\" + arg\n",
        "        print (arg) \n",
        "myFun('1','2','3')        "
      ],
      "execution_count": null,
      "outputs": [
        {
          "output_type": "stream",
          "text": [
            "11\n",
            "12\n",
            "13\n"
          ],
          "name": "stdout"
        }
      ]
    },
    {
      "cell_type": "markdown",
      "metadata": {
        "id": "uqYiGX9HDA_j"
      },
      "source": [
        ""
      ]
    },
    {
      "cell_type": "code",
      "metadata": {
        "colab": {
          "base_uri": "https://localhost:8080/"
        },
        "id": "aQxeyVwSCtR8",
        "outputId": "a51df879-35e0-4e24-8261-0b6b137287c7"
      },
      "source": [
        "def greet_user(username):\n",
        "    \"\"\"Display a simple greeting.\"\"\"\n",
        "    print(f\"Hello, {username.title()}!\")\n",
        "    print(\"Hello, {}!\".format(username.title()))\n",
        "\n",
        "greet_user('jesse')"
      ],
      "execution_count": null,
      "outputs": [
        {
          "output_type": "stream",
          "text": [
            "Hello, Jesse!\n",
            "Hello, Jesse!\n"
          ],
          "name": "stdout"
        }
      ]
    },
    {
      "cell_type": "code",
      "metadata": {
        "colab": {
          "base_uri": "https://localhost:8080/"
        },
        "id": "MBde9ZqyEp42",
        "outputId": "f78b2b21-d3b1-40d8-ab7e-45febebf5756"
      },
      "source": [
        "def greet_users(names):\n",
        "       \"\"\"Print a simple greeting to each user in the list.\"\"\"\n",
        "       for name in names:\n",
        "           msg = f\"Hello, {name.title()}!\"\n",
        "           print(msg)\n",
        "usernames = ['hannah', 'ty', 'margot']\n",
        "greet_users(usernames)"
      ],
      "execution_count": null,
      "outputs": [
        {
          "output_type": "stream",
          "text": [
            "Hello, Hannah!\n",
            "Hello, Ty!\n",
            "Hello, Margot!\n"
          ],
          "name": "stdout"
        }
      ]
    },
    {
      "cell_type": "code",
      "metadata": {
        "colab": {
          "base_uri": "https://localhost:8080/"
        },
        "id": "jnf_c6uGGZhz",
        "outputId": "9d7775d8-da39-4443-9109-583b4081f6fc"
      },
      "source": [
        "def make_pizza(size,*toppings):\n",
        "    \"\"\"Summarize the pizza we are about to make.\"\"\"\n",
        "    print(f\"\\nMaking a {size}-inch pizza with the following toppings:\")\n",
        "    print(len(toppings))\n",
        "    for X in toppings:\n",
        "        print(f\"- {X}\")\n",
        "\n",
        "make_pizza(10,'pepperoni','onions')\n",
        "make_pizza(12,'mushrooms', 'green peppers', 'extra cheese')"
      ],
      "execution_count": null,
      "outputs": [
        {
          "output_type": "stream",
          "text": [
            "\n",
            "Making a 10-inch pizza with the following toppings:\n",
            "2\n",
            "- pepperoni\n",
            "- 2\n",
            "\n",
            "Making a 12-inch pizza with the following toppings:\n",
            "3\n",
            "- mushrooms\n",
            "- green peppers\n",
            "- extra cheese\n"
          ],
          "name": "stdout"
        }
      ]
    },
    {
      "cell_type": "code",
      "metadata": {
        "id": "PtV-7hi0Eygv"
      },
      "source": [
        "def build_profile(first,last,**user_info):\n",
        "       \"\"\"Build a dictionary containing everything we know about a user.\"\"\"\n",
        "       user_info['first_name'] = first\n",
        "       user_info['last_name'] = last\n",
        "       return user_info\n"
      ],
      "execution_count": null,
      "outputs": []
    },
    {
      "cell_type": "code",
      "metadata": {
        "colab": {
          "base_uri": "https://localhost:8080/"
        },
        "id": "u0Dlmpk5F-5Q",
        "outputId": "ff6ae5cf-2355-4d73-916f-2a41353f3cab"
      },
      "source": [
        "user_profile = build_profile('albert','einstein',\n",
        "                                location='princeton',\n",
        "                                field='physics',\n",
        "                                age = 70, \n",
        "                             )\n",
        "print(user_profile)"
      ],
      "execution_count": null,
      "outputs": [
        {
          "output_type": "stream",
          "text": [
            "{'location': 'princeton', 'field': 'physics', 'age': 70, 'first_name': 'albert', 'last_name': 'einstein'}\n"
          ],
          "name": "stdout"
        }
      ]
    },
    {
      "cell_type": "code",
      "metadata": {
        "colab": {
          "base_uri": "https://localhost:8080/"
        },
        "id": "YcdCXATM2ttV",
        "outputId": "94289ee7-cd4c-4ee0-a1dd-be14d232288c"
      },
      "source": [
        "user_profile.keys()"
      ],
      "execution_count": null,
      "outputs": [
        {
          "output_type": "execute_result",
          "data": {
            "text/plain": [
              "dict_keys(['location', 'field', 'age', 'first_name', 'last_name'])"
            ]
          },
          "metadata": {
            "tags": []
          },
          "execution_count": 3
        }
      ]
    },
    {
      "cell_type": "code",
      "metadata": {
        "id": "zUDj-_pnWdBN",
        "colab": {
          "base_uri": "https://localhost:8080/"
        },
        "outputId": "916aeb32-fb64-4bcb-f839-a0fb3cfa3f91"
      },
      "source": [
        "\n",
        "def my_function(**kid):\n",
        "  print(\"His name is \" + kid[\"fname\"] + \" \" + kid[\"lname\"])\n",
        "\n",
        "my_function(lname = \"Refsnes\", fname = \"Tobias\")    "
      ],
      "execution_count": null,
      "outputs": [
        {
          "output_type": "stream",
          "text": [
            "His name is Tobias Refsnes\n"
          ],
          "name": "stdout"
        }
      ]
    },
    {
      "cell_type": "code",
      "metadata": {
        "id": "GkQiBTLYWctz",
        "colab": {
          "base_uri": "https://localhost:8080/"
        },
        "outputId": "7f461952-792e-452e-9b77-8cd27886dd46"
      },
      "source": [
        "def My_ListFunction(my_list):\n",
        "  print(my_list)\n",
        "\n",
        "A = [1,3,5,9]\n",
        "My_ListFunction(A)"
      ],
      "execution_count": null,
      "outputs": [
        {
          "output_type": "stream",
          "text": [
            "[1, 3, 5, 9]\n"
          ],
          "name": "stdout"
        }
      ]
    },
    {
      "cell_type": "code",
      "metadata": {
        "colab": {
          "base_uri": "https://localhost:8080/"
        },
        "id": "SwTrr98tK7NH",
        "outputId": "6b804b54-9eda-43fc-c36c-5b0f9978bb2f"
      },
      "source": [
        "## args recebe uma Lista de inteiros e computa a média ### \n",
        "def My_CalcMean(*args):\n",
        "  sum =0\n",
        "  \n",
        "  for x in range(len(args[0])):\n",
        "    sum = sum + args[0][x]\n",
        "    \n",
        "  mean = sum/len(args[0])\n",
        "  return mean\n",
        "mean = My_CalcMean(A) \n",
        "print(mean)        "
      ],
      "execution_count": null,
      "outputs": [
        {
          "output_type": "stream",
          "text": [
            "4.5\n"
          ],
          "name": "stdout"
        }
      ]
    },
    {
      "cell_type": "code",
      "metadata": {
        "colab": {
          "base_uri": "https://localhost:8080/"
        },
        "id": "0iIjdKPTfSFC",
        "outputId": "06b35ffe-7548-4fd1-d8a1-c1c1c23ed9ba"
      },
      "source": [
        "help(list)\n"
      ],
      "execution_count": null,
      "outputs": [
        {
          "output_type": "stream",
          "text": [
            "Help on class list in module builtins:\n",
            "\n",
            "class list(object)\n",
            " |  list() -> new empty list\n",
            " |  list(iterable) -> new list initialized from iterable's items\n",
            " |  \n",
            " |  Methods defined here:\n",
            " |  \n",
            " |  __add__(self, value, /)\n",
            " |      Return self+value.\n",
            " |  \n",
            " |  __contains__(self, key, /)\n",
            " |      Return key in self.\n",
            " |  \n",
            " |  __delitem__(self, key, /)\n",
            " |      Delete self[key].\n",
            " |  \n",
            " |  __eq__(self, value, /)\n",
            " |      Return self==value.\n",
            " |  \n",
            " |  __ge__(self, value, /)\n",
            " |      Return self>=value.\n",
            " |  \n",
            " |  __getattribute__(self, name, /)\n",
            " |      Return getattr(self, name).\n",
            " |  \n",
            " |  __getitem__(...)\n",
            " |      x.__getitem__(y) <==> x[y]\n",
            " |  \n",
            " |  __gt__(self, value, /)\n",
            " |      Return self>value.\n",
            " |  \n",
            " |  __iadd__(self, value, /)\n",
            " |      Implement self+=value.\n",
            " |  \n",
            " |  __imul__(self, value, /)\n",
            " |      Implement self*=value.\n",
            " |  \n",
            " |  __init__(self, /, *args, **kwargs)\n",
            " |      Initialize self.  See help(type(self)) for accurate signature.\n",
            " |  \n",
            " |  __iter__(self, /)\n",
            " |      Implement iter(self).\n",
            " |  \n",
            " |  __le__(self, value, /)\n",
            " |      Return self<=value.\n",
            " |  \n",
            " |  __len__(self, /)\n",
            " |      Return len(self).\n",
            " |  \n",
            " |  __lt__(self, value, /)\n",
            " |      Return self<value.\n",
            " |  \n",
            " |  __mul__(self, value, /)\n",
            " |      Return self*value.\n",
            " |  \n",
            " |  __ne__(self, value, /)\n",
            " |      Return self!=value.\n",
            " |  \n",
            " |  __new__(*args, **kwargs) from builtins.type\n",
            " |      Create and return a new object.  See help(type) for accurate signature.\n",
            " |  \n",
            " |  __repr__(self, /)\n",
            " |      Return repr(self).\n",
            " |  \n",
            " |  __reversed__(...)\n",
            " |      L.__reversed__() -- return a reverse iterator over the list\n",
            " |  \n",
            " |  __rmul__(self, value, /)\n",
            " |      Return value*self.\n",
            " |  \n",
            " |  __setitem__(self, key, value, /)\n",
            " |      Set self[key] to value.\n",
            " |  \n",
            " |  __sizeof__(...)\n",
            " |      L.__sizeof__() -- size of L in memory, in bytes\n",
            " |  \n",
            " |  append(...)\n",
            " |      L.append(object) -> None -- append object to end\n",
            " |  \n",
            " |  clear(...)\n",
            " |      L.clear() -> None -- remove all items from L\n",
            " |  \n",
            " |  copy(...)\n",
            " |      L.copy() -> list -- a shallow copy of L\n",
            " |  \n",
            " |  count(...)\n",
            " |      L.count(value) -> integer -- return number of occurrences of value\n",
            " |  \n",
            " |  extend(...)\n",
            " |      L.extend(iterable) -> None -- extend list by appending elements from the iterable\n",
            " |  \n",
            " |  index(...)\n",
            " |      L.index(value, [start, [stop]]) -> integer -- return first index of value.\n",
            " |      Raises ValueError if the value is not present.\n",
            " |  \n",
            " |  insert(...)\n",
            " |      L.insert(index, object) -- insert object before index\n",
            " |  \n",
            " |  pop(...)\n",
            " |      L.pop([index]) -> item -- remove and return item at index (default last).\n",
            " |      Raises IndexError if list is empty or index is out of range.\n",
            " |  \n",
            " |  remove(...)\n",
            " |      L.remove(value) -> None -- remove first occurrence of value.\n",
            " |      Raises ValueError if the value is not present.\n",
            " |  \n",
            " |  reverse(...)\n",
            " |      L.reverse() -- reverse *IN PLACE*\n",
            " |  \n",
            " |  sort(...)\n",
            " |      L.sort(key=None, reverse=False) -> None -- stable sort *IN PLACE*\n",
            " |  \n",
            " |  ----------------------------------------------------------------------\n",
            " |  Data and other attributes defined here:\n",
            " |  \n",
            " |  __hash__ = None\n",
            "\n"
          ],
          "name": "stdout"
        }
      ]
    },
    {
      "cell_type": "code",
      "metadata": {
        "id": "FH3C5SfDK8QR"
      },
      "source": [
        "#### Classes #### \n",
        "\n",
        "class Dog:\n",
        "  ## \"\"\"A simple attempt to model a dog.\"\"\"\n",
        "\n",
        "  def __init__(self, name, age):\n",
        "   ## \"\"\"Initialize name and age attributes.\"\"\"\n",
        "    self.name = name\n",
        "    self.age = age\n",
        "\n",
        "  def sit(self):\n",
        "  ##\"\"\"Simulate a dog sitting in response to a command.\"\"\"\n",
        "    print(f\"{self.name} is now sitting.\")\n",
        "\n",
        "  def roll_over(self):\n",
        "  ##\"\"\"Simulate rolling over in response to a command.\"\"\"\n",
        "     print(f\"{self.name} rolled over!\")"
      ],
      "execution_count": null,
      "outputs": []
    },
    {
      "cell_type": "code",
      "metadata": {
        "colab": {
          "base_uri": "https://localhost:8080/"
        },
        "id": "rb5uti1eK6xG",
        "outputId": "48562aee-5b13-4dce-ece9-c757c411a3fc"
      },
      "source": [
        "my_dog = Dog('Willie', 6)\n",
        "my_dog.age = 10\n"
      ],
      "execution_count": null,
      "outputs": [
        {
          "output_type": "stream",
          "text": [
            "10\n"
          ],
          "name": "stdout"
        }
      ]
    },
    {
      "cell_type": "code",
      "metadata": {
        "colab": {
          "base_uri": "https://localhost:8080/"
        },
        "id": "G1usJTfVV-Nk",
        "outputId": "b0ea7bdd-e15a-4d37-c9ed-f7c4805831ab"
      },
      "source": [
        "help(Dog)"
      ],
      "execution_count": null,
      "outputs": [
        {
          "output_type": "stream",
          "text": [
            "Help on class Dog in module __main__:\n",
            "\n",
            "class Dog(builtins.object)\n",
            " |  Methods defined here:\n",
            " |  \n",
            " |  __init__(self, name, age)\n",
            " |      Initialize self.  See help(type(self)) for accurate signature.\n",
            " |  \n",
            " |  roll_over(self)\n",
            " |  \n",
            " |  sit(self)\n",
            " |  \n",
            " |  ----------------------------------------------------------------------\n",
            " |  Data descriptors defined here:\n",
            " |  \n",
            " |  __dict__\n",
            " |      dictionary for instance variables (if defined)\n",
            " |  \n",
            " |  __weakref__\n",
            " |      list of weak references to the object (if defined)\n",
            "\n"
          ],
          "name": "stdout"
        }
      ]
    },
    {
      "cell_type": "code",
      "metadata": {
        "colab": {
          "base_uri": "https://localhost:8080/"
        },
        "id": "FlTV_denVxBw",
        "outputId": "acac7f6d-997d-4c74-ca61-43bbecf5f2e0"
      },
      "source": [
        "class Car:\n",
        "       ##\"\"\"A simple attempt to represent a car.\"\"\"\n",
        "\n",
        "       def __init__(self, make, model, year):\n",
        "           self.make = make\n",
        "           self.model = model\n",
        "           self.year = year\n",
        "           self.odometer_reading = 0\n",
        "\n",
        "       def get_descriptive_name(self):\n",
        "           long_name = f\"{self.year} {self.make} {self.model}\"\n",
        "           return long_name.title()\n",
        "\n",
        "       def read_odometer(self):\n",
        "           print(f\"This car has {self.odometer_reading} miles on it.\")\n",
        "\n",
        "       def update_odometer(self, mileage):\n",
        "           if mileage >= self.odometer_reading:\n",
        "               self.odometer_reading = mileage\n",
        "           else:\n",
        "               print(\"You can't roll back an odometer!\")\n",
        "\n",
        "       def increment_odometer(self, miles):\n",
        "           self.odometer_reading += miles\n",
        "\n",
        "class ElectricCar(Car):\n",
        "       ##\"\"\"Represent aspects of a car, specific to electric vehicles.\"\"\"\n",
        "\n",
        "     def __init__(self, make, model, year):\n",
        "      ##\"\"\"Initialize attributes of the parent class.\"\"\"\n",
        "         super().__init__(make, model, year)\n",
        "         self.battery_size = 75\n",
        "     def describe_battery(self):\n",
        "     #      \"\"\"Print a statement describing the battery size.\"\"\"\n",
        "           print(f\"This car has a {self.battery_size}-kWh battery.\")\n",
        "\n",
        "my_tesla = ElectricCar('tesla', 'model s', 2019)\n",
        "print(my_tesla.get_descriptive_name())\n",
        "my_tesla.describe_battery()\n",
        "\n"
      ],
      "execution_count": null,
      "outputs": [
        {
          "output_type": "stream",
          "text": [
            "2019 Tesla Model S\n"
          ],
          "name": "stdout"
        }
      ]
    },
    {
      "cell_type": "code",
      "metadata": {
        "colab": {
          "base_uri": "https://localhost:8080/"
        },
        "id": "BnzQZfi1Xuq0",
        "outputId": "20df6cd7-6367-4db4-90db-0f53aa9035eb"
      },
      "source": [
        "class Car:\n",
        "       ##\"\"\"A simple attempt to represent a car.\"\"\"\n",
        "\n",
        "       def __init__(self, make, model, year):\n",
        "           self.make = make\n",
        "           self.model = model\n",
        "           self.year = year\n",
        "           self.odometer_reading = 0\n",
        "\n",
        "       def get_descriptive_name(self):\n",
        "           long_name = f\"{self.year} {self.make} {self.model}\"\n",
        "           return long_name.title()\n",
        "\n",
        "       def read_odometer(self):\n",
        "           print(f\"This car has {self.odometer_reading} miles on it.\")\n",
        "\n",
        "       def update_odometer(self, mileage):\n",
        "           if mileage >= self.odometer_reading:\n",
        "               self.odometer_reading = mileage\n",
        "           else:\n",
        "               print(\"You can't roll back an odometer!\")\n",
        "\n",
        "       def increment_odometer(self, miles):\n",
        "           self.odometer_reading += miles\n",
        "class Battery:\n",
        "       ##\"\"\"A simple attempt to model a battery for an electric car.\"\"\"\n",
        "\n",
        "      def __init__(self, battery_size=75):\n",
        "        ##   \"\"\"Initialize the battery's attributes.\"\"\"\n",
        "           self.battery_size = battery_size\n",
        "\n",
        "      def describe_battery(self):\n",
        "       #    \"\"\"Print a statement describing the battery size.\"\"\"\n",
        "           print(f\"This car has a {self.battery_size}-kWh battery.\")           \n",
        "\n",
        "class ElectricCar(Car):\n",
        "       ##\"\"\"Represent aspects of a car, specific to electric vehicles.\"\"\"\n",
        "\n",
        "     def __init__(self, make, model, year):\n",
        "      ##\"\"\"Initialize attributes of the parent class.\"\"\"\n",
        "         super().__init__(make, model, year)\n",
        "         ##self.battery_size = 75\n",
        "         self.battery = Battery()\n",
        "         \n",
        "     #def describe_battery(self):\n",
        "     #      \"\"\"Print a statement describing the battery size.\"\"\"\n",
        "     #    print(f\"This car has a {self.battery_size}-kWh battery.\")\n",
        "\n",
        "     def fill_gas_tank(self):\n",
        "       # \"\"\"Electric cars don't have gas tanks.\"\"\"\n",
        "         print(\"This car doesn't need a gas tank!\")\n",
        "\n",
        "my_tesla = ElectricCar('tesla', 'model s', 2019)\n",
        "print(my_tesla.get_descriptive_name())\n",
        "my_tesla.battery.describe_battery()\n"
      ],
      "execution_count": null,
      "outputs": [
        {
          "output_type": "stream",
          "text": [
            "2019 Tesla Model S\n",
            "This car has a 75-kWh battery.\n"
          ],
          "name": "stdout"
        }
      ]
    },
    {
      "cell_type": "code",
      "metadata": {
        "colab": {
          "base_uri": "https://localhost:8080/"
        },
        "id": "s4tLuheRatF3",
        "outputId": "e2865f35-4ef6-4c6d-8de2-4f0baedbf769"
      },
      "source": [
        "help(list)\n",
        "\n"
      ],
      "execution_count": null,
      "outputs": [
        {
          "output_type": "stream",
          "text": [
            "Help on class list in module builtins:\n",
            "\n",
            "class list(object)\n",
            " |  list() -> new empty list\n",
            " |  list(iterable) -> new list initialized from iterable's items\n",
            " |  \n",
            " |  Methods defined here:\n",
            " |  \n",
            " |  __add__(self, value, /)\n",
            " |      Return self+value.\n",
            " |  \n",
            " |  __contains__(self, key, /)\n",
            " |      Return key in self.\n",
            " |  \n",
            " |  __delitem__(self, key, /)\n",
            " |      Delete self[key].\n",
            " |  \n",
            " |  __eq__(self, value, /)\n",
            " |      Return self==value.\n",
            " |  \n",
            " |  __ge__(self, value, /)\n",
            " |      Return self>=value.\n",
            " |  \n",
            " |  __getattribute__(self, name, /)\n",
            " |      Return getattr(self, name).\n",
            " |  \n",
            " |  __getitem__(...)\n",
            " |      x.__getitem__(y) <==> x[y]\n",
            " |  \n",
            " |  __gt__(self, value, /)\n",
            " |      Return self>value.\n",
            " |  \n",
            " |  __iadd__(self, value, /)\n",
            " |      Implement self+=value.\n",
            " |  \n",
            " |  __imul__(self, value, /)\n",
            " |      Implement self*=value.\n",
            " |  \n",
            " |  __init__(self, /, *args, **kwargs)\n",
            " |      Initialize self.  See help(type(self)) for accurate signature.\n",
            " |  \n",
            " |  __iter__(self, /)\n",
            " |      Implement iter(self).\n",
            " |  \n",
            " |  __le__(self, value, /)\n",
            " |      Return self<=value.\n",
            " |  \n",
            " |  __len__(self, /)\n",
            " |      Return len(self).\n",
            " |  \n",
            " |  __lt__(self, value, /)\n",
            " |      Return self<value.\n",
            " |  \n",
            " |  __mul__(self, value, /)\n",
            " |      Return self*value.\n",
            " |  \n",
            " |  __ne__(self, value, /)\n",
            " |      Return self!=value.\n",
            " |  \n",
            " |  __new__(*args, **kwargs) from builtins.type\n",
            " |      Create and return a new object.  See help(type) for accurate signature.\n",
            " |  \n",
            " |  __repr__(self, /)\n",
            " |      Return repr(self).\n",
            " |  \n",
            " |  __reversed__(...)\n",
            " |      L.__reversed__() -- return a reverse iterator over the list\n",
            " |  \n",
            " |  __rmul__(self, value, /)\n",
            " |      Return value*self.\n",
            " |  \n",
            " |  __setitem__(self, key, value, /)\n",
            " |      Set self[key] to value.\n",
            " |  \n",
            " |  __sizeof__(...)\n",
            " |      L.__sizeof__() -- size of L in memory, in bytes\n",
            " |  \n",
            " |  append(...)\n",
            " |      L.append(object) -> None -- append object to end\n",
            " |  \n",
            " |  clear(...)\n",
            " |      L.clear() -> None -- remove all items from L\n",
            " |  \n",
            " |  copy(...)\n",
            " |      L.copy() -> list -- a shallow copy of L\n",
            " |  \n",
            " |  count(...)\n",
            " |      L.count(value) -> integer -- return number of occurrences of value\n",
            " |  \n",
            " |  extend(...)\n",
            " |      L.extend(iterable) -> None -- extend list by appending elements from the iterable\n",
            " |  \n",
            " |  index(...)\n",
            " |      L.index(value, [start, [stop]]) -> integer -- return first index of value.\n",
            " |      Raises ValueError if the value is not present.\n",
            " |  \n",
            " |  insert(...)\n",
            " |      L.insert(index, object) -- insert object before index\n",
            " |  \n",
            " |  pop(...)\n",
            " |      L.pop([index]) -> item -- remove and return item at index (default last).\n",
            " |      Raises IndexError if list is empty or index is out of range.\n",
            " |  \n",
            " |  remove(...)\n",
            " |      L.remove(value) -> None -- remove first occurrence of value.\n",
            " |      Raises ValueError if the value is not present.\n",
            " |  \n",
            " |  reverse(...)\n",
            " |      L.reverse() -- reverse *IN PLACE*\n",
            " |  \n",
            " |  sort(...)\n",
            " |      L.sort(key=None, reverse=False) -> None -- stable sort *IN PLACE*\n",
            " |  \n",
            " |  ----------------------------------------------------------------------\n",
            " |  Data and other attributes defined here:\n",
            " |  \n",
            " |  __hash__ = None\n",
            "\n"
          ],
          "name": "stdout"
        }
      ]
    },
    {
      "cell_type": "code",
      "metadata": {
        "id": "f2tMO4NOYHm6"
      },
      "source": [
        ""
      ],
      "execution_count": null,
      "outputs": []
    },
    {
      "cell_type": "markdown",
      "metadata": {
        "id": "louecVYrUX3t"
      },
      "source": [
        "Exercício - Classe \n",
        "\n",
        "Restaurant: \n",
        "(a) Make a class called Restaurant. \n",
        "\n",
        "(b) The __init__() method for Restaurant should store two attributes: a restaurant_name and a cuisine_type. \n",
        "\n",
        "(c) Make a method called describe_restaurant() that prints these two pieces of information. \n",
        "\n",
        "(d) Make  a method called open_restaurant() that prints a message indicating that the restaurant is open.\n",
        "\n",
        "(e) Make an instance called restaurant from your class. Print the two attributes individually, and then call both methods."
      ]
    },
    {
      "cell_type": "code",
      "metadata": {
        "id": "sU-XdfZrz4uY"
      },
      "source": [
        "import numpy as np\n",
        "import time\n"
      ],
      "execution_count": null,
      "outputs": []
    },
    {
      "cell_type": "code",
      "metadata": {
        "colab": {
          "base_uri": "https://localhost:8080/"
        },
        "id": "UiYfBuN5gJnQ",
        "outputId": "76c532be-2e1b-405a-f0f5-a63b547a2527"
      },
      "source": [
        "\n",
        "t0 = time.clock()\n",
        "\n",
        "my_arr = np.arange(1000000)\n",
        "my_list = list(range(1000000))\n",
        "for _ in range(10): my_arr2 = my_arr * 2\n",
        "for _ in range(10): my_list2 = [x * 2 for x in my_list]\n",
        "\n",
        "t1 = time.clock() - t0\n",
        "print(t1)\n"
      ],
      "execution_count": null,
      "outputs": [
        {
          "output_type": "stream",
          "text": [
            "0.7907590000000004\n"
          ],
          "name": "stdout"
        }
      ]
    },
    {
      "cell_type": "code",
      "metadata": {
        "colab": {
          "base_uri": "https://localhost:8080/"
        },
        "id": "NYg36-5RgnVH",
        "outputId": "897f95ad-cc54-433a-810b-34c7734ec18a"
      },
      "source": [
        "data = np.random.randn(2, 3)\n",
        "data"
      ],
      "execution_count": null,
      "outputs": [
        {
          "output_type": "execute_result",
          "data": {
            "text/plain": [
              "array([[-0.06343733, -0.32716656,  1.68011567],\n",
              "       [-0.28106421, -0.80787468, -0.27878141]])"
            ]
          },
          "metadata": {
            "tags": []
          },
          "execution_count": 6
        }
      ]
    },
    {
      "cell_type": "code",
      "metadata": {
        "colab": {
          "base_uri": "https://localhost:8080/"
        },
        "id": "iuglRzCPgsjV",
        "outputId": "06aeda34-f965-4410-a555-af8c2698a730"
      },
      "source": [
        "data.shape\n",
        "\n"
      ],
      "execution_count": null,
      "outputs": [
        {
          "output_type": "execute_result",
          "data": {
            "text/plain": [
              "(2, 3)"
            ]
          },
          "metadata": {
            "tags": []
          },
          "execution_count": 33
        }
      ]
    },
    {
      "cell_type": "code",
      "metadata": {
        "colab": {
          "base_uri": "https://localhost:8080/"
        },
        "id": "jCwaSDBCg8LZ",
        "outputId": "1deead5b-535b-46f0-8498-48e5edca25a7"
      },
      "source": [
        "data.dtype"
      ],
      "execution_count": null,
      "outputs": [
        {
          "output_type": "execute_result",
          "data": {
            "text/plain": [
              "dtype('float64')"
            ]
          },
          "metadata": {
            "tags": []
          },
          "execution_count": 9
        }
      ]
    },
    {
      "cell_type": "code",
      "metadata": {
        "colab": {
          "base_uri": "https://localhost:8080/"
        },
        "id": "CZRzfB1KhQLP",
        "outputId": "6e6b9e2c-a79c-4e58-b999-940c8725a730"
      },
      "source": [
        "data2 = [[1, 2, 3, 4], [5, 6, 7, 8]]\n",
        "\n",
        "arr2 = np.array(data2)\n",
        "arr2"
      ],
      "execution_count": null,
      "outputs": [
        {
          "output_type": "execute_result",
          "data": {
            "text/plain": [
              "array([[1, 2, 3, 4],\n",
              "       [5, 6, 7, 8]])"
            ]
          },
          "metadata": {
            "tags": []
          },
          "execution_count": 10
        }
      ]
    },
    {
      "cell_type": "code",
      "metadata": {
        "colab": {
          "base_uri": "https://localhost:8080/"
        },
        "id": "ywCI8Izlhfx8",
        "outputId": "b2921e62-3fc8-4b4b-db95-68cd0937a6d2"
      },
      "source": [
        "arr2.shape"
      ],
      "execution_count": null,
      "outputs": [
        {
          "output_type": "execute_result",
          "data": {
            "text/plain": [
              "(2, 4)"
            ]
          },
          "metadata": {
            "tags": []
          },
          "execution_count": 12
        }
      ]
    },
    {
      "cell_type": "code",
      "metadata": {
        "colab": {
          "base_uri": "https://localhost:8080/"
        },
        "id": "giZfnH0jhYJQ",
        "outputId": "48ce4c36-a417-423b-ea95-2328711d28b7"
      },
      "source": [
        "arr2.ndim"
      ],
      "execution_count": null,
      "outputs": [
        {
          "output_type": "execute_result",
          "data": {
            "text/plain": [
              "2"
            ]
          },
          "metadata": {
            "tags": []
          },
          "execution_count": 11
        }
      ]
    },
    {
      "cell_type": "code",
      "metadata": {
        "colab": {
          "base_uri": "https://localhost:8080/"
        },
        "id": "VAu-mnKZiNj1",
        "outputId": "daa43624-ff31-4411-b5c4-621452b01b8d"
      },
      "source": [
        "arr1 = np.array([1, 2, 3], dtype=np.float64)\n",
        "arr2 = np.array([1, 2, 3], dtype=np.int32)\n",
        "print(arr1.dtype)\n",
        "print(arr2.dtype)"
      ],
      "execution_count": null,
      "outputs": [
        {
          "output_type": "stream",
          "text": [
            "float64\n",
            "int32\n"
          ],
          "name": "stdout"
        }
      ]
    },
    {
      "cell_type": "code",
      "metadata": {
        "colab": {
          "base_uri": "https://localhost:8080/"
        },
        "id": "TvffIFhyicpt",
        "outputId": "5e2b99ac-e240-4b2c-8f15-e4b0c36289cc"
      },
      "source": [
        "arr = np.array([1, 2, 3, 4, 5])\n",
        "float_arr = arr.astype(np.float64)\n",
        "float_arr.dtype"
      ],
      "execution_count": null,
      "outputs": [
        {
          "output_type": "execute_result",
          "data": {
            "text/plain": [
              "dtype('float64')"
            ]
          },
          "metadata": {
            "tags": []
          },
          "execution_count": 15
        }
      ]
    },
    {
      "cell_type": "code",
      "metadata": {
        "colab": {
          "base_uri": "https://localhost:8080/"
        },
        "id": "1B2s_8i6isFq",
        "outputId": "656dcd2d-4122-400c-e8f9-36abb11d9b5f"
      },
      "source": [
        "arr = np.array([3.7, -1.2, -2.6, 0.5, 12.9, 10.1])\n",
        "arr.astype(np.int32)"
      ],
      "execution_count": null,
      "outputs": [
        {
          "output_type": "execute_result",
          "data": {
            "text/plain": [
              "array([ 3, -1, -2,  0, 12, 10], dtype=int32)"
            ]
          },
          "metadata": {
            "tags": []
          },
          "execution_count": 16
        }
      ]
    },
    {
      "cell_type": "code",
      "metadata": {
        "colab": {
          "base_uri": "https://localhost:8080/"
        },
        "id": "4oc0YiWZi2B0",
        "outputId": "c0bd2a91-489d-4dc4-f877-d6008b7617a8"
      },
      "source": [
        "arr = np.array([[1., 2., 3.], [4., 5., 6.]])\n",
        "arr1 = np.array([1,2,3])\n",
        "arr2 = np.array([3,2,1])\n",
        "print(arr1 * arr2)\n",
        "print(arr1 - arr2)"
      ],
      "execution_count": null,
      "outputs": [
        {
          "output_type": "stream",
          "text": [
            "[3 4 3]\n",
            "[-2  0  2]\n"
          ],
          "name": "stdout"
        }
      ]
    },
    {
      "cell_type": "code",
      "metadata": {
        "id": "40_5NHqMj07s"
      },
      "source": [
        ""
      ],
      "execution_count": null,
      "outputs": []
    },
    {
      "cell_type": "code",
      "metadata": {
        "colab": {
          "base_uri": "https://localhost:8080/"
        },
        "id": "HeL2jwR9joQ9",
        "outputId": "aa047eb1-57c9-4d8b-9bfb-9d2dbbb73909"
      },
      "source": [
        "arr2 = np.array([[0., 4., 1.], [7., 2., 12.]])\n",
        "arr2 > arr"
      ],
      "execution_count": null,
      "outputs": [
        {
          "output_type": "execute_result",
          "data": {
            "text/plain": [
              "array([[False,  True, False],\n",
              "       [ True, False,  True]])"
            ]
          },
          "metadata": {
            "tags": []
          },
          "execution_count": 9
        }
      ]
    },
    {
      "cell_type": "code",
      "metadata": {
        "colab": {
          "base_uri": "https://localhost:8080/"
        },
        "id": "r1mlLWW0juz2",
        "outputId": "49c50681-5b84-4ec2-d349-cd6594de2066"
      },
      "source": [
        "arr = np.arange(10)\n",
        "print(arr)\n",
        "arr_slice = arr[5:8]\n",
        "arr_slice"
      ],
      "execution_count": null,
      "outputs": [
        {
          "output_type": "stream",
          "text": [
            "[0 1 2 3 4 5 6 7 8 9]\n"
          ],
          "name": "stdout"
        },
        {
          "output_type": "execute_result",
          "data": {
            "text/plain": [
              "array([5, 6, 7])"
            ]
          },
          "metadata": {
            "tags": []
          },
          "execution_count": 11
        }
      ]
    },
    {
      "cell_type": "code",
      "metadata": {
        "colab": {
          "base_uri": "https://localhost:8080/"
        },
        "id": "VvgeDXx-kBLm",
        "outputId": "c347912c-c5c4-436f-b1a9-6c06fef579d1"
      },
      "source": [
        "arr_slice[1] = 12345\n",
        "print(arr_slice)\n",
        "print(arr)"
      ],
      "execution_count": null,
      "outputs": [
        {
          "output_type": "stream",
          "text": [
            "[    5 12345     7]\n",
            "[    0     1     2     3     4     5 12345     7     8     9]\n"
          ],
          "name": "stdout"
        }
      ]
    },
    {
      "cell_type": "markdown",
      "metadata": {
        "id": "mgkkOhKZkrDl"
      },
      "source": [
        "![image.png](data:image/png;base64,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)"
      ]
    },
    {
      "cell_type": "code",
      "metadata": {
        "colab": {
          "base_uri": "https://localhost:8080/"
        },
        "id": "ijF8lseRkwo7",
        "outputId": "0163c942-26fa-4e46-e614-d399c2bfa91d"
      },
      "source": [
        "arr = np.arange(15).reshape((3, 5))\n",
        "arr"
      ],
      "execution_count": null,
      "outputs": [
        {
          "output_type": "execute_result",
          "data": {
            "text/plain": [
              "array([[ 0,  1,  2,  3,  4],\n",
              "       [ 5,  6,  7,  8,  9],\n",
              "       [10, 11, 12, 13, 14]])"
            ]
          },
          "metadata": {
            "tags": []
          },
          "execution_count": 24
        }
      ]
    },
    {
      "cell_type": "code",
      "metadata": {
        "id": "aQDzJ4VKlADe"
      },
      "source": [
        "x = np.array([ 2.1695, -0.1149,  2.0037,  0.0296])"
      ],
      "execution_count": null,
      "outputs": []
    },
    {
      "cell_type": "code",
      "metadata": {
        "colab": {
          "base_uri": "https://localhost:8080/"
        },
        "id": "cBrE7D7ImOFT",
        "outputId": "d1d5ff12-4a75-4d25-f901-83664996b568"
      },
      "source": [
        "x.mean()"
      ],
      "execution_count": null,
      "outputs": [
        {
          "output_type": "execute_result",
          "data": {
            "text/plain": [
              "1.021975"
            ]
          },
          "metadata": {
            "tags": []
          },
          "execution_count": 28
        }
      ]
    },
    {
      "cell_type": "code",
      "metadata": {
        "colab": {
          "base_uri": "https://localhost:8080/"
        },
        "id": "-LzD404UmnFZ",
        "outputId": "c1c51866-fde8-4a51-a833-af8545a80b07"
      },
      "source": [
        "arr = np.random.randn(5, 4)\n",
        "print(arr)\n"
      ],
      "execution_count": null,
      "outputs": [
        {
          "output_type": "stream",
          "text": [
            "[[-0.96914698 -0.25591438 -0.00869605  0.97640084]\n",
            " [-0.63108953 -0.62865546  0.17362043 -0.17065216]\n",
            " [-0.60747343  0.67202317  0.86751849  0.43194989]\n",
            " [ 0.14054429 -0.11264539  1.51094848  0.83079904]\n",
            " [-0.29863523 -1.47664522 -0.84830646 -3.02261114]]\n"
          ],
          "name": "stdout"
        },
        {
          "output_type": "execute_result",
          "data": {
            "text/plain": [
              "array([-0.06433914, -0.31419418,  0.34100453,  0.5924116 , -1.41154951])"
            ]
          },
          "metadata": {
            "tags": []
          },
          "execution_count": 30
        }
      ]
    },
    {
      "cell_type": "code",
      "metadata": {
        "colab": {
          "base_uri": "https://localhost:8080/"
        },
        "id": "QrhHwnejm4S7",
        "outputId": "513d9a0f-5f9a-4a71-d465-956c89f65b77"
      },
      "source": [
        "arr.mean(axis=1)"
      ],
      "execution_count": null,
      "outputs": [
        {
          "output_type": "execute_result",
          "data": {
            "text/plain": [
              "array([-0.06433914, -0.31419418,  0.34100453,  0.5924116 , -1.41154951])"
            ]
          },
          "metadata": {
            "tags": []
          },
          "execution_count": 32
        }
      ]
    },
    {
      "cell_type": "code",
      "metadata": {
        "colab": {
          "base_uri": "https://localhost:8080/"
        },
        "id": "og0YJrc1myq9",
        "outputId": "a2cdbda4-98ca-4539-ef51-54f1523b1ae6"
      },
      "source": [
        "arr.sum(axis=0)"
      ],
      "execution_count": null,
      "outputs": [
        {
          "output_type": "execute_result",
          "data": {
            "text/plain": [
              "array([-2.36580088, -1.80183727,  1.69508489, -0.95411353])"
            ]
          },
          "metadata": {
            "tags": []
          },
          "execution_count": 31
        }
      ]
    },
    {
      "cell_type": "markdown",
      "metadata": {
        "id": "7uuadaB8nExL"
      },
      "source": [
        "![Screen Shot 2021-02-08 at 6.46.16 PM.png](data:image/png;base64,iVBORw0KGgoAAAANSUhEUgAAA3sAAAIXCAYAAAAljEd2AAAYOGlDQ1BJQ0MgUHJvZmlsZQAAWIWVWQk4Vd3X3+fcGdc8z/OYeSbzPM9jKtc80zWrJCRTSYYUUnhFikZTQiQlmRKlSJlLpQEJ+Q6q9/2//+f5vufbz7PP+d211157rbXXHta5AHAokMLCgmBaAIJDIsi2Rrq8zi6uvLhpAAMsYABsgIHkGR6mY21tDpDy+/2fZXkYQFvvp5Jbsv67/X8tdF7e4Z4AQNYI9vAK9wxG8C0A0EqeYeQIADALCF0gOiIMwVhES8BIRhREsOAW9t3BKlvYYwebb/PY2+oh2B0APBWJRPYFgHpLL94oT19EDnUm0kYf4uUfgrBeQLCmpx/JCwD2CYRnV3BwKII5qBAs6vEPOb7/IdPjj0wSyfcP3rFlu+D1/cPDgkix/093/N8lOCjy9xgCSKXyIxvbbtm85bfAULMtjOgOPQzxsLRCMD2Ch/y9tvm38IxfpLHDL/7vnuF6iM8AMwAwlRdJ3wzBnAjmDwmyNP9F1/TxNzRBMOJ72N4/wsR+py/sRQ61/SUfjvEON7D7jUnk7bG2eNIjAx10fsk87+dt8ltmU5yfvdOOnnB/lL+jJYKpEfwqPNDO7BfPuzg/PcvfPORI2y2dkTlHAR+yoe0OD0owOPy3XSg1P38Ty1/YPMLP3ninL2qfJ2lbN1YEB3iHO5v/1tPLW99gxy5UoneIwy/9UafDInRtf/GXhwVZ/+JHNXsHGW3R+RHcGx5l97vvYgQSbDv2okFYhLX9jm5oxgCSqfWODmhxYA70gD7gBZFI9QChIAD49y7ULyC/dloMAQmQgS/wBpK/KL97OG23hCBPOxAHPiDIG4T/6ae73eoNohD6xh/qzlMS+Gy3Rm33CAQzCA4GZiAI+R253Svkz2iOYAqh+P/X6J6IrkFI3Wr7LxovzW8a1gCrjzXGGmLF0OxoTbQ62hx5aiNVDq2CVv2t19/8mBnMAOYt5hlmAvNiv38i+V+a8wILMIHoaPjLOo9/WocWRqQqonXRGoh8RDaaGc0OJNEKyEg6aC1kbEWE+k9dI/9Y/Lcvf8kiyBBgAgtBmyD6bw2oxakV/0jZ8tQ/fbGjl8cfb+n9afm3HXr/8J8X8jb7NycqFXUT1YW6h3qEakbVA15UK6oB1YO6u4X/xMbUdmz8Hs12W59ARI7/f41H+jXmltfCZapl5mXWf7WBCO+YiK3FohcaFkv29/WL4NVBdmtvXpMQT6ldvHIycrIAbO39O1vLV9vtPR1i7vubRkL2OBU5ACh0/6aFImu7Jg8J+bN/04SRdcimCsANW89IctQODb31wAAKQIOsFDbAjexdoohFckAJqANtYABMgRWwBy5gH+JnPyROySAaHAJHQQrIAKdAHjgHSkAZqARXwQ1QD5rBPfAAPAb94Bl4icTKNHgPFsEyWIMgCAcRIQaIDeKBhCAJSA5SgTQhA8gcsoVcIHfIFwqBIqFDUBKUAZ2GzkEXoSroOtQI3YMeQQPQC+gNNA99gX7AKJgKZoS5YGFYGlaBdWAz2B7eC/vCB+A4OBk+CRfApfAVuA6+Bz+Gn8ET8Ht4CQVQlChmFB9KEqWC0kNZoVxRPigyKh6VjspHlaJqUE3ITD9FTaAWUKtoLJoBzYuWROLVGO2A9kQfQMejM9Hn0JXoOvR99FP0G/Qi+ieGiOHESGDUMCYYZ4wvJhqTgsnHVGBuYzqRtTONWcZiscxYEawysvZcsAHYg9hMbDG2FtuGHcBOYpdwOBwbTgKngbPCkXARuBTcWdwVXCtuEDeN+46nxPPg5fCGeFd8CD4Rn4+/jG/BD+Jn8WsEWoIQQY1gRfAixBKyCOWEJkIfYZqwRkFHIUKhQWFPEUBxlKKAooaik+IVxVdKSkp+SlVKG0p/ygTKAsprlA8p31CuUtFTiVPpUblRRVKdpLpE1Ub1guorkUgUJmoTXYkRxJPEKmIHcZz4nZqBWorahNqL+gh1IXUd9SD1RxoCjRCNDs0+mjiafJqbNH00C7QEWmFaPVoSbTxtIW0j7QjtEh0DnSydFV0wXSbdZbpHdHP0OHphegN6L/pk+jL6DvpJBhSDAIMegydDEkM5QyfDNCOWUYTRhDGAMYPxKmMv4yITPZMCkyNTDFMh012mCWYUszCzCXMQcxbzDeZh5h8sXCw6LN4saSw1LIMsK6wcrNqs3qzprLWsz1h/sPGyGbAFsmWz1bONsaPZxdlt2KPZz7N3si9wMHKoc3hypHPc4BjlhDnFOW05D3KWcfZwLnFxcxlxhXGd5ergWuBm5tbmDuDO5W7hnudh4NHk8efJ5WnlecfLxKvDG8RbwHufd5GPk8+YL5LvIl8v3xq/CL8DfyJ/Lf+YAIWAioCPQK5Au8CiII+gheAhwWrBUSGCkIqQn9AZoS6hFWERYSfh48L1wnMirCImInEi1SKvRImiWqIHREtFh8SwYipigWLFYv3isLiiuJ94oXifBCyhJOEvUSwxsAuzS3VXyK7SXSOSVJI6klGS1ZJvpJilzKUSpeqlPkoLSrtKZ0t3Sf+UUZQJkimXeSlLL2sqmyjbJPtFTlzOU65QbkieKG8of0S+Qf6zgoSCt8J5heeKDIoWiscV2xU3lJSVyEo1SvPKgsruykXKIyqMKtYqmSoPVTGquqpHVJtVV9WU1CLUbqh9UpdUD1S/rD63W2S39+7y3ZMa/BokjYsaE5q8mu6aFzQntPi0SFqlWm+1BbS9tCu0Z3XEdAJ0ruh81JXRJeve1l3RU9M7rNemj9I30k/X7zWgN3AwOGcwbshv6GtYbbhopGh00KjNGGNsZpxtPGLCZeJpUmWyaKpsetj0vhmVmZ3ZObO35uLmZPMmC9jC1CLH4pWlkGWIZb0VsDKxyrEasxaxPmB9xwZrY21TaDNjK2t7yLbLjsFuv91lu2V7Xfss+5cOog6RDu2ONI5ujlWOK076TqedJpylnQ87P3Zhd/F3aXDFuTq6Vrgu7THYk7dn2k3RLcVteK/I3pi9j/ax7wvad3c/zX7S/pvuGHcn98vu6yQrUilpycPEo8hj0VPP84zney9tr1yveW8N79Pesz4aPqd95nw1fHN85/20/PL9Fvz1/M/5fw4wDigJWAm0CrwUuBnkFFQbjA92D24MoQ8JDLkfyh0aEzoQJhGWEjZxQO1A3oFFshm5IhwK3xveEMGIXLJ7IkUjj0W+idKMKoz6Hu0YfTOGLiYkpidWPDYtdjbOMO6vg+iDngfbD/EdOnrozWGdwxfjoXiP+PYjAkeSj0wnGCVUHqU4Gnj0SaJM4unEb0lOSU3JXMkJyZPHjI5Vp1CnkFNGjqsfL0lFp/qn9qbJp51N+5nuld6dIZORn7Ge6ZnZfUL2RMGJzZM+J3uzlLLOn8KeCjk1nK2VXXma7nTc6ckci5y6XN7c9NxvefvzHuUr5JecoTgTeWaiwLyg4azg2VNn18/5nXtWqFtYW8RZlFa0UuxVPHhe+3xNCVdJRsmPC/4Xnl80ulhXKlyaX4YtiyqbKXcs7/pL5a+qCvaKjIqNSyGXJiptK+9XKVdVXea8nFUNV0dWz19xu9J/Vf9qQ41kzcVa5tqMa+Ba5LV3192vD98wu9F+U+VmzS2hW0W3GW6n10F1sXWL9X71Ew0uDQONpo3tTepNt+9I3bnUzNdceJfpblYLRUtyy2ZrXOtSW1jbwj3fe5Pt+9tfdjh3DN23ud/badb58IHhg44una7WhxoPmx+pPWrsVumuf6z0uK5Hsef2E8Unt3uVeuv6lPsa+lX7mwZ2D7QMag3ee6r/9MGQydDjZ5bPBoYdhp+PuI1MPPd6Pvci6MXn0ajRtZcJrzCv0sdox/LHOcdLX4u9rp1Qmrj7Rv9Nz1u7ty8nPSffT4VPrU8nzxBn8md5Zqvm5Oaa5w3n+9/teTf9Puz92kLKB7oPRR9FP976pP2pZ9F5cfoz+fPml8yvbF8vfVP41r5kvTS+HLy8tpL+ne175arKatcPpx+za9HruPWCDbGNpp9mP19tBm9uhpHIpO2rAAqpsI8PAF8uAUB0AYChH7lT7NnJzX4VFHL5gJG3IyQFvYfvo5LQdhhtrAiOHc9K4KHQoLSkCiSeom6kWaCTpPdmKGOcZBZniWVtZafhcOIs5/rKs5s3me+JAJ2grdAJ4ceiQExe3EfizK5uyRVpURkb2QS5avlnirCSrPJelXTVOrU3u4kaKpruWmna13Ve6eH1lQw8DU8ZNRiPm0JmguZGFgGWWVa3rJ/bfLdjtpd3sHIMdjrhXOPy2PXNnkW3lb1r+4E7BYnNQ9JTx8vWe7+Pty/Jz85/dwBvIBQ4EdQafCEkKdQvzPqACpk3HB/+KWI4siWqMjonJj42KM7loMkhjcPK8UpHVBN0jpolOiV5J0ccO5aSe7w89WZaW3pPxnDm6xOzJz9kfTm1lL18eilnKfdHPvoMU8Gus0bnPAuPFBUU15xvLXl8YejiaOlE2Xz5twrUJaZK8Srdy27V0Vdyr96oGaj9fJ3uhvxNu1vht0/VVdU3Ndxr7Ghqu3On+fbd2paq1rK24nt57ekdh+4HdNo9UOpi7Vp9OPGor/vB446ee0+ae2v7CvrDB/QGiYNPnxYO+TxTHMYMj4xUPo96oT2KHe1C4kvx1exY9rj6+OTrExPqE+/flLy1nURN1k45TK1O587smmmdtZ2dmjs2Lz0/9a7yfciC/MLSh9qPnp/oPt1etF6c+XzoC8uXB1+zvoUskZZ9kDia+tG5IbW5uT3/AtA1OAAlh5pDX8ckYJ1xGnhJggiFCCU/lQxRjdqGxpM2nq6EvoVhnomWWYWFxJrKdot9nJOSS557D08C70W+Vv6XAktClMI8IoqiJmLu4rESObuuS/ZIzcmgZfnkdsu7KkQoZiiVKzeqPFF9q/ZtN1aDQ1NWy0I7SCdL95pev/4HQ7wRl7GciYGpg5mneYhFjGW8VZL1MZsU21S7dPtMh3THZKdYZz8Xe1f9PVpuhntd90Xvz3O/Rmr36Pbs9LrtXeRz0NfJT8afyn8hoD+wKagquDAkKzQxjHzAjawdzhO+FvEs8mpUSrRHjEGsTJzgQa5DbIeZ4mmPYI8sJ7w92p14PSkvOfrY3hTT4/qp5mmk9KMZf2U+ODF+8mPW0qmV7KXTX3MWcz/kLeR/PPP9LO051cKQoori3vOTJfMXpi++Ln1RNlD+8K+WiuZL3ZUfLvNV771SdPVFLeM1y+upyO61eluqzqu+sGGwCXNHoXn/3WMtFa3NbS33Lref6jh8P7oz4UFWV/HDskfnu08+juyxeyLZi+4d7bvRnzEQMGjz1GDI4JnNsMdI5PPkF8dHD7/0eaU3xj62MN74+viE8xvJt/i3M5MdU8XTB2a0Z6lmh+bK5o+883/vteD3Ifhj2KewxbDP5C9RX2O/RS/5Lxut0Kzc/G7w/fGq6+qHH/3rVBuj2/MvAe5DZtBz2BuFRWWhJdB9mDisNHYe9xfejyBNWKXopiyhiibaUsvRUNMs076ga6OvYshhPMzky2zLosEqxsbEts4+xzHI2cJVw13GU8ibz5fLnyWQIhglRBI2EOEV+S7aI1YiHi5hvItPEpaclxqRfijTJHtZrkA+QcFdUVUJq9SnnKfirMqm+kKtWN1rt5wGVmNcs04rS9tPR19XWI9WH+h/NZg1HDa6Y5xv4m0qZDphVmBuZYGz6LBMsjKxZrV+Z9Nim2PnZ6/uQHQYd7zqdMjZ1IXJ5bVr5Z5Q5Pxf3Xt3X8J+PXe8+wCpyCPQc7cXldeo9yWfA74qvut+rf4JAdqBILAt6GiwXgg6pDP0WJhO2PcD1WQX5MyuirCK+BZZELU7ajw6IYYr5m6sexxz3OjB6kNJh53jReOXj3Qk5Bz1TdRPEk9mPUaZAlK+HZ9MfZJWm56ZQcpUOIE7MXryWlb6qcBso9P0px/k7MlZyI3L08nXPZN6Fn8uvXCqmO28XInqBdWLiqXSZaLlfH+xVdBdoqgkVNEgkaRxxf3q8ZqrtU+vrd8Qvel66/TtgXrGBpfGoqaRZsxdsRajVo+2I/fOt7d0vL6/+YCvS++h76PM7uuPh3s2esX69vSfGRh/Kjd04tnHEbvnjaN8L/PGpF9Tv4meypiL/WD5ZXnVZmv+d77RbRWsEgA5SJ7peAKp8wBk1yN55h0AWCgAsCYCYK8K4OM1ADaqAVDgsT/nB4Qknngk52QGPEAMKCCZpjlwRfLmGJCGZJRXQAsYBDNgHaKHxCBtJD8Mh04g+WAnNAlDMB+sC3vBx5EsbxD+gRJAWaDiUJWoETQerYYORpehX2DoMWZIRtaBhbDa2ARsOw6DM8Wdwj3H8+GD8I0EHMGJUEn4QWFBcZFihdKSspIKTeVB1UEUIqYRP1LbUzcjmU42LaA9QDtF50LXR29If5dBhaGOUY2xg8mWaZI5kgXLks8qzNrAZsk2x57KIcsxyVnC5cEtwf2d5wFvHp8Xv4IAVuCl4E2hLOEgETNRCTGi2KL4M4k7u85Lxku5SavKMMosyj6RuyyfpuCnaKokpcykvKnyQXVcbVC9e3enxn3NLq1e7VGdOd1lfWCARfY5vDHehGBKZcZozmehYGlpFWKda9NsO21PdFBwdHE67HzB5b7rrBvlXpl9jvsPuZeTej2+ewl62/kc8232+xGgF3g2aDXEM3TwgCG5OUIhsjZaMuZ63O6D/YdDj3AmDCfmJpsfWz6em7YrvTPT+yRT1uvsJzljeZsFvOdUi8zP778QW3qhfPSSZNWFKzI1E9cv3tpXT9lY07y3VaKdp9PwYWkPVZ/owPJQ9ojoi4FX51+feTs44z6/+oH+05Uv4JvMsurK5mr6j4a1ofU7G2U/wzaVt/cPaPubAz3gAMJADmgBC+AGgkE8yAbloBH0gWmwATFD0pAp5AMlQaXQPegtjIZFYHOYDJ+DO+BPKE6UGeoQqhY1hWZH26Iz0J0YCKOBOYi5g1nHamGTsI9wtDgX3F+4L3gdfA5+hqBOyCEsUBgic75O6Ux5C8mEyVRDRFXiBWpK6hjqWRoXml5aQ9o2Ok26Vno9+m4GO4YxJDP9wZTFLM78mOUAKzNrHZsN2wx7LAeRo5xTm3OKK5vblIeaZ4z3Jt9Jfn8BXUFWwfdCd4VPifiI6ooJidNL4HdhJPFS1NL0MnSyeNlVuTn5EYVuxXtK95S7VV6qflGn3i2jYaPprxWhTdbx03XWM9JXNVAwVDEyMt5vEm960azLfNGSw8rAOhA503LtztjnOeQ6XnBqdf7sqrgnwe3JPu79Ee59HgKePl553rd9en2n/NYCmAPlg+yDo0LOhbaFvSOzhBtGREVeihqNoY21iMs6+PywcPzhI5NHfZNok7tTIlKxaccz0JmpJzmyOrITc5zz9M6on1UvVC9WLRG7iC59UB5VwXHpbpVHNdOVsZrOa303lm7L1h9qfNxM06LfRm6vuD/fpfvoRo9sb1H/2OC3oc/Ds88nR+defXsNvaGYZJwWnDWez19Q/pT+tWIlaLV3LXm9Y+Pbz9Xt+YeR1U8HuIEk0AQ2wAccBvngGugB7yACJAFZQGSoAGqD3sHMsD4cAVfAoyg6lAkqGdWG2kCro+PQTeh1jA4mHTOCFcMexY7hNHGleDw+FD9EUCUUU8AUARTPKPUp71CpUt0jWhNnqBNp+GjaaN1ol+lO0UvSP2EIYSQyVjLpMr1ijmXhZullPcnmwa7LIc7JyLnGNcbdwHOaN5jPnF9GgFUQK7gq9Fn4k8hX0Q1xagnBXdqS7lIJ0sUyDbJP5b4qsCuaKCUqd6hSqbmpX9PAIXfVFh1+3Rx9ZoMaI1cTOtMB83OWodYOtnJ2ow6ujj3Oxi5P9/i4fd+X5A6RwjyeeSl7F/kS/I4GUASWBVuEgrB6cmgEd2RHdGSs18GP8eUJsUeHE9eT4WP4FNrj8qnhaUMZDpnzJ1NPSWW/yEnNU8//XFB1bl8RRfGlEuULd0u1ytr+0q/orrSuGqq2v9JfY1jbeF30xplb+NuH69Yb0pqE7/TfTWxVaptvL7pv9QDddedR+GOJnqne8/3Og4xPB59ljZg+3xy98spqbO515MTG28Qp1HTiLDyX9A79/sjCx4+Gn2IXiz+f+BL5Vf/ryrfLS5ZLL5f9lpdXolbmv7t971vVW63+QfwR9mNwTXGtYO3zusl66frahv3G1Z+on84/r2xCmw6bl7fmP9xHXm77+ICodAHAjG9ufhUGAHcagI3szc210s3NjTIk2XgFQFvQzv8+22cNLQBFr7dQt/jT9X////I/+5nQvpzU7ioAAAGdaVRYdFhNTDpjb20uYWRvYmUueG1wAAAAAAA8eDp4bXBtZXRhIHhtbG5zOng9ImFkb2JlOm5zOm1ldGEvIiB4OnhtcHRrPSJYTVAgQ29yZSA1LjQuMCI+CiAgIDxyZGY6UkRGIHhtbG5zOnJkZj0iaHR0cDovL3d3dy53My5vcmcvMTk5OS8wMi8yMi1yZGYtc3ludGF4LW5zIyI+CiAgICAgIDxyZGY6RGVzY3JpcHRpb24gcmRmOmFib3V0PSIiCiAgICAgICAgICAgIHhtbG5zOmV4aWY9Imh0dHA6Ly9ucy5hZG9iZS5jb20vZXhpZi8xLjAvIj4KICAgICAgICAgPGV4aWY6UGl4ZWxYRGltZW5zaW9uPjg5MTwvZXhpZjpQaXhlbFhEaW1lbnNpb24+CiAgICAgICAgIDxleGlmOlBpeGVsWURpbWVuc2lvbj41MzU8L2V4aWY6UGl4ZWxZRGltZW5zaW9uPgogICAgICA8L3JkZjpEZXNjcmlwdGlvbj4KICAgPC9yZGY6UkRGPgo8L3g6eG1wbWV0YT4KyfTDlQAAQABJREFUeAHsnQWY3LbTh5U2bVNmppSZuU3blBlT5qYM/zIzMzMzM3PalJmZGVJmbvfTq2b28zkGLdzl9u43z3O3u7Ysy69keUYzkntUvDiJCIiACIiACIiACIiACIiACIhAlyIwTJe6Gl2MCIiACIiACIiACIiACIiACIhAICBjTw1BBERABERABERABERABERABLogARl7XbBSdUkiIAIiIAIiIAIiIAIiIAIi0LMIwaOPPuq+/PLLoiRh35xzzukmn3zy3HQfffSRu+aaa9xjjz3mVlppJbfppptmpuV8Dz30kHv11VfdQQcd5KaeeurMdPVuPOecc9w444zjVl999agsPvvsM3fqqae2STvttNPmlr9NwsE//v33X3fHHXe4v/76q7q7R48ebqyxxgrMJp10UjfMMM23ud955x33ww8/uLnmmqt6Xn1pPwL//POPu/fee12fPn3cKKOMUveJmpVPVgHa+/7KOmfZtk8//dTdfvvt7oUXXnDzzz+/22ijjcoOqWn/Bx984G699Vb3xBNPuPXWW8+tsMIKNR2vxCIgAiIgAiIgAiLQygRyrQzWbcHgQkkadthh3dhjj+1uvPFGd/jhhzsU0tFHH929+eab4fdvv/1WyGCyySZzSy65pMPoKzI+FlpoITfCCCM4jKwpp5yyMM9ad55//vkOY68WA/Kyyy5zv//+e5u/iSeeuKZTY8gtu+yy7oEHHgisnnvuOTfVVFO5zz//3G2xxRZuhx12cD/++GNNecYkPv74493ee+8dk1RpmkDgpZdecvvtt5+76667GsqtWflkFaI976+s88Vs437CQH7qqadqujdj8iZN7969w/1GXzXrrLPGHqZ0IiACIiACIiACItAlCOR69t566y23+OKLVw0GPFQHHnhg8FqsttpqwQBk/3vvvefwdpUJSuxII43kZppppsKkKGVzzz13U71dV1xxhRswYIAbbbTR3Mwzz1x4ftv59ddfu59//tmdeOKJtqnuz549ezr+kHXWWScwmGWWWYLnDQMUz8P6669fd/5ZB2611Vbum2++ydqlbYMJwIc2OeKII9bMJH0s7XrnnXcO90wtmTUrn9hztsf9FXtuS/fxxx87PNomb7/9thtuuOHcHHPMYZua+vnKK6+4iSaaqM05m3oCZSYCIiACIiACIiACnZRArmfv77//djvttFO12ChMP/30k5t33nmDoWc7CMmMCUN88skng1cPL2Ge4EXDKJxnnnnyktS8nfDRUUcd1fXq1SuUPaasnASv3i+//BJCT2HRiOAJffbZZ4M3dIYZZqhmNcUUU4TvGMzNltlnn90tscQSzc62y+T37bffBuMMI6NWyTp2+OGHDwY74bmx0qx8Ys/XHvdX7Lkt3VVXXeXuu+8++xk+8eox+FGP0d0mo5wfjz/+eLj3c3ZrswiIgAiIgAiIgAh0WQK5xh6eiqTyRTgnwryapCywwALhJ4bg/fffHzx9jNwzP8/kzz//dM8//3zViMOgw/jDW5gUQhyZ24ZBmSWEOz788MPuww8/zNo9xLabbropGKKEiWGsWlmHSJjaQAjrgw8+GP4Is2QeUSMG2csvvxwMR9gljc2nn346nHm++eZLlcAFwzqPJ4lhR52gyA4aNCiEyLKdsn/11Vdh+xdffMGmNoIBy3Gvv/56m+1FP8gTj9DAgQNDSCufNpcTQxbPDPOuEGsHGBZF+5Lny8uf7YT+YhzgZTWhLmhPZZLHiOsnhJYBANpUuh3aNXCedFvOOvaPP/5weMKTbd7KBifm8rEfhia15sNxZXWXx9HOWXZ/WTq8jclree2118IgjO3/9ddfw9xa5oRmSdZ9yja85Mcdd1wI1+RaEMrMfWADPJY3odxZYgMw99xzT2j3WWnY9sYbb4QyWh2m+5S8esnLT9tFQAREQAREQAREoBUJ5Bp76YtBOUXSBhPKGouYnHLKKWGe3TPPPBM8JhgqJijmGHyzzTab22effRxhlXvttZdbY4012ixcwgj/eOONN8RiL8wJZP7g9ddfH/YTCsnCDkXCoigohpyDhSlQ6NNlzzueBVSYn3jddde5tdZaKyjqu+22W7iGvGOKtmOQIZyfcmDAEL7JPL4dd9zRLb300tXDY3jCctVVVw2KMgvObLnllu7dd98NeXCt5Pm///3PcR0mGF7U0QUXXBBC2mC97bbb2u7cz/fff98REspCF3gl999/fwcLEwyZXXfd1V188cXByNx+++3dHnvsEQz/on12fFH+L774ojvvvPNCKPHVV19thziMeM4DhzzJY4TyjyHDgAEhnJdffrkzz20Z+6xjMRpgyuIfaY8VXuUjjjgizBVj8IA2jNSaT0zdFXEMJ/X/8u4v24+BzrUwx/SSSy4JxvoZZ5zhjj322NBWMIIxWo888sjQDpgXmpSi+5T7kX6AxWtYjAXDE6Hd4uHEGCPvgw8+OBiFDLIkhfuGe+boo492k0wySZiLt8EGG4RBnGQ6+oWtt946MGbRqMMOOyzcB0ljL69ekvnouwiIgAiIgAiIgAh0BQJRxh5eFTxjvf1iBxNOOGH1ulHAUGBRNDHi2M8iEBgGNlJPYrx4hLex0uaee+7pjjrqKLfvvvsGowdPnQnKaPI4tuNl2HjjjcM8N0JGCcnE+4cCnCcYGXi1bB4c52XBFwzJWoTrwXBBecRAM6OtljxIy3EYXo888ojbfPPNw7w95hBiaGy44YbV7GJ5wozrw/s6zTTThPxYBAfBiznBBBOE6x1//PHDNlhh2FEGjEDS4mFEMeacecKqqFw7htUyyyzjyA9vL8cbSwwDDE7mWd55553urLPOCsbZwgsvHIyGvH2csyx/QlEPOeSQcE133313tZgYAszvKgrBzGNEO1hkkUVCXrDgjxDMGPZZx8KauavIggsuGD7tH4MFsILbZpttFkIV2VdLPjF1V8bRypN1f9k+PvF0cs8wv5RrwcBmsIQBD4xnPMgYaoceemhoY2Ykc2zZfcoAjYVSw5z2gVAmjG7uawxi+gb6kO+//z7s5x91w4ACBiLzhmHKPGE+me9qgueU+wuv7fLLL18dNCLtGGOMYcnCIE5WvVQT6IsIiIAIiIAIiIAIdBECUcYeChkKV9ozhjKLIcVovHmRLMQS5d8EryBeNpRsVvFEGJ1H8CYg3333XQgHTI7A42nBmBx55JHdmmuuGfI44IAD2hg34eDEP0IMee1A//79w1YMQ86fVsQTh5R+RVHl+uzaSg9IJCDUjZAyjDIUWTwnrNjI3EWuCSPSJJYnKxhSH6eddlo4dMUVV6wqthgHeFeT13vuuecGAxwPnQlGpoW52rbkJ14avK/9+vVrs4oh5U3WLSGMXB/1R/1iDHIMynvRvtj8KdNyyy0XPDWffPJJKCLGCCsrWptLltu+FzFi8IHVZVkV1SSWfdaxbMN4Tofj0sZvuOGGYFSzf5tttrHThQGQdBmy8imru1iOWfdXtTCJLxbqiSFHPWPUE2Y5/fTTB48ohh+GGN5JjHEk5j4lPJPw7TQj+hYWTWKgAEONOqX9JtsY82fxxtLPJOf8cm8TIo3Q1lh9FiMvueIvbSYdel5ULyEz/RMBERABERABERCBLkIgytjLCuFkXtjpp59eVeyNB94rFh5BkUUI0WJOFwZJciVODATElkNHoURpTHr2brvttuAVI8yREETCyTBSkmGEIZPB/5hfRdgc4Wak5Q9PAIomBiC/zRtB6COKq/2hiOYJoWd4Jscdd9y8JLnbUeAxzJIKJ6uC8r5BDGBCWpFYnqRF8V5qqaWCIUHdYFjZap8ov1yvGXso5hiYrKCKByspRcYSIXMYCBi6JpSRekvWkYXowqa394QmpWhfbP7kxyADxpLNI8NAwINZJEWMqJOk0VEL+/SxlIE6YIER6iEpGHcYJLRB2vaYY45Z3R2TT0zdxXLMur+qhUl84Vpgzf1rq+zCG+++vZ8SY4zrMYYx9ylGJPeeHcMp+c12Vr7lvqY90l8Q2mntlzaIt5hXt5inmmO5pxh8sTKeffbZbbz5pMEgJb/kvcf2onphv0QEREAEREAEREAEugqBaGMPQyE5Yo4HDWMl+ZJivFi33HJLm1F5FEUUw7XXXrvKjN94Uhi9Nw8fyi9zbCw8kMQYjhhGeAMJ4cTLt+iii1bzSX9BacQIwFuIx4M/jDze3YcijuKNUYSiiOKK98/+it6/Rz4onWaYps9b9DvLUCY9ZUJQRpFYniGx/7f77rsHLsyfSs5d43x418zrQogf12tKsR1f9okCT6gd/E2uvPLKoKAn2wEhqhgHzFlLS9G+2PzJk7rDM2peHBaXmXHGGdOnG+J3FiMWCsFgTXqQY9lnHYtHidBGM06ShaDMhCCz/+abb67uis0npu5iOWbdX9UCJb7Qfgh5xJuK4MklZHiVVVapviweY4/wVe5XJOY+pR/g9Qd2v3Mc18fABH2DtTMzJC2KgEEY2vdiiy3GIVXhnPQ/FkILB+795GqotFdCR+1esIPz6sX261MEREAEREAEREAEugqBUmMPZY+V8ZgjZQYKF88cPuZMmcLHNl5cjqE155xzBgODbSiZGBrMUzIhjJGXijMfywRl0BRwW+mRuYB4iwjNSnpNMBazhDIS5pn8Q3HFOMEoYl4hgnHCXLPkH/OG8oTFWvBw1fpCdfLD4EHhZHGapMAFse2xPAl3Q1Bqt9tuuxAiaEYQ28kXIxrjnLqwVSwpQ6xQ3xi3SQOYxTOYZ4jXlnNjQCJcH54+lP+05O2rJX/LkzrEcMcwSyv+lsY+ixjh4aLstDWMLiSWfdaxeKYwRjD2LCQZD6Tlzfwx5rmyQIlJbD5ldVcLx6z7y8pjn3g48aphfJkXmPbE/cKCQCaUH37chwyExNynGJF49WCPkYaQN31KcsCIctLu8BSTN2VCkv0Mv3mFA/cvocPMPWXQJNleGRCgn6Hd0E/hRSyrF/KViIAIiIAIiIAIiEBXIlBq7NkCCGmvFsoXnjIWbUCRYhTdRu0ZOWekHUGhSypheDkIuWIlP/PiYdxh/GE0sEiDGXMo0Iz+m/GHoojhhdIfIzZPyIzIsmNIj/cQhdMEBZEys0hJWpgzx8IRZvik92MIoKyyGIQpz6RhVVEMJ8plHs8YnnC56KKLqqchX8S8IniZ4AVH5lLi6cQ7h0KNgm4CT+aS5QkhfBi/NkcOgx8jC2OXcEW8Lyj45EOoXHI1UcuzaF9s/pYXn5yXsD28THbdyf32vYwR7RHWGGbWjmLYk3/WsdQx/GHDwkAInkNWRUUwNDD2kguExOZTVnexHKmLrPsrFDDxz7zQGFEm3Auwt7m2tCnqgdBI+gYMsrL7lHuAdsIgBK9MsIV1aJNsSw5EcD6MQt5LyXn69u0bjM3kax4w9BDmlCIMPpAHxi9Cu7VXizDwxD1Mey2rl3Cw/omACIiACIiACIhAFyIwrDduDsq6HpRDDLgLL7wwGF94GcyTRygknhxCqZhzhtJGWCQGjXkweDcdwju6UMJYlZEVFTGcDj/88OAhsvPiGWHlP4wmlDMzDgn7Ij3zkvhEAcTLZy8jt+PzPlFe8fKweiOKcZngceA1EizNjtHJ0v94FDk+uTCE5cM8QpRKvH6mwNo+lFbmCOIhY6VCFE3yxNBjDiPzhliV0ObaxfAkL5bCx4uBcsu77ZgLiUJscu211zoUYxTw6aabLpQLYwQjmXqiXvmjvvLm7FEmDHnyQjnHmGfxDPL4wK+0Sigt8y8xWFn1cr/99mvzTkbKUrQvNn+7Jj7xLvE6D1ZxTRrOyTR8h3URI/hzDXiMzUMYw57zZx2LwYgHE1l33XVDOWlzpJ100kmD1xCjhZBS807H5kObKqq7WI5591codOIfr1sgz0022SRs5X5kUSFCOi10l/mw9AsY1YR2wq7sPuX6aTv0IczNYw4sRuIxxxwTBjtsLi958qoN2hthupyTQQc48JoS7kHuIY6lzVmkAfvJG64YdgzaUBeUk7rGaGawqqxeEij0VQREQAREQAREQAS6BIEeXsHKjomMuDyUQUbR8eihDCMo22nDCmWTUCs8KJYunT2j/xyXtR/PEotbmLKcPraZv7kmvJV4C0yZzMsf7xB/Sa9NXtqY7WU8UWKpLoxSFu/Ag5o22AgfRJlOcyRvvGIo5rFCXaL8m1eHvDEyi4yt2LxJV0v+GI9cV3KBj6xzlTHC+8mfeUMtjzL2pMs7FiM8ufgK3i/aKkYO3ut0+4jNJ1m2orqL4Vh0f9l5Yj+5P5KLpdhxRfcp549Z4Ih2Dbv04EpM+2UQhGNt4AVmtF3msCJl9WLXoU8REAEREAEREAER6CoEGjL2ugoEXUfnJoAxwwvLLeS1c5dWpRMBERABERABERABERCBzkGgZ+cohkohAm0JsCAMC2z09SGqhO+yqqVEBERABERABERABERABEQgnoCMvXhWStmBBAjnY1EYwkaZL5gOS+3AouhUIiACIiACIiACIiACItCSBBTG2ZLVpkKLgAiIgAiIgAiIgAiIgAiIQDGB/1ZVKU6jvSIgAiIgAiIgAiIgAiIgAiIgAi1GQMZei1WYiisCIiACIiACIiACIiACIiACMQRk7MVQUhoREAEREAEREAEREAEREAERaDECMvZarMJUXBEQAREQAREQAREQAREQARGIISBjL4aS0oiACIiACIiACIiACIiACIhAixGQsddiFabiioAIiIAIiIAIiIAIiIAIiEAMARl7MZSURgREQAREQAREQAREQAREQARajICMvRarMBVXBERABERABERABERABERABGIIyNiLoaQ0IiACIiACIiACIiACIiACItBiBGTstViFqbgiIAIiIAIiIAIiIAIiIAIiEENAxl4MJaURAREQAREQAREQAREQAREQgRYjIGOvxSpMxRUBERABERABERABERABERCBGAIy9mIoKY0IiIAIiIAIiIAIiIAIiIAItBgBGXstVmEqrgiIgAiIgAiIgAiIgAiIgAjEEJCxF0NJaURABERABERABERABERABESgxQj0zCvvBRdckLdL20VABERABERABERABERABERABBog0L9//waOjju0R8VLVtJB32Rt1TYREAEREAEREAEREAEREAEREIFGCYw/dqM5lB+vMM5yRkohAiIgAiIgAiIgAiIgAiIgAi1HQMZey1WZCiwCIiACIiACIiACIiACIiAC5QRk7JUzUgoREAEREAEREAEREAEREAERaDkCMvZarspUYBEQAREQAREQAREQAREQAREoJyBjr5yRUoiACIiACIiACIiACIiACIhAyxGQsddyVaYCi4AIiIAIiIAIiIAIiIAIiEA5ARl75YyUQgREQAREQAREQAREQAREQARajoCMvZarMhVYBERABERABERABERABERABMoJyNgrZ6QUIiACIiACIiACIiACIiACItByBGTstVyVqcAiIAIiIAIiIAIiIAIiIAIiUE5Axl45I6UQAREQAREQAREQAREQAREQgZYjIGOv5apMBRYBERABERABERABERABERCBcgIy9soZKYUIiIAIiIAIiIAIiIAIiIAItBwBGXstV2UqsAiIgAiIgAiIgAiIgAiIgAiUE5CxV85IKURABERABERABERABERABESg5QjI2Gu5KlOBRUAEREAEREAEREAEREAERKCcgIy9ckZKIQIiIAIiIAIiIAIiIAIiIAItR0DGXstVmQosAiIgAiIgAiIgAiIgAiIgAuUEZOyVM1IKERABERABERABERABERABEWg5Aj0bLfGN11/uHhx4d8hm4oknc7vvdVg1y/sH3OFuuemq8HusscZxBxx8QnVf0ZfffvvVff/9t27EXiO5McYcKyS99OIz3csvPef6rbGhm2+BRYoOr3nfrbdc4x7wZV14kaXcav3Wr/n47njA7bde6+6959Y2lz7iiCO5SSft7dZZf3NHfXcG2WLT1VylUnHHHH+uG2vscaOKlNX+zjrjWPfMU4+6NdfexC2z3KpR+SiRCIiACIiACIiACIiACAxNAg179r7+apB7+63Xwt8jD9/n/vzjj+r1PPnEQ9V977/3dnV72ZcHH7jLbb7Jqu7MM46pJv3oo/fdq68877777uvqtmZ9+XLQ5+7NN15xgwZ91qwsu3w+X3/9ZbVurf5fevEZd/tt17kdt9vAvfH6y52CwWeffew+//wT988//0SXJ6v9ff/dtyGfX375KTofJRQBERABERABERABERCBoUmgYc+eFR5Pzrfffu3efPNVN8usc4bNr7/2UvDwsF3SNQnMNvs8buNNt/Pes3/d55994q69+iL34YfvuWOO2tedf9FNrkePhscTGgJ38mmXhuPHHGvshvLZpP/2bo21NnLjjDN+Q/noYBEQAREQAREQAREQARHoKAJNM/amn2EW99ijD7jXXn0hGHtfffmF+8Z7fxZcaLGwPXlB777zhrvkojPce97bN/roY7rZZp/bGwzbu+GHH949+MDd7o7brw/JMRaPPnIft+feR1QP/+2339yJxx/sXnjuSTf6GGO51VZfzy22xPLV/S88/5S74rJz3YcfvOuGH2EEN/XU07vNttzJTTLJ5NU099x9i7vTn+OnH39w886/cHW7vtROYNTRRnfTTT9zOHD6GWZ10043s9tys9XdoC8+c88+84Sbe54Fw7677rjB3X3nTe7Lr77woZ5TuGWWXaVNvb380rPuoYH3uKefeiSEW8408xxuxZXWdONPMFE4Hs/cNVdd6J54/EH3y88/hTY2z3x9fPtaPOy/8PxTgnd2/Q23do8+MiB4Fk869RJ33jkn+f0Vt9c+R4WQ4HPOOt699+6bbq11+runnnzYPffs42FAYu11N3NzzDlfbvu7f8DtDs/l8iuu4RZZdOlwTgYxzj37BPfGay+7n3/+0U062RRulVXXdYsutkzYT/qrr7zAzTzLHG40387vv+8O9/fff7n5F1jUrbzK2m7kUUYN6fRPBERABERABERABERABNqDQNOMvQkmnCQYbq+/9mIo52uv/vc5w4yztjH23n/vLbfLjpt4pffvoBx/6UMnb7rhihASePRx57g//vjdYdAhf/31ZzDIwo/B/y65+Aw33HDDu+H9H0bjcccc4MYdbwKvUM/pHn9soDv8kN3DHK3xx5/I/exD7lDoUbpPPfMKN9FEkwZD8vRTjgy5oWwzp7Bnz+GSp9D3BghMPMlkDgMQQ5rwToy9yy89xxvg57hhhx3W9Z5iGvfKy8/7+ZfPuh9//N6tstp64fvee2ztRvH1Mfc8C7m3337d3XDdpcGwO+f86713sIc7/tgDgiFG3Y855tgOg52/XXY/2C2x5Arug/ffCXM6TznxUEfo5mijjxGugvMgtCUEQ4+5n++/907Y9u+//7pPP/kolOmoY8/ObX8fffh+OG7e+f4bHMC422Hb9X1Y8TduhBF6uXHGHS8Ym3g0f/jhO7fyqus4Qj8ZfHjn7Td8GOnfbkzv/f7s04/879cdYbD/23GfUCb9EwEREAEREAEREAEREIH2INC0GDsU8ulnnMW97r0cLIiB0YdiPvU0M7Qp9yUXnRkMvX5rbuTOOvdad+mVd7kxvIfu1VdecC++8Ixb2nt8+q2xQThm1tnmdocdeXqb43tPPpW79Io73QWX3OqmnGrasM8MywvOPTmce421Nnbn+RDCSy6/w8051/zu999/c5ddclZIe4U3PJBVvUfwsivvduddeJPrNeKIYZv+NYfAVFNNFzJikR28cIR2IseddKE75fTL3EGH4m1z3lN3UWgLzzz9aKg3DPbtvQF01rnXuJVWXstR/xiN77//dtXQO80b7Rdeeqtb1y8Cg9yXWiSGuj7o0JPdKaddFvbn/Ztiymnc1dffH9oJYce0WbxwZe3P8rvhusuCoTfV1NO5i307O+f8G9xW2+wWdtPWKIfJn3/94U4/+yp37gU3uPU22DJsft17wCUiIAIiIAIiIAIiIAIi0J4EmmbsUcgZZ5wthLOxmMpr3tibyodQEpqZFDwrCF6fow7f25143MHeKPzPs4YHrkzmnX+R4Ekh36mmmj4kR7HGm4JHB1lq6ZXcMMMM43r1GtEtPDjkjlA7wu7wxCCreo8SeUww4cSuz8JLhG361xwC3w2eoznGGGO6jz/+IHjQYH3DtZeGOr/37puDtw5j8CM/v2/OuRYIJ8Yzu3a/xd2uO/V3E/uw2y233iV46N575782M9nkU7hJ/GqfyPobbuVuuePJIQYDlvR1P8+8CwVvb0iY8w+jjsGIccYZzy27/OohFWWJFRtgWGDBxdyoo44WDsPDSLv75ZefHfeACQMUeJqRmWaePXya9zr80D8REAEREAEREAEREAERaAcCTTX2CNlEnnvmcR8m97abcabZhijyb4M9HijFLOrBH3O+MLgIsyyTMQe/ioF0PYbpUU2eXAU0ORdqlFFGCWkID8XLhLBoyCiDFXR+K4wTCs0RGH/yyYchM+bmmYdr2GF7VuubnQv1WTzUOfMqWeTliKPPDPM7h/F1ysqovOpgc//ahD///NMPIPxXbyONNHK1kHiSCQvlLykTTDBx8mfu99FG+y/MkwSW77/euxcrtCeE0FOTEXr1cj0HD1z88ft/+9k30sj/tUG+U26JCIiACIiACIiACIiACHQEgabN2aOw00w7kzecerpbb77aMRdqxsHGX/JCWCgFZR4PRzWkzS/E8tNPP7gp/HyuNlKD8j3OuOO7kb1SjVcFY3OJpVYMWbFICNJ7iqn9Yh8TB88LZXvJh4zyvj6Mzeef/S9NSKh/dRNgHtsJxx0UXnPAvD34fv/9dyE/jL71vDdu8smnDJ6+5/0CO8iEfq7nXXfe6PAG4q3bY+/DQ0jv8cce6L795iv35BMPBu8raZk3h/GHl3Cgfz3HNT7sklDPrbfbg91BYo2pV15+rrp4zLO+vSBDDDYUtD/a01t+5VmOXckvtoIwF5FBBwYTuE7zcIad+icCIiACIiACIiACIiACHUygqcYeSviUfr4WSjAygw/r/OKLT9pc0gp+hUWMvZtuvDIo7j/4UL5777ktKPDnX3xzSMuCFwjvarvumkvCkvdhQ8E/lHzm6l184enulJMODwtjELJpRgUvw6Z8Sy+zSjAujjx8L7+q4lLudX+OzweHfxZkr105BJ59+jG31Wb9HF6xL/z77DCkCY/cdfdDwue43ghnURMWyjnu6P3C6pmsgEkY5FxzLxj2vf3W647VOh/0q3EuudRKPvy2V/V9jRxPODCL8LDC6wH7bh9+PzDgzhC6iwFZj7AAzBeffxoWiXnxhadDFsuv0C98xrS/fmts6Abce1tYPXTXnTb1gwnTuIH33xmO56XrtkBMPWXTMSIgAiIgAiIgAiIgAiLQDAJNDeOkQBa6icdmjETIpRWWeU39N9/B/eNX42ThDlZU5B1oBxx8QlhlkXRz+EVVmEvHioWXX3a2HVr6yaIva62zafAs3T/gjmDojTjiSG6X3Q5ys88xbzie1zDMM2+f4F0acN/twdO3ymrrluatBNkEfvvt1xC2ySqThEbyqg0WYGHenMnOux4YQjbfe/etsFAOhh71sdOuB4Qk/Tf7X/CyfeznufEKhTNPPybUD++243UOGI/7HXBsaBOspMnqrXiCN9pk27rnW/IKhVdfed4vCvR0aAPrrLeZW6Tvf69UiGl/zB088JATw+JCDEpgrOK9XGrplcNcQ7t2fYqACIiACIiACIiACIjA0CLQw69CmDlRadB/65i0W7kId/v44/e9F2ckN9HEk4TQt+TJKBZztViyntU6axGUbhbIGGH4EcJCH4SWpuWrrwa5P3w6FgKJDf1L56HftRFgQRa8acyryxoIIGxz0KDPvQd2BN8mJnUY6kmxF7f/9NOP3pM2dVioJ7k/5vteu28ZXqGw34HHhffdfernF47tF2kZ8lxx7Q9PJi+Tx/jkPXuEEktEQAREQAREQAREQAREoIzA+GOXpWh8/5BWUON5RuXAwhyE5+UJBpitcpiXJm87q3BOO+2MebvDdsIDJR1LAKO9yHAfa+xxwwvV80rFXLiJJp4sb3fN22ljtrpn+uDY9sdCQ7xbUCICIiACIiACIiACIiACnY1A08M4O9sFqjwiIAIiIAIiIAIiIAIiIAIi0B0JDLUwzu4IW9c89Al84+eB/vHnH26sscYJ72Ec+iVSCURABERABERABERABLojgS4dxtkdK1TXPPQJMD9PIgIiIAIiIAIiIAIiIALdgYDCOLtDLesaRUAEREAEREAEREAEREAEuh0BGXvdrsp1wSIgAiIgAiIgAiIgAiIgAt2BgIy97lDLukYREAEREAEREAEREAEREIFuR0DGXrercl2wCIiACIiACIiACIiACIhAdyAgY6871LKuUQREQAREQAREQAREQAREoNsRkLHX7apcFywCIiACIiACIiACIiACItAdCMjY6w61rGsUAREQAREQAREQAREQARHodgRk7HW7KtcFi4AIiIAIiIAIiIAIiIAIdAcCMva6Qy3rGkVABERABERABERABERABLodARl73a7KdcEiIAIiIAIiIAIiIAIiIALdgYCMve5Qy7pGERABERABERABERABERCBbkdAxl63q3JdsAiIgAiIgAiIgAiIgAiIQHcgIGOvO9SyrlEEREAEREAEREAEREAERKDbEZCx1+2qXBcsAiIgAiIgAiIgAiIgAiLQHQjI2OsOtaxrFAEREAEREAEREAEREAER6HYEeuZd8e03X5C3S9tFQAREQAREQAREQAREQAREQAQaINC/f/8Gjo47tEfFS1xSpRIBERABERABERABERABERABEWgVAgrjbJWaUjlFQAREQAREQAREQAREQAREoAYCMvZqgKWkIiACIiACIiACIiACIiACItAqBGTstUpNqZwiIAIiIAIiIAIiIAIiIAIiUAMBGXs1wFJSERABERABERABERABERABEWgVAjL2WqWmVE4REAEREAEREAEREAEREAERqIGAjL0aYCmpCIiACIiACIiACIiACIiACLQKARl7rVJTKqcIiIAIiIAIiIAIiIAIiIAI1EBAxl4NsJRUBERABERABERABERABERABFqFgIy9VqkplVMEREAEREAEREAEREAEREAEaiAgY68GWEoqAiIgAiIgAiIgAiIgAiIgAq1CQMZeq9SUyikCIiACIiACIiACIiACIiACNRCQsVcDLCUVAREQAREQAREQAREQAREQgVYhIGOvVWpK5RQBERABERABERABERABERCBGgjI2KsBlpKKgAiIgAiIgAiIgAiIgAiIQKsQkLHXKjWlcoqACIiACIiACIiACIiACIhADQRk7NUAS0lFQAREQAREQAREQAREQAREoFUIyNhrlZpSOUVABERABERABERABERABESgBgIy9mqApaQiIAIiIAIiIAIiIAIiIAIi0CoEerZKQVXOzkngjjvucHfffbf7+eef3dRTT+3mm28+9/TTT7tdd93V9ezZGs3ryy+/dJdeeqn78ccf3Ycffuh23HFHN8ccc9QE/KOPPnIDBgxwDz/8sFtqqaXcuuuu67K2xWb666+/ugceeCDkN//887tVV1019tCG0/3111/uoYceco888oh74YUX3I033thwnq2YwSGHHOKoh6OOOqrpxX/99dfdwIED3XPPPefOPffcpuevDPMJqH3ns4ndQ/vdb7/93P777+9mn3322MNaNl1nbTND8znRmSpT/Wn9tWF6yg8//OBGH310t8wyy7iJJpqo/gx1ZKckIM9ep6yW1igUSiqK8MYbb+zOPPNMt8ACC7irrrrKXXvtte7rr79uiYv4999/3T777ONWWmkld9BBB7kxxxwzGK+1Fn6MMcZwo446qnvppZfcP//8Ew7P2lZLvn/88Ye77777gsFRy3HNSDvddNO5N954w33zzTfNyK4l8/j9998dddAeMuKII7rHH3/cvf322+2RvfIsIaD2XQKoZPfff//tuD/47C7SWdvM0HxOdJa6V39aX0188MEHbtNNN3VzzTWX22mnndwss8ziNt98c8cAuKRrEZCx17Xqs8Ou5s8//3Tnn3++W3rppd2cc87phh9+eNe3b1932mmnuRlnnNF99dVXHVaWRk6EQYP3avLJJ3c9evRwJ554ottrr71qznK00UZzeOCSkrUtuT/9/dRTT61uGmmkkdwiiyxS/d2RX4Ybbjg3ySSTuGmmmaYjT9vUcyVZ1pvxEUccEdpDvcenj0uWqXfv3m766adPJ9HvDiDQFdp3B2AqPAVK4e233+7mnnvuwnRdZWdnajOffPJJNdpiaD4nOlPdqj+tvTbwVu+yyy5u3nnndbPOOmvIgPuZQY3dd9+99gx1RKcm0GmNvUql0qnBdffCff7552FUN+2ZwOjbaKONWsbYe++990JVYug1Kll5ZG3LOs9dd93lrr766qxd2lYjgc7IsjOWqUasSi4CIjCUCfz2229uzz33dD/99NNQLolO3+oEnnzyyTDVZPnll29zKcstt5x79dVXHaGxkq5DoCmTqp566il38803Oz4x0pi7hTFwww03uGGHHTbM4TrppJOCp4BQOeR///tfCBEj3n+PPfZwb775pjv00EMdoW/kgbdls802C/ncc889IY6YUYhevXqF4/Vv6BKYcMIJQ9ginQJ1Sigkhh6Ch485fAhzvwhXY2SU+mM06ZprrgmdzMgjj+x22GGHkI7QR9J9//33wVtIe6JNLLrooq5Pnz7hOObDkQYv3HrrrRfaVjg45x/exVtvvTUYnpSNMFPzvlE+wlBffvnlcPQpp5wS8lt22WXdDDPMkJkjbfr55593X3zxhSP8gXl0eDUblTvvvDMwJB88i2OPPXYwmJP5ElfP3EjOy5xAGCcFo/vee+91n376aSj/WmutVa2PZLrk93qO4fii4xqtx6K8v/322zCPkbrE60kbwTOLd9l4FLGkPVF/KEyE784zzzzVEc0kF/v+2muvOfoewluQmPPbscnPojKRDmb3339/mJ85zjjjhLBo5k6YsJ9rfeWVV9wII4zgVlhhBTfzzDPb7sxPjqE/Jpz62WefdeOPP37oT+0eJQSPcw4zzDBupplmCnNWyROWWdtXXnnlUM68PJnvyn1NSBl5cs/i/YHzTTfdFPrxxRZbLHj9MwvsNzJHlWv87rvvHCP13F94x03efffdkBd9Bl4l5jtSN2ONNZYlafNZ7/1a1G9wglraAWHQcPnll19C/wJrRs6pxwkmmKBNee1HWd3Vcn7L0z6L8qauaGefffZZSI7nmZF+6o/y8x0vAIKxQTsh7N0iELivqEP6cP54ltNPmzDgwfOC50DeIBj352OPPWaHtPnccMMNq+2hqJ/Ia9u0YaSsnbU5aeSPovLUUl9F7WWUUUYJehP9GB490tIXJNt/2XMifTlF7YG0eSw7op8oa0/pa7HfXFNRf1rUL7DeAO0UHZQ+iLn36C4YPtdff31gvdVWW4V7mfPU2i/nPYOGhp7EOZEpppjC0IVP9CuE+yRPFwoJ9K+lCDTs2aNT54FLg7n88svdCSecEJQplE46CoRwMNzEzGcyWW211UJD4oGNEDa24IILuieeeMJNO+20DmX1jDPOcM8884zbbrvtgiI70C9oIOkcBFAa991337AIy2233RYe6iiVCAuz8KBHUATeeustd8stt4TfdJzrr79+aAschzDJnDl/tCM6TwweBgn423nnnd0FF1zgjjzyyGC0oQiefPLJIYQ0HJzzj3bFYAHKCSOhGI277babO+yww8IRGJrsN6V5gw02CL8ZqMgSjCzaJApa//79g1K8/fbbB+MqK30t2zBAafsogChHPMCTwj0AH4xAHlQMjmCImPBggxvK0BZbbBGUS8qIYZ0n9RxDXkXHNVqPRXmjXGKc0w54GNMG4IViCg8bhcxjSbthMGnttdcOcxRohyieWYLSizFBe0RRR2LPn5VfXplIi8LAvFcMGQZQON/BBx9czYY+dO+993ZTTjlluE7aAHXLXM4iIQT14osvDnNRGYjh3jz22GPDIbQhth1wwAHBwCQcGyOOubZZ22lbSFGeGGUMfFx44YWOewVDD8Hwm2qqqdz777+fa+jBm2t89NFHwz3IfYoRv+aaa1bbOX0F133llVcGw5RBHwY/ULKzhDLUc7+W9Ru1tAOUfJTFJZZYIvQ9zOmFLwv/XHbZZVnFDtuKONdy/qwTFOVNXa2yyiphkI16HHfcccOCDQy8YqSaoUc0xHHHHRfuJ4uM4FxnnXVWUIzpw9ZZZx1n/buVg/nc/BXNA37xxRfDwAR50D8zGExZ0CfM8C/qJ/LaNm04pp1ZWWv5LCpPLfVV1l7o77bddttQNAaqYGSKORvLnhNZ11TUHvJYdlQ/Udaesq6nrD8t6xfgim6DvoIuwHMCwejBkMYLhl5ST79c9AwaGnoS9YswYJMUG2i0QZ/kPn1vYQJ+BKMh8QpTxY/4VXzDqebjRwErXhmr/uaLV9Aq3sBrs82v5FjxD4XqNu9Wriy55JLhtx8hrviVHSt+NCX83mabbSpe2aum1ZfOQcA/nEO9+gm+Ff78w6Pilf42hfNGYcUbW222+dHdivdQtdnmV4GqeKOr4o2U6na/cErFKyAV37lWt/kJxRX/0Kv+Tn/xI4KVFVdcsXL22We32eWV2lBG2p2Jn2MYttFmi8Qr1xX/IKgMGjQoJPMddziOdm3i51KEbX5lT9tUydpW3Zn44ucJVvr27ZvYUql4D0PIzyuH1e3eKAjbLrnkkrDNr6BV8WEXFa7Z5Lzzzgtp/CqatqnNZ+wxfqW9ysILL1w9Nva4euoxJm//IA914A3ailfcQrmMhzdsquXMYumVzIo3Hip+QYmQDl5eaakek/WF6/fe4Oqu2PNXD0h8ySrT4YcfHvpO7ymupvQDE4G5XR9tONmO/VzZykILLRTqvHpQxheulfxNjj766Db9r5+AH9qI9b9cG/dY3nbyKcuTNH4AJJTfK7n8DOIHKireOLOfQ3z68OWK9wRWkvcgZaHtcU6uGfEDNaHMXrkOv5Ppw4bEv5j7Nd2+Y/uN2HbAM9AbetVS0cZ5VnIdRVLGOfb8Wecoy5tjvDFW8V7YytZbb13xK/JWfNTDEFl9/PHHoS68IVbdt/jii1e8AV79newH2YiOwPOiSB588MHqvU190PfznPCDyuGwmH4irw3HtrOi8qXbTEx5Yusrpr144zpwv+KKK6rFjHlOVBOnvpS1hzyWedvJvixP0sT0E2XtiXySEtOfxvQLtDX6/QMPPLCaPfVM32xST79c9gzqaD3JD7qHtpTUt7g+P+gQtqNzS7oOgZ6N2qmMfuCVw6uABw+PDsu2puOAY89j4R2MrvDHqDDCiLbv/GOzUboOIoDHltFavAN4Egh1wMuCJwrvWS3CilqEpCRf2YAnjcVgGNU0oX0lPVu23T6JRWfUCg9xUghDQnhdBHHptQij83hTGF0mBJTwPoQR52aJtf10fsllkAktQWzUjdBNVsTDo27ilWA322yzVT3rtt0+6zmGY2OPq6ceY/LG80DboC8wVjaynV791fbbNeNpwrO15ZZbBo80nrI11ljDdmd+JtshCWo5f1aG6TKRhm2EWJoQIUE7I2KCEdfrrrsueMQYgTfhWrgn8KQSzpUlfjAglJd9RFTgAbM2wzYYIuat4dq4x/K2k7YsT9IwX9crCSGEn+8I3jK45wlhgpNOOmmba6Es9C1EeuDl45qtbLzeBcm7dvbVc7/G9hux7QBPDeGt/NFv8DfZZJM5rzhSxFwp4xx7/qwTlOXNMfTBLNDgDZsQvknfnhbzeCS3EyVx0EEHhdBhr/A7oiWSQl+eF7pq6SwklN88Q1iM5JhjjgkeRrbF9BPWTtJtO7adcZ5YiSlPbH3V0l6y+pKi50Te9ZS1hzyWeds5T1mepInpJ8raE/mkpaw/jekX8GwRpkrd8gopPPKE4vsB5Orp6umX63kGVU+Y+FLP8zVxePUr14Xg8U6KrbCbfC4l9+t7axJo2NjDIEPJJ9aZUKEPfPgMn4QjEW5V9ED2NnMpNTpKJKtzKz1YCTqEAG0ABa+vn0fGO+owxOgcy5TpmMKhVKDYJoU2QRhFntAGkbRCQigGZbX9IVEN/ygHRhUPOj/qGI6MacM1nKI0qd0Pdl7C45jLQXhYrNRzDHnXexzHltVjvXnH9gusEMtcIVbEJMQMZYOQKONJGeuR2PPH5m35Ub8YCSiADEzw7qNahLnNhJcR7khbpe0TImdi57Hf9pm3nf1leZKGMChYMwBEmBl9AaF4RZy5H7PCpzkOY4/9KEpFZePcaan1frV+oZ5+I6tszBEmlJFrQHlkPiPzAQlHLZIYzunjs86fTsPv2Lxpc4SaMphFKGJyXlhWvmwjXJ5wXPpIlGHvTa57RV/mUhOyCzfrazlHTD+RxyKmnXHfpftS+om8weuY8lDutGSVsZb2knV88hx2v9lzIrkv+b2sPeSdJ287eZflSZqYfqIZ7cnKmeQQ0y8QAs69Szg/zwvu4eOPP56i190vt9cziDKVPV9JkxYbeEGXQi8yYRARYeBR0nUI/GdJNXA9jLyxiiAjJsydYZ4di2LQeJhTYcIoNQtb8MAzYTK2pDUJXHTRRUMYYSiUeHiRgQMHhs+h8c9i0JPKLeWgQ2Qeiu2vpWzE6zNSzWgx7xW0kc1a8ihLaw+msnTJ/dxnKGTWQSf3pUfsbF89x3BsvcfZeYs+m513FkuMDwamGDGm/dr8zaJyNXNfVpmK8ocJx+TNS8urX/JkTqMP9QoeGpTIWs+dVa7YPDGkfZhXGBln0Id3WBYJhgTzetMDOOapiDE00vnXc79av9CsfgMDnXmfzG8j4uH00093m2yyyRBzctNlj+WcPi7md2zezP/C20o0DXNKY4T6wgvIwB/1z/u7MIZqFZRx5jUSJYTCn5RG+omYdobnFT0m+cegQ540Up50nrW0l2bcz5w/tj2ky1r0OzbPsn6iWe0pWdbYfgHDjD8WGWRuN9/NgG6kXx7az6AkC6JbEPTypDDAiFhUXXKfvrcugaYYe+ecc47z84SqD2vCbhiVxuNgYqO7PAwIJ+ImwvNHx05aRl4IXfLx7WE1NjuObSaEz7FfMvQJECrI6H1aeDknkgzhJByOei5STtP5NPIbLwAdsy3+Y3nRzjCMih7eljb9ySIxKKN+vlTYZaEO6XT1/ubhXU/bZsU8jrvcL46UFHhj2GRJPceQT73HZZUhva2ZeWexxNMAJ0J76asYqccQ6ajQ8KwypRmkfzNCTpgqfSVtNyl+blNYSCO5zb7Tv/r5UsEjgmKC1NO2LD8+a8kTTwyh/ZQBTxZGQ5EQrsn9lFzAi/R4BSk/g0i1Sj33a3v0G/R5rETt5x8Gw6/Mq1cL51qZxOZN3849QkgmKw/iISa0uEi4ThbuoK9nYRX4I9xjtQrnxkjES2iLRZA/7aORfiKmnWFgEkqa/LNBh6zraKQ8WfmVtRcz8prx/IltD1nlzNtWS55F/UQz21OyrLX0C3j3WIAIDzULF5nU2y+XPYM6Wk/imriWtJ7ENBxCOOeYYw67ZH12AQING3vED9MBEbZJB+kXWAlhEIxg4O0z4aHNgwPXOEsgk56V8T788MPwEKSB7bfffmE+g8X6sww5I2zMccDlzOho0ltoeeuz4wmgwPFQTi+TzXw4DK1+/fpVC8VKkxgfGCR4oFAA/AT/YNwz0maCkkG6pKCMp+e4sC2dLnkM4QecnxG55Mgyq8oxbwZlxMQvuBK+opQWCedjsIGys6oWIU60e4638hHuhCS9bFnbss6Dx5H88eIwKs7omg10cD4TO5ft4x5DsWalSrzqeEgGDBgQ5qUl5xjY8XzGHkN5WNHTVvWMPa6eeozJm6gAlJxk3RubpFcoiyVMMZAQ2id9FXMWeNjlCefj2rkeJPb8WflllYk6RKlJGnLp+sWLzP7NN9/c+cUywnxY7jsG1PKMIKsv2ir5oSRzLOdibiPbzMg1flbmvO0xeVoe8MXDT1uEc5mwqi31kF69kcgPrt88e3ZfpcuclX/M/Zpu37H9Rmw7sAFN6pkVKAkjLCt7DOfY86e5xOTNMcxtxSilTngW4wFA4U3Oi6UMiF0Pg7V+QajqgB6DKhhJPMNN8GxSn7SLPGFpegapCN/kVR0mPGc4f0w/kdeGY9uZnTPrM91mYsoTW18x7WW88cYLxeKe5n5Gb7JngdUFCdL9SNa1xLSHPJZ522PytLIU9RMx7cnysc+Y/jSmX7D8aIMMNtB3G3fbV0+/XPYM6mg9CV2Ifhq9zAYPaFM4YRhoKZqCZRz02ToEhvWjdwc1UlyMMOZmMQEfBZuQHYw6lhu3USjLn0UjWIqayds0MkLiOI4RBm4olo3nN0vzIxiDKDk8dIjxZh+LwEiGPgEUYB40GFS8j4Wl4/Hw8hDilQxJJQ/DEMWNCfIsbIJnDeOfkSw6fEJnCDnjvS902CgIKF4YVBj3PMRoS4RSoMCiVNjDDKUiuXiLkaH9YQCwfDPnwujj/CzdzxL3PIAZcGCJZdJhlKH8TzzxxJZFm0+OYXl6zo9BRogSo5hcO+fnj3NhxKKUcA08ENPbLHSiTeb+B55QDGXKw3fmMGG8MbKI4YdBR+eMwoSiDxO8PnDinWaUjRF4BkTwiPAey6x5UJwX5kXH8EAkNJvlyuHEdXAezl90HMo43px66pERchSnvOugDPCgfaE4U0/0GbwfEeUR5oSd0NbSLHmIEprHQw1lhLAV5gTRt2SN2nPNcMT44LwoePBn4YGY86frlt/pMpEnnhDORdvDq8S1M0+JfRh4LCiEN4Klvgf6sGjaB22YemceEduzBO8EbQYFmfsNTvTReGfYRh/Kcva2aAv5sI1FjZjTmN5O+HNZnrzahPZhQtvj+hjAS8+BszT2yX3H/UqkAHWJogcHjFmeCdz7XDf50e/gneeasurO8iy6X+l3MCrS7ZtIlLJ+o5Z2yD2KAs89TZ9F+bk/6DN4TYWFjVqZ+SzjzOI09Iv1tMOYvIm8oa3RXghV555mDj68mJfPfYrSiofE+ibS0a9xLPcZ9UUYKIoy/ST9DcIx7OcepL1kCe9QtHuZPBikoN1jAKJfUK9FfRCDh3ltOKadZZWJbfX2ic1uL9xLPHepI15Vgg5Fm7K6yHtO9O7de4hLK2sPQ7OfoA8oa0/JC6Kfi+lPeY4VPceT782lX6Qf5rmUjk7gXZm19stlz6ChoSfxjKFPZVoDOhVtCj09b45qkrm+txaBHv6mKl8lpbWuSaXtAAIoqfyh4PEgZNQaLy9KuD3c08VA+TEFh2MwwtpbUFbeeeedYHwVKYcx5eBW4eGdHPFq5nVQVsLtUErqEZQwFCmuMz3QkpdfPceQV73H5ZUjub0ZeadZMnKJks9gAu0zaZgkz92e39NlquVctDMGElB2k+2vKA/Ol0zbjLYamydGG8Yb7/KLFe4v5oBTRxiL9CeNSCP3K9fZaL9BeBSDTBhoGDAMKvGHEUP+RWxiOdfDp73ypu+COVESDAKn+yC8BgxUoWxv4ucuNir19hPNbmd2HfWWx46vpb1wLgY80owtr1o+26M9xOZZ1E+UtadarjGZtpZ+AR0HPSWPcy39cuwzaGjoSdybDBAmPfFJZvre+gRk7LV+HeoKREAERKBTEeBVEXhiGAHvjoJ3dLvttgve4axBLTyreL26k6BQ8joFVjdsjwWuWplld20v3b2faOU2q7K3FoGGX73QWper0oqACIiACLQHAXsvGvNb8M51V0MPtoTaMVLO/BcWdcK4ISTslVdeCQsirLrqqu1RBZ06T+ZMy+G03hsAAEAASURBVNDLrqLu1F7UT2S3AW0VgfYkIM9ee9JV3iIgAiLQTQjwmgHmWDHXh3lT3TkkCC8Wc45YFIhQNeb0EsLOXBjmrdsqk92kaegySwh0p/aifqKkMWi3CLQDARl77QBVWYqACIhAdyTA4jkK0Wtb8yy4wzzR5PzJtin0SwT+n0B3aC/qJ/6/vvVNBDqCgIy9jqCsc4iACIiACIiACIiACIiACIhABxNo+D17HVxenU4EREAEREAEREAEREAEREAERCCCgIy9CEhKIgIiIAIiIAIiIAIiIAIiIAKtRkDGXqvVmMorAiIgAiIgAiIgAiIgAiIgAhEEZOxFQFISERABERABERABERABERABEWg1AjL2Wq3GVF4REAEREAEREAEREAEREAERiCAgYy8CkpKIgAiIgAiIgAiIgAiIgAiIQKsRkLHXajWm8oqACIiACIiACIiACIiACIhABAEZexGQlEQEREAEREAEREAEREAEREAEWo2AjL1WqzGVVwREQAREQAREQAREQAREQAQiCMjYi4CkJCIgAiIgAiIgAiIgAiIgAiLQagRk7LVajam8IiACIiACIiACIiACIiACIhBBQMZeBCQlEQEREAEREAEREAEREAEREIFWIyBjr9VqTOUVAREQAREQAREQAREQAREQgQgCMvYiICmJCIiACIiACIiACIiACIiACLQagZ55BX7kkUfydmm7CIiACIiACIiACIiACIiACIhAAwT69OnTwNFxh/aoeMlK+vvvv2dt1jYREAEREAEREAEREAEREAEREIEGCfTq1avBHMoPVxhnOSOlEAEREAEREAEREAEREAEREIGWIyBjr+WqTAUWAREQAREQAREQAREQAREQgXICMvbKGSmFCIiACIiACIiACIiACIiACLQcARl7LVdlKrAIiIAIiIAIiIAIiIAIiIAIlBOQsVfOSClEQAREQAREQAREQAREQAREoOUIyNhruSpTgUVABERABERABERABERABESgnICMvXJGSiECIiACIiACIiACIiACIiACLUdAxl7LVZkKLAIiIAIiIAIiIAIiIAIiIALlBGTslTNSChEQAREQAREQAREQAREQARFoOQIy9lquylRgERABERABERABERABERABESgnIGOvnJFSiIAIiIAIiIAIiIAIiIAIiEDLEZCx13JVpgKLgAiIgAiIgAiIgAiIgAiIQDkBGXvljJRCBERABERABERABERABERABFqOgIy9lqsyFVgEREAEREAEREAEREAEREAEygnI2CtnpBQiIAIiIAIiIAIiIAIiIAIi0HIEZOy1XJWpwCIgAiIgAiIgAiIgAiIgAiJQTkDGXjkjpRABERABERABERABERABERCBliMgY6/lqqzzFvinn35yF1xwQd0FPPLII93+++9fePybb77pzj33XLfddtsVphsaOynbeuut51566aWhcXqdswYCf/31l3vggQfcEUcc4dZZZ50ajmzfpL/++qu76667wn1w6623tu/JOnHunfk+78TYVDQREAEREAERGIKAjL0hkGhDvQRuu+02d/nll7sffvihrix+//1398cffxQe26tXL/fkk0+6d999tzDd0Nj5999/O66BT0nnJzDttNM6jIpvvvmmUxX2zz//DIbob7/91qnK1ZGF6cz3eUdy0LlEQAREQAREoFECMvYaJajjA4F///3X3XjjjcFYu+WWW+qicvDBB7tjjjmmzbGffvqpS+Y3+eSTO5T0oS3pclGemWaayd1www1uzjnnHNrF0/lLCAw33HBu4okndlNPPXVJyvbffeaZZ1ZPMtJII7mFFlqo+ru7fuks93l35a/rFgEREAER6DoEZOx1nbocqlfy+OOPuz59+rjRRhstGDzN8G7hJSOs8+effx6q15Y+eWctV7qc+t35Cdx7773u+uuv7/wFVQnbEGBwa7XVVgt93vbbb+8qlUrYv/XWW4dt9IWHH354m2OKfpx44olu4YUXdssuu6z76KOPQtKrrroqbCOvZZZZxnFOiQiIgAiIgAjUSmDYg7xkHVSPss4Dr0ePHlnZtdkWm67NQfrRqQmcfPLJbsstt3T//PNPCLNkZH6qqaYaoszvvfeeu+SSS9xcc83l7rjjDnfNNde4WWed1Y044oju9ddfd1dffbWbd955g4G38847uzfeeMMR1vb++++7scYaK/w9+uij4fe6667rBg4c6C677DL36quvBo8f4V8I5XjiiSfcK6+84nr37h28g3gIhxlmGDfJJJM45mw99NBD4fwff/yxm3HGGcM+KzBhotddd51j3tQXX3wR8h522GELy4VRes8997gvv/zSTTbZZJaV+/bbb0Nejz32WJjPN8ooo7ixxx67uj/9pb3KbufhemBIeWAy+uijuwkmmCDsRqF88cUXHYrmbLPN5l544QV36aWXhs/pppvOGV8SY6gQujvffPPl3vfkdfPNN7tnn312iD/yG2GEEcJ583izE+N6wIABoc5Jf/bZZ7vvv/++6uGlHmlL9913n6MuqW/LN2Re8I9jP/zwQ7fRRhu1SZVXnlr4kCFl4o92gTeYuqWP5I+2i0FAnr/88ot7++23w71A+Cb84WqDJzCk/XFfFQn5P/3006GdcW8Rpsr9xbFI3v1HefIYF+X5448/uiuvvDLc888//3xoH+ONN164JtrWgw8+6Gjv44wzTrUeaQu0vXfeecfNPPPMuZcTc59zcFF75lz0Nw8//HAwomaYYYbAAi7nn39+6HNmn332cO9znbRnvPNPPfWUG2OMMdy4446bWT54Lb300qFN0/dQL1NOOWUw9Pj+1ltvuaOPPtoNP/zwmcenN84xxxxhE3X31VdfuSWWWMJxfyy++OKhXoh6mHTSSdOHhd+DBg0KZabPwVCkD3355ZdDH4SnmPZ90003hXzGHHPMIa4pr63byYr41no/WJ76FAEREAER+I9Az5492x1FQ8YeCslxxx3nXnvtNcfI5BVXXBEUaR5MF198cXjIJ0PunnvuOcc+DAMeSKbcoOiboBgfe+yxYRGOM844IyjxKDwo6AjzwXbcccegpE400URuv/32c+edd55jcZDpp58++uFq59Nn4wRQJqjbVVddNdQTngoUkJVXXrlN5nfeeWfw1GFAoAShkLBIBmGPGGUsloFxsMkmmwRlmDpnsYoVVlghjKKjRHJToATSdjCqMARQJjHMUGSXXHJJxyIXF154oTv++OMdyiiKF8bVd99950499dSQx9133x0MTIxIjsUINIULJRzlcOONNw4KF+0Vw2b55ZcPx2aV65NPPnHnnHOOu+iii0JoIAo2wr1xwgknuC222MItssgioT0zvoLSaW06Cak9y47CT13Bd/XVVw/eAsIZ99hjj6C4jjrqqMFAhhuGMsov9cj9SZ3CCr4mKLMYS6ussopDqcwSDB0UzBVXXNHNPffcwQNCn0Fd4q1Ainij+B511FHBoKestBmMCow66uPAAw8MZWSgYf755w/9wumnnx7qEgOjTLKMvaLyoIzH8sGYwNjYc889g1Fz6KGHuttvvz30YRjYs8wyS2D69ddfh/sC5R7WZuxxvdwPDJpwz9Bnco15BgjXShg0htQOO+zgFlhggXAfMGBCaGje/Uf+3C8MmqQZU29FeZpRTR0xGLP22msH5BhDDKhwH9kCOGeddVYYVFhppZWCYXTaaaeFPiOvjsruc44ra888I5jji+HJ4JANwtA2eH5h5NM+6UcOOeSQwIlrpi+hvnr7gYMpppgis4jUFf0Izx0MZfo/7gPuYepg/fXXrx5Hu+G5xkAFnLmvyJt7DqFf4/6CGcYjfSIDMJSNcnKPZQ0Q0S54pnJ+DC/6IfoV7lfaGvVJ1AWGKwzoT8nL6q2orTe7v6jC0BcREAEREIEqgY4w9hoK40Tx4GGFwrTZZpuFOTB777234wG71FJLBUPQFhngwY2RxqgnigHKCA/qrbbaKig3dtUo5ig/PDhJx8OOhxkPMoTzLbfccmFEFkUPhYaHKh4YlBlJxxNgJJyQJmTCCScMCileOhTzpFBvjFgjKFAoU9QZHgzCl/DomaCkmHJDnWMcmIJCGhZywWjZfPPNgyFFO0CxxmuMwkU4FcejxNHuUHB22223UD68QLvuuqtbc801HSuAonRbWRk0OOWUU0K7xIikvaL80S5RlPLKheK26aabWvHDJ4rbYYcd5hZbbLGgCLMRRZdrwTOVJe1Zds6HEounlHsUYZ4h5cQoReBoRhj1wv3J34ILLuieeeaZargaaak/BmSsntiWFrhwL6NsIieddFK4p/HaImW8UXipNwRleN999w2eJPLBW2GGDdz4o/+hzuHOddUqZeWJ5YOnDo/SPPPME4pAP0bbp2wY/ni2YYKnlIEG2gTGUlLYjwFC291rr71CH4hyXyQYCjaIQFtlTiLGMZJ3/+GhymPMcUV5sh/PGG0FoyoZcs1v6xdIx71u/Tg8uOfLpOg+59iy9kwa+ggGlxh4MKGeKQP3N8JAJZ45BmmoE54pHENfUCZ430YeeeTwDMpLy/MPA5OQT1gzuEX7SAsDm5wbwzhGYE8/hlB2Bj3oY/r37+8+//zz4MXkXsPQ5XnJdX/wwQchfVlbJ1EZ39j7IZxQ/0RABERABIYKgYZ8hyhyjJTyifeFkU4eYrvvvnvwzLAyI94XHqgoZ4wuo4yZoGiyVD0Le/CJYEDyh+DFI8yHUUuUHEY7UYzIB+8AShOKJMKD65FHHqk++MJG/Wt3Aoxi86qBnXbaqXqufv36BSWcMDIMqaSYQouXB0FBN6lldAPPAQqyCW0QLyFtxgwL2iPnS+Y7/vjjB2MnaThiUGCcIrQ1QpjxAJqguHMdKOpFgnKdFLxjhFWhEJlQNjyJZdJeZcfwxNBAqUQxNwX4s88+qxbJriNpxHGfwxcWGMEILPkrEuYbmeCBJ5SR0EU8W0gMb2szZjjRB1B/DPBg2MDKhO30GYThYaDTx9QiMeWJ4YNHGc8oHkgTynLttdeGNpr0OtKWs4SBExPzSCXryfYlP3ktCXwQ+mJC9FD6TYxl+v6z7WnGHFeWJ2novy3iwvpy+myMDhNCpfHes/opnmXz+Nn+rM+y+zymPdPWMLTvv//+UEbaLx45jF8TBg7w0OF9M6G+GBhhwDLZxmy/fVJGBpcYYEjmafv5tP6RvoU+E68ZHlOelVZfln6NNdYI7YQ2nBwAs/3pTwutTvaHdl/aJ8dYeyIsk/4spq3H8I25H9Jl1m8REAEREIGOI9CQsWfFtIcVo5soDabIoWSjIBOaicLB6nc87JPCg5e5GyaE5/Hg5UHHMfYgQWlOr3JIWJwJD2p59oxGx33iJcNo2HbbbasnxbtGvTFfB8XC5oORIE+xrR6c8SXmGEvDuYuEcqHAJYX2a9vwNtOOUcLKxM6Zlw5FG+OjKOwu79is7c0qOx4vPBYYc4suumg4VRm3rPLUsg3vEMY/YaB2To6P4Z3HmWOz5oXi4aD/YD+eJMJmk4L3w7yXye18jylP+pis3yjWzLGiHLDlGjB0MU57+4GJpORdXzKN9bHJbVnfUfwJzeO8cKZfNK816fPOlbedY8ryJA0DCJyLgYy11lorDJ4w5zNZ7l122SV4lxhIoY/HOMqqP/LLEytnsr3GtGeMS54P/OEJgw+RIwgDhTyj8HAmw5TzypC1HSOZaAWM+fQAF+mZs8lgCdEHGHv0MQyccG57Xlq+8MZIxrtnxrfti/2052YyvdWFvd4mtq3H8E2eR99FQAREQAQ6F4GGwjizLsUWAmCfPZh5uCGMPKIEJf8IL7EwFAxDFALm6TAXj5FH5qkkRydDRoP/JR9oyfMm0+h7+xFA4WJBA16kzvLx9oeSwnw3FO0YL1ZZCa0dlaVrxn5Ct/CeWPhxMk8LQbNtZeWiTaJY2ep6dlx7fcaUnTk9KJJ4dggXM49Oe5WJfFEWCZfFq2nhm3a+mDJb2vQnYXgMDqU9rubBYD8eMc6Z/LP5lOn8+N1IedL5MbePAS/C0LlPGNRinmO6ryprR+l8i34zXxGjGk8SoZXNyDs2T9oTkRx40DBu0l4u6oWwXyIy6OMJD/5gcEhh0TUV7Yttz8yR5Y95a4Qs892MH54jcEoOOibPmb7vk/uS37kewkHx6iYFDz/huHg2mdeL0cfvIiF0nOcmadtLYtp6LN/2KqPyFQEREAERaJxA0429rCLxkOeBihePeU3Jvw033DA8eDmO+QEsosF8KkaF8YqgjJqxmJW3tg09AsyXYp6LLTKQLAnzjKhzlNwswymZNu+7KaqEw3WUsKAQ52NRhKTg+SMsGYktl3ktWPwiKRgnLJ7QbIkpOwsnYYBaaGlHsOX6UeqZq2ReDBRoPE4xZc7jhAeFsDjCFZPCgiQosniaOB+hpMk/MwaTx9j3RspjedgnRi5zl5mn1bdv3zDH0eaIWRraUrPqgEgIVsbEo8f1I43mXUuenJfoDQwe5l3b3EHKQX0Tro/xy0CQvVuQhY8akVraM9495n2ymBjGlAmeNAYFMATxtCWFBWYYUIgRDEgGUViAJSl48zD0eNbh1aVfTIaWJ9PadwYE8EBjHDZah5Zn+jOmrdfCN52/fouACIiACHQOAg0ZeyjAhKIQxmehIShfyUn6zKHiwcUqbYT88cBnG0oED1ceaKzKhqAcYxCyzDj7UQRYyIUQG4xAOwffEeZ+ICgSbOPceQtfhIT611QCKAK8GypL8KoQ2kVbIGTLxAy/rHqifqlD2hRi4Y8YBdQxy6UjtB9+JxUzG01nnwmDBBaeads4v6VNbrO2hVKOwoqBgqKFosfoOqGA5qnIK5flYdeGQcX8MebFsTgCxjFhXiy2kQxBtnIkP9ur7Bgg1AmeF8qJUYvBgUfG2Bl/0prYNdk1sp2VBbl/8zwipGHeHEYy4XHJa8bbwX0dw9vajN335IvgSUFRT4dvs4IlXibaYJnAgjZn1xpTnhg+KOhEKeD9pi8jnBkvCedKCm2JMhDySx1wjcbaPklvdZPclsyH73YN1C3pMYJpc9wr9JVsM5bpfGx7mnFMnlYOPGVEatAeknM12Q8H+nvKgkwzzTQhvDs5LzTsSPyjvGX3OeUra8+WJfP2MP6ZL2n3sO2jvdAvEI4OM/qai/zKurRfVknNEgZtuB8wbGnLCPeD9VN2DAOXDGSyYA2hkxjk9CcIdc418sf5ue8J9+U38+UI90z3V+HAxD9rj8m+zurT2g3JbZuli2nrMXzt/NZWOJe1r2R/wXaJCIiACIhAxxNo6NULKMMYZigqPEBsAQIekMyJYfVCFH3CNJl7wEMBJRrlj1AjlBEmoG+wwQZhoQ5GO1mwg32sVMZy1YzAEv7JNh5cKM+k52GI8choLYtr8PJtHpSMxDLBXdJ+BFAI4c0qfygieCvSyhMevYF+7hCKGPWMwY+ig7FPO0ChQenCy4JCQDtBaUchYT+GP8o6XhrqFOMAg4E2QVqOIW/aA6tE0j74TXnw6LD0OCvg0WZQKBlRx7BhAAFFBAOHkXgWakAJNYUKxQ4liNF4yk/7pgzbbLNN8GJClZH5dLm4HtosngMUP8rONbCYEGGcrFjLuSkPixSleVlt0YbxjLRX2Zk/CS8MAu5b7iWMEcqHJx3BMwEP6gGWLMADO8rGNvO6c73sQ8nLM/rx5qEMM5+J13OwDDzMuUYWV6I8rPSZx5sFTggLxoDAYMKgYIVJ6gCPMv0HocLsx6DAmKYOiR4wD6yxTX5SZtoI7ZS+C8WdNkKeReVh0ZEYPnjWmBdG28KLS5ulnPR9GII2/5j+Dh6k4Ttthn6VdsR9hneMMrENI4K2y1zAtIeQa8OQ4RjuFULgub9YDZOwSgwNrpN7LH3/FTEuyxOjjsV+TPD0szovr5ugjkyom4u88cTADXVIfZM33i4Lp7S0fDJAUnaf86oU6qyoPbNapQl9EO2a+zvpdWQ/xif7uQ+oDxb/wduH8cb2LGHeK4uCwZZ2xIAm9z2GNW3VnkMMHtE+efbRPnntAnyoJ34TVsw2Qp0ZEKCPxOtGHVNOnqM857JCruHJoBvnpO+EP/cziyFRBvLlOhhk4FUgeNhJSxuiXEVtnWtuZn+RxVDbREAERKC7EyiL9GgGnx7+IZy5okV6HkwzTkYeKDo8jGy1wSyFDEOOhxRz9bIUgWaVRfm0BgFGvzGOstpKe14B50VJwiDNOnct5ULBRtmO8TY145qKys4tz/2dXGGQslnoX+z5uU8Z2EHZxmhsVIrKXJQ314OxjSGNsYS3rxlSb3k4N+0GzycGLXXPQATM8UajiLNIiS1chBENS6IamiHkl1zltp66TZcjNk884Ri1yVWXLS/6fuoK45++PeuesrS1fNbSnhkkop3nnZtBAIxf6ibJsJbyUPfwShrBHE874PxZRltR/hjwzHfNK3PRsbH7itp6LXxjz6d0IiACIiAC/xFols5SxLPDjb2iwmifCIhA6xDAQGFZfjz3tSqwrXOV9ZWUdxDiUWF+WlrwGuEJtVeEpPe38m9eJ4CBi2dKIgIiIAIiIAIiUEygI4y9nsVF0F4REAERyCZACKcMvWw2hDgTwUAYL+F4hAISmklIM562rmToYfDjWcX7jndVhl52m9BWERABERABERgaBOTZGxrUdU4REIEuTYD5dcxpZI4foZuEBDI3q1+/fuGVCF3p4vfYY4+wqAkhtCeccEKYI9uVrk/XIgIiIAIiIALtRaAjPHsy9tqr9pSvCIhAtyfAfCebc9WV5x+zKJFCebt9cxcAERABERCBGgnI2KsRmJKLgAiIgAiIgAiIgAiIgAiIQCsQ6Ahjr6H37LUCRJVRBERABERABERABERABERABLojARl73bHWdc0iIAIiIAIiIAIiIAIiIAJdnoCMvS5fxbpAERABERABERABERABERCB7khAxl53rHVdswiIgAiIgAiIgAiIgAiIQJcnIGOvy1exLlAEREAEREAEREAEREAERKA7EpCx1x1rXdcsAiIgAiIgAiIgAiIgAiLQ5QnI2OvyVawLFAEREAEREAEREAEREAER6I4EZOx1x1rXNYuACIiACIiACIiACIiACHR5AjL2unwV6wJFQAREQAREQAREQAREQAS6IwEZe92x1nXNIiACIiACIiACIiACIiACXZ6AjL0uX8W6QBEQAREQAREQAREQAREQge5IQMZed6x1XbMIiIAIiIAIiIAIiIAIiECXJyBjr8tXsS5QBERABERABERABERABESgOxKQsdcda13XLAIiIAIiIAIiIAIiIAIi0OUJyNjr8lWsCxQBERABERABERABERABEeiOBHrmXfQzzzyTt0vbRUAEREAEREAEREAEREAEREAEGiDQp0+fBo6OO7RHxUtcUqUSAREQAREQAREQAREQAREQARFoFQIK42yVmlI5RUAEREAEREAEREAEREAERKAGAjL2aoClpCIgAiIgAiIgAiIgAiIgAiLQKgRk7LVKTamcIiACIiACIiACIiACIiACIlADARl7NcBSUhEQAREQAREQAREQAREQARFoFQIy9lqlplROERABERABERABERABERABEaiBgIy9GmApqQiIgAiIgAiIgAiIgAiIgAi0CgEZe61SUyqnCIiACIiACIiACIiACIiACNRAQMZeDbCUVAREQAREQAREQAREQAREQARahYCMvVapKZVTBERABERABERABERABERABGogIGOvBlhKKgIiIAIiIAIiIAIiIAIiIAKtQkDGXqvUlMopAiIgAiIgAiIgAiIgAiIgAjUQkLFXAywlFQEREAEREAEREAEREAEREIFWISBjr1VqSuUUAREQAREQAREQAREQAREQgRoIyNirAZaSioAIiIAIiIAIiIAIiIAIiECrEJCx1yo1pXKKgAiIgAiIgAiIgAiIgAiIQA0EZOzVAEtJRUAEREAEREAEREAEREAERKBVCMjYa5WaUjlFQAREQAREQAREQAREQAREoAYCMvZqgKWkQxK444473I477ug222wzd+SRR7r777/fHX300e7vv/8eMnEHbHn99dfdeeed5zbccEP3559/Nv2MP//8s7v77rvdAQcc4C688MLo/Os9LvYEXHe/fv3cCy+8EHtIbrpm5pV7kg7a0d7toZbLOOSQQ9xee+1VyyFK20EE2qvNf/TRR6Gf6N+/v7vyyis76GrKTxNzvb/++qu7/fbbQ5u96aabyjPt4BQx19BeRfrrr7/cgAED3MEHH+xWW221mk7T3s+CmgrTyRLTzs444wy33nrruSOOOMJVKpXcEtaSNjeTOne0ch0WlR3mu+66a51UdFhnJiBjrzPXTicv27nnnuuOOuoot/HGG7szzzzTLbDAAu6qq65y1157rfv666+HSulHH330YPCgCAw77LBNL8MwwwzjRhxxRIeR+9tvv0XnX+9xsSfAuP7999+bYmQ3M6/Y8rdXuvZuD7WUm/r5448/ajlEaTuIQHu1+THGGMONOuqo7qWXXnL//PNPB11N+Wlir5f2et999zkMv84msdfQXuWebrrp3BtvvOG++eabmk7R3s+CmgrTiRI/9thj7tFHH3Xbbrut22233dwDDzzgPv/888wS1pI2M4MGN7ZyHRaVnfud55Sk6xGQsdf16rRDrgiv2fnnn++WXnppN+ecc7rhhx/e9e3b15122mluxhlndF999VWbcpx66qltfrfXj4kmmshNM800Ifv2MPZGGmkkN88884T8e/bsGX0Z9R4Xe4JZZpkljMLPPffcsYeEdJ988om78cYb2xxTb15tMukkP9q7PdRymYyannjiibUcorTtQKAj2/xoo43m5p9//na4isayzLvHk/00fdYiiyzS2ImadHRH1llMkYcbbjg3ySSTVJ81McdYmvZ+Fth5Wu3z6quvdpNOOmkoNjrFvffe6+i/s6SWtFnHN7qtleuwqOx4qk8//fRG8QxxfLJfGWLnUNzQWcvVHkhk7LUH1W6QJyNujKy+/fbbba4Wo2+jjTZqY+zdddddjs65o6RHjx7teqp686/3uPa6GDyTe+65p/vpp5/a6xSdIt/Oxr1TQOmmhRgabb5V2l9H99OxTXBo1Fls2epN1yptot7rq+e4999/38VyqSVtPWWJOSa2rDF5dXSajix7Z+1XOmu52qstxLsm2qsEyrclCUw44YQhPOnVV191Bx10kNtnn32Cd4+LwcNHXDhy5513hv18x6sx9thjB2OQkKannnoqhHs+++yzbvzxxw/z/jAWkW+//TaEcfCb0eWbb745hMzgSST/pHz22WeO+H28jYRY/vLLL0M8NDBOn3/+effFF1+4Dz74wK266qrBI2n5vPvuuyGPHXbYIXjInnvuObfTTju5scYaKyQhbPOtt94KoVjmPYvpMGOOw2BmFPPTTz91M8wwg1trrbUCS0KnLr744mA4M5K8yiqrBK8p80Uuu+wyx2j3yiuv7GabbbZgsDFfcswxx2wzGp933dTP//73P/fmm286RvoIRVphhRXctNNOm5sXIAiteeWVV9x3333nevfuHTjivUD+/fffEELLXJbtttvOvfzyy+6ee+5xo4wyimPOEiGVedLR7SFZjqefftrR8TM/hGtad911HbwJBb7++utDG9hqq61CWHAeT8uvqB299tprgQftyqQov1p5Uv+cn7qZeeaZw31C3ZrktTPbH/NZdH3UIfcp7WOEEUYI7YlymKC0036+//778EeII3Nz7Dq5B5gvQl088sgjod0wcDTZZJNZFuH+KzoHCWnLt9xyS+iD6D8WXXRRN/3004ffsW2+ljZRdt3Vwg/+8uOPP7prrrkmhPQSUtWnTx+Hpw0O9GO0icUWWyzc6+ljk78pI/0rsuCCC7rFF1/cXXLJJY55gsjCCy8c8qEfob+A+zbbbBP6bQZ4kv1FXj8dMhr8j3yZr0z/udRSSw3RDyfT2veY/qKo3uvpp4gqufXWW0O/Sf0zvSDpXY19tpT1SXaNsZ+NPAuS56BPfeedd8Kzc6qppgrtxJ7HI488cugDaEdZz7KYtlrWT/DM4FnK/UybJdJl1llnTRZxiO9F7YD651lBu6dNoyfwrOCZkZaitIQf0qa5p2aaaSZ36aWXhn6QZ2QzrpuyxNRhWfujLI8//ni4H9Fn6M9gSj9FX8Dz/eGHHw5pJp988tBHFkUpxbbTmLKjzxFKu+WWW4b2RdQPU3KWXHLJUM/UE8936n6ZZZap6lB5fXtev9Iog6I2GnN/55Ur3d661G+v4EhEoC4CvuOtzDfffJW55pqr4hcHqTzzzDND5ONvvIpXbite8ah4Q6viO46Qxi9WUfEKdPju48QrfoGXymGHHRZ+e2Wo4ucChnx9/H7FhxZU/FzAip8bWPEPlopXmqvn8Z1TxRtHFa+IhG2+EwhpSGfiRwErvhOteKMybPIdacUrABVvLIXfXjGoeIMynM+Hplb22GOPyrzzzlt54oknwn5vzFb8Ayh89x1xZb/99gtp/ZzFsC3vX8xxvuOsHHvssRWumXKutNJKlfXXX7/iDdeQrTcAQ9m59qQ8+eSTFW9gh01eAa/4BWNCmfyiMdVkRddN/t7YDsecffbZoW78w7KSl5fvnCt+cZHKoYceWvHGdPjbe++9K/5hVaEOEK+gV7wRHfI8+eSTKz6kN/x5RbTilfhqubK+dGR7yDq/tTf/oGuze4sttgj1wsYinuzPa0d+fknltttuq3gFObQ70iJl+cXy9ApXuEe89zzk6xXkyhJLLFHZZJNNwm/+lbWzasKCL3nXx33iH/aV3XffveKVwPCde4N7kD7C5IQTTqh4RTX89AZZxRvV4bt/8FaWW2650G6412mPtB/u0b59+1b8YE5IF3MOb2hWvEFT7WcuuOCCUA7qtdY2H9MmYspEP0Mf6ZVPQxH6IrbR1yTFL7BUeq8k03ulLFwf5UC4N2ln3ohOJqv4QYvAlY1Z93heP+0V11D2nXfeOdz/5LPpppuGc9p93+ZEg3/E9Bcx9V5rndHH04d6pTSUhN8LLbRQ6LfYUMuzpahPGnyZlf333z882+x33mczngXkfdZZZ1XbB/cQ/S/Xx31Df97oPVrWT9BOeD7R5yB+MLJyxRVXhO9Z/2LaAW2Xa+F+4J774YcfKvRhWZKXlj6CNkoePBcPPPDAih8crXiDMapvKrtuyhJTh2Xtj/vThw6Gcm6++ebhermnfIh/2OYXlwvn8Ys5VXbZZZewjf6wSGLaaVnZ0cG8YVfxg0yhTdn50DNgevnll9umijeowza/NkN1W17fntWvNMqgqK5i7++sclUvpot+YTRbIgJ1E3jxxRcrfjWycPPTKdBp+ZHkNvlhJKC0JWXNNdesHH744dVNfgXPkI9t4CGBsoiybQ8WlBTOwQMGIc0666xTOf744+2w8OlH78OxttEvMBB+Dxo0KGzyno+Qj/cgWJJgaJI3HRlCh4TYsTyATFAkSFtk7MUcR54ouaaokT+dPXnT8ZqcdNJJFe9NrBqnbEcZ9p4nS1L5+OOPw3FJY8/KkHfd7733Xjgm/bDOygtDAoPZuHBijEOMeOrSjNNzzjkn5IniYeJDRUM6q0fbnvzsyPaQPK99916PYFygJJhQP5TdpIwn6RiwyGpH7EMxxIAxickvhieGpB9lrd4n5E87gin3SGw7s3IVfeZdHwpJUimhPaCE0r5NvOep4j1D9rON8UNfADfucZMHH3wwbLNBoLJzcM7VV189GDaWBw/1FVdcMRjbbKulzce0ibIycc4sY4/t22+/fbgvvJeNn0H8QlcVP+pvP0s/UXzglhykOOWUU8IgHNdusu+++1YNYLZl3eNZ/bQZeyiUJtYPey+ibRriM7a/iKn32DqjH6Wuk+2QgjGAByPv2QjljHm2kLCsTyJNjLFn93nRMyTmHsUAYhDSBnU4PwOFXNuXX37JzyD13qMxZWDQFS5+Ckc4F8yTSv/gIlQ/YtsB9y7XgdFQJnlpYUAe6AQI9cwzquwejbnumDqMbX+Ujf56gw02qDB4bMIgBQYqZTZhYIUB7yIpa6cxZbf8GZRlAMHkww8/DEyTxp73QoZtyXov6tuz+hXyr4dBTF3F3t955bJr72qfCuPsUn7ajr8YwjdYgZPFWgg5JOyN8DdW5ySkxCQd8ki4EeEWCCvV4ZYnHNOEfSyAQtinHTu5D2lAbKVPwkA5jtCkpEw99dTOexuqm7yXI6woR7ghYUGEwSCETZpwHsR7KsOnhb/5Ti6ENlqoIjvJH7FyhR+pfzHHEZLCvEf/gKse7Y2pEJbpO/zqtjXWWMORHyEVXkEMISneKxRC0ywRYYdpiblujklfR1ZehAUxed64cByhetQ/rFmVjlA0O3acccYhSRDC8PwDJ4TXEtKZJR3ZHrLOT9gQITXUCaGErKBIqIdXHqvJY3jmtSMySS/oE5NfDE/aBuE/yXrkVSj8IbHtLCQu+Zd3fdddd10IJ2MRGhPag1fMwkqOtBtCOv0Ic7h/vYLivLJjSavthkUvTAjfZoEGQouQsnPQH3jlJLCwPAhr9t4O+1n9TLJio3GuJvBfYtpEWZmS90syb74TokrfdcMNN4TvbCN8nBCqWCH0i3vNG/whlJPjvLIT/gjb8l6YEBLP9VrdkSbretme5sI2JLlQBqHOSLK/DhsS/2rtL4rq3bJNly19Dd4LEUIBCUVPioXdw8MPPoTnTtmzhePL+qTkOYq+c39SpqJnSMw96hXdUK/eUK+ezp6/7Bt33HHDdqvn9LOsrK3GlIF72huYoY36AQQ35ZRTOp5PeRLbDvKOr2W7Xbc3iMNh6BA8o5px3TF1GNv+KBzTTZgiknwmTDDBBKG/pMwm3HeE/xdJWTuNKbvlb9No7HfsZ1HfTh7pe5dt9TCIaaMxuiPnR7LK9d+ervdfxl7Xq9MOvyI6CJSWvn4uHe/co3NCUS56CPTq1SvE1xO7zlwT5qp5L2Fh2dM3ph9hDumTc3osg3RalE6MKh4InA/xIzeWPPem5xzeQ1FNl/ySPkdyX8xxGGwYP8x3LJKJJ544zDthHtLWW28d4vlR8mKk7LrJo+g67BzM0zEj17bxOfvsswdjj/0oAlkSk39Ht4escjJXEqWZd4v50eFwXd5r3CZpGc+Ya01mWJZfMq19T54DxZ52xPyJPIltZ3nHJ7cnz23bfehMMChQpIvKwWJAPvQ33IcoYLyP01bOtbzSn7R9lNuYczCPCUXJlN50XsnfWdeR3G/fi9pETJksn6xPH7kQDGQGy5i7SL/J/WSDYFnHpLcxl4e5vMxPQuHnWO8JC4Yfc4Ew9vj0XoP0oXX/tvIl+890Zo30F+Rl9Z7Mt6zOOCeSNgJ5tvCMsv0hUepfVt719EmpbMPPZj0LUPx51vHMhD1lZt4226aYYorqqbOuJaatxvQTrLTtwwsdqxjSRzJgwasSrE1UCzH4S6PtIJ1f0e/2vO6YOrT2VU/747o4judBUuCaHPhN7rPvZe00puyWV72f9fTtWecqYxDTRrPyzWobWem68rb/XCtd+Qp1be1C4KKLLhqiY+KhysvMkYEDB4ZP+5e+2XwYovPhg87P8wmGTHq/HVf0yTthkDIjkYUF8CIw4rexfyegjQAW5c0+H3YYJkvX+qLy2ONQQPAuZr3DijySgtLpw7ICV0a3ipRqOy72umPYMwrJAjXpB4+N+NtCNnbuWj87sj3klQ1Fhj88LXiT+J5UYmJ55uWf3t6M/Kg7/pjgnye1tLO8PIq2kz9lwMueJdaWaStEADAw5EOunA9RCoZq1jG2DUYoszHnwPChT8C7VyYxbZ48itpETJnKyoGyDAvuaQbI6jHKeKk3EQIMVPCOU7ymfg51MPqImvBzqauviykrTyyXsnwa7S+s3pPnKSsbXlwk/TxAgWQAwPYn8yz63ow+qdnPAowsrsfPG68u7MEgZtECHlxjTFslTczziIEJonjw5qAH+LDRXIyNtoPcjCN3NOO6Y+vQ2lez2l/kJbqidhpb9thz5aUr69vL7t28fNPbY9to+ri8380qV17+nWm7jL3OVBstVBbCDRmRTouPmQ+b0iGceCBMCP9hJBoPGzcvktxv6co+zSvACl5JSY84+0UagpFiHjoUoxhB0We1M5QxlA+TdP623T5jj2OFQK6bMIukMLrHwzQprLbHaDfXwiqGhECUSdl1W0cXw4NwIdKhPCYFbwR1iKFfr3R0eygqJ0Y1nhG8TnhMklLGM5k25nsz8qOt4XH1c7dCuZPnfcCvfEnbraWdJY+P/c7IMiHWGMl4EJLi590FQxSlA0OEsCXCS7l2BAMnT/Do+fmmrm/fvi7mHNYf+Lm0bbJkgAKvOFJLm7dM8tpETJksj7xP+kBCGOkPWcXP3jOWlz5rO+Ff9G2E0GPYEdLL33jjjef8XLvowTTY1NMPZ5Wpkf4iWe/kHVtnRBZwPxAKmxTaJEYMXtNYaVaf1OxnASs1MtDHir6EgdNP9R4cVlt0bTFtNaafwCNPGyEs1c8Ldssvv3y4h/18tczTN9IOMjOscWMzrju2DpvZ/mIv8//YOwswN26tYSvFlBlSZmaGlJmZMWW+ZYaUmW/brwxpmzIzcwpJmZmZ6Zb396t75X/iGNfeje2853l2bY81GumVZqyjc3RUqZ9WW/ZS10tupoWTvNn0lZ7tjXyuVNNHs2Ur976R5Sp3nWb5TmWvWVqixcrBoISHfS7S4GAlZ10EDxhmlpMwq8paOWb+GXymNXcM9HA9QoEg1DoPDb7jGDP0KBdZtwZCyiPpwcMAhx8dBroMKhHSEDqYHyTKRlry4Ppcj+8JQ86NzkCSayHJupauEQ/m/mF9QHJRwuKaMxQ9ZtCRFC46fij4V815/Fgz0GNwevbZZ0fLGXVhLUR2rRhZU17cYrGusW1EoSQrZ7b8lerNYBCBP+xZa4kUy4u1gvxwprrHhLl/hODGWpose0wCIAxKkqQypXZLx9NrSttd/SFdt9gr6/ZYq0WfTXxSuko8SVeqH/EdXKlrYlRNfiltYkQ+hTxx7aW/s9YLhYp7iUE+A1zqUG0/Q3Fn2wlm60tJqfrRBxhU5yLMxevTl3g+sJaTiQDuG9ac0s8Q7ltmg7NrOzlO+iRYu7DqYblCKl2D5wGDS7YHwDUaDrmodtHtDIURSW1aTZ+PJ+T+lesTlcpEHmkfy8Qu5csrz0q8IbivCzcwr6Y9Ul48b5mQIsw8zwry5TnBYLCYtbDYPV74nMaTgO0akNTneJ+emek7jhVKtc+LdF65dq+2zXBlhANWedy9kuCZwXq5tIaVulf6bUn3W7lnEvnzu0LalD5dM/vaqN8C7nG4ci/RrvyhGBdO1qV+lm0zylOpr1bznOD3O/3W0sfos6xv5rehmFTbD8gXYcKjkpRKmxTOrqh3NW1Ybf+jfjzXef5nhfKneysd51hhuvQdr6nfleun1ZQ9m2f2Pc/oqXKTCay5ZxKUZwxu4QjPeMpW6dle7LnC+Z1hUE0freb+5vqlysV37SjD5xbM923HilmnriXAjcrNzg8rFgT8wnORA6PigLKSHbhg5UMJZHad9yuuuGJ0SUQZI1gKNx2KDA8UjrGwHIWMARl7ZmHRIk0uylwcFKEQYnFjIMheUihdLFJmMMkAieMI52D14GFF8AYeiCicPPz4oaTcrPHhAcYgmToxQOY8HnIID3DcM1BysEawjw97+DB7jIsX+xultPGE//2r5jzqxQw8ZSNfZuYpP3uBFVsfR57sYZYLqZ+9VDxG2XgYM0DDTRU+lK1cveFMGz6Uc7lFQaZdGDwUy4sfdPaqwprLwJQHPANpBvK5iKlxgAkTFAUG/Qxw4YNLC23JAISBEbPr2QXoVARLJeXurv5QeP0sTNyhKD8/KoVWlko8S/UjfnxoW/oQP95woH2xRJVrH8pVDU/yoqzwY7KA9mRNJy6CaeBfTT/jfstFz4sKPEpfsronPgRbKHWfzDjjjNGVjGtzr5MWax/reWBKf8GFk/5AmbBAoVRzLzJopOw8S2gbAh2gsNE3cVFKQX0qXYN8eR7gxsm9zX59DJ5y25LklTxc4Krt86ne5fpEpTJRp1y4/Hhf8dxCuSWoRVZoP7jimkf5klRqj5SOVyaNuP9YMw0HhD7BfcV9nRWeIcXu8cLnNOViEio9V7gGStNZZ50VlXIG1bTxVLnna6FU87zgnGravZY24xnFpBLM6b8offTFY489Nj4Puf+oU6XfFlwUyz2T8LTg94SBL/c3+fJ8Tn01y6ORvwWs1+N3jt9Snincr3iBoAgSiKaee5T7sNJzgvsXTxSUDPas5beXCZ5iv4EwqKYfkAdjB9qK33v6GAp+Me+VUmlREnFx5fed33buWZ6v9J1K92g19a6mDWFQqf/xO4gV/5FHHokTKTwPyJvfSJ553FPcv/x20r9o66QAMkFW+NtV6beT3wH24a12DMPvB/sdpuU4qQ2ZeGNvUNaI8szmM2MMys94qdyzvfC5whigswyw7PHbXGrMVO39zbOxsFzc0+0sPXI/wv8/SkU719S6NZQAP3D88WBmdofFyTycUWB4eBYKDzl+kHj4J+FYNlod+RQOMFPaSq88EHE54AYuzJdz6eY8CDp7PSwS/KCw+Tt5MaAo9mNUWM5qz2O2kh9QfjDSYK0wLz5z3VKzqMXSV1Nvrs0Du9x1U97kxwOfWX0Gg9UwSOdWei1st67sD+XKQr+mHxbjUQ3PcnkXftfI/MgLazVtyWCnmFTqZ7Qrg+FcWOqi93GxPLPHaDMmDFCMs/caabj/KSP3Ea6HWb5E+GPgyuCfexn+KIPFpNw1UnombmjHZHFOx9NrLX2ec8r1Cb6vpkykKyZMnjCJglJaKLW0R7FnQ7FjhdfIfi72nM5+X+t72rvc86KWdq+lzagHAXsYjJZSRKqpSyOfSfX+FmDBQ9HGesmEEX+0L5NTKLe5LQbifVepXtX01VLPCcrA7yz9kt95fv+rkUr9oJo86k1TT73Ttattw0b1v3TdSq/V9NNqyo5HBJM7hUt0GJvwDGQyg3x4lmcnpso92yk75Ssc/1WqU6XvS/XRSudlv++KcmXzb6b3KnvN1BqWRQISkMBQJMD6V2Z2cQfsTskO+js74dOd5W3ktdiuggE8FohCGVrtUViOrvo8LLd7rUyZDMCKmtsofIhTsehhxUlBQoZI4AEJVEFg3333jROFWMKV9iLg1gvt1Z7WRgISkECnCDDzjfW7uxU9Csu1ESxyw4Kyxz6kWLxwV8NKUkzRG5rtERujG/4Na+1eD9JBgwZFF0VcLVH6sLBhhcElFY4qevXQHXbPxYWWoD+4ZONqTtAdpf0IuGav/drUGklAAhKomQCun/zgd7cQSAW3IdzScBdCASrlftndZeuq67HuiXWFKNdHH330EC6vXHdotUdX1bkw32Gx3QsZ1PJ5nnnmiZFtCeiF2yZrplknzDox9rhUJFArAVwycQ3GBZi+xLpc1mAq7UdAN872a1NrJAEJSKBlCBBQgUFHEtb6tbuyR10JRlHtnp+JTTu9DqvtXm8bsv6N4DFY8oqtj683f88f9gjQnwj2Yn9q37bvVmWPH3Rmb6td1At2FowSPYwIiPoRt29HtGYSkIAEJCABCUhAAhKQQGMJDBk2sbH5D5YbYbkJDV2LoOyxuTEh8RUJSEACEpCABCQgAQlIQAISqI5Atyp7hG5NG8xWV7wQQ70SPlmRgAQkIAEJSEACEpCABCQggeoJNCQaJxscsrkor/iTs/8W4btvuOGGuMicSFF8x4aYRFtjQ0aEfZbYPDK7Dw7nX3fddeHRRx8N7Omy6KKLFl28Xn0VS6dkf6Mjjzwy7v/BZpWEgcZnea+99op7inDmxhtvHFZdddWYCQujWVTOnnKUmahFbD5MVCyExfY777xz3PuGDRpZ6MpG4GygSb64oeKOqkhAAhKQgAQkIAEJSEACEuhqAnVb9ggbvfvuu4epp546EGHslFNOiUoPbpds+Il88MEH8fh9990Xvvvuu/Dvf/87/p155pmBY1k57LDDwgknnBAPTTHFFDFKEJGnukLYAHzuuecOKH1Es2LBM4tUUeAoJ0orEbAQFFYUvQUWWCAqhauttlq44IILwsCBA/NFY4PpTTfdNEY0QrHdbbfdomK44YYbBurCgnxFAhKQgAQkIAEJSEACEpBAdxCoO0DLq6++GrbYYotw6623hoknnjiWmV3pUYRQdrJy5513hgsvvDBa7rLH03s2kN1xxx2jMrXUUkvFwwR0Yd8nQsJedtllKWnDXrHGrbjiimHXXXcN6667bsz3vffeiwofdZpgggmGuBb1w1J31FFHRTfT/ffff7A0l156aUCR7dOnT7T0DfalHyQgAQlIQAISkIAEJCABCXQDgbrdOLF+oYhtttlmYfrpp4+WseTiWGv5UfbGGmussPjii+dPHX300cOyyy4bXn/99fyxRr7BGoeb5m233ZZX9q6//vqw5JJLDqbooeD169cvDBgwIKDg4m7KubihFhMsgrh0KhKQgAQkIAEJSEACEpCABIYGgbrdOEcaaaSAJQvr1lRTTRVw68QittVWWwUUpEJBSSolnDvRRBPFdX7ZNF29FxEWvVdeeSVuKonrKYrfeuutly1COOmkk+IaxC233DLcfffd4eGHHw6rrLLKYGmyH1BSFQlIQAISkIAEJCABCUhAAkOLQN2WvY8//jjgnrntttuGZZZZJtaD9W0EL0EpWmuttfJ1QzHELbOUoCwS1IUAKLxPQj7FlKcff/wx7L333jGQyz777BNmnnnmdEpNr6w3nHfeeaOSxzq+CSecMH7OZoLVEeslFr8k7BtIkBlFAhKQgAQkIAEJSEACEpBAsxFoiLJ33nnnRaWH4CQ9e/aMLpcoYoUKGooUQUpuv/32sNBCC4Xnn38+sPfeGGOMEfbdd99oKWOt33777Rc22WST0KtXr9C/f//w0UcfhWmnnTaQZ3ZDdoKjPPvsszEy5gwzzFAXWyx5p556anRDTWv3shkSyAVr3sILLxytl0QURTGdbbbZYjAXgrv8/fffcT9ALJRYNT/88MOYBWUm8IsiAQlIQAISkIAEJCABCUiguwjUHaDlhRdeiFY9lBmUHBQbFD7W2RGghUAmWUGZu+SSS2KkTix9KE9YBWeaaaaYjPwOOeSQ8Omnn0YFki0MUOQuvvjiGBkTxTIJWyVcffXVUVFcf/310+FOvaKoYYVkawjcUEcdddTB8nnjjTdiQJbXXnst1mmJJZYIiy22WNy6gXWG99xzT7jrrrvCoYceOth5fJhjjjnCRRddNMRxD0hAAhKQgAQkIAEJSEACEugqAnUrexSMbQqwbH377bdRicvum1es4Lg/YuEbd9xxh1ifl9KzTx+K42ijjZYODfHKFglfffVVdL9EwaxXvvzyy+gSWq78pEkKbb3X83wJSEACEpCABCQgAQlIQAJdRaAhyl5XFa5cvj/99FNYeumlw3bbbRctg+XS+p0EJCABCUhAAhKQgAQkIIFhjcDgPpYtVHvcLA844IDAhuXK0CfwxBNPRMtuYUkIyEOAHdxbccWtVbCknnzyyeGwww4LREJ97rnnas2iaHrWU1IeosayLrRewb0XF2WC+BCgqNWE8q+zzjpxHW2rlb2W8l5xxRXRVbuWc0wrAQlIQAISkIAEWpVAyyp7ww8/fFh77bVjcJdWhd8u5b722mujaytuuYXCmk32I7zjjjsCG9jXIrj7HnjggWG11VYLffv2ja7CKI6NENaYEhjoxRdfjIF16s2TdZsEHEJpom+2mvz111/RBZvXdpYVVlghThzgcq5IQAISkIAEJCCBdifQsspeuzdMq9QPqxvrKolKWkywwM4///zxqxFGqC3RVIbVAABAAElEQVT46+uvvx4VqCmnnDIG6yFaKvs5NkJYd0lE2GJy5plnFjtc9hjrPKeffvqYphWVvdlnnz1GyZ1vvvnK1rOzX3aGaWevVe688ccfPwaO2mOPPcKff/5ZLqnfSUACEpCABCQggZYnoLLX8k049Crw8ssvx+0oVlpppbKF6OxehO+++27Mt7Pnly1U7sti+RJRlQivnZFi+XUmn3Y7px6mXcFiiimmCEwgYJFWJCABCUhAAhKQQDsTqM3U0s4krFvNBE4//fSw8sorF1WacNt88803o4tkshYVKkNvvfVWYL/CTz75JMw888yB7TPYjoN1fueff3546aWXYpnOOOOM6Bq54oorxnRsk/H000+Hr7/+OgwaNChMNNFEYeutt47ncuzGG2+M37H9B1ZF8rn//vujGylufPPMM0/Rut55553RXZQvsSKON954YfPNNy+aloNsD3LTTTfFNXq4qrJtR2EdKevNN98cUIxHHnnkuJdksoLiporrJ2XbeeedYznZwoP9KVlLiGtoVh588MGYD9Fvp5pqqrDmmmtG99mU5vPPP4/ushz/4osv4nYgRKnF3XmCCSYI77//frjvvvtiJFxcY2eZZZZ0aiDg0QMPPBBdZRdffPFQS9mInMtaSq7PNbh+YlyJaaU6vfPOO5Ex27iwPyf7au6+++4xkm++8J14w16aWPfWWGONshF/O5G1p0hAAhKQgAQkIIGmIaCy1zRN0VoFQZFjgM8eiYVy+OGHR0WFQTlrwPiMZBUhFAsG7ttvv31UPhjMYwEiaApuoShvBDxhTd2mm24a9z1EoUKOOeaYqCD+3//9X0B522mnnWJwmIMOOijgpjfnnHPGY1hvUPZwUUQJ3GeffaKrZVJEYmaZf7h1sq8jCuTGG28cyrmdvvrqq7FeJ510Uph88snD22+/Hc/J1vG3336LgWnIC6X48ssvj0oc5UcRHTBgQOD8jz76KCqCuH+y7vHKK6+M9eM7BMWLusFlzz33jMeOOuqosN5660WlFKUNlscdd1zAGsp+lyh51J/9HVGSUFr5rlevXlHhY+0jiirurBy/9NJLY7pddtkloOxVWzaUO4LSJMX/scceC+SB1WzSSSeNrrLFmFZTp9tuuy2wlyZKNFu7sNflQw89FBXmBRdcMHJI/6gzyhvKNddngoDgPihz1J31mVlhX8+0p6ZBnrJkfC8BCUhAAhKQQDsR0I2znVqzG+uSXCxRrrKClQrlAssUgsK0wQYbZJOEH3/8MSo5DMoZhGOlYlDOGj3ORWFCCcEShvCevxFHHDF+xlKHKx6CJXCGGWaIClo8kPs38cQTp7f5VxSPSoJCgZKE0oW1EMteMUFROfLIIwMKB4oeMt100w2xBvCyyy6Lx+eaa66Y7xZbbBHLe8opp8RzFl100agE8mHhhReO1j0sfIsttli0XHZ0dMR01113XUCJQtFjDSR/RCcl4E3fXOAa1p6hwCalheuhAGNhY2sSLJAEytl3332jYoaiSBugqCHTTDPNEEp7tWXD8vb777+HySabLOaF1ZJopFgykVJMq6nTqquuGpZffvmYz9RTTx2OP/74gCWwUNEjAf2D9CjhBPWh/Ch5KLQojYVCv0HxZdJCkYAEJCABCUhAAu1KQMteu7ZsF9crKQqFyh6h7VG+GHwnQRFCktUL100sfknp4TusLFjksIZVEpQolBcEyx/uoCg0jZJUzlL54ULKNXfcccfBklDPJ598Mn8MhQarG5a8JFgZUYZ+/fXXqLQlBTbLEUUWd0uY4NKJwoJSiZKXBEV4jjnmiNdDSSbfZPnMKrvpfXrlfJQcBGbkgaRyxA//+5eOlSvbMsssE8tKe+N+ixsqgmtuVgqZVlunpHAnBS/LIJs//QEl+dhjj43twjYSCErtI488EjbaaKNs8vgeS2nqx0N86QEJSEACEpCABCTQBgRU9tqgEYdGFVjjhRS6OmLpwapSTNKA/7333otKDBaYzgjWN9xAcTVceuml4zq+F154oTNZdeoc6ogk62I2k1RHlAzC+xO8BlfTWiTlkc5BIUkKczrGKxY8lEu+R9krJliwCiVFC8UiV6sUlo3zUV5R3FHMaA8kWSXjhyL/qq1TsesVyW6wQ0sttVT+86yzzlrUskcClGPWNioSkIAEJCABCUigXQnoxtmuLdvF9cL1D8nunYd7Iy6FBB0pJyggWH6wbhUKeVQS1oexro01eLg/dkYhKHeNSvklJamcgkkdyQcLYDGppp7pPNbx4W5YaPVkuwek2P6G6dyufmVzetZULrDAAgE31WSJK7xuIdOurFN2AiIptoXl4fMPP/wQEsNi33tMAhKQgAQkIAEJtDoBlb1Wb8GhVP5pp502Xvmbb77JlwBXOo4TGAMlIEmhlYfgGATSwOUzK1iICBRSTnA97NevX7QgJasVeWUlDfYLlaNsmlLvUUoK8ytMm/bTe+aZZwb7KlvPFCDlhhtuiK6E2YQPP/xwDDaSPVbuPa6WuL3ispoV1qfBgEimQ0sIAAPnZM0ttil7MabNUCeC9qS1hkOLn9eVgAQkIAEJSEACXUlAZa8r6bZx3qzLY80TUSiz0qdPn/iRyJCsOUMBSgEyCKxCmH7WeTHIZnuFs88+O1qtCOxCxEmCbCRJLnZfffVVOpTfCJuQ/lhmUIAIXoKljMF7stYQ9IV1bwSSQfFk+wPktddei26HvE+uqFkLI1sUsPYMixxKK66YhYJiQ/0pM4obwnYIjz/+eFQUn3jiiagAYenCnXObbbaJZeTaRBhljV1S0GCEZDf4Ji8kKasEskF5TBzjl7l/REPlGsmyl/JKlkfSpbrBJUk6lk2X3qdrkzblV65sKOjwoj04l4ijKHe0XbpmMabV1imVNVuuVI/C19RW9AOEPsExFNDC82l72ibr8lmYn58lIAEJSEACEpBAqxMYPhfNr2+rV8Lydz8BgndgVUKxya5JI2oiERhRTLD6sLaOdVNsDUCwEoKDEBmzd+/eMeIk319//fUxiuKuu+4a16aheFxzzTXhlltuiQoPA3OidnLe2GOPHQfwXJdgICgS7JmGYsexJZZYIgaHIT2BYMjn448/DiihfMbySMARFEi2bmDbA5QDjuGaigLLHoFcm/dsG1AoKDMEA0F5JVgM+/phZUtr+CgTa+ywXuFG+NBDD8U8CUrCdghEyuQ4TC655JKodFBH+OAaisKEkoMSxbo8ysa2EFdddVVUjFGg+/fvHxVGtr6gPCi9F154YawL53J9FOtzzjknvqJ8cW0Ut/POOy8qwdSbYyhEtBWKMe9xxURRq6ZsKNUErEHZQ0GGM9ZXomYSRIYoocWY0j6V6gQvtnBA6cTtF66l3C4pL/s0YpW99dZb4/tXXnkl7LfffpElSnk2KixtTJ5EOIWfIgEJSEACEpCABNqRQI/cwPG/8d3bsXbWqUsJYDFhDzn2g0uKTrogVhUUKrYwoIthpUrRIlMaXrGeoYAwiK9l0I1Ck43MiIUpuXWm/MkXxZGIlpQHRSBFmExpir2SN2lRSCoJSgZuoyg0hWVK51I2lEoU3WyZ0/fVvsIRxZU95VDmivGsNq9GpqNcrN3M1q2wPUoxHVp1wtrK9iDFlPlGsjEvCUhAAhKQgAQkMDQJqOwNTfptcG32U7v66qvjBuNpO4Q2qJZVaGMCWHSZXFh99dXbuJZWTQISkIAEJCABCeS2PsvNrGvZsyfURWDQoEHRpZJNu8tFP6zrIp4sgQYQYGICybp0NiBbs5CABCQgAQlIQAJNSUBlrymbpfUKRVROXCSzm6m3Xi0scbsTIFhPoctxu9fZ+klAAhKQgAQkMOwSUNkbdtvemktAAhKQgAQkIAEJSEACbUzArRfauHGtmgQkIAEJSEACEpCABCQw7BJQ2Rt2296aS0ACEpCABCQgAQlIQAJtTEBlr40b16pJQAISkIAEJCABCUhAAsMuAZW9YbftrbkEJCABCUhAAhKQgAQk0MYEVPbauHGtmgQkIAEJSEACEpCABCQw7BJQ2Rt2296aS0ACEpCABCQgAQlIQAJtTEBlr40b16pJQAISkIAEJCABCUhAAsMuAZW9YbftrbkEJCABCUhAAhKQgAQk0MYEVPbauHGtmgQkIAEJSEACEpCABCQw7BJQ2Rt2296aS0ACEpCABCQgAQlIQAJtTEBlr40b16pJQAISkIAEJCABCUhAAsMuAZW9YbftrbkEJCABCUhAAhKQgAQk0MYEVPbauHGtmgQkIAEJSEACEpCABCQw7BJQ2Rt2296aS0ACEpCABCQgAQlIQAJtTEBlr40b16pJQAISkIAEJCABCUhAAsMuAZW9YbftrbkEJCABCUhAAhKQgAQk0MYERihVt8cee6zUVx6XgAQkIAEJSEACEpCABCQggToI9O7du46zqzu1R0dOiiX97bffih32mAQkIAEJSEACEpCABCQgAQnUSaBnz5515lD5dN04KzMyhQQkIAEJSEACEpCABCQggZYjoLLXck1mgSUgAQlIQAISkIAEJCABCVQmoLJXmZEpJCABCUhAAhKQgAQkIAEJtBwBlb2WazILLAEJSEACEpCABCQgAQlIoDIBlb3KjEwhAQlIQAISkIAEJCABCUig5Qio7LVck1lgCUhAAhKQgAQkIAEJSEAClQmo7FVmZAoJSEACEpCABCQgAQlIQAItR0Blr+WazAJLQAISkIAEJCABCUhAAhKoTEBlrzIjU0hAAhKQgAQkIAEJSEACEmg5Aip7LddkFlgCEpCABCQgAQlIQAISkEBlAip7lRmZQgISkIAEJCABCUhAAhKQQMsRUNlruSazwBKQgAQkIAEJSEACEpCABCoTUNmrzMgUEpCABCQgAQlIQAISkIAEWo6Ayl7LNZkFloAEJCABCUhAAhKQgAQkUJmAyl5lRqaQgAQkIAEJSEACEpCABCTQcgRU9lquySywBCQgAQlIQAISkIAEJCCBygRU9iozMoUEJCABCUhAAhKQgAQkIIGWI6Cy13JNZoElIAEJSEACEpCABCQgAQlUJjBUlL3XX389fPrpp5VLZ4qmJPDdd9+FK6+8Mpx22mnx76677ipbzr/++iuceeaZ+fTXXnttTP/GG2+EjTfeOLz44otlzy/2ZT3nFsuvnY7B5pJLLglbb711+OOPP5q6arZjUzePhZOABCQgAQlIoMUJDBVl79BDDw0XXXRRi6Mbdos/zjjjRCUNhf26664Lp5xySvj5559LAnnwwQfD1VdfHdOOMcYYYb311otpUQJ/++23wGutUs+5tV6r1dKPOeaYUYFGkRp++OGbuvi2Y1M3j4WTgAQkIAEJSKDFCQwVZW+TTTYJK664Youjs/hzzDFHGGmkkcKvv/4abr755pJAsORNNtlk8fu55porn27WWWcNN9xwQ5hnnnnyx6p9U8+51V6jVdP16tUrTDvttLH4za7s2Y6t2ssstwQkIAEJSEACrUCgocpeR0dHVXVeY401wnzzzVdV2u5MVG35u7NMzXwtFL2ktF9zzTXhzz//HKK4L730Uhh77LHDFFNMEb/jHKXrCfTo0aPrL+IVJCABCUhAAhKQgASamsAI9ZTuqquuCqzXmmGGGcLAgQOjO94+++wTLr744vD999/HNUOrrLJK/hInn3xyYPCP4MqX/Y5jjzzySDx37rnnDuOPP37AIoSisOGGG4YVVliBJA2VWstPvQYMGBA++OCDMPHEE0dFh3qMMMJ/MT722GNxrRSuaVirdtttt3D++eeHxx9/PJZ7gw02CCuttFJD6zC0M5t55pnDxx9/HJ599tlwzz33DNGmKIEbbbRR6N+//xBFxfXzoYceim3cu3fv+P23334b+wFK4aKLLhpuu+228Oabb4Zll102LLbYYvk8ip37xRdfhLvvvjusttpq4csvvwz33Xdf6NmzZ2Bygf5Eu+FS+s0334SVV145UHaEdnvqqaeilXLXXXeNSuv1118f6zXqqKOGnXbaKab7+++/Y7offvghlieVjXItvPDC8Tza+umnn47K7frrr1/WjZL8uG8oz3PPPRcmnHDCsOWWW4YRRxwxXq9aFiT+7LPPIqvff/89jDLKKNHaWknh6ywvrleu7P/8808sC2VCeD5wP8Drl19+ie/TZE87tGOspP8kIAEJSEACEpBAExIYvm9OipWrmnVUo48+ehg0aFAcqO6www7h888/j4E7Zp999oC7HooOCk4avI422mhhkkkmCW+99VZg7VYa8KXrM7Dmu9tvvz0QBAQlYbjhhov5MIDn/EZKLeUn0MV5550X5p133rDpppuGCSaYICqmKAyTTjppLBaKBQNcBvzrrLNOdKVjwI3Cg7Ky9NJLx3o3sg5DM69XXnklti2KDooeSt9aa60VkpJBf2CAv91224V77703fPTRR2HVVVcNE000UXj//fcjTwKJTDfddAGXUAb+F1xwQVzPyVq+V199NSpAL7zwQmS4yCKLRKWt2LnPP/98OPzww8P9998fUDYoC66jKG30J/ogijqTB7fcckucpEAJHHnkkaNi1q9fv6ik0ba4Ps4222zh3HPPjZMTBJHBVRVlnwmLH3/8MSqg4403XuynBJ9B4UfRRNF677334vpE+i4TF6XkhBNOCE888UScFIAh+RO8CCW3Whbk/dprr4XDDjsscA/Sz8Yaa6xA3rRDnz59il6+Hl5kWK7sXHf66acPTKbccccd8RmAZffyyy+PdaOuSLu0Y6yM/yQgAQlIQAISkECNBJLBqMbTakpel2VvqqmmigNlXrHSMdB9+eWXA9Y9BnxXXHFFtLBMOeWUsVBzzjln4A9rRlIIsqVFgZppppmi9YVB9bjjjhu/xmrEoJjBeSOllvJjaULZQxj4owwwyH700UfDAgssEI9jmdlzzz3jwB9FF6X3sssuC2uuuWbYZZddYpp2/LfgggtGxfadd96J7YSygqBopWAshfWGPYpINpInyvcee+wR1//hErr//vvHfsKkAEoYEwszzjhjKHYukwtcCyUExXGJJZaIl+QmOvroo6MCR94IyiXvUTZoIwRLLUpaVpiYwLqGMBGBMnXnnXfGoDL/+te/8hZdrIIoNbQ1yiPl2HHHHfNW7Gye2fcoy+n6KKOU65lnnolJqmWBYnvccceF+eefP78ukvV6fE55Za+Z3tfLq1zZuQaK7kEHHRTbjXsB6/zUU089mHW2XdoxMfVVAhKQgAQkIAEJNBuBhqzZY2CHYHlDQcOyQERABtpYaGoVFKmk6HEu1rMPP/yw1myqTl9N+VHwLrzwwmilYp3acsstFy14uAYWCq6AuK0RiAYlgc/tLli/ELZkQP7zn/9ESxnWzFKSLL7Z72kLLGu0f5oQmHzyyWOSr7/+Op+02LlYVhGU7iRYEZH0ynsCmCBYHmsVJjQoW3Ymhrzp8yh6SVAekxtjOlb4ihK0++67x8NMkqAsZ8+phgUTJ5xXGOQmBWgpvGb2cz28KpWd68CJ+qGkE313m222yV4+vm+HdhyiUh6QgAQkIAEJSEACTUKgIcpeti7Z6H9psJ79vpr32YE06ZMyVs259aYpVf7TTz89Wpw222yz6AaIy16pdYTUGzdV6sF6LNZRtbvgPojSg8slVh8sXSjFWZ6dZdDZfsT1iikTqT81ql1KXaPSHncoW1issUaylg2rNpa6clLI4t13343JU7TT7LmFabPflXpfqi6kz/KqtuzLL798XLPHNh0//fRTqctWPF5tuSpmVCZBqWtUascyWfqVBCQgAQlIQAISGKoEGq7sdWdtWDuFeyTudewp1pWCdQLrFcE4WPeFxY7oncUG1Owpx/ow1ixh7TzggAOKRqrsyvJ2d94odazPRFibhbLHOkulNIGzzjorrkXE+oUrbLG+VPrs/36TFLAU+KhS+kZ9X23ZccFmTSuWcfZjVCQgAQlIQAISkIAEuo9AXcoeM95YJAgmkQadBHbhcxIiFyK4cxKggz8GfhxPn5OrJxH+UOD4TL7pPN5jFSicYWcgSaAJrGesd6pVaik/aw1Zn4clhciJrClkbznKSuRRhHVmBAPBxe2II46IbmwEDcFdkI3kqXc7CfXNbreAcodFE06sCWPdWZJm39YCKyx9uJJlLdWn3lfcNYlQytrCtB0F/b9WIRAKwmREVrqSd7Vl574lAA9r93DhJPIq0VC7Urq7HbuyLuYtAQlIQAISkIAE6iVQl7LHGjbC2+PSiIKDxQvFh8iACG59++23X1Tczj777BhdkwibTz75ZFSUeM8fkRARgnVceumlMcjLUUcdFY8RERHlAUsRA8esoOghBH/ojLtgLeXHaoVit/nmmweCc6BgEkCEiJGszUNJOOecc8Kxxx4b06U63XTTTTEyJHXAGtJOwvYGn3zySb5KrGdbe+21Y1sUBmZJLny48yVJEwRJWeY4x1B6skpk+j5NCqR0vKbveJ8mCLKTAqwdRNKkA+/TsWy6hRZaKF4TqyxKOdFFmYxIkxKch/Bd9jyOkR+TFFnhWKpf9nh6n+rHdbgGa/Zw6aQf0bc4Vg0Lyo3ChyJFH0NggmUZjgSPyXJL1+e1s7yqKTv5n3baafF+weWTe5SALEySUL8kiVGrtmOqh68SkIAEJCABCUigGQnUtfUCEf+22mqr+EdESvYyI8JiWsu27rrrhi1z+4ZhuSDcekpb+Mp2Bgj7caXvWAOGMJhNx1K6+EXuH8oVg+ODDz54sIAZ6ftKr7WUnzD7RANl6wCsFNQxlRdlDxc8XPFSWZdccsl4eSyC6ViKUlmpXM3+/VdffRUjraLIslUGA/VZZ501tjMRF9k2g33sEALYYMHCooO1iUA7yepE9EoiYBLxcpxxxonbchDxFMWHY0TDhDsTBVwHJYH8UawKz0VxYaKANCha00wzTQx2wlYOWFbZU47w/1ieUfKJxElagr8QsIVX1hveeuutcfsGInrSb7EUscaP71EE2VYDRYxyobzgqsu2EjCgDxBMiMkPtndICiDKWLLepbYloAucmPhguwjuHbateOCBB6KCRt+EWyUWlIt+RTqC43Bdtm/gOOWhnLDIBo+hDLh9dpYXawvLlZ3oqbQP+2ZSJwK1oCQzOcOeiVjkYUI/avV2TO3pqwQkIAEJSEACEqiVAOPMrpYeuYF3R7GLlLIGFEs7NI7hKsoG5ShSpfYSGxrl8pqtTQClDQs1ggWvUElrdO1Qglj/maSea6KE8tBgnSgKL5bWrpRGlr3R5ezudmx0+c1PAhKQgAQkIIH2J5Aio3dlTVtW2cNFjfVxhPbPrg3rSljmLQEJSEACEpCABCQgAQlIoBEEVPYaQdE8JCABCUhAAhKQgAQkIAEJNBmB7lD26grQ0mS8LI4EJCABCUhAAhKQgAQkIAEJ/I+Ayp5dQQISkIAEJCABCUhAAhKQQBsSUNlrw0a1ShKQgAQkIAEJSEACEpCABFT27AMSkIAEJCABCUhAAhKQgATakIDKXhs2qlWSgAQkIAEJSEACEpCABCSgsmcfkIAEJCABCUhAAhKQgAQk0IYEVPbasFGtkgQkIAEJSEACEpCABCQgAZU9+4AEJCABCUhAAhKQgAQkIIE2JKCy14aNapUkIAEJSEACEpCABCQgAQmo7NkHJCABCUhAAhKQgAQkIAEJtCEBlb02bFSrJAEJSEACEpCABCQgAQlIQGXPPiABCUhAAhKQgAQkIAEJSKANCajstWGjWiUJSEACEpCABCQgAQlIQAIqe/YBCUhAAhKQgAQkIAEJSEACbUhAZa8NG9UqSUACEpCABCQgAQlIQAISUNmzD0hAAhKQgAQkIAEJSEACEmhDAip7bdioVkkCEpCABCQgAQlIQAISkMAIpRAMHDiw1Fcel4AEJCABCUhAAhKQgAQkIIE6CPTu3buOs6s7tUdHTqpLaioJSEACEpCABCQgAQlIQAISaBUCunG2SktZTglIQAISkIAEJCABCUhAAjUQUNmrAZZJJSABCUhAAhKQgAQkIAEJtAoBlb1WaSnLKQEJSEACEpCABCQgAQlIoAYCKns1wDKpBCQgAQlIQAISkIAEJCCBViGgstcqLWU5JSABCUhAAhKQgAQkIAEJ1EBAZa8GWCaVgAQkIAEJSEACEpCABCTQKgRU9lqlpSynBCQgAQlIQAISkIAEJCCBGgio7NUAy6QSkIAEJCABCUhAAhKQgARahYDKXqu0lOWUgAQkIAEJSEACEpCABCRQAwGVvRpgmVQCEpCABCQgAQlIQAISkECrEFDZa5WWspwSkIAEJCABCUhAAhKQgARqIKCyVwMsk0pAAhKQgAQkIAEJSEACEmgVAip7rdJSllMCEpCABCQgAQlIQAISkEANBFT2aoBlUglIQAISkIAEJCABCUhAAq1CQGWvVVrKckpAAhKQgAQkIAEJSEACEqiBgMpeDbBMKgEJSEACEpCABCQgAQlIoFUIqOy1SktZTglIQAISkIAEJCABCUhAAjUQUNmrAZZJJSABCUhAAhKQgAQkIAEJtAqBYULZ+/vvv8OAAQPCf/7zn1ZpF8spAQlIQAISkIAEJCABCUigLgLDhLL31ltvhV133TUMGjSoLlieLAEJSEACEpCABCQgAQlIoFUIDBPK3qSTThq23XbbMNNMM7VKu1hOCUhAAhKQgAQkIAEJSEACdRHo0ZGTunIYiidT9B49egzFEnhpCUhAAhKQgAQkIAEJSEACzUlghEYU66mnngqXXnppeP/998Off/4ZlltuubDpppuGSSaZJJ/9aaedFp5++ukw0kgjhQsvvDDcdttt4YYbbggffvhh2HzzzUOfPn3yae+77774PWvsllhiiTDiiCOGG2+8MSy//PLRFfPbb78NM844Y7jnnnvCLLPMEtZaa61wyimnhKmnnjrsvffeYYYZZoh5/fjjj+Ff//pX+P3338Nwww0XTjzxxNCrV6/8dXhz3HHHhRdffDGW97HHHgtPPPFEWHDBBcPWW2+dz2ewE/wgAQlIQAISkIAEJCABCUigBQgM3zcn9Zazf//+USFbf/31o3J29913h48++igsvvji+azHGmusMMooo0QlDmvcNddcE5XCiSaaKAZO6d27d0x75ZVXhiOPPDKMP/74YbrppovpHn744ag4brbZZlGhu+666+L1UBDvuOOO8MADD4Qtt9wyKo6vvPJKVArJDCWxZ8+eUTFEWVxttdXCeOONly8Tb8Ycc8xAeVE+p5122kAdBg4cGJW+NdZYY7C0fpCABCQgAQlIQAISkIAEJNAqBBpi2dtnn31iff/666/w66+/RivaMcccE/7555/4ni9nnnnmgMJ35plnhscffzxcfvnlYYwxxhiME+eec845YbfddovWPr7cZZddwqqrrhomm2yyMM0008Q/rIM77rhjmHfeeaNS9tNPP0XLIPlfffXV+Tyx5q200krx89FHH50/nn0zxxxzRAUQi19Kg9UQy+R3330XxhlnnGxy30tAAhKQgAQkIAEJSEACEmgJAg1R9u68886A6+UzzzwTlb3RRhst/PLLLwElDAWsUE4//fQhFD3SvPvuu9HlEuUuyaijjhotgIXbJqDIIVxrwgknjO+x2v3222/xfa3/ll566fwp008/fRhhhBGidVJlL4/FNxKQgAQkIAEJSEACEpBACxGoOxona9wOOeSQMNtss8V1e+xnd+yxx5ZFgIJWTFDgsAZi4csKimM5SYpfPcFaUO6SkE89eaV8fJWABCQgAQlIQAISkIAEJDC0CNSt7GHNQ9Fj/RwBUlgnx19nBDdNXDtZt4dLKEIAlwcffLAz2XXJOQR92W677cJWW20VXnvttS65hplKQAISkIAEJCABCUhAAhKol8D/N2d1Mqe55547XHvttXHtHNE3H3300dCvX7+Y2xdffBGVNyxvX375Zfj444/jcRQ41t1hTctG7CSYyh577BGOOuqoGHQF5ZGN0CeeeOJ86X744Ydo/fvmm29C2jXi559/ziuHRAPFEoj1kDRZq+Bnn30WA7YMP/zw8bpY7/ge18/vv/8+/P3334HviPZJ3ukaWSsfwVueffbZeH6K+pkvnG8kIAEJSEACEpCABCQgAQk0CYG699lDQTrggAMC2xb88ccfYcoppwwEbDn44IMDVrB///vfcXsEtk3g+6yg7LH9Qlbh4/vnn38+rgEkPVsvPPnkkzGvww8/PBAh85NPPomBXy644IJ43YsuuigceuihMXonFsZFF100bsXANVHcCgXl87LLLoubrBMMBldUjvXt2zesvPLKMajLV199FS2UbBPB9g5J2L6BIDD77rtvjNyZjvsqAQlIQAISkIAEJCABCUigmQjUreylymAhYz+7cccdNx1q2OsWW2wRXUVT1M+GZdyJjDbaaKOAIshWDVgiFQlIQAISkIAEJCABCUhAAs1IoG43zlQp3CZLBV5Jaap9JUDL559/HpM/8sgjcW3cxhtvXO3pXZaO6KJvv/12XLOnotdlmM1YAhKQgAQkIAEJSEACEmgAgYZZ9hpQlnwWuFieccYZ8TObrm+99dZh7bXXzn8/tN7gsnrzzTfHrSAK9wgcWmXyuhKQgAQkIAEJSEACEpCABIoRaEplj4Kyrx5BUthnT5GABCQgAQlIQAISkIAEJCCB2gjUvfVCbZerPvUoo4yiolc9rm5NSeCdK664IhCsJv0RLOe9997rdDnYxoI8Nttss8EC+RxxxBFh//3373S+Q+NEIs+efPLJ4bDDDgtbbrlleO655xpejM5ygfM666wTgyA1vFAtnmGpPtiM1Wr3diSq8v333x8IyrXWWms1YxNYpgYS6Kr+TOTviy++OG6V1L9//waW2KwkIAEJtA6BplX2WgfhsFfSMcccM2yyySbR+kpk0qeffjr+mLJVRmdlrLHGigoIP/psf5GEbTEI/NMq8s8//4QDDzwwrLbaajG66zjjjBPuvvvuhhe/s1zYv5Jz0z6WDS9YC2dYqg82Y5WGhXacccYZw+uvvx63wGnGNrBMjSPQVf157LHHjts/vfjii3FrpcaV2JwkIAEJtA6BhgVoaZ0qW9JGEWCPxVtuuSXMMcccceuKevJl+43pp58+brORVfaOOeaYerLt9nMZnLJ1CFuQsD/jqaee2iVl6CyX2WefPdx+++1dUqZWz7RUH2zGerV7O4444ohhsskmi88EttppRTnzzDPDrrvu2opF79Iys9/uM888M5jFtqv6MxOTCy20UJfWx8wlIAEJNDsBLXvN3kJNXL6RRx45li691lvU7Ob19eY1tM5/991346XboS5Di+HQvK7tNjTpt8+177rrrrgfa/vUqDE1YS3+fvvtF4hs3V3iPd1dpL2OBCTQrAS07DVry7RoudjE/sEHHwwjjTRSWHzxxWP0UqxdbHC/5JJLDlarTz/9NNx0001xjR5rNNmrsfCH+dVXXw333HNP2H333Qc795tvvolWxZ9//jlea4kllggzzTRTPk2KnPryyy8HlNFVVlkl7tWYEjDooJzff/99/MPdp9L2HuyveOutt8Z9FqnfwgsvnJ81phznn39+eOmll+IliCaLhXLFFVcMM888c7ps/pXyDRgwIF4bNkR5feONNwL16N27d2DN0qOPPhrTYCWkbFmLZyGXarkzyHrggQcC7qW0D9LZsrAtCnXACrPnnnvGMl9zzTWBdTJsw7LbbrvVlX88ucg/yovr8Ndffx0GDRoUUsRe2gSplgVpq+mDpMtKZ3mRR7my4wJMP6BMCP15vvnmi/cI9wbvF1hggfhdO7QjFXnrrbfCvffeG7DecZ+sv/768X6OlSzzr9x5bNtzxx13hDXXXDN88cUX8fnBVjlEdJ5gggnC+++/H+67777oHoq79SyzzDLYlcrlXU3fuvPOO6MLN5li2R9vvPHC5ptvHt3ea33mDFaw3Id33nkn9gfuLSz0zz77bHw2sr8tfYv+05lnHvVijSTPwWmnnTZQB67FM27dddcd7Llcjg/lLfVs5hmJpZPnHIHXSMdzeYYZZojKX/a5hOUPhZkgbVNNNVVgf1ueM7j5X3/99XE/3+233z4+EyvVu5Aha855TrE8YLjhhovPWyyL3H/8Hn322WdhqaWWGqJfFObjZwlIQAKtQmD4vjlplcJazuYiwGCAAcKss84aFl100fiDfe655wb+WBfGoIOBOAFKrrzyyvijymALQVk54IAD4o//CiusEAcZRx99dBxUbLvttvGHlwEbARo4n+03krzyyivh+OOPDzvuuGNUIFGwDjrooFiOySefPF774IMPjsrMGmusEfdGPPTQQwNrCqeZZpqYzb///e/Qq1evOCBkcHPaaafFwCXpGoWvDKpQaBi0MWhEgdxjjz3iwByliYEIHHBRojzHHXdcWHDBBWP9s0oa+bKPJIohaX744Yfw5ptvhvHHHz8qKQwORxhhhDhYRQGGMesiGZTMO++8Rbkw8K+GO1bHc845JwbCwWV2rrnmqqssKKEEP3jyySdjIBrqiUvv2WefHV544YUYbKeeuha2QfpMP0ER3muvvcIiiywS60N/oh2qZUFelfpgul72td76lCs7Ex2sUyP4EZMKKPgwvvTSS2PduMeQdmlHBvcPPfRQXO+LonfSSSfFAT4KWLpnUI5Qzvr06ZNvhnLn0e94FjBBhBLA/cgzgcE9Lufcp4899lh83tx4441RYSIATPJOKJc3bV/Nfca9TBsRqOnII4+MSjvKTa3PnHyF//fmtttui1YxnkWUF3dxnr88Z7hmZ595lBOXU+5lJrQItIULLffHDTfcECfhUPqQcnxos3LP5immmCK2BUrq6quvHtZbb70w8cQTx8mhwufSpJNOGp8rtBHrw1H4EH4/Lr/88thnUHD5nalUb54JV111VZyY4/mU2pq2IQ/yR7j//vjjj/Dwww/nj8Uv/CcBCUig1QnkZs4UCXSKQC7wSEdOAenIKV7583MDrI7555+/I6ewdeRmSuPxnMIS0+UGrfEzaTbccMOOXMTK/Hm8yc36xnOzBw855JCO3EAjfyj3Y9yRU7Y6crO7+WO5WemOVVddtSM3GIrHcgOyDv6ScE5uoNyx0korpUMdSy+9dAflT9KvX7/0dojXnBUw5p/Nk0QXXnhhrFdOKc2fkxvQxWM5S0z+WKk3OSW3Y9NNN+3IWfHySXID3Y6cgtqRG8Tkj+UGuh077bRT/jNvCrlUw53zPvroo1i+3MCOj3npbFlyA+uOnDUynw9vckpxx3LLLTfYsc7mP1gm//uQGyR25JSm/Ff0v9yAPf+5Gha19MF8xpk3na1PpbJziZzFoyNnWejYYYcdOnKKSUfOSpy58n/ftno75iY54v3IvZUkF4039s3cAD8div18scUWy3+u5jyeDTyXcopQ/ryc8hyPZZ8buUmKeCynIMZ01eRdTd8is1wE4Y6cJ0P++ryp5Zkz2ImZD0cddVQsc07pikfTc6beZ15OyYv55lws81fLBU3pyEVH7shZkzty1q6OSnyqeTbnlOB4ndzkX/46vCnWn3NeF/HZn4tqnE9LGbJlrKbeOYU/XrPwGb/LLrt00LdyymA+/5zS2ZHzVsh/9o0EJCCBdiCgG2era+tNVn4sUFimcF1KLplYJxDc7hBc8HAFwjKXlemmmy7O5maPkVdWHn/88fDBBx9EK2E6jksilpAk1113XXTByQYxwU2HWVtm55lln2222ULfnFGbMjHDnFO60ulDvD711FPRtQd3o6zgVodggcwpktmvqnqP5Y6Z5WwdmemmnGn2mYwIHMIse1ay53C8Gu6kw7JRTOopS7H8Co81Mv/LLrssHxCIKHv0peT6yHWrYVFLHyysC587W59KZSdv+sQ+++wTcgp9tKrkJhU4PJi0ejviukkExlNOOSVfL1xV55xzzmityR8seFPNebQNwr2UJL1PrxzHso/Qd7D4VJN3NX0rZpr7l55/6XMtz5x0TuErz1UEax6S9qGt95mXXKCxqCXBUrfBBhvELWRSVNRybVbNsznlXcimWH8mOi4u7rQLVvwxxhgjupfmJvZSNqGaeucTF7zBS4PfIKyXvEewmm633XYFKf0oAQlIoLUJDD6Sbu26WPomJVD4w45rIoJbT6EUpi38/u23346KUHIHLfye9RisP0H5yllfCr/OfyZIAG6kDDYZMOAWimtjMcGNDCkckOB6xiApfR8T1fmPa6DsZYUBJu5KtUollpXya2RZil2rs/mz/gp3MtYL5qwlca0X7nvlpJBFPX2w1HWqqU+1Zaf/4q7GWjbc0FAAOyvVlKuzeXNeZ/LHVXD00UeP25TUcu3OnpeUmey1kqto2tqls3kX9q3sNbLva3nmZM/Lvi92ra545qVrMtGEcI1KfNgnlUmqUs/mlCevxeqR/T69Zw0n7qu4fua8QeJkIHuYItXWO+VV+JrzQImTgrh44jLNhBqu7TxvFQlIQALtRMCnWju1ZovUJQ2uKg3Qi1WHARrnY90rJgzqGEhg7SkmLMJHGMRgMWFmlzUrrAliMFNMsBwiheVlkMvAJn1f7FyPNZ7A6aefHteAYv1iLVG1A8dsSerpg9l8an1fbdkHDhwY1zcRSIi1ne0m3KcosljaCyXdo4XH+dzZ84rlVXis0XkX9stanjmFZSv3uSueeel6OffK+JaJuUp8Kj2bU568FrLJfpd9T/Ac/rC+sR6Q90kZq7be2fwK32PR4/mP9ZCgNKwXVSQgAQm0GwGVvXZr0RaoT7KgEXEtKzm/6OzHou/TuQQ4yQqWLwIwYDnBbZTBATO/WWHhPZHgGExee+210X2SwC8XXXRRTMaPfTHBBZQBBi4+WSF/BqzMBg+rgjsplshyA/RGssHlLrf2Jlr0GOwhuXVUNV8i9aPO9MGaL/a/E6otO+6MWElwMybiIFZMokd2pXR3OxJplHYjGE1W6EsEpCklnT2vVH7Z443MG2Um2y9rfeZky1XpfVc889I1uT8mnHDCqGRV4pPuqVLPZvJMSh7uoNUK1j0C3uB9QcCtJNXUO6Ut9YpnAMFoeKYQnIZgPooEJCCBdiOgstduLdqN9cG9DEmvvMdiwg951hXxu+++46u8KyJRBVn/RiQ5FDCENKz5YID0xBNP5NOSH9sQMABGOJf1NbngKtEFjMh6/fv3j5Eyl1xyyZhmiy22iIreNttsEyPvEa6bwTPrTnC9RKkkyltSUCgLs+5EtCsmU+eieK6zzjpxZjlr/SMaHpv2ZiOFEuodYeBQSahTlhPpseTkghAMdirHCtMVcqmGO5mSDkltEj/k/nW2LETDpGwM2rHSoDBjDWBLC7ZgSNLZ/NP56ZW+gHAdOLFmjz5AW7L+kmPVsKilD6ZrZ187U59qys41TjzxxBhtkMEsa0mJIMtAN615JU2rt+MyyywTB9koBkRvJSItzwMiaWbXZBGuH26JXTXn0TZZRrxPFsTsvZWOJZbV5F1N3+J6WPwpOx4GWI7YZqDSMwc3QrYYuOSSS8iiqKQyF96/jXrm0Q5JmMxivTLeD0ysVOJTzbMZxRHhvuWe5dmMpDYorBffsW6P9XswTedzHKlUb9Kk36fEjmNJmMTLBaGJ/S9tRZO+81UCEpBAuxBw64V2aclurAeDAPY6QsniPRYLBmOswWHQzw85gxsW+/MDzZ5zDCIYrLLNAS5BuShocYsCAlYwCGKgk9bwcQ4zrKzV4A9lh4ETAVxYpM+5uHESlp29mBjAsbVCGggQvh6XoodyYd0JnsLeSVj7chEt43GUPVw4cctkphmXOQYTuHImF6FCnAsttFBUQP/v//4vDnxQ+sj32GOPjYEeGKyk8O5YGRlgUNZswIOUJ4MOZpLZpw6lCCUThZI1WiixDHgoFy5LKDXwSYNU6kEwmiwXZqbhWIk7eWDFZJacdY0EeyBIRWfLgpJMm7A1BiwId4+Vk4EhliJY0qZsu9GZupJ/NlAN/NgHjLIzIcD16CvsA4bli2MEroBjJRbV9EHqVnj9etqOPfJQRMqVnX5Jv6VOtA/XYy9BLNJYWbCuoDy0ejvSN9hPkkA5WC55nvAMYB82uDOBwJYj7BvHvcUzgHuEyZVy59HuMORZAzvyYt80QvvzymQM9xDPq/POOy/eC6TlGPdRubwpA4pppb7Fs4t9Jnn24G3Ae9yNKz1zyJc6cz+h9CXLdXpucI/hkUAfwqOAvp/W1NX7zIMxFlWeRfQ32oIJMtaysTUFUqnNeGZVejbj+o6CRx9nco99SJkcKuzP/E4k4VnO7wzKZqHlrVK9cf3kmc01aGfql7bfSfnTR+DKFg6UT5GABCTQbgR6EFK03SplfVqHAAoIigEDIgZnKbpcNTVg0MMgpVTwCgaM/Mij0BTmiwWRro8Fjgh9yb2o0nUpI0FiGDSkgValc4aF71FQ09pFuBcOVBvNoLCv1HPNevpgZ+rVyLJ35vrlzunudqQsKK8oX9xP1d6H9ZxXrv7pu86WKZ3PK+3Mc4ZJH6SaZw6TPyiUua0bSk48xcxK/OvsMw9lCpdGLGW4DlN/2qPU5FclPpWezZyPslpte/Oc55lSKn25epdAlT/MRCRBWpgwVCQgAQm0IwGVvXZsVeskAQlIQAItRwDrLRZINh3vTskqe1hXhyVhix7c9LESKhKQgATakYBbL7Rjq1onCUhAAhJoKQJYp3AV7W5FD0hYzhCskcOC4Nab22w9uv5jTVXRGxZa3TpKYNglYICWYbftrbkEJCABCTQJAdwUh0aQENayXXzxxZECwY5Y/5qUvyZB0/BisAaW9dFPPvlk2HfffRuevxlKQAISaCYCunE2U2tYFglIQAISkEA3EmB9XWEUzIkmmqjtg5UQRIwgSIoEJCCBdiegstfuLWz9JCABCUhAAhKQgAQkIIFhkkBLu3EaSHSY7LNWWgISkIAEJCABCUhAAhKogkBDArSw8Sp79Lz//vsxhPZyyy0XNwPOhqY/7bTT4p5KrEtgvyH2Cbvhhhvixsubb7553OMslZc1A2kfsSWWWCK6k7DXGJursgcQ+2yxoJp9ttiLjH2ATjnllLgP09577x037CYv3DS4LptpE+GMfa7Yv4qNoJOcfPLJMU9CTBNymjREI2NfN7YEOOGEE2Jo/pTeVwlIQAISkIAEJCABCUhAAq1AoCGWPTZMZs+c3XffPRxwwAFxs2w2Sc3KCiusEPh7+eWX42atfM8GrMsuu2zc0yelZQNm9hgiKhgbq7Kx60knnRR69uwZF6+z2Swban/44Ydhn332CW+99VY48sgj4+av//zzT9woN+XFImz2UUPBQxlkHzA2TiVdEvYWQqlj35+0iTMbF7NReNrYOKX1VQISkIAEJCABCUhAAhKQQKsQaOiavb/++isqac8++2xg75q77rprsE1ZUaAIK4017qyzzspvNptgoeChEG677bYBax/CsVVXXTX07t07HHHEEfEYCtqJJ54Y5p133rDffvuFn376KW5Ei6Xw6quvjn8xYeYfGydjVSR/FL/55psv/y17DHFNlL0+ffqEHXfcMRx11FFh/vnnz6fxjQQkIAEJSEACEpCABCQggVYi0BA3zjvvvDOGa2ZDWJSz0UYbLRDhCyVsrLHGGoLH6aefPoSiR6J33303hnxGuUsy6qijBtxC2X8oK7hdIlxrwgknjO+JrPXbb7/F9/x78803w3XXXRfDK6Noouyxzg/LYFbZG3PMMaOyuM0220T300MOOURFL0/RNxKQgAQkIAEJSEACEpBAKxKo243ziSeeCChHs802W1y3N2DAgHDssceWZYGCVkxQ4HCxRGHMCopjOUmKX48ePfLJUA532WWX6J55+OGHh8cffzzcdNNNoVevXvk02Tcjjzxy4A+XTjZbVSQgAQlIQAISkIAEJCABCbQygbqVPax5KHq4P0499dQxmMqII47YKSbTTDNNtPixbg+XUIS1eQ8++GDN+WElJJAL6//mnnvuqMiNO+640eJYmNkff/wR9tprrzDPPPNEhRVX0KuuuqowmZ8lIAEJSEACEpCABCQgAQm0DIG63ThRpK699tqAhY/om48++mjo169fBPDFF19E5Q3LGwFQksUMBQ6XSqxo2YidBGHZY4894nq5Bx54ICqPRN+ceOKJ80BZe4f1j0ibaesFImcm5fDPP/+MCt10000Xr806vjXXXDO8+OKL0aWT81ACf//996gAkh+WSNw/99xzz1gm1usRbIYycm6yHOYL4RsJSEACEpCABCQgAQlIQAJNTmD4vjmpp4yTTTZZXBtH1Mz+/fuHzz//PEa8RPnj81xzzRXX7a2yyirhlltuiZdiHR3WM5TElVdeebD1e2ypkAKjjD766HE7BJRCrG9LLbVU2GCDDaKihzK40EILha+//jpa4VAaKQvXfPvttwPXY70fn4n8+eSTT4Y11lgjTDTRRAHL4ffffx+jga699toxeihKIAoi1kWCvhDFk3NmnXXWMPnkk9eDyHMlIAEJSEACEpCABCQgAQl0O4GGReNkXR3WMlwlGy1bbLFFdBVlq4VaBSsgCijWQS10tdIzvQQkIAEJSEACEpCABCTQqgTqduNMFSfoSqnAKylNta8EaEFBQ9jD77XXXov76FV7fjYdCl7WVTT7ne8lIAEJSEACEpCABCQgAQm0K4GGKXuNBISb5xlnnBGzxO2SICvsj6dIQAISkIAEJCABCUhAAhKQQHUEGubGWd3lqk/F1gkEYGHdnSIBCUhAAhKQgAQkIAEJSEACtRFoWmWvtmqYWgISkIAEJCABCUhAAhKQgASyBOreZy+bme8lIAEJSEACEpCABCQgAQlIoDkIqOw1RztYCglIQAISkIAEJCABCUhAAg0loLLXUJxmJgEJSEACEpCABCQgAQlIoDkIqOw1RztYCglIQAISkIAEJCABCUhAAg0loLLXUJxmJgEJSEACEpCABCQgAQlIoDkIqOw1RztYCglIQAISkIAEJCABCUhAAg0loLLXUJxmJgEJSEACEpCABCQgAQlIoDkIqOw1RztYCglIQAISkIAEJCABCUhAAg0loLLXUJxmJgEJSEACEpCABCQgAQlIoDkIqOw1RztYCglIQAISkIAEJCABCUhAAg0loLLXUJxmJgEJSEACEpCABCQgAQlIoDkIqOw1RztYCglIQAISkIAEJCABCUhAAg0loLLXUJxmJgEJSEACEpCABCQgAQlIoDkIqOw1RztYCglIQAISkIAEJCABCUhAAg0loLLXUJxmJgEJSEACEpCABCQgAQlIoDkIqOw1RztYCglIQAISkIAEJCABCUhAAg0lMEKp3B577LFSX3lcAhKQgAQkIAEJSEACEpCABOog0Lt37zrOru7UHh05KZb0t99+K3bYYxKQgAQkIAEJSEACEpCABCRQJ4GePXvWmUPl03XjrMzIFBKQgAQkIAEJSEACEpCABFqOgMpeyzWZBZaABCQgAQlIQAISkIAEJFCZgMpeZUamkIAEJCABCUhAAhKQgAQk0HIEVPZarskssAQkIAEJSEACEpCABCQggcoEVPYqMzKFBCQgAQlIQAISkIAEJCCBliOgstdyTWaBJSABCUhAAhKQgAQkIAEJVCagsleZkSkkIAEJSEACEpCABCQgAQm0HAGVvZZrMgssAQlIQAISkIAEJCABCUigMgGVvcqMTCEBCUhAAhKQgAQkIAEJSKDlCKjstVyTWWAJSEACEpCABCQgAQlIQAKVCajsVWZkCglIQAISkIAEJCABCUhAAi1HQGWv5ZrMAktAAhKQgAQkIAEJSEACEqhMQGWvMiNTSEACEpCABCQgAQlIQAISaDkCKnst12QWWAISkIAEJCABCUhAAhKQQGUCKnuVGZlCAhKQgAQkIAEJSEACEpBAyxFQ2Wu5JrPAEpCABCQgAQlIQAISYw7hJgAAMJtJREFUkIAEKhNQ2avMyBQSkIAEJCABCUhAAhKQgARajoDKXss1mQWWgAQkIAEJSEACEpCABCRQmcAIlZOYQgLlCXz55ZfhscceC2+//Xb4+OOPw7jjjhummGKKMMccc4Rnn302rLvuuvFY+Vy6/ts///wzlnPAgAHhxRdfDFdddVXdFz322GPDr7/+Go488si682r3DOgn/fv3Dz/99FP48MMPw8477xzmnHPOmqr90UcfhYceeig88cQTYemllw7rrbdeTeebuDEEhla/b0QfagyB0rn89ddf4dFHHw2vv/564P3ss88ellhiidCjR4/SJ/mNBCQgAQlIoIsIaNnrIrDDSrb33HNP2HzzzaNSt8oqq4STTz457LDDDlG523///cNll10WB/fNwmOGGWYIb7zxRvjmm28aUqTffvst/P777w3Jq50z+eeff0Lfvn0DfeSggw4KY489drjvvvtqrjLnjT766OGll14Kf//9d83ne0JjCAyNft+oPtQYAqVzOeWUU8IDDzwQ+vTpE7beeutw5513hgsvvLD0CX4jAQlIQAIS6EICWva6EG67Z33llVeGs88+O1pXdtttt/zM9cQTTxzWXHPNMMsss4Rtt902MDBsBhlxxBHDpJNOGqabbrrw6aef1lykTz75JAwaNCisvvrq+XMPP/zw/HvflCaAgo01dfLJJ4/95IQTTiiduMw3Y4wxRlhggQXKpGjur4r1oUaXuNHXKJbf0Oj3jepDjeadze+OO+4It9xyS7j88stDz54941dbbbVVVPpmnXXWsPDCC2eT+14CEpCABCTQ5QSa1rLX0dHR5ZUvvMDQuGZhGVrlM8oSs9VYWrbffvu8opctP1a05ZdfvmmUvWzZan2PwnrIIYeEn3/+udZTTZ8j8P7770cOjXBla0QeQ6NRuqMPNfoajc6vHu6N7EP1lKPcuTfccEOYccYZw1RTTZVPxmfc2m+88cb8Md9IQAISkIAEuotAQyx7X331VTjjjDPCc889F/7444+4VmuyySYLE000Udhoo42iNeSss84K0047bXThonJ77bVXdKVjXdeee+4Z3nzzzXDcccdF5QGlCyvAFltsET7//PNw//33h2WXXTbsuuuucbaU76+++urA2quXX345jDfeeGGCCSaIP7D77LNPZHfuuefG7zfeeOOocLz11lsxf1yBmGldbLHF4pqtu+66K6CUDBw4MK6v4PyLL744fP/993E2FrczZUgC/fr1i+6LG264YX4Ge8hUIbLmOGv6nnrqqTDSSCPFdmT93PXXXx/X+I066qhhp512iqfjmke6H374Ibb5bbfdFvsG7cWsOOc9/vjj4emnn44DqPXXXz8MP/zwVedfrIwc47r0Adw76ccTTjhh2HLLLQPWQBQ8+it9dJRRRgnffvttWHHFFaOF8LXXXov9c5dddolZY/m79957A32UAR7lIw+sEjfddFN0b6X/UWauefvtt4dXXnklcllppZWiNbRUGTlOGV544YWoQNOX55lnnrgmqKv5livT119/HbBo8BwYeeSRo+UtWd9gd8kll8Q6ksc555wT677ccsvFQXGxfDvDhXwqnffFF1+Eu+++O6y22mqBtV+4kWJ9WWONNcL4448fPvjgg/Dggw/GPrDyyiuHmWeeOV+8cnnTDjyvWEvIxAfPJJ5ZuJtuttlmYayxxirbh1CoHn744fjMod+TfoMNNshfu/BNqfTl+inPUfoNDKgnDOaaa6581u+++2649dZb433IM/H555+PboisRa2m31fDIH+x3BvYc03ut6mnnjqyxiMAZqONNlo2aWRXrg8VKzv34zjjjBPzeeSRR2L/45k+5ZRTxrpjIU5ST79IefBKXVint8IKK2QPx/c8C/i9ou2SxW+IRB6QgAQkIAEJdAGBui17DE5Yl8BAGYWMoAsEYLjuuuviAJcy4zaHCwvrbJLgCjfTTDPFAQjHcK9baKGF4iCe9GuvvXY477zz4lowBlAMnlj0jjCwRCHbdNNNo9LH9fnB/+yzz+L3/FtqqaXCcMMNFwc2fGYgsdZaa8VBOGkRrsePPoMB8qAMBxxwQJhkkkkCg9GTTjop/Oc//4lp/Tc4AZRnhMFTOenVq1fgr3fv3jGAC8oNggKEokifYE0LQqCT888/P+y7774BJY8JBNoQxYhjrP+jTVAuGLgxgXDppZfGc6vJPyYs8e/EE08MV1xxRWCQz7VQ+E499dSYGgVmu+22i+/nnXfeqMDRVxgUkxalNQnfUzfqST/mPcLsPsFFsHRSHwZ9hx12WJyg2GOPPeKEBWsdUTZKCXVmQoSANygRI4wwQhxckr6a+tfDt1SZUAp23HHHMN9880WFmHIceOCB4fjjj4+nMHBn0gaXXoQ25/M000wTPxf+6wwX8qh0HuXce++94zMFFzuUKwbgtCHlx+qCVYa2pg2YgOI5Vk3eTE7QLjzzeC4RlAhFgzw5jhTrQ7i0IhdccEHsJyh4BJxJ90P8ssi/UulLXQPljmclk2+sr11mmWUCfS65MnM9GFx77bUB12wmUlDGCLZUbb+vhkGqCh4BPM/Jmz7PNZlMueiii/L9OaXltVwfKlV2gkWhgB566KFRyaLP/etf/4qK6yabbJK/Tj39IltG3qNQI3g7FAoKPBMGPLsUCUhAAhKQQHcSqFvZ4weaQRGRDXffffc4S3766aeH6aefPg7UqQw/dETdy7pfEZ0Mq0QSftD5zA8lCiMDAQazWAZR/FAMWTuCEMkPN5n5558/zsgzk8o1l1xyyfg9/7DWMbhJglK36qqrRqUvHSMPBnwodljwGGhRRqx7DAiwImEBUAYngNXq/f+55aHIVSso3IWCYp0ECx+DPyy1DN4ZnGF1YZDOdVDyGRTSTkQDJMpddgKhUv7pOsVesa5hjUZQ0FDUUPjSZ8qE0I+w+mHhw7qXLFjxy//922abbaKlLhuAhHsEBSApxwxwUXiwbDPTT3/D6omCW0rIjz7JIBZZZ5114j2S0leqf71803XSK2101FFHhaxFEmsRiihWIoL3cD/BjLohvOcvKcEpr/TaGS6cW+k8ypUid8Kc5wvWLaysTBKhgKMA8bxBCae9Uh+vlDcW52TNWXDBBaN1jwmqRRZZJE6Ccb9Q38I+hHKGoLCkNqWP0K/KSan0pa7B5BYeF+leY+KNfvTqq6/Gy9B+KIAIVjaseVyDybDCMpfq99UwIP9ffvklTtrw7EaoL9emL7G+l8mSQinXh0qVnfyxpBO1lfXE9H3+mMxL/RYG9fSLwnIyGYOkds1+n/o/XgGKBCQgAQlIoDsJ1O3GyWB70UUXjQpdKjiDV2b2sSTUKlhyEAYu/CULAOH8k5WNQRQh3JmtRgngO9JhlemMpGuicJIXyimCssnAQBmcAIMv2hg2XcGHASXtAP8kKO4MWLMDKZQb3CgbIVgUUz/ADe+dd94ZzFJc6hrZMqY09B8GsETkQ2HFNQ33QQamSRiIMoGBRTEJg3DqSD+HQaHw/WmnnRZwUcOiyMAca3Wt0ii+zzzzTLRmMLGTFQbs8KTOWDJrkc5wIf9qzkvucyjrSdKEUHrleJrAwFLDhEI1efOsQpJyxHsmkrASouDQB0oJVs9jjjkmugEysYX1s5zUmh4vB9pkzDHHjC6RaRIiWfa4FvcbgoUWQTEqJ8X6fTUMfvzxx2jhwsqdhH6NVREvEdxpa5VSZWfCgQmc7L3E82O22WaL1kvcU7l2Z/tFYTlTGyfFPfs9Vj0k2/ey3/teAhKQgAQk0FUE/v9oupNXYGDK7GyhFPtRY4Y7K4Wfs9+l92kAjoKRBCshLne4jrIOhRl43IIYpNe73xkz/Emy10zHfP0vARQNLF+4eqVZ+q5kw0ASRSgr9I3CY9nva3nPgI81V7iwYXVGEctaDVNe1fYJBu1YR/jDokS+yaUPqxEz/ChCuD5XK6whw0rBujfc0liPioUq3SPV5lMsXWf4YmFHCgf+uKxiycB9sBbpLJfOnkfZkoKSLWfiyZYa9eSdzTP7vrAP4TKKNfHMM8+MiiXWUtY3l5Jq0hdeAysWVmOUUfo3kn3+FqYvvHal7wvTl/qMIo37KvcD1ydfPDZQyqbKeVp0RkqVjf5XjCOWXa7P9yh7xaRSvyh2TpowKDYBxsQnSmdKU+x8j0lAAhKQgAS6gkDdbpzM6jN7nWYuUyEZzKZ1XRzDPZOF8Nk9yVDUOiOsh2IxPFaNvn37BoKxHH300XHtHbPDSVBCswNOBjy46yn1E0gKHm5S7SCs/7vmmmuiKzKueKUGkKWOFzJAMeOPMOy4y/E+KREMJMmHdUXFpJhlIKUj4AtrWbHusPYsrY1L33fna1qbVKgUUz8sNMUmgcqVr7NcOnteubKk77oi78I+hALEFia4MRLkBhdQJrBKSTXps9dgQgZ3Vax2uAsnS1ip/Isdz+ZX7PtajrEXJxMEbN/A2lzuA/pxdqKtlvxKpaX/8RtUqHwly22t/bPUddJxgoRh3eN3rlC+++67qMw2kmPhNfwsAQlIQAISKEagbmUPCwNR4NhIFrcnftQITIDVAWtbEqxx/JgTUIM1MjfffHNc04MChmsPs7yseUBpTGsfODervOEOxfdY8Fh4jxsZA+O//vorWvjIP7nkcC5rTrD+EdgFpY+AG5SPPLkuViHypPxJCSUvPifJXj8d8/W/gTYIUkKEORiXEiwjaeDKAA/O5ZSZUvlUc7yz+dMfcQvG4pHW1hROXqRBWuHxcuXCuvfee+/Ffsd60ST0UVz8UAThkxX6anaSJPsd9xXXZ4IF5YB1YqyLS4PZztY/e41a3mMVQYElyEVWuJ9xEcSCUot0lktnz6umbI3Mu1gf4l6gXWk7nqVYbREiuhaTSumLXYNnLvdd2uOtlj5cLL9i5arlGM9e1knjjrzkkktGb4y0lrWWfCqlxQWX5zm/F1khYib3Odb7Rgq/P6wxZkKROibht41ovLW6NKfzfZWABCQgAQnUQ6BuZQ83GSIkongRJZAomyhyRJZjpjoJM+REvExubUS+Iz2uYKw/4gf4iCOOiIoYs9AILkcHHXRQPIb7C2tnWG/CAIwfUxbbM+AluAoKBwpgdk0XM9kE0Oibs/6xvo8BD1YbLDgMsIgKR36sLWKNEZYKFE1cqhCuud9++0WFMB7wX54AgyU4MZt98MEHx+iG+S9zbxhQ0iZMAiRLAso37ca2Gbg1oaiwdgeFOruGh+8K3TNxF0aJyArHkpLO8WrzR5lnEJgGZOmV8lAWBodYLBlYY0HmGPVEsGJxnMEbwvXJi0mDQmHdHuv3sHKl81MaLCzUhy0nuBb5XXLJJTFaIG6QxYRIfmyxgKBkEfkSS0Lq89XWv7N8C8uE2x2DW9ZNJoWeNGxDwPowIj8mSYGOKkUjrIZLmoyhHkmqOS+1UbZv0YeQ7KROOpbS1ZJ36kvkmSatUh9NfSDbh1AEUPrpUwiKPGtRs2v/4hf/+1cpfbFrUCaY0b8pE8G0UOJok1TvVOdU5nTNYvnxXbF+n/iWY8BzATdU6sEkCxOEWB65hypJqT5UquxYSPmt4DcnK3iU0KbJspfKndqbtCnPxCd7LJsumy/vsbwj2WtyfzO5Q0AlRQISkIAEJNDdBIbPKUJ9i120mh/fdB5R3liXxMAPpYoAA3PPPXfebS2lY6aVH0PcL7H8oYyh2GH1YFDRp0+f+DntMYUyuOWWW8YfbAIMkJYoiURQ4xp8x2wpeXF9Bp9ZQcEkOAHXJEIgg2+UQ/LBKoErIu/5QylkUE4ZUmS9dP1k7cnm7fsQ2wxFGysO++5hjcBlEdcswsMTdRFlhsA3CGt1GGgROAGrL5Yf2GLVQHnhexRB9tFjkMWAlzZlcEreDEQZpOISiYLOIDkpgAySmXgolz9BfFDyKR8DNixi5I+FEovvk08+GctFP6CPEmCFkPIoVZSFCQksb6RbfPHF4/cM6hgYMmDk+ilIA/Vlpp/yYb1IkT45jlBevmfbD+oCEwaErMHjeDFBSYAF9yaDZFhvmbsHkltaV/Mtdh9w38CR9uZ7LOjwZeIGpQWlgIkdXK95jyUTRikyZGE9K3GhzlwLBQFFnIkE1o9WOg92WLg4h/aiL6BskBcscb2DP2yZBEJ5JS1MaetybYVlE5da2pp+gMUIhZe2QiHlGJ4N1Dvbh1ivyT2Ckk/5uAfYp5EJAp5XfC4UlKRy6XnmFV6DyQMmXlD2CDzEM5q60/eYKGCihfuCcrJ+jv6f+lRhfqX6Pa6Y1TCgj7BejnuXPsEEHltWsAYbRTAboTnVvVwf4r4pVXbY0j/Jn/LBjkAw8OA5z7Oknn6RGKVy8kpgGxixTQwBYLgfsNQTZTgF/sqm970EJCABCQzbBBgDd7X0yP0ADh415X9XTK5hXV0A828PAnQjlL40WGSQzECxmKC0pfVeKF3FlIhi51V7rLP5MzDPRiEsVjasC0xMJPe2SmVioEr9SqXHCsJgG8Uoe+1i+aKI8FBAESY/rGfFpLP1L5ZXtcdQoBhQZxWFas8tlq4WLtnzO3teNo9S7xuVd2EfQsnh/sHqiTdBqb6SylVN+sJrkD/P9GxkymL9O12j8LUwv8Lvq/1MH2aN9ZprrhmVSyyOlItJABRvgtRwLzRSqDvPJe4bJmSw9nWHoPyjTCfLe3dc02tIQAISkEBrEeiO3ySVvdbqE5ZWAhKQQMsSIFoyFlTWJxYKVrrFFlssPxFU+L2fJSABCUhAAu1GoDuUva63HbZbq1gfCUhAAhLoFAG2a8GFlL1ZCcqCeyxBjFgni6UxWfw7lbknSUACEpCABCQwBAEte0Mg8YAEJCABCXQFAQIRsZ6NdY64buK6zNpdgpcQPEuRgAQkIAEJDEsEusOyp7I3LPUo6yoBCUigCQiwjo6gSFjyigWiaYIiWgQJSEACEpBAlxNQ2etyxF5AAhKQgAQkIAEJSEACEpBA9xPoDmVvyNje3V9PrygBCUhAAhKQgAQkIAEJSEACDSagstdgoGYnAQlIQAISkIAEJCABCUigGQio7DVDK1gGCUhAAhKQgAQkIAEJSEACDSagstdgoGYnAQlIQAISkIAEJCABCUigGQio7DVDK1gGCUhAAhKQgAQkIAEJSEACDSagstdgoGYnAQlIQAISkIAEJCABCUigGQio7DVDK1gGCUhAAhKQgAQkIAEJSEACDSagstdgoGYnAQlIQAISkIAEJCABCUigGQio7DVDK1gGCUhAAhKQgAQkIAEJSEACDSagstdgoGYnAQlIQAISkIAEJCABCUigGQio7DVDK1gGCUhAAhKQgAQkIAEJSEACDSagstdgoGYnAQlIQAISkIAEJCABCUigGQio7DVDK1gGCUhAAhKQgAQkIAEJSEACDSagstdgoGYnAQlIQAISkIAEJCABCUigGQiMUKoQAwcOLPWVxyUgAQlIQAISkIAEJCABCUigDgK9e/eu4+zqTu3RkZPqkppKAhKQgAQkIAEJSEACEpCABFqFgG6crdJSllMCEpCABCQgAQlIQAISkEANBFT2aoBlUglIQAISkIAEJCABCUhAAq1CQGWvVVrKckpAAhKQgAQkIAEJSEACEqiBgMpeDbBMKgEJSEACEpCABCQgAQlIoFUIqOy1SktZTglIQAISkIAEJCABCUhAAjUQUNmrAZZJJSABCUhAAhKQgAQkIAEJtAoBlb1WaSnLKQEJSEACEpCABCQgAQlIoAYCKns1wDKpBCQgAQlIQAISkIAEJCCBViGgstcqLWU5JSABCUhAAhKQgAQkIAEJ1EBAZa8GWCaVgAQkIAEJSEACEpCABCTQKgRU9lqlpSynBCQgAQlIQAISkIAEJCCBGgio7NUAy6QSkIAEJCABCUhAAhKQgARahYDKXqu0lOWUgAQkIAEJSEACEpCABCRQAwGVvRpgmVQCEpCABCQgAQlIQAISkECrEFDZa5WWspwSkIAEJCABCUhAAhKQgARqIKCyVwMsk0pAAhKQgAQkIAEJSEACEmgVAip7rdJSllMCEpCABCQgAQlIQAISkEANBFT2aoBlUglIQAISkIAEJCABCUhAAq1CYIRWKajlbF4CX375ZXjooYfCW2+9FT766KMw7rjjhqmmmirMNddcYeDAgWGDDTYI44033lCvwJ9//hkeeeSR8Nhjj4Xnn38+3HjjjXWX6Ygjjgi//vprOO644+rOq1kzeO2118Ljjz8eHn744XDhhReGkUYaqVmLmi/XTTfdFD799NPY1rPNNls44IADQo8ePfLfV3rTFX2l0jX9fkgC9L2DDz44HHLIIfF5MmSKrjtSbx/qupINmfMLL7wQYLXhhhsO+aVHJCABCUhgmCagZa+TzX/HHXeE1VdfPayxxhrh22+/7WQurX/anXfeGdZff/2o1MHjjDPOCLvuumtU7vbcc89w0UUXhZ9++qlpKjrjjDOG119/PXzzzTcNKdNvv/0Wfv/994bk1ayZjDXWWFE5ZjA5/PDDN2sx8+V64oknonK60047hb333js8+OCD4bPPPst/X+2bRveVaq9ruv9P4K+//grcY7x2pzSqD3V1mbknDz300LD11luH5557rqsvZ/4SkIAEJNCCBFT2Otloyy23XDjppJPCJ598EgcjncympU+77LLL4oz7aqutFo4//vgw++yzR6tPr169wjrrrBMuuOCCqBz85z//aYp6jjjiiGGyySYL008/fafK8/HHHw9hDTzmmGPCqaee2qn8WuWkSSaZJM+sK5S9YlzrYXP11VeHySefPGYxzzzzhHvvvTdQh1qk3r5Sy7W6Ku2ZZ57ZVVnHfBvdbmRaWGaeKbfffnuYb775urQuhZk3og8V5tkVn+nXKHtdcV92RXnNUwISkIAEup9A0yp7HR0d3U+jhiumwSCn1OIeVsMlmjopSu65554bxhlnnIAFpRiDmWaaKay00kptoQyjsO63335NZaXszg5SrH0bcf2u4Pree+8V7Y+NKG+r5HHXXXcFFJaukq5ot64ucy0sWqUPYXUfYYQRWsK1uhb+ppWABCQggcYRaMiaPdZsnXzyyeHZZ5+NLm2s1WJmfeKJJw6bbbZZeOaZZ8Jpp50WrQN9+/aNpcfVD1c60u67777hjTfeCEceeWQYe+yxA4oea6pwTcH96p577gkrrLBCwC1w0KBB4ayzzgqsw1lzzTXDlVdeGdfm4HJF+vHHHz/mz2Bk5513jorGIossErbZZpvoYsiareGGGy4ce+yxYdZZZ41pv/jii3D66afHa+IyhOVnhx12CHPPPXf8Pv178cUX4wCKMnG9jTbaKH01zL1efPHFsa032WSTMMooo5Ss/3bbbRe/g/uAAQMCSjLtyJqoa665Jnz44YdhtNFGC7vttltM9/fff8d033//fVh++eXDzTffHPvGEkssEXr37h3Pe/TRR2OaKaecMmy88cZxVrva/EsVlOs+/fTT4euvv459bKKJJor9ifVpP//8c3RNpY+OOuqosd+ussoqYYYZZgivvvpq7J+77757zJq+zqCVPsy6RfoIdcbd6vrrr4/rGbfffvtYZq5J/V5++eUw8sgjB/KkX5cS3IXvv//+eI9MO+20ARfad955Jyy88MJh3XXXzSs4HGO9EUyxinBfUj7WUiK4NXLN7777LpaR+2jMMccc7LKsdyOPP/74I7bvL7/8ks8fRqx35HXZZZcN888/f3jppZdi2bjvuFexqCXhPr/lllsiR3jSlkwElOOazi18LVd2LHiUg/uTdsDiymB4q622Kswm/5l1ppzH5MXMM88cXZKrWZNY7rzPP/884OYNV54tPL969uwZ1l577TDBBBOE999/P9x3332xH2EVn2WWWfLl4U25vOkDMKCMiy++eOw/uCVzryy55JIxH/pFes7CgPWym2++eaBtOJd7iz+etdw/5YQ+j3sg5/7zzz+xraeZZpqS90O5+4jr8Hx94IEH4jOY52+/fv1in+ceKVZmXMBJz6QS9UWqYRAT5v7R93jO0H+xfnFNnt3cb/w+FUq5PlSq7LivI+X6Jt/X2y/IQ5GABCQgAQnUSqBuyx6Dhk033TQOrhhwMKjkB5pZZQYhCMrTHHPMEVCWkqy11lpxcMVAFMG9DqXsySefjINo1oGdffbZcS0YShs/wg/lgoAwSOSPARTKHYM0Bv0MJhlY84OKoIBQLvJlAMjAl0EWC9inmGKKOAggHYoq5zFwJRAASuvUU08dGJCjQCThh3zbbbeNg3YUVMrJ52FV3nzzzVh1WJUT3Iz4Y6DGObQTwuAORZE+cdttt8VjBDo555xzYh9CCWKgygCNvz322COu/0NJ/+qrr6KigoJOwBCkmvxjwhL/cMe89NJLA4PvAw88MCp8J554YkzNwBDrJYJiwwCZyQwUKfo7g8kkfM9AnHpON910sZ58hyKBYrvyyivH+jBwJGgIA2cmOxiQo5SgBBQT+in1xV22f//+sawMgLn/OJZcSWFJPqRhII2Cfffdd0cFgsE61yTYCvcO69m4R9dbb72otKbrosDCGxbUb5lllonKXbLuMaEy55xzRuUVxQTB3S4de/fdd1NW4ZVXXomuvgyImeCBDYoHa6KKceVeLibVlH2xxRYLW265ZVS0GdRTR4IDlRKUCPoZE1Lcy7Qj7JiIKCflzuN5xrOGZ9cll/y/9u5YVYIiC+O4yxpqamLiOwgqaKBGBr6DGAqCgQiCgRtoYmBkIJpsoCAoJr6AgongIxis4AvoC/TWr/T01u3tnum5c4W5d74D9850dXV19b+qe86pc6r6390AcE36ivp88803/TyuXVu/+eabj/zxxx/z6Q6V7bn6+eef94EqAwr6g3IY5vqQAQXy3HPP9WepffqqQQTy6aef9v4ozXOw7ru+c+WfwQADcBi+/vrr/VjteajdDt1HjHD3lrBDAzbuXQMs2mCtzvqRUHl1qD61l4HLYRR6tuu/+vrjjz/ez29RpS+++GLlih95ZKsPHar7nr55br9YrWwSQyAEQiAEQmAPgeaBOEuaojm1H+qpKQZzOU1pn9qP7NSMpzmtKSdTM/DmbV/a6PfUlI457aeffpqap6Bvt0UvpmeffXZq3pC+/cYbb0xN0enfv/322+npp5+emndhPvb333+f2jy6qSkTc5ovTeHqeT/55JMb6bXRFI+p/cBPTfmupP7ZlLCphSBO7Yd8UpfmrZjee++9vi2D9KY497KbwXnj2Ie+4dqff/75fu3NA7v7cvFrXp0b+ZuXr7fbmIh1M9SnpnTPyc3wmNpiODfaqSmgUzPC5jx7y28r+/U2nw9sX5rBM3344Ydzkn499tembPbrbZ7kOY8vymqetRtpzQDrae+///6crn+2MNB5u4XATv5KmgetM9XntqQZub0OYzlt4YqpGSvTM888MzWFtB/6wQcf9HzNcOjbzavRP9sAzNS8o1NtS9Tv9X/Xrw7NM9PvyTbo0Y+pf81Qm5ohW5vTr7/+2s/x5ZdfzmnNC9TTvv76656mvObNmu9hiU0Bn1599dWpGRo9zxbXvnP4t6fusjunZ8PHH388HP3/X7UH1s1jNe9sc0z7seNzZdlX9hznmaUOzQs7l/3dd9/1tHqe2dEGjHpaW0mx59tTtvbRDs04nZ9FzZPby2mDFfP53n333al5+uZtX15++eWpGf5zWhsMmL+vffnqq696v9DHCFbVtlvtduw+aoMWva713Hc99exdq3Nb3bfnb5EEvQ7+7WXQjOGpGXrzcfi2uX+T++OQbPWhrbrv7Zu37ReH6lr73NfN4K/NfIZACIRACITATODsME5LPhsNFRJUwqsmbFPozKlS3gMeAH/C1QjPh1CiEqF/5oOVCEN75ZVXuhej0upTSBnv4JrwLBn5NVo9Cg+M5b55Co0m8/w1JXUOZVNPYVo8jNcmrl0b8075u2tRtpBDc1FKhFw1JexGO/EY8kLdhVhsRngv0Sd4rHhMllL9s9LHOlaa0EFebt7ot99+u3sUhNbpPyU8PML3eEJKeMdcIw+ncNGluB/Ik08+Oe/i9eR5aYZl99LhVK+5aIMlPV+VJSyTR7K27dTved15qnn53LOuvQ2uzOfwhZdSnlOEB7EZhT38to7jjWyGT23On0uu846/vuypO357RdtY4bEZhfMhrp138lCf3nOc/kvGMMH6Xp/2W8iI6GfaYE/Z+qg+p42LWXlDPaNGqf2VJkRYqKR8vLkiHw4JnrzbQrHbQEr3QgsXHmV5jmP3UfXNNjjRi3E947N3WZ4IgKXsZcCzx2vqz++DP1EdzehbFrlre6vue/vmbfvFrsolUwiEQAiEQAhsEPifNr2R4VgyA6x+BMe8TzzxxLi5+r2ZnKvpY2Ip4EslQEhOKb+V33wYhtlSHnvssWXSvE2xo4AupeY3uT6hcoRxMUrNDxzTruW78EPzJ4UmllHxd147pY8hNIq+cUgxH/Me+25OlRA6YY/NA9LDLg1kLGXZD5f7a1sYsjA54XtC5hhKQoQJ5ZMiarDC/LZzpfplhQNu1fE/LYyZ0baUCku2v8qgFC9lq9xlvtr+5ZdfuiLvvjwmx8reU/dTjD0LcHguCCs8RW573PJZ5ZwMdVKv7rht2cfY9ZO0fxYYEsbLwDXYIPz30Mq0BiPMr7VCpj4s/FY4cz2Tlbs897H7aJm/6nbu51q55rK6B917Bl9wFgJ+aA7noXqsnUP+c/rmnn5xqE7ZFwIhEAIhEALHCJw9Z89kd3NPWmjNjXOZGF/zuuxgUPGSlWIj7Zz3AilrnAOoPN4TRsgpQtkxp2lpeCrLiLNR86faQhtk6cUzb+ZapQw8Lyh/CGL+k8V+3nnnnb7gyZZit5W+ZEBR9tdCjvu8Nd9LSabgKafmuy2PNQfoFPEie7JmoI3lGMBwTy4N5DIW7a/7c83QHcva850xozzevWNyjOueuh87x7hfG5jvy4u6lEP8b3vc8hxr23dd9pKpdjZPjtfWHFDz8BiYh8T8PnNZeQVbSPwjLQTyRvblOfbeRzcKGTaW5Q27Tv5qIMWcU/P+WghlX9jLnM6aw3hygRsH3HXf3DhNkkMgBEIgBELgVgTONvYsOsCbZpTYJHYeC6PG3rM2Gke8B5RdyoawJUowY4m3hjeBscWDxmi0MEBJedVsW72vjEqKpFFqL+3mkRGmSZFVHyIfr5PjKXS+13bP8Nc/q3Qa7W1z+no+izOot5AqZTkPLyVvj0n9Fl4QOujl4W1OSy+FYXttUovfCNWzyMKWaNtSKIWfae9DyvRWOXvSb1u+/mgxE21M4SbVz+q8pYSe8nJn3r02t6nfG22+YRXVV2Y0iOAeKE9a7fzhhx/66qO1vefTypP6KIPykAgVVP/lIIn+7LotIlOeHmWOshwMqfDVpeE4HlNlWVRkFMfUQj17ue6p+3iOY98t8qSN25zDG1n1T8bNltz2uK3yxvS7LBvXsQ+759p8ux4C6rnmuUkMam2J57gyrDrrnZlC2+UX7bDWbnvuo61zSV/W+VDevftctykFphow/G7r1Tt0vrvum4fOlX0hEAIhEAIhcCqBs409YWEMn7a4Sl+9z2gqJdZKi+O8H8qkFS6F1ViZz8p35hoZ9fcjbCU5q2GaT1FzSYRJWmVOmrkuRmd54QjF1usRGIyOMw/F/KeXXnqp75fPUueU+J9//rl/ty0saRQ/1EZ+GXdt8ZCuFBi9ZgS+9tprc1ZzVsz9oyQJZ5JfCBgFxUp+RsqvSbQnTowMbcTgHoWSyAj86KOP5jBfq61SpinYDHCKI68Ug5whXmLulHyjUDCXc22kjfn2lm/QgFFfqy7Wp/o4B2OIx5KiqF9Jq7Bk+6TXyoc8V45fm58qdMz8PWGMdXxdk77F0NPPnEt5FGrz5hhdh2T0mCvDvedeK0O1vFXjoInyrPwozM49OAoPu/rwULSFd7py7xUPDE+iHEa9NrWKJmONl+ipp57qXn0GrfazqiJxLdpFWe4v96J7xXVaJdQ9+OKLL/a8xWXJte8c/u2pu+x1HxrAOSTm6VqplyFqAAdT1+w+H+dWLvvKnuOqL5SXVD2qTcY+XGmVb0/Z8jLYx35f7Twa3vqcuvMeY2JAyusy9F3CgNOGh0LRHVd9wECdFW+Fz+tDa+225z5yz5Kqc9/469+yzgYOi82Yfy+DGlD0fHH9wi3HcsZzj9+3+tBW3ff2zdv2i7Fua9/rOTj2ibV8SQuBEAiBELhOAv9sE/b/de6lWzDCEteMKWEyDL22Gt0ctlblW/xAPosDWO7cJH2T/3k9/NAzmmw7njAGKcOUC0va28dbQCH2/idzUJRlpNpnLebiWPnkX/6NHhb5CC+Lell8gEfSjzfDrsLu5FEHhqy5Kzw26srQVb46WjDm2oTCZ3l+4XBCvBhL3t9G6bfMO8XwrbfemtlYHIRhYUED3lPeXgYKLxHWwhCFUnrlBQWNIurVDjyqDAaKGuOaoe9clNdSnimv2uNQ+foHb4X6URgpScqn9FMsGTLqpS/qC8KTpRkEMC+VEfP99993w4cXkMHPcFIOxdr5x/mhvMKMMUq8ax9F+LP9yvNONkz0Q3OipK+JOvM64WK+JI8cA1GonVeZEOXw4FAstYtrqTBN7WGJex5pxg1vHeOLcak/Y+uPF8TrSiy2gbHzVIio8lynEGflYWDg5rfffuthgbZxVkfvKlSWAR2vLjEwo70svV/GgrmYI1eLLDGQl7Kn7ur82WefdU8y5d6CHM5TC2OMZepv3ttoQMJAhYEk1+n1EK6P4uz1Mcu+osxDxzFaRS8YJGDMKUvEg1eK+PTePe3MMFJXhrK80vTDQ2XrZwxT53B9nrvaw2Cb9lQO9vqa55F+xYPqu/lr6iU8VxsbAMNZKOf4nBsZyWtgRl2FzePrWac/rbWbazh0H3kmez9nLX6kn0urRViWdcba4BpGynUPOvdeBp4XDD4M9GP3hcE/fdHzfW2u9lYfMnhg7uJa3ff0zXP6Rd2/Y9vUd/MRPXv9HmojddGu2EVCIARCIARCAIF/NIXv+CopF8bKD7cfcIpD5DII6EaMC0o/BZTCWZ6mZQ0pYaVoUaq38i2P27t92/Ip5+NKlWt1M+rv+ijMe4SB5vq28jsH76aVGcdzr5XNcGRk8sLxkqsLRXBLWV8rQ5q20k4MasbImjEkH8OMIU4JX7KxnzAEXCMjl9eI96+U9z9z/Pmf8Skf7+Ga7OW6t+5r59hKc27XgeVWO60de9vj1spapt1F2dpMezAAiO/4MVxEShy7Vh5E7a+f6GNrBsRauy37ytp9tLze2l7WudJv8+nddkLIzS9mCPN8+mPoOo9Bh7uUv6Nv3mX9UlYIhEAIhMB1Erh3xh4Pjx9pigsxOsyzYFQ5EgIPmcBo7PFARUIgBNYJ8MCZx83zvjaYZKCQVzMSAiEQAiEQAg+dwKP37QLbi9N7+F/V28jz2qsfan8+Q+ChEOAZI7wSkRAIgW0CQoOFfgodNnfUb4TBEmHmPH7ekRoJgRAIgRAIgWsgcO88e9fQKLnGEFgSEIZm/hIvtpBPcyHNhxtfSL08JtshcK0EhBSbo2iBGfMZ3SdCx60oan722rzQa2WV6w6BEAiBEHjYBGLsPez2zdU9EALmvJmLOIoFUNbmx4158j0Erp2AxZPMOTw2J/baOeX6QyAEQiAEHiaBGHsPs11zVSEQAiEQAiEQAiEQAiEQAldO4Oz37F05v1x+CIRACIRACIRACIRACIRACFwkgRh7F9ksqVQIhEAIhEAIhEAIhEAIhEAInEcgxt55/HJ0CIRACIRACIRACIRACIRACFwkgRh7F9ksqVQIhEAIhEAIhEAIhEAIhEAInEcgxt55/HJ0CIRACIRACIRACIRACIRACFwkgRh7F9ksqVQIhEAIhEAIhEAIhEAIhEAInEcgxt55/HJ0CIRACIRACIRACIRACIRACFwkgRh7F9ksqVQIhEAIhEAIhEAIhEAIhEAInEcgxt55/HJ0CIRACIRACIRACIRACIRACFwkgRh7F9ksqVQIhEAIhEAIhEAIhEAIhEAInEcgxt55/HJ0CIRACIRACIRACIRACIRACFwkgRh7F9ksqVQIhEAIhEAIhEAIhEAIhEAInEcgxt55/HJ0CIRACIRACIRACIRACIRACFwkgRh7F9ksqVQIhEAIhEAIhEAIhEAIhEAInEfg0a3Df/zxx61dSQ+BEAiBEAiBEAiBEAiBEAiBEDiDwAsvvHDG0fsO/cfUZF/W5AqBEAiBEAiBEAiBEAiBEAiBELgvBBLGeV9aKvUMgRAIgRAIgRAIgRAIgRAIgRMIxNg7AVayhkAIhEAIhEAIhEAIhEAIhMB9IRBj7760VOoZAiEQAiEQAiEQAiEQAiEQAicQiLF3AqxkDYEQCIEQCIEQCIEQCIEQCIH7QiDG3n1pqdQzBEIgBEIgBEIgBEIgBEIgBE4gEGPvBFjJGgIhEAIhEAIhEAIhEAIhEAL3hUCMvfvSUqlnCIRACIRACIRACIRACIRACJxAIMbeCbCSNQRCIARCIARCIARCIARCIATuC4EYe/elpVLPEAiBEAiBEAiBEAiBEAiBEDiBQIy9E2AlawiEQAiEQAiEQAiEQAiEQAjcFwL/BbZuJNfm9er5AAAAAElFTkSuQmCC)"
      ]
    },
    {
      "cell_type": "markdown",
      "metadata": {
        "id": "3pweDR6yniCN"
      },
      "source": [
        "![Screen Shot 2021-02-08 at 6.48.21 PM.png](data:image/png;base64,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)"
      ]
    },
    {
      "cell_type": "markdown",
      "metadata": {
        "id": "_c5a6YOTLqiv"
      },
      "source": [
        "![image.png](data:image/png;base64,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)"
      ]
    },
    {
      "cell_type": "markdown",
      "metadata": {
        "id": "dEYzJlcmL9xD"
      },
      "source": [
        "## c_1 = a_1 x b_1 + a2 x b_4 + a3 x b_7 \n",
        "\n",
        "\n",
        "\n"
      ]
    },
    {
      "cell_type": "code",
      "metadata": {
        "id": "-2itOM4fHGik"
      },
      "source": [
        "mu, sigma = 10, 0.1 # mean and standard deviation\n",
        "s = np.random.normal(mu, sigma, 1000)"
      ],
      "execution_count": null,
      "outputs": []
    },
    {
      "cell_type": "code",
      "metadata": {
        "colab": {
          "base_uri": "https://localhost:8080/"
        },
        "id": "GB-g0pJ6HQd3",
        "outputId": "867078ae-914b-4faf-a2ca-523fd2a50e48"
      },
      "source": [
        "s.mean()"
      ],
      "execution_count": null,
      "outputs": [
        {
          "output_type": "execute_result",
          "data": {
            "text/plain": [
              "9.998876163610813"
            ]
          },
          "metadata": {
            "tags": []
          },
          "execution_count": 7
        }
      ]
    },
    {
      "cell_type": "code",
      "metadata": {
        "colab": {
          "base_uri": "https://localhost:8080/",
          "height": 266
        },
        "id": "BTpvEmlFH8d8",
        "outputId": "c93cf048-9e87-4cb8-b439-487eb38b3e87"
      },
      "source": [
        "import matplotlib.pyplot as plt\n",
        "count, bins, ignored = plt.hist(s, 30, density=True)\n",
        "plt.plot(bins, 1/(sigma * np.sqrt(2 * np.pi)) *np.exp( - (bins - mu)**2 / (2 * sigma**2) ),linewidth=2, color='r')\n",
        "plt.show()"
      ],
      "execution_count": null,
      "outputs": [
        {
          "output_type": "display_data",
          "data": {
            "image/png": "[encoded data removed]",
            "text/plain": [
              "<Figure size 432x288 with 1 Axes>"
            ]
          },
          "metadata": {
            "tags": [],
            "needs_background": "light"
          }
        }
      ]
    },
    {
      "cell_type": "markdown",
      "metadata": {
        "id": "YBP8_u_jIyYZ"
      },
      "source": [
        "![image.png](data:image/png;base64,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)"
      ]
    },
    {
      "cell_type": "code",
      "metadata": {
        "id": "VgnSM_M8hyxt",
        "colab": {
          "base_uri": "https://localhost:8080/"
        },
        "outputId": "dc24389a-a405-4ff1-a00b-4d503ba50671"
      },
      "source": [
        "A = np.array([1,2,3,4])\n",
        "print(A)\n",
        "A = np.array([1,2,3,4]).reshape(4,1)\n",
        "A\n"
      ],
      "execution_count": null,
      "outputs": [
        {
          "output_type": "stream",
          "text": [
            "[1 2 3 4]\n"
          ],
          "name": "stdout"
        },
        {
          "output_type": "execute_result",
          "data": {
            "text/plain": [
              "array([[1],\n",
              "       [2],\n",
              "       [3],\n",
              "       [4]])"
            ]
          },
          "metadata": {
            "tags": []
          },
          "execution_count": 11
        }
      ]
    },
    {
      "cell_type": "code",
      "metadata": {
        "id": "q7hf5IKXiiEZ",
        "colab": {
          "base_uri": "https://localhost:8080/"
        },
        "outputId": "480000eb-d34b-4aff-cb8f-3aae45af1aaf"
      },
      "source": [
        "S = np.array(['a','b','c','b','a'])\n",
        "S[S != 'a'] = 'z'\n",
        "S"
      ],
      "execution_count": null,
      "outputs": [
        {
          "output_type": "execute_result",
          "data": {
            "text/plain": [
              "array(['a', 'z', 'z', 'z', 'a'], dtype='<U1')"
            ]
          },
          "metadata": {
            "tags": []
          },
          "execution_count": 12
        }
      ]
    },
    {
      "cell_type": "code",
      "metadata": {
        "colab": {
          "base_uri": "https://localhost:8080/"
        },
        "id": "u-KBXk2xilMb",
        "outputId": "cab93f3d-be9f-42c6-b9f8-8eb7605664ca"
      },
      "source": [
        "A = np.array([[0,1,2],[3,4,5],[6,7,8]])\n",
        "print(A.shape)\n",
        "B = A #A and B reference the _same_ object\n",
        "A is B"
      ],
      "execution_count": null,
      "outputs": [
        {
          "output_type": "stream",
          "text": [
            "(3, 3)\n"
          ],
          "name": "stdout"
        },
        {
          "output_type": "execute_result",
          "data": {
            "text/plain": [
              "True"
            ]
          },
          "metadata": {
            "tags": []
          },
          "execution_count": 17
        }
      ]
    },
    {
      "cell_type": "code",
      "metadata": {
        "colab": {
          "base_uri": "https://localhost:8080/"
        },
        "id": "Txjf9zSciyen",
        "outputId": "dfa0c18e-2d10-430e-c993-197e26edb2df"
      },
      "source": [
        "B[0,0] = 1000\n",
        "A"
      ],
      "execution_count": null,
      "outputs": [
        {
          "output_type": "execute_result",
          "data": {
            "text/plain": [
              "array([[1000,    1,    2],\n",
              "       [   3,    4,    5],\n",
              "       [   6,    7,    8]])"
            ]
          },
          "metadata": {
            "tags": []
          },
          "execution_count": 18
        }
      ]
    },
    {
      "cell_type": "code",
      "metadata": {
        "colab": {
          "base_uri": "https://localhost:8080/"
        },
        "id": "cED-YY2Si4mb",
        "outputId": "65693591-c986-49f6-e1ca-ebd146e5d637"
      },
      "source": [
        "newMat = A.copy() #this will actually copy the data\n",
        "newMat[0,0] = 0\n",
        "A"
      ],
      "execution_count": null,
      "outputs": [
        {
          "output_type": "execute_result",
          "data": {
            "text/plain": [
              "array([[1000,    1,    2],\n",
              "       [   3,    4,    5],\n",
              "       [   6,    7,    8]])"
            ]
          },
          "metadata": {
            "tags": []
          },
          "execution_count": 19
        }
      ]
    },
    {
      "cell_type": "code",
      "metadata": {
        "colab": {
          "base_uri": "https://localhost:8080/"
        },
        "id": "jAr4TezSjAhL",
        "outputId": "e681e0a6-4b52-4461-a7ff-acec236930e6"
      },
      "source": [
        "newMat"
      ],
      "execution_count": null,
      "outputs": [
        {
          "output_type": "execute_result",
          "data": {
            "text/plain": [
              "array([[0, 1, 2],\n",
              "       [3, 4, 5],\n",
              "       [6, 7, 8]])"
            ]
          },
          "metadata": {
            "tags": []
          },
          "execution_count": 10
        }
      ]
    },
    {
      "cell_type": "code",
      "metadata": {
        "id": "SvmDvn9JjM-E",
        "colab": {
          "base_uri": "https://localhost:8080/"
        },
        "outputId": "b9130645-614f-4508-951c-cbec69430c38"
      },
      "source": [
        "### copy ###\n",
        "A = np.array([[0,1,2],[3,4,5],[6,7,8]])\n",
        "B = A[A > 4]\n",
        "B"
      ],
      "execution_count": null,
      "outputs": [
        {
          "output_type": "execute_result",
          "data": {
            "text/plain": [
              "array([5, 6, 7, 8])"
            ]
          },
          "metadata": {
            "tags": []
          },
          "execution_count": 20
        }
      ]
    },
    {
      "cell_type": "code",
      "metadata": {
        "id": "9nHrQGROjeux",
        "colab": {
          "base_uri": "https://localhost:8080/"
        },
        "outputId": "aa1c63b9-e1a5-4121-9d06-f0855e540abf"
      },
      "source": [
        "B[:] = -1\n",
        "B"
      ],
      "execution_count": null,
      "outputs": [
        {
          "output_type": "execute_result",
          "data": {
            "text/plain": [
              "array([-1, -1, -1, -1])"
            ]
          },
          "metadata": {
            "tags": []
          },
          "execution_count": 21
        }
      ]
    },
    {
      "cell_type": "code",
      "metadata": {
        "colab": {
          "base_uri": "https://localhost:8080/"
        },
        "id": "fJ7EV7E5jhf1",
        "outputId": "c16c4e77-c3e5-4d60-c174-0e548e48f20d"
      },
      "source": [
        "A"
      ],
      "execution_count": null,
      "outputs": [
        {
          "output_type": "execute_result",
          "data": {
            "text/plain": [
              "array([[0, 1, 2],\n",
              "       [3, 4, 5],\n",
              "       [6, 7, 8]])"
            ]
          },
          "metadata": {
            "tags": []
          },
          "execution_count": 22
        }
      ]
    },
    {
      "cell_type": "code",
      "metadata": {
        "colab": {
          "base_uri": "https://localhost:8080/"
        },
        "id": "HtwowX2ejoi-",
        "outputId": "a2554418-67d5-4c0b-bb59-63e52a67d86e"
      },
      "source": [
        "### \n",
        "A[A > 4] = -1\n",
        "A"
      ],
      "execution_count": null,
      "outputs": [
        {
          "output_type": "execute_result",
          "data": {
            "text/plain": [
              "array([[ 0,  1,  2],\n",
              "       [ 3,  4, -1],\n",
              "       [-1, -1, -1]])"
            ]
          },
          "metadata": {
            "tags": []
          },
          "execution_count": 23
        }
      ]
    },
    {
      "cell_type": "code",
      "metadata": {
        "colab": {
          "base_uri": "https://localhost:8080/"
        },
        "id": "Q3qP_biLkEUU",
        "outputId": "fd48fea2-7eef-469e-8908-a0bc017d239f"
      },
      "source": [
        "B = np.arange(100)\n",
        "B\n",
        "### How would you rescale your data to range from 0 to 1? "
      ],
      "execution_count": null,
      "outputs": [
        {
          "output_type": "execute_result",
          "data": {
            "text/plain": [
              "array([ 0,  1,  2,  3,  4,  5,  6,  7,  8,  9, 10, 11, 12, 13, 14, 15, 16,\n",
              "       17, 18, 19, 20, 21, 22, 23, 24, 25, 26, 27, 28, 29, 30, 31, 32, 33,\n",
              "       34, 35, 36, 37, 38, 39, 40, 41, 42, 43, 44, 45, 46, 47, 48, 49, 50,\n",
              "       51, 52, 53, 54, 55, 56, 57, 58, 59, 60, 61, 62, 63, 64, 65, 66, 67,\n",
              "       68, 69, 70, 71, 72, 73, 74, 75, 76, 77, 78, 79, 80, 81, 82, 83, 84,\n",
              "       85, 86, 87, 88, 89, 90, 91, 92, 93, 94, 95, 96, 97, 98, 99])"
            ]
          },
          "metadata": {
            "tags": []
          },
          "execution_count": 13
        }
      ]
    },
    {
      "cell_type": "code",
      "metadata": {
        "colab": {
          "base_uri": "https://localhost:8080/"
        },
        "id": "DOXO_16wmhzu",
        "outputId": "5dee5fed-6d95-4e8a-95ca-e0cca188d4a1"
      },
      "source": [
        "B1_ = B/B.max()\n",
        "B1_"
      ],
      "execution_count": null,
      "outputs": [
        {
          "output_type": "execute_result",
          "data": {
            "text/plain": [
              "array([0.        , 0.01010101, 0.02020202, 0.03030303, 0.04040404,\n",
              "       0.05050505, 0.06060606, 0.07070707, 0.08080808, 0.09090909,\n",
              "       0.1010101 , 0.11111111, 0.12121212, 0.13131313, 0.14141414,\n",
              "       0.15151515, 0.16161616, 0.17171717, 0.18181818, 0.19191919,\n",
              "       0.2020202 , 0.21212121, 0.22222222, 0.23232323, 0.24242424,\n",
              "       0.25252525, 0.26262626, 0.27272727, 0.28282828, 0.29292929,\n",
              "       0.3030303 , 0.31313131, 0.32323232, 0.33333333, 0.34343434,\n",
              "       0.35353535, 0.36363636, 0.37373737, 0.38383838, 0.39393939,\n",
              "       0.4040404 , 0.41414141, 0.42424242, 0.43434343, 0.44444444,\n",
              "       0.45454545, 0.46464646, 0.47474747, 0.48484848, 0.49494949,\n",
              "       0.50505051, 0.51515152, 0.52525253, 0.53535354, 0.54545455,\n",
              "       0.55555556, 0.56565657, 0.57575758, 0.58585859, 0.5959596 ,\n",
              "       0.60606061, 0.61616162, 0.62626263, 0.63636364, 0.64646465,\n",
              "       0.65656566, 0.66666667, 0.67676768, 0.68686869, 0.6969697 ,\n",
              "       0.70707071, 0.71717172, 0.72727273, 0.73737374, 0.74747475,\n",
              "       0.75757576, 0.76767677, 0.77777778, 0.78787879, 0.7979798 ,\n",
              "       0.80808081, 0.81818182, 0.82828283, 0.83838384, 0.84848485,\n",
              "       0.85858586, 0.86868687, 0.87878788, 0.88888889, 0.8989899 ,\n",
              "       0.90909091, 0.91919192, 0.92929293, 0.93939394, 0.94949495,\n",
              "       0.95959596, 0.96969697, 0.97979798, 0.98989899, 1.        ])"
            ]
          },
          "metadata": {
            "tags": []
          },
          "execution_count": 16
        }
      ]
    },
    {
      "cell_type": "code",
      "metadata": {
        "colab": {
          "base_uri": "https://localhost:8080/"
        },
        "id": "tDJDHFssmv8m",
        "outputId": "4d35c970-f84a-4dad-eefb-876a5077964b"
      },
      "source": [
        "##How would you rescale your data to have zero mean and unit standard deviation?\n",
        "B2_ = (B - B.mean())/B.std()\n",
        "B2_"
      ],
      "execution_count": null,
      "outputs": [
        {
          "output_type": "execute_result",
          "data": {
            "text/plain": [
              "array([-1.71481604, -1.68017329, -1.64553055, -1.6108878 , -1.57624505,\n",
              "       -1.5416023 , -1.50695955, -1.4723168 , -1.43767406, -1.40303131,\n",
              "       -1.36838856, -1.33374581, -1.29910306, -1.26446031, -1.22981757,\n",
              "       -1.19517482, -1.16053207, -1.12588932, -1.09124657, -1.05660382,\n",
              "       -1.02196108, -0.98731833, -0.95267558, -0.91803283, -0.88339008,\n",
              "       -0.84874733, -0.81410459, -0.77946184, -0.74481909, -0.71017634,\n",
              "       -0.67553359, -0.64089084, -0.6062481 , -0.57160535, -0.5369626 ,\n",
              "       -0.50231985, -0.4676771 , -0.43303435, -0.39839161, -0.36374886,\n",
              "       -0.32910611, -0.29446336, -0.25982061, -0.22517786, -0.19053512,\n",
              "       -0.15589237, -0.12124962, -0.08660687, -0.05196412, -0.01732137,\n",
              "        0.01732137,  0.05196412,  0.08660687,  0.12124962,  0.15589237,\n",
              "        0.19053512,  0.22517786,  0.25982061,  0.29446336,  0.32910611,\n",
              "        0.36374886,  0.39839161,  0.43303435,  0.4676771 ,  0.50231985,\n",
              "        0.5369626 ,  0.57160535,  0.6062481 ,  0.64089084,  0.67553359,\n",
              "        0.71017634,  0.74481909,  0.77946184,  0.81410459,  0.84874733,\n",
              "        0.88339008,  0.91803283,  0.95267558,  0.98731833,  1.02196108,\n",
              "        1.05660382,  1.09124657,  1.12588932,  1.16053207,  1.19517482,\n",
              "        1.22981757,  1.26446031,  1.29910306,  1.33374581,  1.36838856,\n",
              "        1.40303131,  1.43767406,  1.4723168 ,  1.50695955,  1.5416023 ,\n",
              "        1.57624505,  1.6108878 ,  1.64553055,  1.68017329,  1.71481604])"
            ]
          },
          "metadata": {
            "tags": []
          },
          "execution_count": 18
        }
      ]
    },
    {
      "cell_type": "code",
      "metadata": {
        "colab": {
          "base_uri": "https://localhost:8080/"
        },
        "id": "gW6WZZUJnU-C",
        "outputId": "696a0126-3175-49c1-f09d-a59039d70805"
      },
      "source": [
        "B2_.mean()"
      ],
      "execution_count": null,
      "outputs": [
        {
          "output_type": "execute_result",
          "data": {
            "text/plain": [
              "4.440892098500626e-18"
            ]
          },
          "metadata": {
            "tags": []
          },
          "execution_count": 19
        }
      ]
    },
    {
      "cell_type": "code",
      "metadata": {
        "colab": {
          "base_uri": "https://localhost:8080/"
        },
        "id": "EOdcf_99nZFb",
        "outputId": "93abb868-a2ef-417e-b622-9f957275aa67"
      },
      "source": [
        "B2_.std()"
      ],
      "execution_count": null,
      "outputs": [
        {
          "output_type": "execute_result",
          "data": {
            "text/plain": [
              "1.0"
            ]
          },
          "metadata": {
            "tags": []
          },
          "execution_count": 20
        }
      ]
    },
    {
      "cell_type": "code",
      "metadata": {
        "colab": {
          "base_uri": "https://localhost:8080/"
        },
        "id": "8nUS-w3MsF4x",
        "outputId": "e92cdb2c-7e40-4de5-dcdc-cd4286c9af2c"
      },
      "source": [
        "C = np.array([2,4,6])\n",
        "C.mean()\n",
        "D = C-C.mean()\n",
        "D.mean()\n"
      ],
      "execution_count": null,
      "outputs": [
        {
          "output_type": "execute_result",
          "data": {
            "text/plain": [
              "0.0"
            ]
          },
          "metadata": {
            "tags": []
          },
          "execution_count": 26
        }
      ]
    },
    {
      "cell_type": "code",
      "metadata": {
        "id": "0FNx09ISqC5h"
      },
      "source": [
        "## help(np.genfromtxt)\n",
        "## np.loadtxt(filename, delimiter=\",\")"
      ],
      "execution_count": null,
      "outputs": []
    },
    {
      "cell_type": "code",
      "metadata": {
        "colab": {
          "base_uri": "https://localhost:8080/"
        },
        "id": "jWJ0srHio3N-",
        "outputId": "535ad710-ff2e-4145-c92c-ee1ab902049f"
      },
      "source": [
        "strdata = np.genfromtxt('http://mscbio2025.csb.pitt.edu/files/Spellman.csv',dtype=np.str,delimiter=',')\n",
        "strdata"
      ],
      "execution_count": null,
      "outputs": [
        {
          "output_type": "execute_result",
          "data": {
            "text/plain": [
              "array([['time', '40', '50', ..., '240', '250', '260'],\n",
              "       ['YAL001C', '-0.07', '-0.23', ..., '0.57', '0', '0.01'],\n",
              "       ['YAL014C', '0.215', '0.09', ..., '-0.1', '0.27', '0.23500001'],\n",
              "       ...,\n",
              "       ['YPR201W', '-0.255', '-0.36', ..., '0.84', '-0.39', '-0.415'],\n",
              "       ['YPR203W', '0.57', '0.12', ..., '-0.12', '0.69', '0.555'],\n",
              "       ['YPR204W', '0.405', '0.17', ..., '-0.08', '0.65', '0.52']],\n",
              "      dtype='<U12')"
            ]
          },
          "metadata": {
            "tags": []
          },
          "execution_count": 2
        }
      ]
    },
    {
      "cell_type": "code",
      "metadata": {
        "id": "_rGbYKG0pUGz"
      },
      "source": [
        "header = strdata[0,1:].astype(np.int)\n",
        "genes = strdata[1:,0]\n",
        "values = strdata[1:,1:].astype(np.float)"
      ],
      "execution_count": null,
      "outputs": []
    },
    {
      "cell_type": "code",
      "metadata": {
        "colab": {
          "base_uri": "https://localhost:8080/"
        },
        "id": "zqCm6OCJphfC",
        "outputId": "20a352da-9f68-4aa7-fe68-1de98e9334f1"
      },
      "source": [
        "header"
      ],
      "execution_count": null,
      "outputs": [
        {
          "output_type": "execute_result",
          "data": {
            "text/plain": [
              "array([ 40,  50,  60,  70,  80,  90, 100, 110, 120, 130, 140, 150, 160,\n",
              "       170, 180, 190, 200, 210, 220, 230, 240, 250, 260])"
            ]
          },
          "metadata": {
            "tags": []
          },
          "execution_count": 23
        }
      ]
    },
    {
      "cell_type": "code",
      "metadata": {
        "colab": {
          "base_uri": "https://localhost:8080/"
        },
        "id": "dvGKZNLnpot4",
        "outputId": "491759a4-7d22-4778-9c7f-94a71b79bf62"
      },
      "source": [
        "genes"
      ],
      "execution_count": null,
      "outputs": [
        {
          "output_type": "execute_result",
          "data": {
            "text/plain": [
              "array(['YAL001C', 'YAL014C', 'YAL016W', ..., 'YPR201W', 'YPR203W',\n",
              "       'YPR204W'], dtype='<U12')"
            ]
          },
          "metadata": {
            "tags": []
          },
          "execution_count": 24
        }
      ]
    },
    {
      "cell_type": "code",
      "metadata": {
        "colab": {
          "base_uri": "https://localhost:8080/"
        },
        "id": "DWN_VoMRprty",
        "outputId": "00f16e03-3a50-4c4b-c463-0e7f769ce712"
      },
      "source": [
        "values"
      ],
      "execution_count": null,
      "outputs": [
        {
          "output_type": "execute_result",
          "data": {
            "text/plain": [
              "array([[-0.07      , -0.23      , -0.1       , ...,  0.57      ,\n",
              "         0.        ,  0.01      ],\n",
              "       [ 0.215     ,  0.09      ,  0.025     , ..., -0.1       ,\n",
              "         0.27      ,  0.23500001],\n",
              "       [ 0.15      ,  0.15      ,  0.22      , ..., -0.34      ,\n",
              "         0.25      ,  0.19      ],\n",
              "       ...,\n",
              "       [-0.255     , -0.36      , -0.3       , ...,  0.84      ,\n",
              "        -0.39      , -0.415     ],\n",
              "       [ 0.57      ,  0.12      , -0.06999999, ..., -0.12      ,\n",
              "         0.69      ,  0.555     ],\n",
              "       [ 0.405     ,  0.17      , -0.04499999, ..., -0.08      ,\n",
              "         0.65      ,  0.52      ]])"
            ]
          },
          "metadata": {
            "tags": []
          },
          "execution_count": 25
        }
      ]
    },
    {
      "cell_type": "code",
      "metadata": {
        "colab": {
          "base_uri": "https://localhost:8080/"
        },
        "id": "D1GVDMrUpyUY",
        "outputId": "8131f607-4c82-4eed-a337-f1c53d797b54"
      },
      "source": [
        "values.shape"
      ],
      "execution_count": null,
      "outputs": [
        {
          "output_type": "execute_result",
          "data": {
            "text/plain": [
              "(4381, 23)"
            ]
          },
          "metadata": {
            "tags": []
          },
          "execution_count": 27
        }
      ]
    },
    {
      "cell_type": "markdown",
      "metadata": {
        "id": "w3GGUO7nKPml"
      },
      "source": [
        "### PANDAS !!!!"
      ]
    },
    {
      "cell_type": "code",
      "metadata": {
        "id": "9NOQNsZQkf2_"
      },
      "source": [
        "import sqlite3\n",
        "conn = sqlite3.connect('example.db')\n",
        "c = conn.cursor()\n",
        "# Create table\n",
        "c.execute('''CREATE TABLE stocks\n",
        "             (date text, trans text, symbol text, qty real, price real)''')\n",
        "\n",
        "# Insert a row of data\n",
        "c.execute(\"INSERT INTO stocks VALUES ('2006-01-05','BUY','RHAT',100,35.14)\")\n",
        "\n",
        "# Save (commit) the changes\n",
        "conn.commit()\n",
        "\n",
        "# We can also close the connection if we are done with it.\n",
        "# Just be sure any changes have been committed or they will be lost.\n",
        "conn.close()\n"
      ],
      "execution_count": null,
      "outputs": []
    },
    {
      "cell_type": "code",
      "metadata": {
        "colab": {
          "base_uri": "https://localhost:8080/"
        },
        "id": "K21xngujXnDd",
        "outputId": "1dc6aa29-fca8-41ee-99b7-2f8f6dc5544e"
      },
      "source": [
        "conn = sqlite3.connect('example.db')\n",
        "c = conn.cursor()\n",
        "t = ('RHAT',)\n",
        "c.execute('SELECT * FROM stocks WHERE symbol=?', t)\n",
        "print(c.fetchone())\n"
      ],
      "execution_count": null,
      "outputs": [
        {
          "output_type": "stream",
          "text": [
            "('2006-01-05', 'BUY', 'RHAT', 100.0, 35.14)\n"
          ],
          "name": "stdout"
        }
      ]
    },
    {
      "cell_type": "code",
      "metadata": {
        "colab": {
          "base_uri": "https://localhost:8080/"
        },
        "id": "eGdLsJvIX1fQ",
        "outputId": "bf0b29c3-67c5-43b4-d969-6b5d36f0bbff"
      },
      "source": [
        "# Larger example that inserts many records at a time\n",
        "purchases = [('2006-03-28', 'BUY', 'IBM', 1000, 45.00),\n",
        "             ('2006-04-05', 'BUY', 'MSFT', 1000, 72.00),\n",
        "             ('2006-04-06', 'SELL', 'IBM', 500, 53.00),\n",
        "            ]\n",
        "c.executemany('INSERT INTO stocks VALUES (?,?,?,?,?)', purchases)\n"
      ],
      "execution_count": null,
      "outputs": [
        {
          "output_type": "execute_result",
          "data": {
            "text/plain": [
              "<sqlite3.Cursor at 0x7f87ae5a23b0>"
            ]
          },
          "metadata": {
            "tags": []
          },
          "execution_count": 131
        }
      ]
    },
    {
      "cell_type": "code",
      "metadata": {
        "colab": {
          "base_uri": "https://localhost:8080/"
        },
        "id": "SP_H6_LGX-cf",
        "outputId": "b930236f-095e-4a84-f706-a2fbec31c5de"
      },
      "source": [
        "for row in c.execute('SELECT * FROM stocks ORDER BY price'):\n",
        "        print(row)"
      ],
      "execution_count": null,
      "outputs": [
        {
          "output_type": "stream",
          "text": [
            "('2006-01-05', 'BUY', 'RHAT', 100.0, 35.14)\n",
            "('2006-03-28', 'BUY', 'IBM', 1000.0, 45.0)\n",
            "('2006-04-06', 'SELL', 'IBM', 500.0, 53.0)\n",
            "('2006-04-05', 'BUY', 'MSFT', 1000.0, 72.0)\n"
          ],
          "name": "stdout"
        }
      ]
    },
    {
      "cell_type": "code",
      "metadata": {
        "colab": {
          "base_uri": "https://localhost:8080/"
        },
        "id": "_J24dHM7XtvS",
        "outputId": "39960b67-c313-4d05-d548-2295849980dd"
      },
      "source": [
        "boulder_avg_high_temp_f = [\n",
        "    47,\n",
        "    49,\n",
        "    57,\n",
        "    64,\n",
        "    72,\n",
        "    83,\n",
        "    89,\n",
        "    87,\n",
        "    79,\n",
        "    67,\n",
        "    55,\n",
        "    47\n",
        "]\n",
        "\n",
        "boulder_avg_high_temp_f"
      ],
      "execution_count": null,
      "outputs": [
        {
          "output_type": "execute_result",
          "data": {
            "text/plain": [
              "[47, 49, 57, 64, 72, 83, 89, 87, 79, 67, 55, 47]"
            ]
          },
          "metadata": {
            "tags": []
          },
          "execution_count": 13
        }
      ]
    },
    {
      "cell_type": "code",
      "metadata": {
        "colab": {
          "base_uri": "https://localhost:8080/"
        },
        "id": "doLTlhG-XxHU",
        "outputId": "12a657d2-00db-44ef-d714-1900114a4725"
      },
      "source": [
        "\n",
        "for i in range(len(boulder_avg_high_temp_f)):\n",
        "    boulder_avg_high_temp_celsius[i] =(boulder_avg_high_temp_f[i]-32)*(5/9)\n",
        "print(boulder_avg_high_temp_celsius)\n",
        "\n",
        "\n",
        "boulder_avg_high_temp_celsius_2 = []\n",
        "for temperature in boulder_avg_high_temp_f:\n",
        "    celsius = (temperature-32)*(5/9)\n",
        "    boulder_avg_high_temp_celsius_2.append(celsius)\n",
        "    \n",
        "\n",
        "print(boulder_avg_high_temp_celsius_2)\n"
      ],
      "execution_count": null,
      "outputs": [
        {
          "output_type": "stream",
          "text": [
            "[8.333333333333334, 9.444444444444445, 13.88888888888889, 17.77777777777778, 22.22222222222222, 28.333333333333336, 31.666666666666668, 30.555555555555557, 26.11111111111111, 19.444444444444446, 12.777777777777779, 8.333333333333334, 12.777777777777779, 8.333333333333334, 8.333333333333334, 9.444444444444445, 13.88888888888889, 17.77777777777778, 22.22222222222222, 28.333333333333336, 31.666666666666668, 30.555555555555557, 26.11111111111111, 19.444444444444446, 12.777777777777779, 8.333333333333334]\n",
            "[8.333333333333334, 9.444444444444445, 13.88888888888889, 17.77777777777778, 22.22222222222222, 28.333333333333336, 31.666666666666668, 30.555555555555557, 26.11111111111111, 19.444444444444446, 12.777777777777779, 8.333333333333334]\n"
          ],
          "name": "stdout"
        }
      ]
    },
    {
      "cell_type": "code",
      "metadata": {
        "colab": {
          "base_uri": "https://localhost:8080/"
        },
        "id": "b2H6lmVpX_xx",
        "outputId": "5eda7915-7ad3-4855-e68b-14392090c2b5"
      },
      "source": [
        "my_movies = [['How I Met Your Mother', 'Friends', 'Silicon Valley'],\n",
        "    ['Family Guy', 'South Park', 'Rick and Morty','A'],\n",
        "    ['Breaking Bad', 'Game of Thrones', 'The Wire']]\n",
        "#\"The title [movie_title] is [X] characters long.\"\n",
        "for sublist in my_movies:\n",
        "    for movie_name in sublist:\n",
        "        char_num = len(movie_name)\n",
        "        print(\"The title \" + movie_name + \" is \" + str(char_num) + \" characters long.\")"
      ],
      "execution_count": null,
      "outputs": [
        {
          "output_type": "stream",
          "text": [
            "The title How I Met Your Mother is 21 characters long.\n",
            "The title Friends is 7 characters long.\n",
            "The title Silicon Valley is 14 characters long.\n",
            "The title Family Guy is 10 characters long.\n",
            "The title South Park is 10 characters long.\n",
            "The title Rick and Morty is 14 characters long.\n",
            "The title A is 1 characters long.\n",
            "The title Breaking Bad is 12 characters long.\n",
            "The title Game of Thrones is 15 characters long.\n",
            "The title The Wire is 8 characters long.\n"
          ],
          "name": "stdout"
        }
      ]
    },
    {
      "cell_type": "markdown",
      "metadata": {
        "id": "cAvkU7u8Z8EA"
      },
      "source": [
        "Go through all the numbers up until 99. Print ‘fizz’ for every number that’s divisible by 7, print ‘buzz’ for every number divisible by 5, and print ‘fizzbuzz’ for every number divisible by 7 and by 5! If the number is not divisible either by 7 or 5, print a dash (‘-‘)!"
      ]
    },
    {
      "cell_type": "code",
      "metadata": {
        "colab": {
          "base_uri": "https://localhost:8080/"
        },
        "id": "XslY3z-dZ6c1",
        "outputId": "9054538c-b3aa-40c7-a96c-4690b9a87895"
      },
      "source": [
        "for i in range(100):\n",
        "    if i % 7 == 0 and i % 5 == 0:\n",
        "        print('fizzbuzz')\n",
        "    elif i % 7 == 0:\n",
        "        print('fizz')\n",
        "    elif i % 5 == 0:\n",
        "        print('buzz')\n",
        "    else:\n",
        "        print('-')"
      ],
      "execution_count": null,
      "outputs": [
        {
          "output_type": "stream",
          "text": [
            "fizzbuzz\n",
            "-\n",
            "-\n",
            "-\n",
            "-\n",
            "buzz\n",
            "-\n",
            "fizz\n",
            "-\n",
            "-\n",
            "buzz\n",
            "-\n",
            "-\n",
            "-\n",
            "fizz\n",
            "buzz\n",
            "-\n",
            "-\n",
            "-\n",
            "-\n",
            "buzz\n",
            "fizz\n",
            "-\n",
            "-\n",
            "-\n",
            "buzz\n",
            "-\n",
            "-\n",
            "fizz\n",
            "-\n",
            "buzz\n",
            "-\n",
            "-\n",
            "-\n",
            "-\n",
            "fizzbuzz\n",
            "-\n",
            "-\n",
            "-\n",
            "-\n",
            "buzz\n",
            "-\n",
            "fizz\n",
            "-\n",
            "-\n",
            "buzz\n",
            "-\n",
            "-\n",
            "-\n",
            "fizz\n",
            "buzz\n",
            "-\n",
            "-\n",
            "-\n",
            "-\n",
            "buzz\n",
            "fizz\n",
            "-\n",
            "-\n",
            "-\n",
            "buzz\n",
            "-\n",
            "-\n",
            "fizz\n",
            "-\n",
            "buzz\n",
            "-\n",
            "-\n",
            "-\n",
            "-\n",
            "fizzbuzz\n",
            "-\n",
            "-\n",
            "-\n",
            "-\n",
            "buzz\n",
            "-\n",
            "fizz\n",
            "-\n",
            "-\n",
            "buzz\n",
            "-\n",
            "-\n",
            "-\n",
            "fizz\n",
            "buzz\n",
            "-\n",
            "-\n",
            "-\n",
            "-\n",
            "buzz\n",
            "fizz\n",
            "-\n",
            "-\n",
            "-\n",
            "buzz\n",
            "-\n",
            "-\n",
            "fizz\n",
            "-\n"
          ],
          "name": "stdout"
        }
      ]
    },
    {
      "cell_type": "code",
      "metadata": {
        "colab": {
          "base_uri": "https://localhost:8080/"
        },
        "id": "cNdT4uvKbF5I",
        "outputId": "240e4467-da57-45ec-b7f9-35f528282222"
      },
      "source": [
        "down = 0\n",
        "up = 100\n",
        "print(\"Descobrirei a sua idade em até 8 rodadas !!!\")\n",
        "for i in range(1,10):\n",
        "    guessed_age = int((up + down) / 2)\n",
        "    answer = input('Você tem ' + str(guessed_age) + \" anos?\")\n",
        "    if answer == 'correto':\n",
        "        print(\"Acertei em {} rodada(s)\".format(i))\n",
        "        break\n",
        "    elif answer == 'menos':\n",
        "        up = guessed_age\n",
        "    elif answer == 'mais':\n",
        "        down = guessed_age\n",
        "    else:\n",
        "        print('resposta errada')"
      ],
      "execution_count": null,
      "outputs": [
        {
          "output_type": "stream",
          "text": [
            "Descobrirei a sua idade em até 8 rodadas !!!\n",
            "Você tem 50 anos?correto\n",
            "Acertei em 1 rodada(s)\n"
          ],
          "name": "stdout"
        }
      ]
    },
    {
      "cell_type": "code",
      "metadata": {
        "colab": {
          "base_uri": "https://localhost:8080/"
        },
        "id": "IxMG5Gjwf2RX",
        "outputId": "5ddc3b6c-42e7-4386-9dab-3bc8679ea4ad"
      },
      "source": [
        "print(str(10))"
      ],
      "execution_count": null,
      "outputs": [
        {
          "output_type": "stream",
          "text": [
            "10\n"
          ],
          "name": "stdout"
        }
      ]
    },
    {
      "cell_type": "code",
      "metadata": {
        "colab": {
          "base_uri": "https://localhost:8080/"
        },
        "id": "NFnDkxc8gkZ0",
        "outputId": "9d0fb05c-fd99-49db-d2d7-16c73b6c923c"
      },
      "source": [
        "for i in range(0, 10000000, 71):\n",
        "    if len(str(i)) == 7:\n",
        "        print(i)\n",
        "        break"
      ],
      "execution_count": null,
      "outputs": [
        {
          "output_type": "stream",
          "text": [
            "1000035\n"
          ],
          "name": "stdout"
        }
      ]
    },
    {
      "cell_type": "code",
      "metadata": {
        "colab": {
          "base_uri": "https://localhost:8080/"
        },
        "id": "BuI0s3bjMm3Q",
        "outputId": "a7bf3cdb-39c1-4188-bc5e-c1467c5cf8cd"
      },
      "source": [
        "my_Dict = {'Comedies':['How I Met Your Mother', 'Friends', 'Silicon Valley'],'Cartoons':['Family Guy', 'South Park', 'Rick and Morty'],\n",
        "           'Dramas':['How I Met Your Mother','Breaking Bad', 'Game of Thrones', 'The Wire']}\n",
        "\n",
        "print(my_Dict)    \n",
        "type(my_Dict['Comedies'])"
      ],
      "execution_count": null,
      "outputs": [
        {
          "output_type": "stream",
          "text": [
            "{'Comedies': ['How I Met Your Mother', 'Friends', 'Silicon Valley'], 'Cartoons': ['Family Guy', 'South Park', 'Rick and Morty'], 'Dramas': ['How I Met Your Mother', 'Breaking Bad', 'Game of Thrones', 'The Wire']}\n"
          ],
          "name": "stdout"
        },
        {
          "output_type": "execute_result",
          "data": {
            "text/plain": [
              "list"
            ]
          },
          "metadata": {
            "tags": []
          },
          "execution_count": 8
        }
      ]
    },
    {
      "cell_type": "code",
      "metadata": {
        "id": "WiQ-VwsXZR-E"
      },
      "source": [
        "rev_idx = {}\n",
        "for k, v in my_Dict.items():\n",
        "    for e in v:\n",
        "        if e in rev_idx:\n",
        "            rev_idx[e].add(k)\n",
        "        else:\n",
        "            rev_idx[e] = {k}"
      ],
      "execution_count": null,
      "outputs": []
    },
    {
      "cell_type": "code",
      "metadata": {
        "colab": {
          "base_uri": "https://localhost:8080/"
        },
        "id": "2ccJAUV4ZXpb",
        "outputId": "036944fd-3f8a-469d-926d-57820c8cd16c"
      },
      "source": [
        "print(rev_idx)"
      ],
      "execution_count": null,
      "outputs": [
        {
          "output_type": "stream",
          "text": [
            "{'How I Met Your Mother': {'Comedies', 'Dramas'}, 'Friends': {'Comedies'}, 'Silicon Valley': {'Comedies'}, 'Family Guy': {'Cartoons'}, 'South Park': {'Cartoons'}, 'Rick and Morty': {'Cartoons'}, 'Breaking Bad': {'Dramas'}, 'Game of Thrones': {'Dramas'}, 'The Wire': {'Dramas'}}\n"
          ],
          "name": "stdout"
        }
      ]
    },
    {
      "cell_type": "code",
      "metadata": {
        "colab": {
          "base_uri": "https://localhost:8080/"
        },
        "id": "stRShUQ0ZZ-P",
        "outputId": "51d4ddad-e07d-41db-920f-7b6b6845fefd"
      },
      "source": [
        "my_Dict.items()"
      ],
      "execution_count": null,
      "outputs": [
        {
          "output_type": "execute_result",
          "data": {
            "text/plain": [
              "dict_items([('Comedies', ['How I Met Your Mother', 'Friends', 'Silicon Valley']), ('Cartoons', ['Family Guy', 'South Park', 'Rick and Morty']), ('Dramas', ['Breaking Bad', 'Game of Thrones', 'The Wire'])])"
            ]
          },
          "metadata": {
            "tags": []
          },
          "execution_count": 49
        }
      ]
    },
    {
      "cell_type": "code",
      "metadata": {
        "id": "n8DJtyGJZfIS"
      },
      "source": [
        ""
      ],
      "execution_count": null,
      "outputs": []
    }
  ]
}
