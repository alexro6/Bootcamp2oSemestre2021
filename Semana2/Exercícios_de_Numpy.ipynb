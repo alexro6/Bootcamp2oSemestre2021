{
  "nbformat": 4,
  "nbformat_minor": 0,
  "metadata": {
    "kernelspec": {
      "display_name": "Python 3",
      "language": "python",
      "name": "python3"
    },
    "language_info": {
      "codemirror_mode": {
        "name": "ipython",
        "version": 3
      },
      "file_extension": ".py",
      "mimetype": "text/x-python",
      "name": "python",
      "nbconvert_exporter": "python",
      "pygments_lexer": "ipython3",
      "version": "3.8.5"
    },
    "colab": {
      "name": " Exercícios de Numpy.ipynb",
      "provenance": [],
      "collapsed_sections": [],
      "include_colab_link": true
    }
  },
  "cells": [
    {
      "cell_type": "markdown",
      "metadata": {
        "id": "view-in-github",
        "colab_type": "text"
      },
      "source": [
        "<a href=\"https://colab.research.google.com/github/CharlesPrado23/Notebooks/blob/main/Semana2/Exerc%C3%ADcios_de_Numpy.ipynb\" target=\"_parent\"><img src=\"https://colab.research.google.com/assets/colab-badge.svg\" alt=\"Open In Colab\"/></a>"
      ]
    },
    {
      "cell_type": "code",
      "metadata": {
        "id": "0evbcih8QBck"
      },
      "source": [
        "import numpy as np "
      ],
      "execution_count": null,
      "outputs": []
    },
    {
      "cell_type": "code",
      "metadata": {
        "id": "fKZHv_uvQBcr"
      },
      "source": [
        "names = np.array(['Bob', 'Joe', 'Will', 'Bob', 'Will', 'Joe', 'Joe'])"
      ],
      "execution_count": null,
      "outputs": []
    },
    {
      "cell_type": "code",
      "metadata": {
        "id": "Gs0Lc4TLQBct"
      },
      "source": [
        "### Questão 1\n",
        "### Use o método np.unique para retornar um array sem duplicatas"
      ],
      "execution_count": null,
      "outputs": []
    },
    {
      "cell_type": "code",
      "metadata": {
        "id": "X2p0O8FkQBc6"
      },
      "source": [
        "### Questão 2\n",
        "### crie uma matriz (4,3) usando o método np.random.randn(x,y)"
      ],
      "execution_count": null,
      "outputs": []
    },
    {
      "cell_type": "code",
      "metadata": {
        "id": "adpvGI3yQBc7"
      },
      "source": [
        "### Questão 3 \n",
        "### Retorne os elementos entre as linhas 2 e 3 ; e entre as colunas 1 e 2 \n",
        "### Use o conceito de slice e armazene o resultada em outro array"
      ],
      "execution_count": null,
      "outputs": []
    },
    {
      "cell_type": "code",
      "metadata": {
        "id": "KAuAl4yIQBc7"
      },
      "source": [
        "### Questão 4 \n",
        "### Calcule o valor médio da matriz da Questão 2 \n",
        "### Calcule o valor médio da matriz da Questão 2 na direção horizontal\n",
        "### Calcule o valor médio da matriz da Questão 2 na direção vertical"
      ],
      "execution_count": null,
      "outputs": []
    },
    {
      "cell_type": "code",
      "metadata": {
        "id": "Vgopc7jZQBc8"
      },
      "source": [
        "### Questão 5\n",
        "### usando o método arange , crie um array com 50 posições \n",
        "### Modifique todos os valores para o valor igual a 1 \n",
        "### Usando o método reshape crie uma matriz (10,50)\n"
      ],
      "execution_count": null,
      "outputs": []
    }
  ]
}