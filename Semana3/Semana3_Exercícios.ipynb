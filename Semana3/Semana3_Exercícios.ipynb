{
  "nbformat": 4,
  "nbformat_minor": 0,
  "metadata": {
    "colab": {
      "name": "Semana3_Exercícios.ipynb",
      "provenance": [],
      "collapsed_sections": [],
      "authorship_tag": "ABX9TyP6SPY7fNj9LI23GJAdnUbr",
      "include_colab_link": true
    },
    "kernelspec": {
      "name": "python3",
      "display_name": "Python 3"
    }
  },
  "cells": [
    {
      "cell_type": "markdown",
      "metadata": {
        "id": "view-in-github",
        "colab_type": "text"
      },
      "source": [
        "<a href=\"https://colab.research.google.com/github/CharlesPrado23/Notebooks/blob/main/Semana3_Exerc%C3%ADcios.ipynb\" target=\"_parent\"><img src=\"https://colab.research.google.com/assets/colab-badge.svg\" alt=\"Open In Colab\"/></a>"
      ]
    },
    {
      "cell_type": "markdown",
      "metadata": {
        "id": "VASoC4nNmAI9"
      },
      "source": [
        "## Semana 3 \n",
        "## Exercícios (FOR, IF, WHILE) "
      ]
    },
    {
      "cell_type": "markdown",
      "metadata": {
        "id": "wqFIo-c2mOYV"
      },
      "source": [
        "1) Dado a lista, abaixo, de temperaturas da cidade de Boulder em Fahrenheit (F):\n",
        "\n",
        " 1.1) Crie uma lista convertendo para Celsius (C). Para converter use a fórmula C = (F-32)*(5/9); Print os valores na tela. \n",
        " \n",
        " 1.2) Crie uma função que receba a lista de temperaturas em Fahrenheit e retorna uma lista em graus Celsius. Print a lista na tela. \n",
        "\n",
        " 1.3) **(Desafio)** Generalize a função criada em 1.2 usando *args para que a função receba uma lista de tamanho variável.\n",
        " \n",
        "\n",
        " F = [47,49,57,64,72,83,89,87,79,67,55,47]; (Temperaturas em F da cidade de Boulder)"
      ]
    },
    {
      "cell_type": "code",
      "metadata": {
        "id": "FV8HxHPN8sbU"
      },
      "source": [
        ""
      ],
      "execution_count": null,
      "outputs": []
    },
    {
      "cell_type": "code",
      "metadata": {
        "id": "ZJuFhZsE8u0S"
      },
      "source": [
        ""
      ],
      "execution_count": null,
      "outputs": []
    },
    {
      "cell_type": "markdown",
      "metadata": {
        "id": "ClQPuqarsW9_"
      },
      "source": [
        "2)Passe por todos os números até 99 (começando em 1). Imprima 'fizz' para cada número que é divisível por 7, imprima 'buzz' para cada número divisível por 5 e imprima 'fizzbuzz' para cada número divisível por 7 e 5! Se o número não for divisível por 7 ou 5, imprima um travessão (‘-‘)! \n",
        "\n",
        " Para descubrir se um número x é divisível por y use operador (%): \n",
        "\n",
        "    x % y retorna True se x é divísel por y, False se não for. \n",
        "\n",
        "Dica : use  FOR , IF, ELIF, ELSE \n",
        "   "
      ]
    },
    {
      "cell_type": "markdown",
      "metadata": {
        "id": "pE2jEaxFnsJ8"
      },
      "source": [
        "3) Os filmes/séries podem ser classificados conforme o seu genero (ação,comédia, drama, terror etc). Considerando as classificações abaixo: \n",
        "\n",
        "   a) Ação = Jumanji, Projeto Gemini,The old guard,WandaVision.\n",
        "\n",
        "   b) Comédia = Jumanji,How I Met Your Mother,Friends, Amigos para sempre.\n",
        "\n",
        "   c)  Drama = Amigos para sempre, After,Game of Thrones, WandaVision.\n",
        "\n",
        " Tarefas: \n",
        "\n",
        "   3.1 - Cria uma lista de listas para representar cada um dos conjuntos acima. \n",
        "\n",
        "   3.2 - Usando a lista criada em 3.1, escreva um programa que \"print\" na tela a quantidade de caracteres de cada título.    "
      ]
    },
    {
      "cell_type": "markdown",
      "metadata": {
        "id": "rqdZUmi2vTJt"
      },
      "source": [
        "4) Escreva um programa que calcule o fatorial de um número (entre com o número usando input). Sabendo que: \n",
        "\n",
        "  a) n! = n*(n-1)*(n-2)*...*1 \n",
        "\n",
        "  b) 1! = 1\n",
        "\n",
        "  c) 0! = 1\n",
        "  \n",
        "  Dica: Use While  "
      ]
    },
    {
      "cell_type": "markdown",
      "metadata": {
        "id": "uCYFCuBvsIN8"
      },
      "source": [
        "**5) Desafio**\n",
        "\n",
        "Considerando o problema 3): \n",
        "\n",
        " 5.1) Crie um dicionário no qual cada chave representa o genero do filme; \n",
        "\n",
        " 5.2) Em um sistema de recomendação baseado em conteúdos, deseja-se saber as classificações (generos) de cada filme. Faça um programa que usando o dicionário criado em 5.1, retorne os generos associados a cada filme. (Dica: use um outro dicionário).\n"
      ]
    },
    {
      "cell_type": "code",
      "metadata": {
        "id": "2ALomF0a8AjE"
      },
      "source": [
        ""
      ],
      "execution_count": null,
      "outputs": []
    },
    {
      "cell_type": "markdown",
      "metadata": {
        "id": "bCw260L9Iv1S"
      },
      "source": [
        "## Exercícios de Class (Retirado do Livro - Python Crash Course)\n",
        " \n",
        " 1)\n",
        "\n",
        "(a) Make a class called User. \n",
        "\n",
        "(b) Create two attributes called first_name and last_name, and then create several other attributes that are typically stored in a user profile. \n",
        "\n",
        "(c) Make a method called describe_user() that prints a summary of the user’s information. \n",
        "\n",
        "(d) Make another method called greet_user() that prints a personalized greeting to the user."
      ]
    },
    {
      "cell_type": "markdown",
      "metadata": {
        "id": "901N8ev5I3ZZ"
      },
      "source": [
        "2)\n",
        "\n",
        "(a) Add an attribute called login_attempts to your User class from Exercise. \n",
        "\n",
        "(b) Write a method called increment_login_attempts() that increments the value of login_attempts by 1. \n",
        "\n",
        "(c) Write another method called reset_login_attempts() that resets the value of login_attempts to 0.\n",
        "\n",
        "(d) Make an instance of the User class and call increment_login_attempts() several times. \n",
        "\n",
        "(e) Print the value of login_attempts to make sure it was incremented properly, and then call reset_login_attempts(). \n",
        "\n",
        "(f) Print login_attempts again to make sure it was reset to 0."
      ]
    },
    {
      "cell_type": "markdown",
      "metadata": {
        "id": "7O8TiJDoI_71"
      },
      "source": [
        "3)\n",
        "\n",
        "Admin: An administrator is a special kind of user. \n",
        "(a) Write a class called Admin that inherits from the User class you wrote .\n",
        "\n",
        "(b) Add an attribute, privileges, that stores a list of strings like \"can add post\", \"can delete post\", \"can ban user\", and so on.\n",
        "\n",
        "(C) Write a method called show_privileges() that lists the administrator’s set of privileges.\n",
        "\n",
        "(d) Create an instance of Admin, and call your method."
      ]
    },
    {
      "cell_type": "markdown",
      "metadata": {
        "id": "E4P2Qk_TJHRE"
      },
      "source": [
        "4)\n",
        "\n",
        "(a) Write a separate Privileges class. The class should have one attribute, privileges, that stores a list of strings as described in previous Exercise.\n",
        "\n",
        "(b) Move the show_privileges() method to this class."
      ]
    },
    {
      "cell_type": "markdown",
      "metadata": {
        "id": "wiOQCnMUJMoa"
      },
      "source": [
        "\n",
        "5)\n",
        "\n",
        "(a) Make a Privileges instance as an attribute in the Admin class.\n",
        "\n",
        "(b) Create a new instance of Admin and use your method to show its privileges."
      ]
    }
  ]
}
