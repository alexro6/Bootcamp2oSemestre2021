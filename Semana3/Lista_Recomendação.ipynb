{
  "nbformat": 4,
  "nbformat_minor": 0,
  "metadata": {
    "kernelspec": {
      "display_name": "Python 3",
      "language": "python",
      "name": "python3"
    },
    "language_info": {
      "codemirror_mode": {
        "name": "ipython",
        "version": 3
      },
      "file_extension": ".py",
      "mimetype": "text/x-python",
      "name": "python",
      "nbconvert_exporter": "python",
      "pygments_lexer": "ipython3",
      "version": "3.8.5"
    },
    "colab": {
      "name": "Lista_Recomendação.ipynb",
      "provenance": [],
      "collapsed_sections": [],
      "include_colab_link": true
    }
  },
  "cells": [
    {
      "cell_type": "markdown",
      "metadata": {
        "id": "view-in-github",
        "colab_type": "text"
      },
      "source": [
        "<a href=\"https://colab.research.google.com/github/CharlesPrado23/Bootcamp2oSemestre2021/blob/main/Semana3/Lista_Recomenda%C3%A7%C3%A3o.ipynb\" target=\"_parent\"><img src=\"https://colab.research.google.com/assets/colab-badge.svg\" alt=\"Open In Colab\"/></a>"
      ]
    },
    {
      "cell_type": "markdown",
      "metadata": {
        "id": "4pmdJM0WITJ5"
      },
      "source": [
        "# Analisar dados de filmes - IMDb #\n",
        "## Objetivo - Realizar uma análise (básica) dos dados de filmes catalogados na base de dados do IMDb. \n",
        " \n",
        "  ###  Será analisado somente \"Movies\" (Dica: use como filtro) \n",
        "\n",
        "#### 1.1 ) Realiza uma análise exploratória e de integridade dos dados.   \n",
        "    \n",
        "#### \t1.2 ) Quais os filmes com maiores ratings a partir do ano 2000 - salvar em um csv os  1000 mais bem “rankeados”. \n",
        "\n",
        "#### \t1.3)  Quais os diretores dos filmes em 1.2 ? \n",
        "####         (Print na tela, ou graficamente)\n",
        "\n",
        "#### \t1.4) Quais os atores principais dos filmes em 1.2)  \n",
        "####         (Print na tela, ou graficamente)\n",
        "\n",
        "#### \t1.5)  Listar a intersecção dos filmes obtidos em 1.3 e 1.4 - \n",
        "####    (Para encontrar um perfil de combinação diretores + atores = sucesso do filme) \n",
        "    \n",
        " \n",
        "    \n",
        "###       Algumas observações \n",
        " \n",
        "####       A tabela ratings informa: \n",
        "       \n",
        "####       averageRating – weighted average of all the individual user ratings\n",
        "####       numVotes - number of votes the title has received\n",
        "       \n",
        "####       Como comparar  Filme A -> 9 votos e classificação média = 8.5 \n",
        "####                      Filme B -> 100 votos e classificação média = 7.4 \n",
        "                      \n",
        "                      \n",
        "                      \n",
        "\n",
        "\n",
        "###   Desafio: \n",
        "    \n",
        "####    1.5) Faça as análises anteriores considerando alguns gêneros de filmes (Drama,Ação etc) \n",
        "####    1.6) Proponha uma ponderação que leve em conta n. de votos recebidos por um filme \n",
        "    \n"
      ]
    },
    {
      "cell_type": "code",
      "metadata": {
        "id": "sug1E9WtITKO"
      },
      "source": [
        "import pandas as pd\n",
        "import numpy as np\n"
      ],
      "execution_count": null,
      "outputs": []
    },
    {
      "cell_type": "markdown",
      "metadata": {
        "id": "QpJyElmJITKP"
      },
      "source": [
        "### Carregar os arquivos csv \n",
        "\n",
        "\n",
        "####  Será utilizado o arquivo \"IMDb movies.csv\"(https://www.kaggle.com/stefanoleone992/imdb-extensive-dataset). Os demais: \"IMDb names.csv\", \"IMDb ratings.csv\"  e \"IMDb title_principals.csv\" podem ser usados para entendimento do Database. Como não há uma descrição do conteúdo desses arquivos será necessário carregá-los e verificar cada um deles. (Dica: Usem o comando head() para exibir as 5 primeirara linhas). \n",
        "\n",
        "\n"
      ]
    }
  ]
}
