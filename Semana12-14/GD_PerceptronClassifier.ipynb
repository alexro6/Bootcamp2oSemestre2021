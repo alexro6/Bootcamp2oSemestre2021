{
  "nbformat": 4,
  "nbformat_minor": 0,
  "metadata": {
    "colab": {
      "name": "GD_PerceptronClassifier.ipynb",
      "provenance": [],
      "authorship_tag": "ABX9TyMg83N7li4WNkfx0QPxHsCe",
      "include_colab_link": true
    },
    "kernelspec": {
      "name": "python3",
      "display_name": "Python 3"
    },
    "language_info": {
      "name": "python"
    }
  },
  "cells": [
    {
      "cell_type": "markdown",
      "metadata": {
        "id": "view-in-github",
        "colab_type": "text"
      },
      "source": [
        "<a href=\"https://colab.research.google.com/github/CharlesPrado23/Bootcamp2oSemestre2021/blob/main/Semana12-14/GD_PerceptronClassifier.ipynb\" target=\"_parent\"><img src=\"https://colab.research.google.com/assets/colab-badge.svg\" alt=\"Open In Colab\"/></a>"
      ]
    },
    {
      "cell_type": "markdown",
      "metadata": {
        "id": "e1_bdU9IrK7K"
      },
      "source": [
        "# Perceptron - Implementation"
      ]
    },
    {
      "cell_type": "code",
      "metadata": {
        "id": "25CGXEurrJX8"
      },
      "source": [
        "from sklearn import datasets\n",
        "import numpy as np\n",
        "import pandas as pd\n",
        "import matplotlib.pyplot as plt\n",
        "import matplotlib.lines as mlines\n",
        "np.random.seed(10)\n"
      ],
      "execution_count": 1,
      "outputs": []
    },
    {
      "cell_type": "code",
      "metadata": {
        "id": "_6URYyqh1EmJ"
      },
      "source": [
        "# Load data\n",
        "iris=datasets.load_iris()\n",
        "X = iris.data[0:99,:2]\n",
        "y = iris.target[0:99]"
      ],
      "execution_count": 2,
      "outputs": []
    },
    {
      "cell_type": "code",
      "metadata": {
        "id": "QNw7kMoZzkr3"
      },
      "source": [
        "iris"
      ],
      "execution_count": null,
      "outputs": []
    },
    {
      "cell_type": "code",
      "metadata": {
        "colab": {
          "base_uri": "https://localhost:8080/"
        },
        "id": "qo2TEkQ2wddz",
        "outputId": "6ef1ef48-3c4f-487b-fa07-575c7cbd01f5"
      },
      "source": [
        "y[0:5]"
      ],
      "execution_count": 4,
      "outputs": [
        {
          "output_type": "execute_result",
          "data": {
            "text/plain": [
              "array([0, 0, 0, 0, 0])"
            ]
          },
          "metadata": {},
          "execution_count": 4
        }
      ]
    },
    {
      "cell_type": "code",
      "metadata": {
        "colab": {
          "base_uri": "https://localhost:8080/",
          "height": 299
        },
        "id": "sKhbEVW1rjL0",
        "outputId": "25b3c1b3-9370-4354-c202-73218a56d891"
      },
      "source": [
        "# Plot figure\n",
        "plt.plot(X[:50, 0], X[:50, 1], 'bo', color='blue', label='0')\n",
        "plt.plot(X[50:99, 0], X[50:99, 1], 'bo', color='orange', label='1')\n",
        "plt.xlabel('sepal length')\n",
        "plt.ylabel('sepal width')\n",
        "plt.legend()"
      ],
      "execution_count": 5,
      "outputs": [
        {
          "output_type": "execute_result",
          "data": {
            "text/plain": [
              "<matplotlib.legend.Legend at 0x7fd8892ea7d0>"
            ]
          },
          "metadata": {},
          "execution_count": 5
        },
        {
          "output_type": "display_data",
          "data": {
            "image/png": "[encoded data removed]",
            "text/plain": [
              "<Figure size 432x288 with 1 Axes>"
            ]
          },
          "metadata": {
            "needs_background": "light"
          }
        }
      ]
    },
    {
      "cell_type": "code",
      "metadata": {
        "id": "Ggbu7ycyt8YQ"
      },
      "source": [
        "from sklearn.model_selection import train_test_split\n",
        "X_train, X_test, y_train, y_test = train_test_split(X,y, test_size=0.20,random_state=20)"
      ],
      "execution_count": 7,
      "outputs": []
    },
    {
      "cell_type": "code",
      "metadata": {
        "colab": {
          "base_uri": "https://localhost:8080/"
        },
        "id": "ngCm4kL90mG_",
        "outputId": "f74a471d-91e5-4ea3-b6ad-9128f108c5c8"
      },
      "source": [
        "X_train.shape"
      ],
      "execution_count": 8,
      "outputs": [
        {
          "output_type": "execute_result",
          "data": {
            "text/plain": [
              "(79, 2)"
            ]
          },
          "metadata": {},
          "execution_count": 8
        }
      ]
    },
    {
      "cell_type": "code",
      "metadata": {
        "id": "2OqIoVRM5mud"
      },
      "source": [
        "#class Perceptron:\n",
        "\n",
        "#  def __init__(self, epochs, etha):\n",
        "#    self.epochs = epochs\n",
        "#    self.cccccc = cccccc\n",
        "\n",
        "#  def predict(x,w):\n",
        "#     ddddddd\n",
        "#     return output\n",
        "#  def fit(): \n",
        "\n",
        "\n",
        "\n"
      ],
      "execution_count": null,
      "outputs": []
    },
    {
      "cell_type": "code",
      "metadata": {
        "id": "U3WU1l_S9XJE"
      },
      "source": [
        "A = [] \n",
        "A.append(10)"
      ],
      "execution_count": 14,
      "outputs": []
    },
    {
      "cell_type": "code",
      "metadata": {
        "id": "E-9XogcIroFd"
      },
      "source": [
        "### Neuron = w.X + b ### \n",
        "w = np.zeros(1+X_train.shape[1]) \n",
        "#b = 0 \n",
        "epochs = 50\n",
        "etha = 0.01\n",
        "errors_ = []\n",
        "for k in range(epochs):\n",
        "  errors = 0\n",
        "  for xi, target in zip(X_train,y_train):\n",
        "    #output = w*xi + b\n",
        "    sum = np.dot(xi,w[1:]) + w[0]\n",
        "    output = np.where(sum >=0.0,1,0)\n",
        "    update = etha*(target - output)\n",
        "    #errors+=target-output\n",
        "    w[1:] += update*xi\n",
        "    w[0] += update*1\n",
        "    #errors_.append(errors)\n",
        "\n"
      ],
      "execution_count": 16,
      "outputs": []
    },
    {
      "cell_type": "code",
      "metadata": {
        "id": "Vd23Q66S7_6d"
      },
      "source": [
        "#pr = Perceptron(50,0.01)\n",
        "#pr.fit(X_train,y_train)\n",
        "#pr.predict(X_test)"
      ],
      "execution_count": null,
      "outputs": []
    },
    {
      "cell_type": "code",
      "metadata": {
        "colab": {
          "base_uri": "https://localhost:8080/"
        },
        "id": "rh4r8KED95Ah",
        "outputId": "015bc2e9-69f3-4683-ab4d-02120f7ca8a0"
      },
      "source": [
        "errors_[45:50]"
      ],
      "execution_count": 19,
      "outputs": [
        {
          "output_type": "execute_result",
          "data": {
            "text/plain": [
              "[-1, -1, -1, -1, -1]"
            ]
          },
          "metadata": {},
          "execution_count": 19
        }
      ]
    },
    {
      "cell_type": "code",
      "metadata": {
        "colab": {
          "base_uri": "https://localhost:8080/"
        },
        "id": "GtoG1j_32Vi1",
        "outputId": "4fd9ab89-f709-493e-86a8-08190dac1d6b"
      },
      "source": [
        "w"
      ],
      "execution_count": 17,
      "outputs": [
        {
          "output_type": "execute_result",
          "data": {
            "text/plain": [
              "array([-0.18 ,  0.406, -0.634])"
            ]
          },
          "metadata": {},
          "execution_count": 17
        }
      ]
    },
    {
      "cell_type": "code",
      "metadata": {
        "id": "C1xyMRYrG8GF"
      },
      "source": [
        "x1 = np.arange(4,7,0.1)\n",
        "x2 = np.arange(2,5,0.1)\n",
        "#X1,X2 = np.meshgrid(X_train[:,0],X_train[:,1])\n",
        "Z_1 = w[1]*x1 + w[2]*x2 + w[0]\n",
        "\n",
        "Z_2 = w[1]*X[:50,0] + w[2]*X[:50,1] + w[0]\n",
        "Z_3 = w[1]*X[50:99,0] + w[2]*X[50:99,1] + w[0]\n",
        "\n"
      ],
      "execution_count": 116,
      "outputs": []
    },
    {
      "cell_type": "code",
      "metadata": {
        "colab": {
          "base_uri": "https://localhost:8080/"
        },
        "id": "1XMTiU9iNF6f",
        "outputId": "c1bd69e5-fb4d-498a-85c8-0cf8c61bc6b7"
      },
      "source": [
        "np.min(X[:,1])"
      ],
      "execution_count": 20,
      "outputs": [
        {
          "output_type": "execute_result",
          "data": {
            "text/plain": [
              "2.0"
            ]
          },
          "metadata": {},
          "execution_count": 20
        }
      ]
    },
    {
      "cell_type": "code",
      "metadata": {
        "colab": {
          "base_uri": "https://localhost:8080/"
        },
        "id": "9YkNm-H4IdlB",
        "outputId": "47ebb082-519d-4893-b055-32d9131d4cbf"
      },
      "source": [
        "X1"
      ],
      "execution_count": 56,
      "outputs": [
        {
          "output_type": "execute_result",
          "data": {
            "text/plain": [
              "array([[4.9, 6.4, 5. , ..., 5.7, 5.7, 5.5],\n",
              "       [4.9, 6.4, 5. , ..., 5.7, 5.7, 5.5],\n",
              "       [4.9, 6.4, 5. , ..., 5.7, 5.7, 5.5],\n",
              "       ...,\n",
              "       [4.9, 6.4, 5. , ..., 5.7, 5.7, 5.5],\n",
              "       [4.9, 6.4, 5. , ..., 5.7, 5.7, 5.5],\n",
              "       [4.9, 6.4, 5. , ..., 5.7, 5.7, 5.5]])"
            ]
          },
          "metadata": {},
          "execution_count": 56
        }
      ]
    },
    {
      "cell_type": "code",
      "metadata": {
        "colab": {
          "base_uri": "https://localhost:8080/"
        },
        "id": "Ocukx2x5H3p-",
        "outputId": "ac08d7a0-10a3-4637-848b-4bf7ca972a15"
      },
      "source": [
        "Z"
      ],
      "execution_count": 59,
      "outputs": [
        {
          "output_type": "execute_result",
          "data": {
            "text/plain": [
              "array([[-0.473 ,  0.136 , -0.4324, ..., -0.1482, -0.1482, -0.2294],\n",
              "       [-0.2194,  0.3896, -0.1788, ...,  0.1054,  0.1054,  0.0242],\n",
              "       [-0.2194,  0.3896, -0.1788, ...,  0.1054,  0.1054,  0.0242],\n",
              "       ...,\n",
              "       [-0.0926,  0.5164, -0.052 , ...,  0.2322,  0.2322,  0.151 ],\n",
              "       [-0.9802, -0.3712, -0.9396, ..., -0.6554, -0.6554, -0.7366],\n",
              "       [ 0.161 ,  0.77  ,  0.2016, ...,  0.4858,  0.4858,  0.4046]])"
            ]
          },
          "metadata": {},
          "execution_count": 59
        }
      ]
    },
    {
      "cell_type": "code",
      "metadata": {
        "id": "qTtIo4ccGJuA"
      },
      "source": [
        "import matplotlib.pyplot as plt\n",
        "from mpl_toolkits.mplot3d import Axes3D\n"
      ],
      "execution_count": 36,
      "outputs": []
    },
    {
      "cell_type": "code",
      "metadata": {
        "colab": {
          "base_uri": "https://localhost:8080/",
          "height": 319
        },
        "id": "xrysNbzeGbfJ",
        "outputId": "1e1d9222-a69d-429f-adef-17523189ff1f"
      },
      "source": [
        "fig = plt.figure()\n",
        "ax = Axes3D(fig)\n",
        "\n",
        "#ax.plot_surface(Z_1,X2,X1,alpha=0.7,color='red')\n",
        "#ax.plot3D(X1,X2,Z)\n",
        "ax.plot3D(x1,x2,Z_1);\n",
        "ax.scatter3D( X[:50, 0], X[:50, 1],Z_2,color='red');\n",
        "ax.scatter3D( X[50:99, 0], X[50:99, 1],Z_3, c='green');\n"
      ],
      "execution_count": 121,
      "outputs": [
        {
          "output_type": "display_data",
          "data": {
            "image/png": "[encoded data removed]",
            "text/plain": [
              "<Figure size 432x288 with 1 Axes>"
            ]
          },
          "metadata": {
            "needs_background": "light"
          }
        }
      ]
    }
  ]
}